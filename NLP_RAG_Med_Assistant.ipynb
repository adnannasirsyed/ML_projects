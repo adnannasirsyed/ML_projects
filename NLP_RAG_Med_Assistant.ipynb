{
 "cells": [
  {
   "cell_type": "markdown",
   "metadata": {
    "id": "3CNz35ia6Bz3"
   },
   "source": [
    "## Problem Statement"
   ]
  },
  {
   "cell_type": "markdown",
   "metadata": {
    "id": "CkRbhMJH6Bz3"
   },
   "source": [
    "### Business Context"
   ]
  },
  {
   "cell_type": "markdown",
   "metadata": {
    "id": "3PBm5xaj6Bz3"
   },
   "source": [
    "The healthcare industry is rapidly evolving, with professionals facing increasing challenges in managing vast volumes of medical data while delivering accurate and timely diagnoses. The need for quick access to comprehensive, reliable, and up-to-date medical knowledge is critical for improving patient outcomes and ensuring informed decision-making in a fast-paced environment.\n",
    "\n",
    "Healthcare professionals often encounter information overload, struggling to sift through extensive research and data to create accurate diagnoses and treatment plans. This challenge is amplified by the need for efficiency, particularly in emergencies, where time-sensitive decisions are vital. Furthermore, access to trusted, current medical information from renowned manuals and research papers is essential for maintaining high standards of care.\n",
    "\n",
    "To address these challenges, healthcare centers can focus on integrating systems that streamline access to medical knowledge, provide tools to support quick decision-making, and enhance efficiency. Leveraging centralized knowledge platforms and ensuring healthcare providers have continuous access to reliable resources can significantly improve patient care and operational effectiveness."
   ]
  },
  {
   "cell_type": "markdown",
   "metadata": {
    "id": "1xDPsqvO6Bz5"
   },
   "source": [
    "**Common Questions to Answer**\n",
    "\n",
    "**1. Diagnostic Assistance**: \"What are the common symptoms and treatments for pulmonary embolism?\"\n",
    "\n",
    "**2. Drug Information**: \"Can you provide the trade names of medications used for treating hypertension?\"\n",
    "\n",
    "**3. Treatment Plans**: \"What are the first-line options and alternatives for managing rheumatoid arthritis?\"\n",
    "\n",
    "**4. Specialty Knowledge**: \"What are the diagnostic steps for suspected endocrine disorders?\"\n",
    "\n",
    "**5. Critical Care Protocols**: \"What is the protocol for managing sepsis in a critical care unit?\""
   ]
  },
  {
   "cell_type": "markdown",
   "metadata": {
    "id": "CARPKFwm6Bz4"
   },
   "source": [
    "### Objective"
   ]
  },
  {
   "cell_type": "markdown",
   "metadata": {
    "id": "dOElOEXq6Bz4"
   },
   "source": [
    "As an AI specialist, your task is to develop a RAG-based AI solution using renowned medical manuals to address healthcare challenges. The objective is to **understand** issues like information overload, **apply** AI techniques to streamline decision-making, **analyze** its impact on diagnostics and patient outcomes, **evaluate** its potential to standardize care practices, and **create** a functional prototype demonstrating its feasibility and effectiveness."
   ]
  },
  {
   "cell_type": "markdown",
   "metadata": {
    "id": "by9EvAnkSpZf"
   },
   "source": [
    "### Data Description"
   ]
  },
  {
   "cell_type": "markdown",
   "metadata": {
    "id": "Jw5LievCSru2"
   },
   "source": [
    "The **Merck Manuals** are medical references published by the American pharmaceutical company Merck & Co., that cover a wide range of medical topics, including disorders, tests, diagnoses, and drugs. The manuals have been published since 1899, when Merck & Co. was still a subsidiary of the German company Merck.\n",
    "\n",
    "The manual is provided as a PDF with over 4,000 pages divided into 23 sections."
   ]
  },
  {
   "cell_type": "markdown",
   "metadata": {
    "id": "6-1QO_RdHGy-"
   },
   "source": [
    "**Revised Problem Statement:**\n",
    "\n",
    "Healthcare professionals struggle to efficiently navigate the vast and complex medical literature, such as the Merck Manual, leading to information overload and delayed decision-making. This project develops a Retrieval-Augmented Generation (RAG)-based AI solution to streamline access to accurate, up-to-date medical knowledge. By leveraging advanced NLP techniques—including large language models, embeddings, and vector databases—the system will provide precise answers to critical medical queries, assess response quality, and deliver actionable insights. The goal is to enhance diagnostic accuracy, standardize care, and improve operational efficiency in healthcare settings."
   ]
  },
  {
   "cell_type": "markdown",
   "metadata": {
    "id": "xLSS0HCBHNdk"
   },
   "source": [
    "**Steps to Create and Evaluate RAG:**\n",
    "- **Install and Import Libraries:** Set up the Google Colab environment with necessary libraries for PDF processing, NLP, embeddings, vector databases, and LLMs.\n",
    "- **Load PDF Data:** Extract text from the Merck Manual PDF using a robust PDF reader.\n",
    "- **Exploratory Data Analysis (EDA):** Analyze the PDF structure, page count, and content distribution to understand the data.\n",
    "- **Data Chunking:** Split the PDF text into manageable chunks for efficient retrieval.\n",
    "- **Embedding Generation:** Use a SentenceTransformer model to create embeddings for the text chunks.\n",
    "- **Vector Database Setup:** Store embeddings in a Chroma vector database with cosine similarity search.\n",
    "- **Retriever Configuration:** Define a retriever to fetch relevant chunks based on query similarity.\n",
    "- **Load LLM:** Download and configure the Mistral-7B-Instruct model for response generation.\n",
    "- **Define Prompt Templates:** Create system and user prompts to guide the LLM in generating accurate responses.\n",
    "- **Response Generation Function:** Build a function to combine retrieved context and LLM for question answering.\n",
    "-**Question Answering with RAG:** Answer the five provided medical questions using the RAG pipeline.\n",
    "- **Fine-Tune Parameters:** Experiment with at least five combinations of chunking, retriever, and LLM parameters (e.g., chunk size, k value, temperature, top_p).\n",
    "- **Output Evaluation:** Use \"**LLM-as-a-Judge**\" to evaluate responses for groundedness and relevance with defined prompts.\n",
    "- **Business Insights and Recommendations:** Summarize key takeaways and provide actionable recommendations for healthcare stakeholders."
   ]
  },
  {
   "cell_type": "markdown",
   "metadata": {
    "id": "lnwETBOE6Bz5"
   },
   "source": [
    "## Installing and Importing Necessary Libraries and Dependencies"
   ]
  },
  {
   "cell_type": "code",
   "execution_count": null,
   "metadata": {},
   "outputs": [],
   "source": [
    "# Installation for GPU llama-cpp-python\n",
    "!pip install huggingface_hub pandas tiktoken pymupdf langchain langchain-community chromadb sentence-transformers \"numpy<2\" -q\n",
    "!CMAKE_ARGS=\"-DLLAMA_CUBLAS=on\" pip install --no-cache-dir llama-cpp-python==0.2.77 --extra-index-url https://abetlen.github.io/llama-cpp-python/whl/cu124\n",
    "\n",
    "# Installation for CPU llama-cpp-python\n",
    "# uncomment and run the following code in case GPU is not being used\n",
    "# !CMAKE_ARGS=\"-DLLAMA_CUBLAS=off\" FORCE_CMAKE=1 pip install llama-cpp-python==0.1.85 --force-reinstall --no-cache-dir -q"
   ]
  },
  {
   "cell_type": "markdown",
   "metadata": {
    "id": "QT5Fbyo4J8p_"
   },
   "source": [
    "**To compare \"Responses\" from LLM and RAG:**\n",
    "- We'll use the following metrics for comparison:\n",
    "\n",
    "1. Semantic Similarity (Cosine similarity using Sentence-BERT embeddings)\n",
    "  * Measures how close the meaning is to a reference.\n",
    "\n",
    "2. BLEU Score (N-gram overlap for fluency)\n",
    "  *  Evaluate fluency and overlap with a gold-standard answer.\n",
    "\n",
    "3. ROUGE Score (Recall-Oriented Understudy for Gisting Evaluation)\n",
    "  *  Evaluate fluency and overlap with a gold-standard answer.\n",
    "\n",
    "4. Readability (Flesch-Kincaid Grade Level)\n",
    "  * Checks how easily understandable the response is."
   ]
  },
  {
   "cell_type": "code",
   "execution_count": null,
   "metadata": {},
   "outputs": [],
   "source": [
    "# package for comparison matrics\n",
    "!pip install sentence-transformers nltk rouge-score textstat tabulate\n",
    "\n",
    "# Download NLTK data (first-time only)\n",
    "import nltk\n",
    "nltk.download('punkt')\n",
    "nltk.download('punkt_tab') # Download punkt_tab for sentence tokenization"
   ]
  },
  {
   "cell_type": "markdown",
   "metadata": {
    "id": "pS7EI9d9uj1D"
   },
   "source": [
    "**Restart the Session before continuing**"
   ]
  },
  {
   "cell_type": "code",
   "execution_count": null,
   "metadata": {},
   "outputs": [],
   "source": [
    "#Libraries for processing dataframes,text\n",
    "import json,os\n",
    "import textstat # to compute readibility of the LLM responses\n",
    "## For comparison of LLMs and RAG\n",
    "from typing import Dict, List\n",
    "import numpy as np\n",
    "from sentence_transformers import SentenceTransformer\n",
    "from sklearn.metrics.pairwise import cosine_similarity\n",
    "import nltk\n",
    "from nltk.translate.bleu_score import sentence_bleu\n",
    "from rouge_score import rouge_scorer\n",
    "from tabulate import tabulate\n",
    "# Download NLTK data (first-time only)\n",
    "nltk.download('punkt')\n",
    "##\n",
    "import tiktoken\n",
    "import pandas as pd\n",
    "\n",
    "#Libraries for Loading Data, Chunking, Embedding, and Vector Databases\n",
    "from langchain.text_splitter import RecursiveCharacterTextSplitter\n",
    "from langchain_community.document_loaders import PyMuPDFLoader\n",
    "from langchain_community.embeddings.sentence_transformer import SentenceTransformerEmbeddings\n",
    "from langchain_community.vectorstores import Chroma # Chroma based on SQL Light\n",
    "\n",
    "#Libraries for downloading and loading the llm\n",
    "from huggingface_hub import hf_hub_download\n",
    "from llama_cpp import Llama"
   ]
  },
  {
   "cell_type": "markdown",
   "metadata": {
    "id": "mXgSE7w7S3xV"
   },
   "source": [
    "**Insights:**\n",
    "* PyMuPDF is chosen for fast and accurate PDF text extraction.\n",
    "* SentenceTransformers provides state-of-the-art embeddings for text similarity.\n",
    "* Chroma is a lightweight vector database suitable for in-memory storage.\n",
    "* LangChain simplifies RAG pipeline integration.\n",
    "* Bitsandbytes enables 4-bit quantization for efficient LLM inference on Colab’s GPU."
   ]
  },
  {
   "cell_type": "markdown",
   "metadata": {
    "id": "TtZWqj0wFTS1"
   },
   "source": [
    "## Question Answering using LLM"
   ]
  },
  {
   "cell_type": "markdown",
   "metadata": {
    "id": "EE3zlbOt6L-D"
   },
   "source": [
    "## **Loading the Large Language Model**"
   ]
  },
  {
   "cell_type": "markdown",
   "metadata": {
    "id": "Uq1lhM4WFTS2"
   },
   "source": [
    "#### Downloading and Loading the model"
   ]
  },
  {
   "cell_type": "code",
   "execution_count": null,
   "metadata": {},
   "outputs": [],
   "source": [
    "# # Model configuration\n",
    "# model_name_or_path = \"TheBloke/Llama-2-13B-chat-GGUF\"\n",
    "# model_basename = \"llama-2-13b-chat.Q5_K_M.gguf\"\n",
    "# model_path = hf_hub_download(\n",
    "#     repo_id=model_name_or_path,\n",
    "#     filename=model_basename\n",
    "#     )\n",
    "# or use this\n",
    "model_name_or_path = \"TheBloke/Mistral-7B-Instruct-v0.2-GGUF\"\n",
    "model_basename = \"mistral-7b-instruct-v0.2.Q6_K.gguf\"\n",
    "model_path = hf_hub_download(\n",
    "    repo_id=model_name_or_path,\n",
    "    filename=model_basename\n",
    "    )"
   ]
  },
  {
   "cell_type": "code",
   "execution_count": null,
   "metadata": {},
   "outputs": [],
   "source": [
    "#uncomment the below snippet of code if the runtime is connected to GPU.\n",
    "llm = Llama(\n",
    "    model_path=model_path,\n",
    "    n_ctx=2300,\n",
    "    n_gpu_layers=38,\n",
    "    n_batch=512\n",
    ")\n",
    "\n",
    "#uncomment the below snippet of code if the runtime is connected to CPU only.\n",
    "#llm = Llama(\n",
    "#    model_path=model_path,\n",
    "#    n_ctx=1024,\n",
    "#    n_cores=-2\n",
    "#)"
   ]
  },
  {
   "cell_type": "markdown",
   "metadata": {
    "id": "EzzkvIXvFTS4"
   },
   "source": [
    "#### Response"
   ]
  },
  {
   "cell_type": "code",
   "execution_count": null,
   "metadata": {},
   "outputs": [],
   "source": [
    "# function to generate, process, and return the response from the LLM\n",
    "def generate_llama_response(user_prompt):\n",
    "\n",
    "    # System message\n",
    "    system_message = \"\"\"\n",
    "    [INST]<<SYS>> Respond to the user question based on the user prompt<</SYS>>[/INST]\n",
    "    \"\"\"\n",
    "\n",
    "    # Combine user_prompt and system_message to create the prompt\n",
    "    prompt = f\"{user_prompt}\\n{system_message}\"\n",
    "\n",
    "    # Generate a response from the LLaMA model\n",
    "    response = llm(\n",
    "        prompt=prompt,\n",
    "        max_tokens=1024,\n",
    "        temperature=0.01,\n",
    "        top_p=0.95,\n",
    "        repeat_penalty=1.2,\n",
    "        top_k=50,\n",
    "        stop=['INST'],\n",
    "        echo=False\n",
    "    )\n",
    "\n",
    "    # Extract and return the response text\n",
    "    response_text = response[\"choices\"][0][\"text\"]\n",
    "    return response_text\n",
    "\n",
    "    # def response(query,max_tokens=128,temperature=0,top_p=0.95,top_k=50):\n",
    "#     model_output = lcpp_llm(\n",
    "#       prompt=query,\n",
    "#       max_tokens=max_tokens,\n",
    "#       temperature=temperature,\n",
    "#       top_p=top_p,\n",
    "#       top_k=top_k\n",
    "#     )\n",
    "\n",
    "#     return model_output['choices'][0]['text']"
   ]
  },
  {
   "cell_type": "code",
   "execution_count": null,
   "metadata": {},
   "outputs": [],
   "source": [
    "generate_llama_response(\"What treatment options are available for managing hypertension?\") # testing with a random prompt"
   ]
  },
  {
   "cell_type": "markdown",
   "metadata": {
    "id": "ycik_6jYUsGl"
   },
   "source": [
    "### Question Answering using LLM (without Prompt Engineering)"
   ]
  },
  {
   "cell_type": "markdown",
   "metadata": {
    "id": "K8YgK91SFjVY"
   },
   "source": [
    "### Query 1: What is the protocol for managing sepsis in a critical care unit?"
   ]
  },
  {
   "cell_type": "code",
   "execution_count": null,
   "metadata": {},
   "outputs": [],
   "source": [
    "user_input_1llm = \"What is the protocol for managing sepsis in a critical care unit?\"\n",
    "raw_llm_response_1 = generate_llama_response(user_input_1llm)\n",
    "raw_llm_response_1"
   ]
  },
  {
   "cell_type": "markdown",
   "metadata": {
    "id": "J6yxICeVFjVc"
   },
   "source": [
    "### Query 2: What are the common symptoms for appendicitis, and can it be cured via medicine? If not, what surgical procedure should be followed to treat it?"
   ]
  },
  {
   "cell_type": "code",
   "execution_count": null,
   "metadata": {},
   "outputs": [],
   "source": [
    "user_input_2llm = \"What are the common symptoms for appendicitis, and can it be cured via medicine? If not, what surgical procedure should be followed to treat it?\"\n",
    "raw_llm_response_2 = generate_llama_response(user_input_2llm)\n",
    "raw_llm_response_2"
   ]
  },
  {
   "cell_type": "markdown",
   "metadata": {
    "id": "oflaoOGiFjVd"
   },
   "source": [
    "### Query 3: What are the effective treatments or solutions for addressing sudden patchy hair loss, commonly seen as localized bald spots on the scalp, and what could be the possible causes behind it?"
   ]
  },
  {
   "cell_type": "code",
   "execution_count": null,
   "metadata": {},
   "outputs": [],
   "source": [
    "user_input_3llm = \"What are the effective treatments or solutions for addressing sudden patchy hair loss, commonly seen as localized bald spots on the scalp, and what could be the possible causes behind it?\"\n",
    "raw_llm_response_3 = generate_llama_response(user_input_3llm)\n",
    "raw_llm_response_3"
   ]
  },
  {
   "cell_type": "markdown",
   "metadata": {
    "id": "WUUqY4FbFjVe"
   },
   "source": [
    "### Query 4:  What treatments are recommended for a person who has sustained a physical injury to brain tissue, resulting in temporary or permanent impairment of brain function?"
   ]
  },
  {
   "cell_type": "code",
   "execution_count": null,
   "metadata": {},
   "outputs": [],
   "source": [
    "user_input_4llm = \"What treatments are recommended for a person who has sustained a physical injury to brain tissue, resulting in temporary or permanent impairment of brain function?\"\n",
    "raw_llm_response_4 = generate_llama_response(user_input_4llm)\n",
    "raw_llm_response_4"
   ]
  },
  {
   "cell_type": "markdown",
   "metadata": {
    "id": "5laPFTHrFjVf"
   },
   "source": [
    "### Query 5: What are the necessary precautions and treatment steps for a person who has fractured their leg during a hiking trip, and what should be considered for their care and recovery?"
   ]
  },
  {
   "cell_type": "code",
   "execution_count": null,
   "metadata": {},
   "outputs": [],
   "source": [
    "user_input_5llm = \"What are the necessary precautions and treatment steps for a person who has fractured their leg during a hiking trip, and what should be considered for their care and recovery?\"\n",
    "raw_llm_response_5 = generate_llama_response(user_input_5llm)\n",
    "raw_llm_response_5"
   ]
  },
  {
   "cell_type": "code",
   "execution_count": null,
   "metadata": {},
   "outputs": [],
   "source": [
    "# Raw LLM responses\n",
    "raw_llm_responses = {\n",
    "    \"Question-1\": \"\"\"1. Recognize and suspect sepsis early: Look out for signs of infection, such as fever or hypothermia, tachycardia or bradycardia, respiratory distress, altered mental status, and lactic acidosis. Use the Sequential Organ Failure Assessment (SOFA) score to assess organ dysfunction.\n",
    "    2. Initiate resuscitation: Administer oxygen via high-flow nasal cannas or non-rebreather masks as needed. Start intravenous fluids, aiming for a target mean arterial pressure of 65 mmHg and a central venous pressure (CVP) between 8-12 cm H2O if the patient is mechanically ventilated.\n",
    "    3. Administer antibiotics: Choose empiric antimicrobials based on local guidelines, suspected infection source, and microbiological data when available. Consider broad-spectrum coverage for gram-positive and gram-negative organisms.\n",
    "    4. Monitor hemodynamic status closely: Use invasive monitoring techniques like arterial lines, central venous catheters, or pulmonary artery catheters to assess cardiac output, oxygen delivery, and consumption. Adjust fluid resuscitation accordingly.\n",
    "    5. Provide adequate tissue perfusion: Maintain an adequate mean arterial pressure (MAP) and CVP to ensure sufficient organ blood flow. Consider using vasopressors if necessary.\n",
    "    6. Optimize oxygenation: Use mechanical ventilation as needed, aiming for a target SpO2 of 94-98% or PaO2 > 60 mmHg. Monitor arterial and venous blood gases regularly to assess adequacy of respiratory support.\n",
    "    7. Correct metabolic acidosis: Administer sodium bicarbonate if pH is <7.15 or base deficit > 6 mEq/L, but be cautious as it may worsen intracellular acidosis and increase calcium ion binding.\n",
    "    8. Provide adequate nutrition: Initiate enteral feeding within 24 hours of ICU admission if possible; consider parenteral nutrition for those unable to tolerate enteral feeds. Aim for a caloric intake of 1.5-2 times the basal energy expenditure (BEE).\n",
    "    9. Support organ function: Provide appropriate care based on specific organ dysfunction, such as renal replacement therapy for kidney failure or vasopressor support for cardiovascular instability.\n",
    "    10. Monitor and manage complications: Be aware of potential complications like coagulopathy, myocardial depression, and secondary infections; address these issues promptly to minimize morbidity and mortality.\"\"\",\n",
    "\n",
    "    \"Question-2\": \"\"\"\n",
    " Appendicitis is a medical condition characterized by inflammation of the appendix. The following are common symptoms for appendicitis:\n",
    "\n",
    "1. Abdominal pain, usually starting around the navel and moving to the lower right side.\n",
    "2. Loss of appetite.\n",
    "3. Nausea and vomiting.\n",
    "4. Fever (often low-grade).\n",
    "5. Diarrhea or constipation.\n",
    "6. General discomfort, uneasiness, or malaise.\n",
    "7. Abdominal swelling and rigidity.\n",
    "8. Inability to pass gas or have a bowel movement.\n",
    "9. Pain upon walking, coughing, or taking deep breaths.\n",
    "\n",
    "It's important to note that these symptoms can also be indicative of other conditions, so it is crucial to consult with a healthcare professional for an accurate diagnosis. Appendicitis cannot typically be cured via medicine alone; surgery (appendectomy) is usually required to remove the inflamed appendix and prevent complications such as rupture or peritonitis.\n",
    "\n",
    "During an appendectomy, the surgeon makes an incision in the abdomen and removes the appendix. The procedure can be performed using open surgery (a larger incision) or laparoscopically (smaller incisions with the use of a camera). After recovery from the surgery, most people return to their normal activities within 1-2 weeks.\"\"\",\n",
    "\n",
    "    \"Question-3\": \"\"\"1. Possible Causes:\n",
    "   - Alopecia Areata: An autoimmune disorder that results in hair loss from certain areas of the scalp or body. It often presents as round patches of baldness.\n",
    "   - Trauma or Stress: Physical trauma, emotional stress, or excessive pulling on the hair can cause sudden patchy hair loss.\n",
    "   - Nutritional Deficiencies: Lack of essential nutrients like iron, zinc, and vitamin B12 may lead to hair thinning and patchiness.\n",
    "   - Hormonal Imbalance: Sudden hormonal changes due to pregnancy, menopause, or thyroid issues can cause temporary hair loss in patches.\n",
    "   - Medications: Certain medications like chemotherapy drugs, antidepressants, and blood thinners may lead to sudden patchy hair loss as a side effect.\n",
    "   2. Treatments:\n",
    "  - Alopecia Areata: Topical treatments such as minoxidil or corticosteroids can help stimulate hair growth in alopecia areata cases. In severe cases, systemic steroid therapy may be recommended.\n",
    "  - Trauma or Stress: Avoiding excessive pulling on the hair and managing stress through relaxation techniques like meditation, yoga, or deep breathing exercises can promote healthy hair regrowth.\n",
    "  - Nutritional Deficiencies: Consuming a balanced diet rich in essential nutrients or taking supplements as recommended by a healthcare professional may help address patchy hair loss caused by deficiencies.\n",
    "  - Hormonal Imbalance: Treating the underlying hormonal issue, such as thyroid disorders or menopause symptoms, can often lead to improved hair growth and reduced patchiness.\n",
    "  - Medications: Discuss alternative medications with your healthcare provider if you suspect that a medication is causing sudden patchy hair loss. In some cases, switching to an alternate treatment may be necessary.\n",
    "\n",
    "It's essential to consult a healthcare professional or dermatologist for proper diagnosis and personalized treatment recommendations when dealing with sudden patchy hair loss.\"\"\",\n",
    "\n",
    "    \"Question-4\": \"\"\"1. Medical Evaluation and Stabilization: The first step is to ensure that the person's physical condition is stable, which may involve hospitalization for surgery or other medical interventions if necessary. This could include controlling bleeding, managing swelling or pressure in the brain, addressing any respiratory issues, etc.\n",
    "\n",
    "2. Rehabilitation Program: Once a patient's condition has stabilized, they will typically begin a rehabilitation program to help them regain as much function and independence as possible. This may include physical therapy for motor skills, occupational therapy for daily living tasks, speech-language therapy for communication issues, cognitive rehab for memory or problem solving abilities, and psychological support for emotional wellbeing.\n",
    "\n",
    "3. Medications: Depending on the specific injury and symptoms, various medications might be prescribed to help manage conditions like seizures, pain, depression, anxiety, or other complications that can arise after a brain injury.\n",
    "\n",
    "4. Assistive Devices and Technology: In some cases, individuals with brain injuries may require assistive devices such as wheelchairs, walkers, communication aids, or adaptive equipment for daily living tasks to improve their quality of life and functional abilities.\n",
    "\n",
    "5. Lifestyle Modifications: Making lifestyle changes can also be beneficial in managing the effects of a brain injury. This might include getting enough rest, maintaining a healthy diet, engaging in regular physical activity, avoiding alcohol and drugs, practicing stress management techniques, etc.\n",
    "\n",
    "6. Support Groups: Connecting with others who have experienced similar injuries or conditions through support groups can provide valuable emotional and social connections for individuals dealing with the challenges of brain injury recovery.\n",
    "\n",
    "7. Education and Training: Learning about brain injury and its impact on daily life is essential to help individuals adapt and cope effectively. This may involve attending educational workshops, reading books, watching videos, or working one-on-one with healthcare professionals or therapists.\n",
    "\n",
    "8. Vocational Rehabilitation: For those who are able to return to work after a brain injury, vocational rehab can help identify suitable employment opportunities and provide training for new skills if necessary. This can be an essential part of regaining independence and financial stability following an injury.\"\"\",\n",
    "\n",
    "    \"Question-5\": \"\"\"1. Assessing the Injury: The first step is to assess the severity of the fracture. If you suspect a leg fracture while hiking, try not to move the person excessively and avoid putting weight on the injured leg. Check for signs of open wounds, swelling, deformities, numbness or tingling sensations, and inability to bear weight.\n",
    "    2. Call for Help: If possible, call emergency services or have someone from your group contact them. Provide accurate location information if you're hiking off-trail.\n",
    "    3. Immobilize the Fracture: Use a splint, sling, or other available materials to immobilize the fractured leg as best as possible. This will help prevent further damage and discomfort during transport. Be careful not to apply too much pressure on the injury site while securing the makeshift brace.\n",
    "    4. Provide Comfort: Keep the person warm by covering them with a blanket or insulating material, if necessary. Offer water or other fluids to help maintain hydration and provide reassurance during the wait for medical assistance.\n",
    "    5. Monitor Vital Signs: Check their pulse rate, breathing rate, and blood pressure regularly while waiting for emergency services. Keep track of any changes in their condition.\n",
    "    6. Prepare for Evacuation: If you're hiking off-trail or far from a road, consider how to safely evacuate the person with their injury. This may involve carrying them on a stretcher or using other rescue techniques depending on your group size and resources.\n",
    "    7. Post-Injury Care: After reaching medical help, follow the doctor's instructions for post-fracture care, which could include wearing a cast or brace, taking pain medication, undergoing physical therapy, and avoiding weight-bearing activities until fully healed. Remember that recovery time varies depending on the severity of the fracture and individual healing rates.\n",
    "    8. Prevention: To minimize the risk of leg injuries while hiking, wear appropriate footwear with good traction, stay on marked trails whenever possible, avoid carrying heavy loads, and be aware of your surroundings to prevent falls or tripping hazards.\"\"\"\n",
    "}"
   ]
  },
  {
   "cell_type": "markdown",
   "metadata": {
    "id": "SfuV76vMEZq9"
   },
   "source": [
    "**Insights:**\n",
    "- The response seems generic and appears to be derived from different sources, however, the authenticity of the generated responses is still ambiguous."
   ]
  },
  {
   "cell_type": "markdown",
   "metadata": {
    "id": "7eA3zi4FQ1OL"
   },
   "source": [
    "###**Using latest Merck Manual answers using Google Gemini as Gold-Standard Answers:**"
   ]
  },
  {
   "cell_type": "code",
   "execution_count": null,
   "metadata": {},
   "outputs": [],
   "source": [
    "# Gold-standard answers (from Merck Manual via Gemini)\n",
    "gold_answers = {\n",
    "    \"What is the protocol for managing sepsis in a critical care unit?\": \"\"\"\n",
    "    The protocol for managing sepsis in a critical care unit involves immediate and aggressive treatment. This includes:\n",
    "    - Antibiotics: Broad-spectrum antibiotics within one hour.\n",
    "    - Intravenous Fluids: Crystalloids for fluid resuscitation.\n",
    "    - Oxygen Support: Ensure adequate oxygenation.\n",
    "    - Source Control: Identify and remove infection sources.\n",
    "    - Vasopressors: Norepinephrine if fluids fail.\n",
    "    - Blood Glucose Control: Insulin if needed.\n",
    "    - Corticosteroids: Hydrocortisone for persistent hypotension.\n",
    "    - ICU Admission: For septic shock/severe sepsis.\n",
    "    - Antimicrobial Reevaluation: Daily de-escalation checks.\n",
    "    \"\"\",\n",
    "\n",
    "    \"What are the common symptoms of appendicitis, and can it be cured via medicine? If not, what surgical procedure should be followed to treat it?\": \"\"\"\n",
    "    Common symptoms of appendicitis:\n",
    "    - Pain starting in upper abdomen/navel, shifting to right lower abdomen.\n",
    "    - Nausea, vomiting, low-grade fever, loss of appetite.\n",
    "    Appendicitis cannot be reliably cured with medicine alone. Surgical removal (appendectomy) is the recommended treatment.\n",
    "    \"\"\",\n",
    "\n",
    "    \"What are the effective treatments or solutions for addressing sudden patchy hair loss, commonly seen as localized bald spots on the scalp, and what could be the possible causes behind it?\": \"\"\"\n",
    "    Sudden patchy hair loss (alopecia areata) is an autoimmune condition. Treatments include:\n",
    "    - Corticosteroids (injected/topical/oral).\n",
    "    - Minoxidil, Anthralin, JAK inhibitors (baricitinib).\n",
    "    - Methotrexate for severe cases.\n",
    "    - PUVA therapy (limited success).\n",
    "    \"\"\",\n",
    "\n",
    "    \"What treatments are recommended for a person who has sustained a physical injury to brain tissue, resulting in temporary or permanent impairment of brain function?\": \"\"\"\n",
    "    Treatments for Traumatic Brain Injury (TBI):\n",
    "    - Mild: Observation, rest, pain relievers.\n",
    "    - Moderate/Severe: ICU care, ICP monitoring, surgery for hematomas.\n",
    "    - Rehabilitation: Physical, occupational, speech therapy.\n",
    "    - Medications: Antiseizure drugs, stimulants, antidepressants.\n",
    "    \"\"\",\n",
    "\n",
    "    \"What are the necessary precautions and treatment steps for a person who has fractured their leg during a hiking trip, and what should be considered for their care and recovery?\": \"\"\"\n",
    "    Precautions for leg fracture:\n",
    "    - Immobilize with splint, control bleeding, elevate, ice.\n",
    "    - Avoid weight-bearing, seek emergency help.\n",
    "    Treatment:\n",
    "    - Pain relief, reduction (manual/surgical), casting.\n",
    "    - Physical therapy, gradual return to activity.\n",
    "    - Nutrition (calcium/vitamin D).\n",
    "    \"\"\"\n",
    "}"
   ]
  },
  {
   "cell_type": "markdown",
   "metadata": {
    "id": "AWCvRJ39SC_t"
   },
   "source": [
    "**How to Interpret Results:**\n",
    "* Semantic Similarity > 0.8: Strong alignment with gold answer.\n",
    "* BLEU > 0.3: Good lexical overlap.\n",
    "* ROUGE-L > 0.5: Decent summary-level similarity.\n",
    "* Readability > 60: Easily understandable (60-70 = standard, 80+ = very easy)."
   ]
  },
  {
   "cell_type": "markdown",
   "metadata": {
    "id": "Yu_9fT7KSVL6"
   },
   "source": [
    "###**Comparing LLM responses (without Prompt Engineering) with Gold-Standard**"
   ]
  },
  {
   "cell_type": "code",
   "execution_count": null,
   "metadata": {},
   "outputs": [],
   "source": [
    "# Initialize models\n",
    "model = SentenceTransformer('all-MiniLM-L6-v2')\n",
    "scorer = rouge_scorer.RougeScorer(['rouge1', 'rougeL'], use_stemmer=True)\n",
    "\n",
    "def evaluate_response(gold: str, response: str) -> dict:\n",
    "    # Semantic Similarity\n",
    "    embeddings = model.encode([gold, response])\n",
    "    semantic_sim = cosine_similarity([embeddings[0]], [embeddings[1]])[0][0]\n",
    "\n",
    "    # BLEU Score\n",
    "    bleu = sentence_bleu([nltk.word_tokenize(gold)], nltk.word_tokenize(response))\n",
    "\n",
    "    # ROUGE Score\n",
    "    rouge = scorer.score(gold, response)\n",
    "\n",
    "    # Readability\n",
    "    readability = textstat.flesch_reading_ease(response)\n",
    "\n",
    "    return {\n",
    "        \"Semantic Sim\": round(semantic_sim, 3),\n",
    "        \"BLEU\": round(bleu, 3),\n",
    "        \"Rouge-1\": round(rouge['rouge1'].fmeasure, 3),\n",
    "        \"Rouge-L\": round(rouge['rougeL'].fmeasure, 3),\n",
    "        \"Readability\": round(readability, 1)\n",
    "    }"
   ]
  },
  {
   "cell_type": "code",
   "execution_count": null,
   "metadata": {},
   "outputs": [],
   "source": [
    "# Evaluate Raw LLM\n",
    "raw_results = {}\n",
    "# Create a mapping from \"Question-X\" keys to the full question text\n",
    "question_map = {\n",
    "    \"Question-1\": \"What is the protocol for managing sepsis in a critical care unit?\",\n",
    "    \"Question-2\": \"What are the common symptoms of appendicitis, and can it be cured via medicine? If not, what surgical procedure should be followed to treat it?\", # Corrected the key\n",
    "    \"Question-3\": \"What are the effective treatments or solutions for addressing sudden patchy hair loss, commonly seen as localized bald spots on the scalp, and what could be the possible causes behind it?\",\n",
    "    \"Question-4\": \"What treatments are recommended for a person who has sustained a physical injury to brain tissue, resulting in temporary or permanent impairment of brain function?\",\n",
    "    \"Question-5\": \"What are the necessary precautions and treatment steps for a person who has fractured their leg during a hiking trip, and what should be considered for their care and recovery?\"\n",
    "}\n",
    "\n",
    "for q_key in raw_llm_responses:\n",
    "    # Use the mapping to get the full question text\n",
    "    full_question = question_map[q_key]\n",
    "    raw_results[full_question] = evaluate_response(gold_answers[full_question], raw_llm_responses[q_key])"
   ]
  },
  {
   "cell_type": "code",
   "execution_count": null,
   "metadata": {},
   "outputs": [],
   "source": [
    "# Print Raw LLM Comparison\n",
    "print(\"=== Raw LLM vs Gold Standard ===\")\n",
    "print(tabulate(\n",
    "    [[q] + list(raw_results[q].values()) for q in raw_results],\n",
    "    headers=[\"Question\", \"Semantic Sim\", \"BLEU\", \"Rouge-1\", \"Rouge-L\", \"Readability\"],\n",
    "    tablefmt=\"grid\"\n",
    "))"
   ]
  },
  {
   "cell_type": "markdown",
   "metadata": {
    "id": "g5myZ5dOOefc"
   },
   "source": [
    "## Question Answering using LLM (with Prompt Engineering)"
   ]
  },
  {
   "cell_type": "code",
   "execution_count": null,
   "metadata": {},
   "outputs": [],
   "source": [
    "system_prompt = \"You are an expert medical assistant tasked with answering questions based on the content of a medical manual. Use the provided context to give accurate, concise, and relevant answers. If the context does not contain enough information to answer the question fully, clearly state that and provide a general response based on your knowledge. Format your answers clearly and professionally.\""
   ]
  },
  {
   "cell_type": "markdown",
   "metadata": {
    "id": "9Jg3r_LWOeff"
   },
   "source": [
    "### Query 1: What is the protocol for managing sepsis in a critical care unit?"
   ]
  },
  {
   "cell_type": "code",
   "execution_count": null,
   "metadata": {},
   "outputs": [],
   "source": [
    "user_input_1llmpmt = system_prompt+\"\\n\"+ \"What is the protocol for managing sepsis in a critical care unit?\"\n",
    "prompt_engineered_response_1 = generate_llama_response(user_input_1llmpmt)\n",
    "prompt_engineered_response_1"
   ]
  },
  {
   "cell_type": "markdown",
   "metadata": {
    "id": "iYpyw4HjOeff"
   },
   "source": [
    "### Query 2: What are the common symptoms for appendicitis, and can it be cured via medicine? If not, what surgical procedure should be followed to treat it?"
   ]
  },
  {
   "cell_type": "code",
   "execution_count": null,
   "metadata": {},
   "outputs": [],
   "source": [
    "user_input_2llmpmt = system_prompt+\"\\n\"+ \"What are the common symptoms for appendicitis, and can it be cured via medicine? If not, what surgical procedure should be followed to treat it?\"\n",
    "prompt_engineered_response_2 = generate_llama_response(user_input_2llmpmt)\n",
    "prompt_engineered_response_2"
   ]
  },
  {
   "cell_type": "markdown",
   "metadata": {
    "id": "dRp92JQZOeff"
   },
   "source": [
    "### Query 3: What are the effective treatments or solutions for addressing sudden patchy hair loss, commonly seen as localized bald spots on the scalp, and what could be the possible causes behind it?"
   ]
  },
  {
   "cell_type": "code",
   "execution_count": null,
   "metadata": {},
   "outputs": [],
   "source": [
    "user_input_3llmpmt = system_prompt+\"\\n\"+ \"What are the effective treatments or solutions for addressing sudden patchy hair loss, commonly seen as localized bald spots on the scalp, and what could be the possible causes behind it?\"\n",
    "prompt_engineered_response_3 = generate_llama_response(user_input_3llmpmt)\n",
    "prompt_engineered_response_3"
   ]
  },
  {
   "cell_type": "markdown",
   "metadata": {
    "id": "AA45zwyUOefg"
   },
   "source": [
    "### Query 4:  What treatments are recommended for a person who has sustained a physical injury to brain tissue, resulting in temporary or permanent impairment of brain function?"
   ]
  },
  {
   "cell_type": "code",
   "execution_count": null,
   "metadata": {},
   "outputs": [],
   "source": [
    "user_input_4llmpmt = system_prompt+\"\\n\"+ \"What treatments are recommended for a person who has sustained a physical injury to brain tissue, resulting in temporary or permanent impairment of brain function?\"\n",
    "prompt_engineered_response_4 = generate_llama_response(user_input_4llmpmt)\n",
    "prompt_engineered_response_4"
   ]
  },
  {
   "cell_type": "markdown",
   "metadata": {
    "id": "TYXxiSuBOefg"
   },
   "source": [
    "### Query 5: What are the necessary precautions and treatment steps for a person who has fractured their leg during a hiking trip, and what should be considered for their care and recovery?"
   ]
  },
  {
   "cell_type": "code",
   "execution_count": null,
   "metadata": {},
   "outputs": [],
   "source": [
    "user_input_5llmpmt = system_prompt+\"\\n\"+ \"What are the necessary precautions and treatment steps for a person who has fractured their leg during a hiking trip, and what should be considered for their care and recovery?\"\n",
    "prompt_engineered_response_5 = generate_llama_response(user_input_5llmpmt)\n",
    "prompt_engineered_response_5"
   ]
  },
  {
   "cell_type": "markdown",
   "metadata": {
    "id": "m0pVDSHGc8zI"
   },
   "source": [
    "**Insights:**\n",
    "- The responses are derived from different sources, the responses are better than raw llm but still needs authentication."
   ]
  },
  {
   "cell_type": "markdown",
   "metadata": {
    "id": "ap78hR7XegVL"
   },
   "source": [
    "###**Comparing LLM responses (with Prompt Engineering) with Gold-Standard**"
   ]
  },
  {
   "cell_type": "code",
   "execution_count": null,
   "metadata": {},
   "outputs": [],
   "source": [
    "prompt_engineered_responses = {\n",
    "    \"Question-1\": \"\"\" In a critical care unit, managing sepsis involves immediate recognition, quick initiation of appropriate therapy, and ongoing assessment and adjustment. Here are general steps for managing sepsis in a critical care setting:\n",
    "\n",
    "1. Recognition: Suspect sepsis based on clinical signs such as fever or hypothermia, tachycardia or bradycardia, respiratory distress, altered mental status, and lactic acidosis. Obtain blood cultures before starting antibiotics if possible.\n",
    "\n",
    "2. Initial resuscitation: Administer high-flow oxygen via a nonrebreather mask to maintain adequate oxygenation. Start intravenous (IV) access with large bore catheters for fluid administration. Give 30 mL/kg of crystalloid solution over the first hour, and continue infusion at a rate sufficient to maintain mean arterial pressure (MAP) >65 mmHg or a MAP increase of ≥20% from baseline.\n",
    "\n",
    "3. Antibiotics: Administer broad-spectrum antibiotics based on suspected infection site and microbial susceptibilities. Consider empiric coverage for common pathogens such as methicillin-resistant Staphylococcus aureus (MRSA), Pseudomonas aeruginosa, and Enterococcus species.\n",
    "\n",
    "4. Source control: Identify and address the source of infection whenever possible. This may include surgical intervention for abscesses or drainage procedures for infected wounds.\n",
    "\n",
    "5. Fluid management: Monitor fluid balance closely to avoid over-resuscitation while maintaining adequate tissue perfusion. Consider using colloids, blood products, or vasopressors if needed to maintain MAP and organ function.\n",
    "\n",
    "6. Inotropic support: Administer inotropes such as dopamine, dobutamine, or milrinone to improve cardiac output when necessary.\n",
    "\n",
    "7. Electrolyte replacement: Monitor electrolytes closely and replace as needed due to diuretic therapy, insensible losses, or ongoing metabolic demands.\n",
    "\n",
    "8. Glucose control: Maintain strict glucose control (<150 mg/dL) using continuous insulin infusions if necessary.\n",
    "\n",
    "9. Renal replacement therapy: Consider initiating renal replacement therapy in cases of severe sepsis or septic shock with persistent organ dysfunction despite adequate fluid resuscitation and vasopressor support.\n",
    "\n",
    "10. Monitoring: Continuously monitor vital signs, laboratory values (including lactate levels), urine output, and clinical response to treatment. Adjust therapy as needed based on ongoing assessment.\"\"\",\n",
    "\n",
    "    \"Question-2\": \"\"\"Appendicitis is a medical condition characterized by inflammation of the appendix. Common symptoms include:\n",
    "\n",
    "1. Abdominal pain, usually starting around the navel and then shifting to the lower right side.\n",
    "2. Loss of appetite.\n",
    "3. Nausea and vomiting.\n",
    "4. Fever (often low-grade at first).\n",
    "5. Constipation or diarrhea.\n",
    "6. Abdominal swelling and rigidity.\n",
    "7. Inability to pass gas or have a bowel movement.\n",
    "8. Feeling sick, weak, or generally unwell.\n",
    "\n",
    "Appendicitis cannot be cured via medicine alone as the inflammation can lead to rupture of the appendix if left untreated. If the appendix bursts, it may cause peritonitis – a serious infection in the abdominal cavity that requires immediate medical attention. The standard treatment for appendicitis is surgical removal of the affected organ called an appendectomy. This procedure can be performed as open surgery or laparoscopically (keyhole surgery). Both methods aim to remove the inflamed appendix while minimizing damage to surrounding tissues and ensuring a quick recovery.\"\"\",\n",
    "\n",
    "    \"Question-3\": \"\"\"There are several potential treatments for sudden, patchy hair loss, also known as alopecia areata. This condition is characterized by round or oval bald spots that develop suddenly on various areas of the scalp. The exact cause of alopecia areata is not fully understood, but it's believed to be an autoimmune disorder where the body attacks its own hair follicles.\n",
    "\n",
    "    1. Topical treatments: Minoxidil (Rogaine) is a medication that can help stimulate hair growth in some people with alopecia areata. It comes as a liquid or foam and is applied directly to the scalp twice daily.\n",
    "\n",
    "    2. Injections: Corticosteroid injections, such as triamcinolone acetonide (Kenalog), can be effective for treating small bald spots. The medication is injected into the affected area every 4-6 weeks until hair regrowth occurs.\n",
    "\n",
    "    3. Systemic treatments: Oral corticosteroids like prednisone may be prescribed to treat extensive alopecia areata or when other treatments have not been effective. However, long-term use of oral steroids can lead to side effects and should only be considered under the supervision of a healthcare professional.\n",
    "\n",
    "    4. Immunotherapy: Diphenylcyclopropenone (DPCP) is an immunotherapeutic agent that can help promote hair regrowth in some people with alopecia areata. It's applied to the scalp once or twice weekly and may cause skin irritation as a side effect.\n",
    "\n",
    "    5. Alternative therapies: Some alternative treatments, such as acupuncture, herbal remedies (like saw palmetto), and essential oils (such as rosemary oil) have shown promise in promoting hair growth for some individuals with alopecia areata. However, more research is needed to confirm their effectiveness and safety.\n",
    "\n",
    "    Possible causes of sudden patchy hair loss include:\n",
    "    - Autoimmune disorders like alopecia areata or lupus erythematosus\n",
    "    - Hormonal imbalances (such as thyroid issues)\n",
    "    - Nutritional deficiencies, particularly in iron and protein\n",
    "    - Stress or emotional trauma\n",
    "    - Certain medications (like chemotherapy drugs, antidepressants, and beta-blockers)\n",
    "    - Infections like ringworm of the scalp.\n",
    "\n",
    "    It's essential to consult a healthcare professional for an accurate diagnosis and appropriate treatment plan if you experience sudden patchy hair loss.\"\"\",\n",
    "\n",
    "    \"Question-4\": \"\"\"Based on the context provided, there is no specific information about treatments for a person with a physical injury to brain tissue. However, I can provide some general information based on common medical practices and research findings.\n",
    "\n",
    "For temporary impairment of brain function due to a traumatic brain injury (TBI), treatment may include:\n",
    "1. Rest and relaxation: The injured person should get plenty of rest and avoid physical or mental exertion that could worsen their condition.\n",
    "2. Medications: Depending on the symptoms, medications such as pain relievers, anti-inflammatory drugs, sedatives, or stimulants may be prescribed to manage various symptoms like headache, anxiety, depression, or sleep disturbances.\n",
    "3. Rehabilitation therapy: Physical, occupational, and speech therapies can help improve motor skills, cognitive function, communication abilities, and overall quality of life.\n",
    "4. Surgery: In some cases, surgery may be necessary to remove hematomas (blood clots) or repair skull fractures that could worsen the condition or increase the risk of complications.\n",
    "5. Dietary modifications: A balanced diet rich in nutrients and antioxidants can help support brain health during recovery.\n",
    "6. Support groups: Joining a support group for TBI survivors and their families can provide emotional and social benefits, as well as valuable information about coping strategies and resources.\n",
    "\n",
    "For permanent impairment of brain function due to a traumatic injury or other conditions like stroke or degenerative diseases, treatment may focus on managing symptoms and maximizing functional abilities through:\n",
    "1. Rehabilitation therapy: As mentioned above, rehabilitation therapies can help improve motor skills, cognitive function, communication abilities, and overall quality of life for individuals with permanent brain impairment as well.\n",
    "2. Assistive devices: Devices like wheelchairs, walkers, or communication aids can make daily activities easier and safer for those with physical limitations due to brain injury.\n",
    "3. Medications: Depending on the symptoms, medications may be prescribed to manage various conditions such as seizures, pain, depression, anxiety, or sleep disturbances.\n",
    "4. Lifestyle modifications: Making lifestyle changes like getting regular exercise, practicing stress management techniques, and maintaining a healthy diet can help improve overall health and well-being for individuals with permanent brain impairment.\n",
    "5. Support services: Accessing support services such as home care, transportation assistance, or financial aid can help make daily life easier and more manageable for those with permanent brain injuries.\"\"\",\n",
    "\n",
    "    \"Question-5\": \"\"\"1. Necessary Precautions:\n",
    "   - Ensure that the person does not bear weight on the affected leg to prevent further damage or displacement of the fracture.\n",
    "   - Apply a splint, sling, or brace to immobilize the leg and maintain alignment of the bones.\n",
    "   - Keep the injured area elevated above heart level to reduce swelling and pain.\n",
    "   - Protect the injury from direct sunlight and extreme temperatures.\n",
    "   - Administer over-the-counter pain medication as needed for comfort, but avoid giving aspirin due to its blood thinning properties which may increase bleeding risk.\n",
    "\n",
    "2. Treatment Steps:\n",
    "   - Seek medical attention promptly if you suspect a fracture or cannot move the leg without significant pain.\n",
    "   - The healthcare professional will assess the injury and determine the type of fracture, which could involve setting the bone with pins, plates, or screws in some cases.\n",
    "   - Depending on the severity of the fracture, immobilization may be required using a cast, brace, or splint for several weeks to months.\n",
    "   - Physical therapy and rehabilitation exercises will likely be recommended after healing to restore strength, flexibility, and mobility to the affected leg.\n",
    "\n",
    "3. Considerations for Care and Recovery:\n",
    "   - Provide emotional support and encouragement during recovery as it can be a lengthy process.\n",
    "   - Ensure proper nutrition and hydration to promote optimal bone healing.\n",
    "   - Encourage regular follow-up appointments with the healthcare professional to monitor progress and address any concerns or complications that may arise.\n",
    "   - Make necessary modifications at home, such as installing grab bars in the bathroom or using a shower chair, to make daily activities easier during recovery.\"\"\"\n",
    "}"
   ]
  },
  {
   "cell_type": "code",
   "execution_count": null,
   "metadata": {},
   "outputs": [],
   "source": [
    "# Evaluate Prompt-Engineered LLM\n",
    "prompt_results = {}\n",
    "for q_key in prompt_engineered_responses:\n",
    "  # Use the mapping to get the full question text\n",
    "    full_question = question_map[q_key]\n",
    "    prompt_results[full_question] = evaluate_response(gold_answers[full_question], prompt_engineered_responses[q_key])"
   ]
  },
  {
   "cell_type": "code",
   "execution_count": null,
   "metadata": {},
   "outputs": [],
   "source": [
    "# Print Prompt-Engineered LLM Comparison\n",
    "print(\"\\n=== Prompt-Engineered LLM vs Gold Standard ===\")\n",
    "print(tabulate(\n",
    "    [[q] + list(prompt_results[q].values()) for q in prompt_results],\n",
    "    headers=[\"Question\", \"Semantic Sim\", \"BLEU\", \"Rouge-1\", \"Rouge-L\", \"Readability\"],\n",
    "    tablefmt=\"grid\"\n",
    "))"
   ]
  },
  {
   "cell_type": "markdown",
   "metadata": {
    "id": "GXzuXY-j4Scy"
   },
   "source": [
    "**Insights:**\n",
    "- The comparison showed better metric readings compared to the raw LLM responses."
   ]
  },
  {
   "cell_type": "markdown",
   "metadata": {
    "id": "HFML5CTH4fvh"
   },
   "source": [
    "###**Comparing Raw LLM vs LLM with Prompt Engineering**"
   ]
  },
  {
   "cell_type": "code",
   "execution_count": null,
   "metadata": {},
   "outputs": [],
   "source": [
    "# Comparative Analysis\n",
    "print(\"\\n=== Method Comparison (Average Scores) ===\")\n",
    "avg_raw = {\n",
    "    k: np.mean([raw_results[q][k] for q in raw_results])\n",
    "    for k in raw_results[full_question].keys()\n",
    "}\n",
    "avg_prompt = {\n",
    "    k: np.mean([prompt_results[q][k] for q in prompt_results])\n",
    "    for k in prompt_results[full_question].keys()\n",
    "}\n",
    "\n",
    "print(tabulate(\n",
    "    [\n",
    "        [\"Raw LLM\"] + list(avg_raw.values()),\n",
    "        [\"Prompt-Engineered\"] + list(avg_prompt.values())\n",
    "    ],\n",
    "    headers=[\"Method\", \"Semantic Sim\", \"BLEU\", \"Rouge-1\", \"Rouge-L\", \"Readability\"],\n",
    "    tablefmt=\"grid\"\n",
    "))"
   ]
  },
  {
   "cell_type": "markdown",
   "metadata": {
    "id": "tYWz9jxj5lTw"
   },
   "source": [
    "###**Comparison Result**"
   ]
  },
  {
   "cell_type": "code",
   "execution_count": null,
   "metadata": {},
   "outputs": [],
   "source": [
    "# Determine which method performed better overall\n",
    "better_method = {}\n",
    "for metric in avg_raw:\n",
    "    if avg_prompt[metric] > avg_raw[metric]:\n",
    "        better_method[metric] = \"Prompt-Engineered\"\n",
    "    else:\n",
    "        better_method[metric] = \"Raw LLM\"\n",
    "\n",
    "print(\"\\n=== Better Performing Method by Metric ===\")\n",
    "print(tabulate(\n",
    "    [[k, v] for k, v in better_method.items()],\n",
    "    headers=[\"Metric\", \"Better Method\"],\n",
    "    tablefmt=\"grid\"\n",
    "))"
   ]
  },
  {
   "cell_type": "markdown",
   "metadata": {
    "id": "FzpZ930q50T2"
   },
   "source": [
    "**Insights:**\n",
    "* Clearly the comparison showed the better method is LLM with prompt Engineering to get the responses."
   ]
  },
  {
   "cell_type": "markdown",
   "metadata": {
    "id": "RcBzc5bE6ECP"
   },
   "source": [
    "##**Incorporating RAG on Merck Medical Manual**"
   ]
  },
  {
   "cell_type": "markdown",
   "metadata": {
    "id": "t_O1PGdNO2M9"
   },
   "source": [
    "## Data Preparation for RAG"
   ]
  },
  {
   "cell_type": "markdown",
   "metadata": {
    "id": "uTpWESc53dL9"
   },
   "source": [
    "### Loading the Data"
   ]
  },
  {
   "cell_type": "code",
   "execution_count": null,
   "metadata": {},
   "outputs": [],
   "source": [
    "# uncomment and run the following line if using Google Colab\n",
    "from google.colab import drive\n",
    "drive.mount('/content/drive')"
   ]
  },
  {
   "cell_type": "code",
   "execution_count": null,
   "metadata": {},
   "outputs": [],
   "source": [
    "# loading data into a pandas dataframe\n",
    "manual_pdf_path = '/content/drive/MyDrive/Colab Notebooks/UT_Austin_AI_ML/NLP_GenAI/Project_05_AI_Medical_Assistant/medical_diagnosis_manual.pdf'\n",
    "pdf_loader = PyMuPDFLoader(manual_pdf_path)\n",
    "manual = pdf_loader.load()"
   ]
  },
  {
   "cell_type": "markdown",
   "metadata": {
    "id": "Y52wJikNSjOj"
   },
   "source": [
    "**Insights:**\n",
    "\n",
    "* PyMuPDF extracts text reliably, preserving structure better than alternatives like pdfplumber.\n",
    "* The extracted text may include headers, footers, or formatting artifacts, which will be addressed in chunking."
   ]
  },
  {
   "cell_type": "markdown",
   "metadata": {
    "id": "ffj0ca3eZT4u"
   },
   "source": [
    "### Data Overview"
   ]
  },
  {
   "cell_type": "markdown",
   "metadata": {
    "id": "f9weTDzMxRRS"
   },
   "source": [
    "#### Checking the first 5 pages"
   ]
  },
  {
   "cell_type": "code",
   "execution_count": null,
   "metadata": {},
   "outputs": [],
   "source": [
    "for i in range(5):\n",
    "    print(f\"Page Number : {i+1}\",end=\"\\n\")\n",
    "    print(manual[i].page_content,end=\"\\n\")"
   ]
  },
  {
   "cell_type": "markdown",
   "metadata": {
    "id": "7-wNNalNxPKT"
   },
   "source": [
    "#### Checking the number of pages and Average words per page"
   ]
  },
  {
   "cell_type": "code",
   "execution_count": null,
   "metadata": {},
   "outputs": [],
   "source": [
    "num_pages = len(manual)\n",
    "print(f\"Number of pages in the PDF: {num_pages}\")"
   ]
  },
  {
   "cell_type": "code",
   "execution_count": null,
   "metadata": {},
   "outputs": [],
   "source": [
    "# Word count analysis\n",
    "total_words = 0\n",
    "for doc in manual:\n",
    "    total_words += len(doc.page_content.split())\n",
    "\n",
    "avg_words_per_page = total_words / num_pages\n",
    "print(f\"\\nAverage words per page: {avg_words_per_page:.2f}\")"
   ]
  },
  {
   "cell_type": "markdown",
   "metadata": {
    "id": "IYFCPfxoSOWv"
   },
   "source": [
    "**Insights:**\n",
    "\n",
    "* The EDA confirms the PDF has 4,114 pages, aligning with the data dictionary.\n",
    "First and last pages may contain metadata (e.g., title, index), which should be excluded during chunking.\n",
    "* Average words per page (484) suggests chunk sizes of greater or equal to **350** words for balanced retrieval.\n",
    "\n",
    "**Why This Range:**\n",
    "1. Semantic Coherence:\n",
    "Chunks smaller than 350 words may lose context (e.g., breaking mid-paragraph).\n",
    "Chunks larger than 550 words risk information dilution (irrelevant text in retrieval).\n",
    "2. Retrieval Accuracy:\n",
    "Smaller chunks (300-450 words) work better for precise question-answering.\n",
    "Larger chunks (450-600 words) suit summarization or broad queries.\n",
    "3. Empirical Evidence:\n",
    "Most RAG implementations use 256 to 512 tokens (aprox 200 to 400 words per page average).\n",
    "LLaMA/BERT tokenizers average 1.3 tokens per word, so 300 words aprox to 390 tokens."
   ]
  },
  {
   "cell_type": "markdown",
   "metadata": {
    "id": "LECMxTH-zB-R"
   },
   "source": [
    "### Data Chunking"
   ]
  },
  {
   "cell_type": "code",
   "execution_count": null,
   "metadata": {},
   "outputs": [],
   "source": [
    "# Split the PDF into chunks\n",
    "text_splitter = RecursiveCharacterTextSplitter(\n",
    "    #encoding_name='cl100k_base',\n",
    "    chunk_size=512,\n",
    "    chunk_overlap=20)\n",
    "chunks = text_splitter.split_documents(manual)\n"
   ]
  },
  {
   "cell_type": "code",
   "execution_count": null,
   "metadata": {},
   "outputs": [],
   "source": [
    "len(chunks)"
   ]
  },
  {
   "cell_type": "code",
   "execution_count": null,
   "metadata": {},
   "outputs": [],
   "source": [
    "chunks[0].page_content"
   ]
  },
  {
   "cell_type": "code",
   "execution_count": null,
   "metadata": {},
   "outputs": [],
   "source": [
    "chunks[2].page_content"
   ]
  },
  {
   "cell_type": "code",
   "execution_count": null,
   "metadata": {},
   "outputs": [],
   "source": [
    "chunks[3].page_content"
   ]
  },
  {
   "cell_type": "code",
   "execution_count": null,
   "metadata": {},
   "outputs": [],
   "source": [
    "chunks[-1000].page_content"
   ]
  },
  {
   "cell_type": "code",
   "execution_count": null,
   "metadata": {},
   "outputs": [],
   "source": [
    "chunks[-999].page_content"
   ]
  },
  {
   "cell_type": "code",
   "execution_count": null,
   "metadata": {},
   "outputs": [],
   "source": [
    "chunks[-1001].page_content"
   ]
  },
  {
   "cell_type": "code",
   "execution_count": null,
   "metadata": {},
   "outputs": [],
   "source": [
    "chunks[-2].page_content"
   ]
  },
  {
   "cell_type": "code",
   "execution_count": null,
   "metadata": {},
   "outputs": [],
   "source": [
    "chunks[-1].page_content"
   ]
  },
  {
   "cell_type": "markdown",
   "metadata": {
    "id": "MXASHgK8SIUO"
   },
   "source": [
    "**Insights:**\n",
    "* RecursiveCharacterTextSplitter ensures chunks respect sentence boundaries, improving semantic coherence.\n",
    "* A chunk size of 512 with 50 overlap balances context retention and retrieval efficiency.\n",
    "* Total Chunks = Total Pages×(1+ [(Words/Page−Chunk Size)/(Chunk Size - Overlap)]\n",
    "* The number of chunks (31192 chunks for 4114 pages) is manageable for Chroma in Colab.\n",
    "\n",
    "* As expected, there are some overlaps\n",
    "  - If we increase the `chunk_overlap`, the overlapping length of the sentence will also increase.\n",
    "\n",
    "**Key Notes:**\n",
    "* Edge Cases:\n",
    "  - Pages with ≤512 words → 1 chunk.\n",
    "  - Pages with 512 to 1000 words → 2 chunks.\n",
    "  - Average (484 words) consistently produces 1 chunk/page.\n",
    "* Why This Works:\n",
    "  - The overlap ensures context continuity between chunks.\n",
    "  - Example for a 484-word page:\n",
    "  - Chunk 1: Words 1 to 484.\n",
    "- Chunk 2: Words 484 to 512.\n",
    "* Total Words Processed:\n",
    "- 4114 pages * 484 words/page = 1991176 words"
   ]
  },
  {
   "cell_type": "markdown",
   "metadata": {
    "id": "BvHVejcWz0Bl"
   },
   "source": [
    "### Embedding"
   ]
  },
  {
   "cell_type": "code",
   "execution_count": null,
   "metadata": {},
   "outputs": [],
   "source": [
    "embedding_model = SentenceTransformerEmbeddings(model_name='thenlper/gte-large') #"
   ]
  },
  {
   "cell_type": "code",
   "execution_count": null,
   "metadata": {},
   "outputs": [],
   "source": [
    "embedding_1 = embedding_model.embed_query(chunks[0].page_content)\n",
    "embedding_2 = embedding_model.embed_query(chunks[1].page_content)"
   ]
  },
  {
   "cell_type": "code",
   "execution_count": null,
   "metadata": {},
   "outputs": [],
   "source": [
    "print(\"Dimension of the embedding vector \",len(embedding_1))\n",
    "len(embedding_1)==len(embedding_2)"
   ]
  },
  {
   "cell_type": "code",
   "execution_count": null,
   "metadata": {},
   "outputs": [],
   "source": [
    "embedding_1,embedding_2"
   ]
  },
  {
   "cell_type": "markdown",
   "metadata": {
    "id": "FA-RYr5TSCez"
   },
   "source": [
    "**Insights:**\n",
    "* **https://huggingface.co/thenlper/gte-large**\n",
    "* The GTE models are trained by Alibaba DAMO Academy. They are mainly based on the BERT framework and currently offer three different sizes of models, including GTE-large, GTE-base, and GTE-small. The GTE models are trained on a large-scale corpus of relevance text pairs, covering a wide range of domains and scenarios. This enables the GTE models to be applied to various downstream tasks of text embeddings, including information retrieval, semantic textual similarity, text reranking, etc.\n",
    "* The embedding dimension is fixed at 1024, suitable for Chroma's cosine similarity search.\n",
    "* Embeddings capture semantic meaning, enabling accurate retrieval of relevant chunks.\n",
    "* The embedding model provides a fixed-length (1024) vector for any number of chunks.  \n",
    "* This is necessary because we want to compare them for similarity."
   ]
  },
  {
   "cell_type": "markdown",
   "metadata": {
    "id": "qiKCOv4X0d7B"
   },
   "source": [
    "### Vector Database"
   ]
  },
  {
   "cell_type": "code",
   "execution_count": null,
   "metadata": {},
   "outputs": [],
   "source": [
    "out_dir = 'medical_db'\n",
    "\n",
    "if not os.path.exists(out_dir):\n",
    "  os.makedirs(out_dir)"
   ]
  },
  {
   "cell_type": "code",
   "execution_count": null,
   "metadata": {},
   "outputs": [],
   "source": [
    "vectorstore = Chroma.from_documents(\n",
    "    chunks,\n",
    "    embedding_model,\n",
    "    persist_directory = out_dir\n",
    ")"
   ]
  },
  {
   "cell_type": "code",
   "execution_count": null,
   "metadata": {},
   "outputs": [],
   "source": [
    "# Only reload if the object isn't in memory or after a runtime restart\n",
    "if 'vectorstore' not in locals():\n",
    "    vectorstore = Chroma(\n",
    "        persist_directory=out_dir,\n",
    "        embedding_function=embedding_model\n",
    "    )"
   ]
  },
  {
   "cell_type": "code",
   "execution_count": null,
   "metadata": {},
   "outputs": [],
   "source": [
    "vectorstore.embeddings"
   ]
  },
  {
   "cell_type": "code",
   "execution_count": null,
   "metadata": {},
   "outputs": [],
   "source": [
    "vectorstore.similarity_search(\"Atrial Fibrillation, Pharynx, Telangiectases\",k=3) # Checking if similar content is fetched,"
   ]
  },
  {
   "cell_type": "markdown",
   "metadata": {
    "id": "ADyIWsMbR8ot"
   },
   "source": [
    "**Insights:**\n",
    "* From the retrieved chunks, we observe that all the chunks are related to the key terms [ 'Atrial Fibrillation', 'Pharynx', 'Telangiectases'].\n",
    "* Chroma is ideal for in-memory vector storage in Colab, supporting cosine similarity for accurate retrieval.\n",
    "* Cosine similarity ensures robust matching of query embeddings to chunk embeddings."
   ]
  },
  {
   "cell_type": "markdown",
   "metadata": {
    "id": "uEa5sKc41T1z"
   },
   "source": [
    "### Retriever"
   ]
  },
  {
   "cell_type": "code",
   "execution_count": null,
   "metadata": {},
   "outputs": [],
   "source": [
    "retriever = vectorstore.as_retriever(\n",
    "    search_type='similarity',\n",
    "    search_kwargs={'k':2}\n",
    ")"
   ]
  },
  {
   "cell_type": "code",
   "execution_count": null,
   "metadata": {},
   "outputs": [],
   "source": [
    "rel_docs = retriever.get_relevant_documents(\"how can polyps be prevented\") # Check if related chunks were fetched from the document k=2 will fetch two relevant chunks\n",
    "rel_docs"
   ]
  },
  {
   "cell_type": "markdown",
   "metadata": {
    "id": "1SZZdfs3YD_n"
   },
   "source": [
    "**Insights:**\n",
    "- We can observe that the two relevant chunks contain the answer to the query.  \n",
    "- If we increase the **`k`** value, there is a chance that we might find the answer in even more chunks.  \n",
    "- This is a hyperparameter that we need to tune to get the best context."
   ]
  },
  {
   "cell_type": "markdown",
   "metadata": {
    "id": "6Ys63hVjRsXL"
   },
   "source": [
    "## Defining the Response Generator"
   ]
  },
  {
   "cell_type": "code",
   "execution_count": null,
   "metadata": {},
   "outputs": [],
   "source": [
    "model_name_or_path = \"TheBloke/Mistral-7B-Instruct-v0.2-GGUF\"\n",
    "model_basename = \"mistral-7b-instruct-v0.2.Q6_K.gguf\""
   ]
  },
  {
   "cell_type": "code",
   "execution_count": null,
   "metadata": {},
   "outputs": [],
   "source": [
    "model_path = hf_hub_download(\n",
    "    repo_id=model_name_or_path,\n",
    "    filename=model_basename\n",
    ")"
   ]
  },
  {
   "cell_type": "code",
   "execution_count": null,
   "metadata": {},
   "outputs": [],
   "source": [
    "#uncomment the below snippet of code if the runtime is connected to GPU.\n",
    "model_output = Llama(\n",
    "    model_path=model_path,\n",
    "    n_ctx=2300,\n",
    "    n_gpu_layers=20, # Reduced the number of GPU layers\n",
    "    n_batch=512\n",
    ")\n",
    "\n",
    "#uncomment the below snippet of code if the runtime is connected to CPU only.\n",
    "# model_output= Llama(\n",
    "#     model_path=model_path,\n",
    "#     n_ctx=1024,\n",
    "#     n_cores=-2\n",
    "# )"
   ]
  },
  {
   "cell_type": "code",
   "execution_count": null,
   "metadata": {},
   "outputs": [],
   "source": [
    "model_output(\"What is Atrial Fibrillation and how it can be prevented?\")['choices'][0]['text']"
   ]
  },
  {
   "cell_type": "markdown",
   "metadata": {
    "id": "CAD0h0JmaGRQ"
   },
   "source": [
    "- The response is incomplete and generic and appears to be derived from another source. Let's provide our own context and align the response with our needs."
   ]
  },
  {
   "cell_type": "markdown",
   "metadata": {
    "id": "OWDEHMaiR1zO"
   },
   "source": [
    "**Insights:**\n",
    "\n",
    "The specified GGUF model isn’t directly supported in Colab’s Hugging Face ecosystem, so we use Mistral-7B-Instruct-v0.2-GGUF with 4-bit quantization for efficiency.\n",
    "Temperature=0.1 and top_p=0.98 balance creativity and factual accuracy.\n",
    "max_new_tokens=512 ensures detailed responses without excessive length."
   ]
  },
  {
   "cell_type": "markdown",
   "metadata": {
    "id": "vw8qcwq66B0C",
    "nteract": {
     "transient": {
      "deleting": false
     }
    }
   },
   "source": [
    "### System and User Prompt Template"
   ]
  },
  {
   "cell_type": "markdown",
   "metadata": {
    "id": "3wRkZYtO6B0D"
   },
   "source": [
    "Prompts guide the model to generate accurate responses. Here, we define two parts:\n",
    "\n",
    "    1. The system message describing the assistant's role.\n",
    "    2. A user message template including context and the question."
   ]
  },
  {
   "cell_type": "code",
   "execution_count": null,
   "metadata": {},
   "outputs": [],
   "source": [
    "qna_system_message = \"\"\"\n",
    "You are a Medical Reference Assistant trained to provide precise, evidence-based answers from the context. Your responses must adhere strictly to the latest clinical guidelines and avoid speculation.\n",
    "\n",
    "### Input Format:\n",
    "- Context will follow the token: ###CONTEXT.\n",
    "- The context contains references to specific portions of a document relevant to the user query.\n",
    "- Questions will follow the token: ###QUESTION.\n",
    "\n",
    "### Response Guidelines:\n",
    "1. **Accuracy**:\n",
    "   - Base answers ONLY on the provided context. Do not extrapolate or add external knowledge.\n",
    "   - Cite the specific Merck Manual section (e.g., \"Sepsis and Septic Shock, Merck Manual\") when possible.\n",
    "\n",
    "2. **Clarity**:\n",
    "   - Use professional medical terminology but simplify complex concepts for non-specialists when appropriate.\n",
    "   - Structure responses as:\n",
    "     - **Brief Summary** (1-2 sentences).\n",
    "     - **Key Details** (bulleted/numbered lists for protocols, symptoms, or treatments).\n",
    "     - **Critical Considerations** (e.g., contraindications, red flags).\n",
    "\n",
    "3. **Uncertainty Handling**:\n",
    "   - If the context is insufficient, respond: \"This information is not covered in the provided Merck Manual excerpt. Consult the latest edition or a specialist for further guidance.\"\n",
    "\n",
    "4. **Safety**:\n",
    "   - Flag urgent clinical scenarios (e.g., \"Immediate ICU admission is required for septic shock\").\n",
    "   - Avoid treatment recommendations beyond the context’s scope.\n",
    "   - Add a disclaimer (e.g., \"This tool supplements but does not replace clinical judgment.\")\n",
    "\n",
    "### Example:\n",
    "###QUESTION: What is the first-line treatment for uncomplicated hypertension?\n",
    "###CONTEXT: [Excerpt from Merck Manual on hypertension...]\n",
    "**Response:**\n",
    "First-line antihypertensives include:\n",
    "- Thiazide diuretics (e.g., hydrochlorothiazide)\n",
    "- ACE inhibitors (e.g., lisinopril)\n",
    "- Calcium channel blockers (e.g., amlodipine).\n",
    "*Source: Hypertension, Merck Manual Professional Edition.*\n",
    "\"\"\""
   ]
  },
  {
   "cell_type": "code",
   "execution_count": null,
   "metadata": {},
   "outputs": [],
   "source": [
    "qna_user_message_template = \"\"\"\n",
    "###Context\n",
    "Here are some documents that are relevant to the question mentioned below.\n",
    "{context}\n",
    "\n",
    "###Question\n",
    "{question}\n",
    "\"\"\""
   ]
  },
  {
   "cell_type": "markdown",
   "metadata": {
    "id": "5RyAJjPqRS0L"
   },
   "source": [
    "**Insights:**\n",
    "\n",
    "The system prompt establishes the assistant’s role as a reliable medical expert.\n",
    "The user prompt template incorporates retrieved context and the question, ensuring grounded responses.\n",
    "The prompt emphasizes evidence-based answers, critical for medical applications."
   ]
  },
  {
   "cell_type": "markdown",
   "metadata": {
    "id": "TkIteX4m6mny"
   },
   "source": [
    "### Response Function"
   ]
  },
  {
   "cell_type": "code",
   "execution_count": null,
   "metadata": {},
   "outputs": [],
   "source": [
    "def generate_rag_response(user_input,k=3,max_tokens=128,temperature=0,top_p=0.95,top_k=50):\n",
    "    global qna_system_message,qna_user_message_template\n",
    "    # Retrieve relevant document chunks\n",
    "    relevant_document_chunks = retriever.get_relevant_documents(query=user_input,k=k)\n",
    "    context_list = [d.page_content for d in relevant_document_chunks]\n",
    "\n",
    "    # Combine document chunks into a single context\n",
    "    context_for_query = \". \".join(context_list)\n",
    "\n",
    "    user_message = qna_user_message_template.replace('{context}', context_for_query)\n",
    "    user_message = user_message.replace('{question}', user_input)\n",
    "\n",
    "    prompt = qna_system_message + '\\n' + user_message\n",
    "\n",
    "    # Generate the response\n",
    "    try:\n",
    "        response = model_output(\n",
    "                  prompt=prompt,\n",
    "                  max_tokens=max_tokens,\n",
    "                  temperature=temperature,\n",
    "                  top_p=top_p,\n",
    "                  top_k=top_k\n",
    "                  )\n",
    "\n",
    "        # Extract and print the model's response\n",
    "        response = response['choices'][0]['text'].strip()\n",
    "    except Exception as e:\n",
    "        response = f'Sorry, I encountered the following error: \\n {e}'\n",
    "\n",
    "    return response"
   ]
  },
  {
   "cell_type": "markdown",
   "metadata": {
    "id": "7ve0BLLQRLeR"
   },
   "source": [
    "**Insights:**\n",
    "\n",
    "* The function retrieves relevant chunks, formats the prompt, and generates a response.\n",
    "* The context is concatenated from the top 50 chunks, ensuring comprehensive input.\n",
    "* The questions are stored in a list for batch processing in the next step."
   ]
  },
  {
   "cell_type": "markdown",
   "metadata": {
    "id": "ffP1SRYbPQHN"
   },
   "source": [
    "## Question Answering using RAG without Fine-Tuning"
   ]
  },
  {
   "cell_type": "markdown",
   "metadata": {
    "id": "JjajBEj06B0E"
   },
   "source": [
    "### Query 1: What is the protocol for managing sepsis in a critical care unit?"
   ]
  },
  {
   "cell_type": "code",
   "execution_count": null,
   "metadata": {},
   "outputs": [],
   "source": [
    "user_input_rag1 = \"What is the protocol for managing sepsis in a critical care unit?\"\n",
    "generate_rag_response(user_input_rag1)"
   ]
  },
  {
   "cell_type": "markdown",
   "metadata": {
    "id": "s99qceoZes3r"
   },
   "source": [
    "- The answer is clear, concise, and focused, without any unnecessary information.  \n",
    "\n",
    "- For queries like this, we expect a response of this nature."
   ]
  },
  {
   "cell_type": "markdown",
   "metadata": {
    "id": "QDw8zXuq6B0F"
   },
   "source": [
    "### Query 2: What are the common symptoms for appendicitis, and can it be cured via medicine? If not, what surgical procedure should be followed to treat it?"
   ]
  },
  {
   "cell_type": "code",
   "execution_count": null,
   "metadata": {},
   "outputs": [],
   "source": [
    "user_input_rag2 = \"What are the common symptoms for appendicitis, and can it be cured via medicine? If not, what surgical procedure should be followed to treat it?\"\n",
    "generate_rag_response(user_input_rag2)"
   ]
  },
  {
   "cell_type": "markdown",
   "metadata": {
    "id": "Bai1yciReuYK"
   },
   "source": [
    "- The response got short due to token size.  \n",
    "- Perhaps if we increase the **`max_tokens`**, we might be able to get more conprehensive answers."
   ]
  },
  {
   "cell_type": "markdown",
   "metadata": {
    "id": "TggYyQPL6B0G"
   },
   "source": [
    "### Query 3: What are the effective treatments or solutions for addressing sudden patchy hair loss, commonly seen as localized bald spots on the scalp, and what could be the possible causes behind it?"
   ]
  },
  {
   "cell_type": "code",
   "execution_count": null,
   "metadata": {},
   "outputs": [],
   "source": [
    "user_input_rag3 = \"What are the effective treatments or solutions for addressing sudden patchy hair loss, commonly seen as localized bald spots on the scalp, and what could be the possible causes behind it?\"\n",
    "generate_rag_response(user_input_rag3)"
   ]
  },
  {
   "cell_type": "markdown",
   "metadata": {
    "id": "zi4irzOce6lv"
   },
   "source": [
    "- Again short response due to token size.\n",
    "\n",
    "- As expected, the model has done its job well. It has eliminated hallucination."
   ]
  },
  {
   "cell_type": "markdown",
   "metadata": {
    "id": "1TgxdI-_6B0G"
   },
   "source": [
    "### Query 4:  What treatments are recommended for a person who has sustained a physical injury to brain tissue, resulting in temporary or permanent impairment of brain function?"
   ]
  },
  {
   "cell_type": "code",
   "execution_count": null,
   "metadata": {},
   "outputs": [],
   "source": [
    "user_input_rag4 = \"What treatments are recommended for a person who has sustained a physical injury to brain tissue, resulting in temporary or permanent impairment of brain function?\"\n",
    "generate_rag_response(user_input_rag4)"
   ]
  },
  {
   "cell_type": "markdown",
   "metadata": {
    "id": "YKSjlpYHe_RS"
   },
   "source": [
    "- The responses were short due to only 128 tokens and a temperature value of 0 which makes sure only most relevant answers to be chosen."
   ]
  },
  {
   "cell_type": "markdown",
   "metadata": {
    "id": "FlHXYCkm6B0H"
   },
   "source": [
    "### Query 5: What are the necessary precautions and treatment steps for a person who has fractured their leg during a hiking trip, and what should be considered for their care and recovery?"
   ]
  },
  {
   "cell_type": "code",
   "execution_count": null,
   "metadata": {},
   "outputs": [],
   "source": [
    "user_input_rag5 = \"What are the necessary precautions and treatment steps for a person who has fractured their leg during a hiking trip, and what should be considered for their care and recovery?\"\n",
    "generate_rag_response(user_input_rag5)"
   ]
  },
  {
   "cell_type": "markdown",
   "metadata": {
    "id": "x8FC8SJzfBv0"
   },
   "source": [
    "- We will address the token size during fine tuning.  \n",
    "\n",
    "- As expected, the model has done its job well."
   ]
  },
  {
   "cell_type": "markdown",
   "metadata": {
    "id": "udx2_dznQ_CD"
   },
   "source": [
    "**Insights:**\n",
    "\n",
    "Each question is processed independently, leveraging the RAG pipeline.\n",
    "Responses are expected to be detailed and grounded in the Merck Manual context.\n",
    "Since, responses are incomplete, fine-tuning in the next step will improve quality."
   ]
  },
  {
   "cell_type": "markdown",
   "metadata": {
    "id": "K7TYrqycEITB"
   },
   "source": [
    "## Fine-tuning Parameters RAG"
   ]
  },
  {
   "cell_type": "markdown",
   "metadata": {
    "id": "ekixJXW2Fx5y"
   },
   "source": [
    "#### Query 1: What is the protocol for managing sepsis in a critical care unit?"
   ]
  },
  {
   "cell_type": "code",
   "execution_count": null,
   "metadata": {},
   "outputs": [],
   "source": [
    "user_input_ragft1 = \"What is the protocol for managing sepsis in a critical care unit?\"\n",
    "generate_rag_response(user_input_ragft1,  max_tokens=1000, temperature=0)"
   ]
  },
  {
   "cell_type": "markdown",
   "metadata": {
    "id": "PD7FASIVgsRr"
   },
   "source": [
    "- When **`max_tokens`** is set to 1000, the model generated enough output, however 1000 tokens are overkill and may result in helucinations as the query could be answered with a limited number of tokens.  \n",
    "\n",
    "- One of the reasons could be that the temperature is set to 0, making the model more deterministic and less creative."
   ]
  },
  {
   "cell_type": "markdown",
   "metadata": {
    "id": "1lP8LwnbUxep"
   },
   "source": [
    "#### Query 2: What are the common symptoms for appendicitis, and can it be cured via medicine? If not, what surgical procedure should be followed to treat it?"
   ]
  },
  {
   "cell_type": "code",
   "execution_count": null,
   "metadata": {},
   "outputs": [],
   "source": [
    "user_input_ragft2 = \"What are the common symptoms for appendicitis, and can it be cured via medicine? If not, what surgical procedure should be followed to treat it?\"\n",
    "generate_rag_response(user_input_ragft2,  max_tokens=350, temperature=0)"
   ]
  },
  {
   "cell_type": "markdown",
   "metadata": {
    "id": "Muzf6ULChU_j"
   },
   "source": [
    "- If we compare it to the previous case, after decreasing the **`max_tokens`**, we still got the full response.\n",
    "- The response is short due to 0 temperature set."
   ]
  },
  {
   "cell_type": "markdown",
   "metadata": {
    "id": "pludvG5BUxer"
   },
   "source": [
    "#### Query 3: What are the effective treatments or solutions for addressing sudden patchy hair loss, commonly seen as localized bald spots on the scalp, and what could be the possible causes behind it?"
   ]
  },
  {
   "cell_type": "code",
   "execution_count": null,
   "metadata": {},
   "outputs": [],
   "source": [
    "user_input_ragft3 = \"What are the effective treatments or solutions for addressing sudden patchy hair loss, commonly seen as localized bald spots on the scalp, and what could be the possible causes behind it?\"\n",
    "generate_rag_response(user_input_ragft3,  top_p=0.98, top_k=20, max_tokens=256, temperature=0.5)"
   ]
  },
  {
   "cell_type": "markdown",
   "metadata": {
    "id": "UMVaAhVumAZi"
   },
   "source": [
    "- 256 Token are not enough to get full range of response, the best option is to take 512 tokens.\n",
    "- The temperature of 0.5 may be slightly high."
   ]
  },
  {
   "cell_type": "markdown",
   "metadata": {
    "id": "ydSZJlJQUxes"
   },
   "source": [
    "#### Query 4:  What treatments are recommended for a person who has sustained a physical injury to brain tissue, resulting in temporary or permanent impairment of brain function?"
   ]
  },
  {
   "cell_type": "code",
   "execution_count": null,
   "metadata": {},
   "outputs": [],
   "source": [
    "user_input_ragft4 = \"What treatments are recommended for a person who has sustained a physical injury to brain tissue, resulting in temporary or permanent impairment of brain function?\"\n",
    "generate_rag_response(user_input_ragft4,  top_p=0.98, top_k=50, max_tokens=512, temperature=0.1)"
   ]
  },
  {
   "cell_type": "markdown",
   "metadata": {
    "id": "p8N6SYP7huke"
   },
   "source": [
    "- 512 tokens, with 0.1 temperature with top_p = 0.98 and k = 50 seems to work great.  "
   ]
  },
  {
   "cell_type": "markdown",
   "metadata": {
    "id": "5hAVjKHMUxeu"
   },
   "source": [
    "#### Query 5: What are the necessary precautions and treatment steps for a person who has fractured their leg during a hiking trip, and what should be considered for their care and recovery?"
   ]
  },
  {
   "cell_type": "code",
   "execution_count": null,
   "metadata": {},
   "outputs": [],
   "source": [
    "user_input_ragft5 = \"What are the necessary precautions and treatment steps for a person who has fractured their leg during a hiking trip, and what should be considered for their care and recovery?\"\n",
    "generate_rag_response(user_input_ragft5,  top_p=0.98, top_k=50, max_tokens=350, temperature=0.1)"
   ]
  },
  {
   "cell_type": "markdown",
   "metadata": {
    "id": "lP3UO8XXmo2B"
   },
   "source": [
    "- token size of 350 is definately a small value. Again, 512 token size seems to be the best value."
   ]
  },
  {
   "cell_type": "markdown",
   "metadata": {
    "id": "z5RK_k5bh1Ar"
   },
   "source": [
    "**Insights:**\n",
    "\n",
    "* According to the findings the following parameters will perform best:\n",
    "1. top_p = 0.98\n",
    "2. top_k = 50\n",
    "3. max_tokens = 512\n",
    "4. temperature = 0.1\n"
   ]
  },
  {
   "cell_type": "markdown",
   "metadata": {
    "id": "FfXbXSUU5SFe"
   },
   "source": [
    "### Generating response with the tunned parameters"
   ]
  },
  {
   "cell_type": "code",
   "execution_count": null,
   "metadata": {},
   "outputs": [],
   "source": [
    "user_input_ragtuned1 = \"What is the protocol for managing sepsis in a critical care unit?\"\n",
    "generate_rag_response(user_input_ragtuned1,  top_p=0.98, top_k=50, max_tokens=512, temperature=0.1)"
   ]
  },
  {
   "cell_type": "code",
   "execution_count": null,
   "metadata": {},
   "outputs": [],
   "source": [
    "user_input_ragtuned2 = \"What are the common symptoms for appendicitis, and can it be cured via medicine? If not, what surgical procedure should be followed to treat it?\"\n",
    "generate_rag_response(user_input_ragtuned2, top_p=0.98, top_k=50, max_tokens=512, temperature=0.1)"
   ]
  },
  {
   "cell_type": "code",
   "execution_count": null,
   "metadata": {},
   "outputs": [],
   "source": [
    "user_input_ragtuned3 = \"What are the effective treatments or solutions for addressing sudden patchy hair loss, commonly seen as localized bald spots on the scalp, and what could be the possible causes behind it?\"\n",
    "generate_rag_response(user_input_ragtuned3, top_p=0.98, top_k=50, max_tokens=512, temperature=0.1)"
   ]
  },
  {
   "cell_type": "code",
   "execution_count": null,
   "metadata": {},
   "outputs": [],
   "source": [
    "user_input_ragtuned4 = \"What treatments are recommended for a person who has sustained a physical injury to brain tissue, resulting in temporary or permanent impairment of brain function?\"\n",
    "generate_rag_response(user_input_ragtuned4, top_p=0.98, top_k=50, max_tokens=512, temperature=0.1)"
   ]
  },
  {
   "cell_type": "code",
   "execution_count": null,
   "metadata": {},
   "outputs": [],
   "source": [
    "user_input_ragtuned5 = \"What are the necessary precautions and treatment steps for a person who has fractured their leg during a hiking trip, and what should be considered for their care and recovery?\"\n",
    "generate_rag_response(user_input_ragtuned5, top_p=0.98, top_k=50, max_tokens=512, temperature=0.1)"
   ]
  },
  {
   "cell_type": "markdown",
   "metadata": {
    "id": "23ihMxTcnAhs"
   },
   "source": [
    "- The responses were generally better than using other hyperparameters values."
   ]
  },
  {
   "cell_type": "markdown",
   "metadata": {
    "id": "D-PBFvTN6S0p"
   },
   "source": [
    "###**Comparing RAG Fine-Tuned responses with Gold-Standard**"
   ]
  },
  {
   "cell_type": "code",
   "execution_count": null,
   "metadata": {},
   "outputs": [],
   "source": [
    "rag_finetuned_responses = {\n",
    "    \"Question-1\": \"\"\" **Response:**\n",
    "Brief Summary: The management of septic shock in a critical care unit involves monitoring vital signs, fluid resuscitation, and appropriate antibiotic therapy.\n",
    "\n",
    "Key Details:\n",
    "1. Monitoring: Frequent assessment of systemic pressure, CVP or PAOP, pulse oximetry, ABGs, blood glucose, lactate, electrolyte levels, renal function, urine output, and sublingual PCO2 is necessary.\n",
    "2. Fluid Resuscitation: Administer 0.9% saline until CVP reaches 8 mm Hg (10 cm H2O) or PAOP is high (60 to 65%).\n",
    "3. Antibiotic Therapy: Use a regimen of gentamicin or tobramycin and a third-generation cephalosporin, such as cefotaxime or ceftriaxone. Alternatively, use ceftazidime plus a fluoroquinolone like ciprofloxacin. Monotherapy with maximal therapeutic doses of ceftazidime or imipenem is not recommended.\n",
    "\n",
    "Critical Considerations:\n",
    "- Keep the patient warm and control hemorrhage if necessary.\n",
    "- Nothing should be given by mouth, and the head should be turned to one side to avoid aspiration if emesis occurs.\n",
    "- Prognosis depends on the cause, preexisting or complicating illness, time between onset and diagnosis, and promptness and adequacy of therapy.\"\"\",\n",
    "\n",
    "    \"Question-2\": \"\"\"**Response:**\n",
    "Symptoms of appendicitis include:\n",
    "- Sudden onset of pain in the lower right abdomen.\n",
    "- Loss of appetite.\n",
    "- Nausea and vomiting.\n",
    "- Fever (often low-grade at first).\n",
    "- Abdominal swelling.\n",
    "- Pain worsens with movement or pressure on the abdomen.\n",
    "\n",
    "Appendicitis cannot be cured via medicine alone; surgical removal of the appendix (appendectomy) is required when diagnosed. This procedure can be performed either open or laparoscopically, depending on the severity and location of the inflammation. Antibiotics are administered intravenously before surgery to prevent infection spread. If the appendix has perforated, antibiotics should be continued until the patient's temperature and white blood cell count have normalized.\n",
    "\n",
    "*Source: Acute Appendicitis, Merck Manual Professional Edition.*\"\"\",\n",
    "\n",
    "    \"Question-3\": \"\"\"**Response:**\n",
    "Sudden patchy hair loss, also known as alopecia areata, is characterized by round, smooth patches of baldness on the scalp or other hair-bearing areas. The exact cause of this condition is unknown but is believed to be an autoimmune disorder that affects genetically susceptible individuals exposed to unclear environmental triggers.\n",
    "\n",
    "Effective treatments for alopecia areata include:\n",
    "1. Topical corticosteroids: Prescription-strength creams or ointments applied directly to the affected area can help reduce inflammation and promote hair regrowth.\n",
    "2. Minoxidil (Rogaine): A topical medication that stimulates hair growth, available over the counter.\n",
    "3. Anthralin: A prescription topical medication that slows down the immune system's attack on hair follicles.\n",
    "4. Immunotherapy: Injections of diphencyprone or squaric acid dibutylester can help stimulate an immune response and promote hair regrowth.\n",
    "5. Psoralen plus ultraviolet A (PUVA): A light therapy treatment that involves taking a medication called psoralen before exposure to UV-A light, which helps slow down the immune system's attack on hair follicles.\n",
    "6. Salicylic acid suspension: A 10% salicylic acid solution in mineral oil can be applied to the scalp at bedtime and washed off the next morning with a tar shampoo. This treatment may help enhance penetration and promote hair regrowth.\n",
    "\n",
    "It is important to note that treatments for alopecia areata may not work for everyone, and their effectiveness can vary depending on the severity and location of the bald spots. In severe cases, systemic corticosteroids or other immunosuppressive medications may be prescribed by a healthcare professional.\n",
    "\n",
    "Hair loss due to other causes should be treated accordingly based on the underlying disorder. If you are concerned about sudden patchy hair loss, it is recommended that you consult with a healthcare professional for an accurate diagnosis and appropriate treatment options.\n",
    "\n",
    "*Source: Alopecia Areata, Merck Manual Professional Edition.*\"\"\",\n",
    "\n",
    "    \"Question-4\": \"\"\"**Response:**\n",
    "Brief Summary:\n",
    "For individuals with brain injuries causing temporary or permanent impairments, the primary focus is on optimizing ventilation, oxygenation, and brain perfusion. Depending on the severity of the injury, treatments may include observation for mild cases or urgent surgical intervention for intracranial hematomas to prevent further damage from brain shift, compression, and herniation.\n",
    "\n",
    "Key Details:\n",
    "- Mild injuries: Discharge and observation.\n",
    "- Moderate to severe injuries: Optimization of ventilation, oxygenation, and brain perfusion.\n",
    "\n",
    "Critical Considerations:\n",
    "- Intracranial hematomas may require urgent surgical evacuation.\n",
    "- Small intracerebral hematomas rarely require surgery.\n",
    "- Early neurosurgical consultation is mandatory for intracranial hematomas.\n",
    "- Not all hematomas require surgical removal.\n",
    "- Brain function impairments can lead to disability in social relations and employment due to the fixed size of the cranial vault.\n",
    "- Posttraumatic anosmia and acute traumatic blindness seldom resolve after 3 to 4 months.\n",
    "- Hemiparesis and aphasia usually resolve at least partially, except in the elderly.\n",
    "\n",
    "*Source: Traumatic Brain Injury, Merck Manual Professional Edition.*\"\"\",\n",
    "\n",
    "    \"Question-5\": \"\"\"**Response:**\n",
    "Brief Summary: For a person with a suspected fractured leg during a hiking trip, the following steps should be taken:\n",
    "1. Apply ice and compression using an elastic bandage to reduce swelling and pain.\n",
    "2. Elevate the injured leg above heart level for gravity-assisted fluid drainage.\n",
    "3. Prescribe analgesics and NSAIDs as necessary for pain relief.\n",
    "4. Consider using crutches for initial mobility support.\n",
    "5. For suspected open fractures, provide sterile wound dressings, tetanus prophylaxis, and broad-spectrum antibiotics.\n",
    "\n",
    "Key Details:\n",
    "1. Ice and compression: Apply ice wrapped in a plastic bag to the injured area and use an elastic bandage for compression. Do not wrap too tightly to avoid causing swelling in the distal extremity.\n",
    "2. Elevation: Keep the injured leg elevated above heart level to facilitate fluid drainage, which reduces swelling and pain.\n",
    "3. Pain relief: Prescribe analgesics and non-steroidal anti-inflammatory drugs (NSAIDs) as needed for pain management.\n",
    "4. Mobility support: Use crutches initially if walking is painful.\n",
    "5. Open fractures: For suspected open fractures, provide sterile wound dressings, tetanus prophylaxis, and broad-spectrum antibiotics.\n",
    "\n",
    "Critical Considerations:\n",
    "1. Immediate medical attention: If there are signs of an unstable fracture or long bone fracture, seek immediate medical care for proper assessment and treatment.\n",
    "2. Follow-up care: Ensure the person receives appropriate follow-up care to monitor their progress and address any complications.\n",
    "3. Proper immobilization: Ensure the injured leg is properly immobilized during transportation and until a healthcare professional can assess it.\n",
    "4. Avoid weight bearing: Encourage the person to avoid putting weight on the injured leg until a healthcare professional advises otherwise.\n",
    "5. Rehabilitation: Provide resources for rehabilitation exercises and physical therapy to help restore strength and mobility once the fracture has healed.\"\"\"\n",
    "}"
   ]
  },
  {
   "cell_type": "code",
   "execution_count": null,
   "metadata": {},
   "outputs": [],
   "source": [
    "# Evaluate Fine-Tuned RAG Responses\n",
    "rag_results = {}\n",
    "for q_key in rag_finetuned_responses:\n",
    "  # Use the mapping to get the full question text\n",
    "    full_question = question_map[q_key]\n",
    "    rag_results[full_question] = evaluate_response(gold_answers[full_question], rag_finetuned_responses[q_key])\n",
    "\n",
    "\n",
    "# Print RAG Fine-Tuned Comparison\n",
    "print(\"\\n=== RAG Fine-Tuned vs Gold Standard ===\")\n",
    "print(tabulate(\n",
    "    [[q] + list(rag_results[q].values()) for q in rag_results],\n",
    "    headers=[\"Question\", \"Semantic Sim\", \"BLEU\", \"Rouge-1\", \"Rouge-L\", \"Readability\"],\n",
    "    tablefmt=\"grid\"\n",
    "))"
   ]
  },
  {
   "cell_type": "markdown",
   "metadata": {
    "id": "vkrtcLVOnTcU"
   },
   "source": [
    "- RAG Fine Tuned has performed better than all the models."
   ]
  },
  {
   "cell_type": "markdown",
   "metadata": {
    "id": "boi55lmd-Q2j"
   },
   "source": [
    "###**Comparing Raw LLM vs LLM with Prompt Engineering Vs RAG Fine-Tuned**"
   ]
  },
  {
   "cell_type": "code",
   "execution_count": null,
   "metadata": {},
   "outputs": [],
   "source": [
    "# 1. Generate Comparison Table\n",
    "headers = [\"Method\", \"Semantic Sim\", \"BLEU\", \"Rouge-1\", \"Rouge-L\", \"Readability\"]\n",
    "\n",
    "# Calculate average scores for each method\n",
    "avg_raw = {\n",
    "    k: np.mean([raw_results[q][k] for q in raw_results])\n",
    "    for k in headers[1:]  # Skip \"Method\" column\n",
    "}\n",
    "\n",
    "avg_prompt = {\n",
    "    k: np.mean([prompt_results[q][k] for q in prompt_results])\n",
    "    for k in headers[1:]\n",
    "}\n",
    "\n",
    "avg_rag = {\n",
    "    k: np.mean([rag_results[q][k] for q in rag_results])\n",
    "    for k in headers[1:]\n",
    "}\n",
    "\n",
    "# Create comparison table\n",
    "comparison_table = [\n",
    "    [\"Raw LLM\"] + list(avg_raw.values()),\n",
    "    [\"Prompt-Engineered\"] + list(avg_prompt.values()),\n",
    "    [\"RAG Fine-Tuned\"] + list(avg_rag.values())\n",
    "]\n",
    "\n",
    "print(\"=== Method Comparison (Average Scores) ===\")\n",
    "print(tabulate(comparison_table, headers=headers, tablefmt=\"grid\", floatfmt=\".3f\"))\n",
    "\n",
    "# 2. Determine the Best Performing Method\n",
    "metrics = headers[1:]  # All metrics except \"Method\"\n",
    "\n",
    "# Initialize a dictionary to store the best method for each metric\n",
    "best_methods = {}\n",
    "\n",
    "for metric in metrics:\n",
    "    # Get scores for all methods for this metric\n",
    "    scores = {\n",
    "        \"Raw LLM\": avg_raw[metric],\n",
    "        \"Prompt-Engineered\": avg_prompt[metric],\n",
    "        \"RAG Fine-Tuned\": avg_rag[metric]\n",
    "    }\n",
    "\n",
    "    # Find the method with the highest score for this metric\n",
    "    best_method = max(scores.items(), key=lambda x: x[1])[0]\n",
    "    best_methods[metric] = best_method"
   ]
  },
  {
   "cell_type": "code",
   "execution_count": null,
   "metadata": {},
   "outputs": [],
   "source": [
    "import matplotlib.pyplot as plt\n",
    "# Extract method names\n",
    "methods = [row[0] for row in comparison_table]\n",
    "\n",
    "# Separate metrics into two groups based on their scale\n",
    "# Group 1: Smaller scale metrics\n",
    "small_metric_names = headers[1:5] # Semantic Sim, BLEU, Rouge-1, Rouge-L\n",
    "raw_llm_small_scores = comparison_table[0][1:5]\n",
    "prompt_engineered_small_scores = comparison_table[1][1:5]\n",
    "rag_fine_tuned_small_scores = comparison_table[2][1:5]\n",
    "\n",
    "# Group 2: Large scale metric (Readability)\n",
    "large_metric_name = headers[5] # Readability\n",
    "raw_llm_large_score = comparison_table[0][5]\n",
    "prompt_engineered_large_score = comparison_table[1][5]\n",
    "rag_fine_tuned_large_score = comparison_table[2][5]\n",
    "\n",
    "\n",
    "# Function to add labels on top of bars\n",
    "def autolabel(rects, ax_obj):\n",
    "    \"\"\"Attach a text label above each bar in *rects*, displaying its height.\"\"\"\n",
    "    for rect in rects:\n",
    "        height = rect.get_height()\n",
    "        ax_obj.annotate(f'{height:.3f}',\n",
    "                        xy=(rect.get_x() + rect.get_width() / 2, height),\n",
    "                        xytext=(0, 3),  # 3 points vertical offset\n",
    "                        textcoords=\"offset points\",\n",
    "                        ha='center', va='bottom', fontsize=8, color='black')\n",
    "\n",
    "# --- Plot 1: Smaller Scale Metrics ---\n",
    "fig1, ax1 = plt.subplots(figsize=(10, 6)) # Adjust figure size for better readability\n",
    "x1 = np.arange(len(small_metric_names))\n",
    "width = 0.25 # Width of the bars\n",
    "\n",
    "rects1_1 = ax1.bar(x1 - width, raw_llm_small_scores, width, label='Raw LLM', color='#1f77b4', edgecolor='black', linewidth=0.7)\n",
    "rects1_2 = ax1.bar(x1, prompt_engineered_small_scores, width, label='Prompt-Engineered', color='#ff7f0e', edgecolor='black', linewidth=0.7)\n",
    "rects1_3 = ax1.bar(x1 + width, rag_fine_tuned_small_scores, width, label='RAG Fine-Tuned', color='#2ca02c', edgecolor='black', linewidth=0.7)\n",
    "\n",
    "autolabel(rects1_1, ax1)\n",
    "autolabel(rects1_2, ax1)\n",
    "autolabel(rects1_3, ax1)\n",
    "\n",
    "ax1.set_xlabel('Evaluation Metrics (Smaller Scale)', fontsize=12, labelpad=10)\n",
    "ax1.set_ylabel('Average Score', fontsize=12, labelpad=10)\n",
    "ax1.set_title('Method Comparison: Semantic Similarity, BLEU, Rouge-1, Rouge-L', fontsize=16, pad=20)\n",
    "ax1.set_xticks(x1)\n",
    "ax1.set_xticklabels(small_metric_names, rotation=0, ha='center', fontsize=10)\n",
    "ax1.set_ylim(bottom=0, top=1.0) # Set a more appropriate y-limit for these metrics\n",
    "ax1.grid(axis='y', linestyle='--', alpha=0.7)\n",
    "ax1.legend(fontsize=10, frameon=True, shadow=True, fancybox=True, loc='upper left', bbox_to_anchor=(1, 1))\n",
    "plt.tight_layout(rect=[0, 0, 0.88, 1]) # Adjust rect to make space for legend outside\n",
    "\n",
    "# --- Plot 2: Readability Metric ---\n",
    "fig2, ax2 = plt.subplots(figsize=(7, 6)) # Adjust figure size\n",
    "x2 = np.arange(1) # Only one bar group for Readability\n",
    "width = 0.25\n",
    "\n",
    "# Create list of scores for readability for easier plotting with autolabel\n",
    "readability_scores = [raw_llm_large_score, prompt_engineered_large_score, rag_fine_tuned_large_score]\n",
    "\n",
    "rects2_1 = ax2.bar(x2 - width, readability_scores[0], width, label='Raw LLM', color='#1f77b4', edgecolor='black', linewidth=0.7)\n",
    "rects2_2 = ax2.bar(x2, readability_scores[1], width, label='Prompt-Engineered', color='#ff7f0e', edgecolor='black', linewidth=0.7)\n",
    "rects2_3 = ax2.bar(x2 + width, readability_scores[2], width, label='RAG Fine-Tuned', color='#2ca02c', edgecolor='black', linewidth=0.7)\n",
    "\n",
    "autolabel(rects2_1, ax2)\n",
    "autolabel(rects2_2, ax2)\n",
    "autolabel(rects2_3, ax2)\n",
    "\n",
    "ax2.set_xlabel('Evaluation Metric', fontsize=12, labelpad=10)\n",
    "ax2.set_ylabel('Average Score', fontsize=12, labelpad=10)\n",
    "ax2.set_title('Method Comparison: Readability Score', fontsize=16, pad=20)\n",
    "ax2.set_xticks(x2)\n",
    "ax2.set_xticklabels([large_metric_name], rotation=0, ha='center', fontsize=10)\n",
    "ax2.set_ylim(bottom=0) # Start y-axis from 0, or adjust based on minimum value for better focus\n",
    "ax2.grid(axis='y', linestyle='--', alpha=0.7)\n",
    "ax2.legend(fontsize=10, frameon=True, shadow=True, fancybox=True, loc='upper left', bbox_to_anchor=(1, 1))\n",
    "plt.tight_layout(rect=[0, 0, 0.75, 1]) # Adjust rect to make space for legend outside\n",
    "\n",
    "plt.show()"
   ]
  },
  {
   "cell_type": "markdown",
   "metadata": {
    "id": "g8xFiFZo-bz8"
   },
   "source": [
    "###**Comparison Result**"
   ]
  },
  {
   "cell_type": "code",
   "execution_count": null,
   "metadata": {},
   "outputs": [],
   "source": [
    "# 3. Print Best Methods Summary\n",
    "print(\"\\n=== Best Performing Method by Metric ===\")\n",
    "best_methods_table = [[metric, method] for metric, method in best_methods.items()]\n",
    "print(tabulate(best_methods_table, headers=[\"Metric\", \"Best Method\"], tablefmt=\"grid\"))\n",
    "\n",
    "# 4. Overall Winner (Method with most 'wins' across metrics)\n",
    "from collections import Counter\n",
    "overall_winner = Counter(best_methods.values()).most_common(1)[0][0]\n",
    "print(f\"\\nOverall Best Method: {overall_winner} (wins {Counter(best_methods.values())[overall_winner]} out of {len(metrics)} metrics)\")"
   ]
  },
  {
   "cell_type": "markdown",
   "metadata": {
    "id": "h7XzB_jAnkBv"
   },
   "source": [
    "- Metrics comparison also suggest that RAG performed better in all the matircs' categories except Semantic Similarity which was also not bad.\n",
    "- Over ALL RAG Fine Tuned has easily supassed the other methods."
   ]
  },
  {
   "cell_type": "markdown",
   "metadata": {
    "id": "yyQrTipNfuBN"
   },
   "source": [
    "## Output Evaluation using LLM-As-A-Judge Method"
   ]
  },
  {
   "cell_type": "markdown",
   "metadata": {
    "id": "HbXMSxqa-65E"
   },
   "source": [
    "Let us now use the LLM-as-a-judge method to check the quality of the RAG system on two parameters - retrieval and generation.\n",
    "\n",
    "- We are using the same Mistral model for evaluation, so basically here the llm is rating itself on how well he has performed in the task."
   ]
  },
  {
   "cell_type": "code",
   "execution_count": null,
   "metadata": {},
   "outputs": [],
   "source": [
    "groundedness_rater_system_message  = \"\"\"\n",
    "You are tasked with rating AI generated answers to questions posed by users.\n",
    "You will be presented a question, context used by the AI system to generate the answer and an AI generated answer to the question.\n",
    "In the input, the question will begin with ###Question, the context will begin with ###Context while the AI generated answer will begin with ###Answer.\n",
    "\n",
    "Evaluation criteria:\n",
    "The task is to judge the extent to which the metric is followed by the answer.\n",
    "1 - The metric is not followed at all\n",
    "2 - The metric is followed only to a limited extent\n",
    "3 - The metric is followed to a good extent\n",
    "4 - The metric is followed mostly\n",
    "5 - The metric is followed completely\n",
    "\n",
    "Metric:\n",
    "The answer should be derived only from the information presented in the context\n",
    "\n",
    "Instructions:\n",
    "1. First write down the steps that are needed to evaluate the answer as per the metric.\n",
    "2. Give a step-by-step explanation if the answer adheres to the metric considering the question and context as the input.\n",
    "3. Next, evaluate the extent to which the metric is followed.\n",
    "4. Use the previous information to rate the answer using the evaluaton criteria and assign a score.\n",
    "\"\"\""
   ]
  },
  {
   "cell_type": "code",
   "execution_count": null,
   "metadata": {},
   "outputs": [],
   "source": [
    "relevance_rater_system_message = \"\"\"\n",
    "You are tasked with rating AI generated answers to questions posed by users.\n",
    "You will be presented a question, context used by the AI system to generate the answer and an AI generated answer to the question.\n",
    "In the input, the question will begin with ###Question, the context will begin with ###Context while the AI generated answer will begin with ###Answer.\n",
    "\n",
    "Evaluation criteria:\n",
    "The task is to judge the extent to which the metric is followed by the answer.\n",
    "1 - The metric is not followed at all\n",
    "2 - The metric is followed only to a limited extent\n",
    "3 - The metric is followed to a good extent\n",
    "4 - The metric is followed mostly\n",
    "5 - The metric is followed completely\n",
    "\n",
    "Metric:\n",
    "Relevance measures how well the answer addresses the main aspects of the question, based on the context.\n",
    "Consider whether all and only the important aspects are contained in the answer when evaluating relevance.\n",
    "\n",
    "Instructions:\n",
    "1. First write down the steps that are needed to evaluate the context as per the metric.\n",
    "2. Give a step-by-step explanation if the context adheres to the metric considering the question as the input.\n",
    "3. Next, evaluate the extent to which the metric is followed.\n",
    "4. Use the previous information to rate the context using the evaluaton criteria and assign a score.\n",
    "\"\"\""
   ]
  },
  {
   "cell_type": "code",
   "execution_count": null,
   "metadata": {},
   "outputs": [],
   "source": [
    "user_message_template = \"\"\"\n",
    "###Question\n",
    "{question}\n",
    "\n",
    "###Context\n",
    "{context}\n",
    "\n",
    "###Answer\n",
    "{answer}\n",
    "\"\"\""
   ]
  },
  {
   "cell_type": "markdown",
   "metadata": {
    "id": "3tk2zyUhipZy"
   },
   "source": [
    "### Defining the Evaluation Function"
   ]
  },
  {
   "cell_type": "code",
   "execution_count": null,
   "metadata": {},
   "outputs": [],
   "source": [
    "def generate_ground_relevance_response(user_input,k=3,max_tokens=128,temperature=0,top_p=0.95,top_k=50):\n",
    "    global qna_system_message,qna_user_message_template\n",
    "    # Retrieve relevant document chunks\n",
    "    relevant_document_chunks = retriever.get_relevant_documents(query=user_input,k=3)\n",
    "    context_list = [d.page_content for d in relevant_document_chunks]\n",
    "    context_for_query = \". \".join(context_list)\n",
    "\n",
    "    # Combine user_prompt and system_message to create the prompt\n",
    "    prompt = f\"\"\"[INST]{qna_system_message}\\n\n",
    "                {'user'}: {qna_user_message_template.format(context=context_for_query, question=user_input)}\n",
    "                [/INST]\"\"\"\n",
    "\n",
    "    response = llm(\n",
    "            prompt=prompt,\n",
    "            max_tokens=max_tokens,\n",
    "            temperature=temperature,\n",
    "            top_p=top_p,\n",
    "            top_k=top_k,\n",
    "            stop=['INST'],\n",
    "            echo=False\n",
    "            )\n",
    "\n",
    "    answer =  response[\"choices\"][0][\"text\"]\n",
    "\n",
    "    # Combine user_prompt and system_message to create the prompt\n",
    "    groundedness_prompt = f\"\"\"[INST]{groundedness_rater_system_message}\\n\n",
    "                {'user'}: {user_message_template.format(context=context_for_query, question=user_input, answer=answer)}\n",
    "                [/INST]\"\"\"\n",
    "\n",
    "    # Combine user_prompt and system_message to create the prompt\n",
    "    relevance_prompt = f\"\"\"[INST]{relevance_rater_system_message}\\n\n",
    "                {'user'}: {user_message_template.format(context=context_for_query, question=user_input, answer=answer)}\n",
    "                [/INST]\"\"\"\n",
    "\n",
    "    response_1 = llm(\n",
    "            prompt=groundedness_prompt,\n",
    "            max_tokens=max_tokens,\n",
    "            temperature=temperature,\n",
    "            top_p=top_p,\n",
    "            top_k=top_k,\n",
    "            stop=['INST'],\n",
    "            echo=False\n",
    "            )\n",
    "\n",
    "    response_2 = llm(\n",
    "            prompt=relevance_prompt,\n",
    "            max_tokens=max_tokens,\n",
    "            temperature=temperature,\n",
    "            top_p=top_p,\n",
    "            top_k=top_k,\n",
    "            stop=['INST'],\n",
    "            echo=False\n",
    "            )\n",
    "\n",
    "    return response_1['choices'][0]['text'],response_2['choices'][0]['text']"
   ]
  },
  {
   "cell_type": "markdown",
   "metadata": {
    "id": "f6qxqyJLYA2x"
   },
   "source": [
    "### Query 1: What is the protocol for managing sepsis in a critical care unit?"
   ]
  },
  {
   "cell_type": "code",
   "execution_count": null,
   "metadata": {},
   "outputs": [],
   "source": [
    "user_input_relevance1 = \"What is the protocol for managing sepsis in a critical care unit?\"\n",
    "ground,rel = generate_ground_relevance_response(user_input_relevance1, max_tokens=512)\n",
    "\n",
    "print(ground,end=\"\\n\\n\")\n",
    "print(rel)"
   ]
  },
  {
   "cell_type": "markdown",
   "metadata": {
    "id": "QwpAVHXK16aU"
   },
   "source": [
    "- We got a score of 4 overall ie The metric is followed mostly.  \n",
    "- This means that both the retrieval and augmentation parts are good but may need to improve the hyperparameters."
   ]
  },
  {
   "cell_type": "markdown",
   "metadata": {
    "id": "7A60Q6x3YA2y"
   },
   "source": [
    "### Query 2: What are the common symptoms for appendicitis, and can it be cured via medicine? If not, what surgical procedure should be followed to treat it?"
   ]
  },
  {
   "cell_type": "code",
   "execution_count": null,
   "metadata": {},
   "outputs": [],
   "source": [
    "user_input_relevance2 = \"What are the common symptoms for appendicitis, and can it be cured via medicine? If not, what surgical procedure should be followed to treat it?\"\n",
    "ground,rel = generate_ground_relevance_response(user_input_relevance2, max_tokens=512)\n",
    "\n",
    "print(ground,end=\"\\n\\n\")\n",
    "print(rel)"
   ]
  },
  {
   "cell_type": "markdown",
   "metadata": {
    "id": "XZHckqG0193C"
   },
   "source": [
    "- We got an overall score of 3: following the metric to a good extent, which is not great.   \n",
    "- This means that both the retrieval and augmentation parts needs to be further fine tuned to get better parameters."
   ]
  },
  {
   "cell_type": "markdown",
   "metadata": {
    "id": "ZmYnriTdYA2z"
   },
   "source": [
    "### Query 3: What are the effective treatments or solutions for addressing sudden patchy hair loss, commonly seen as localized bald spots on the scalp, and what could be the possible causes behind it?"
   ]
  },
  {
   "cell_type": "code",
   "execution_count": null,
   "metadata": {},
   "outputs": [],
   "source": [
    "user_input_relevance3 = \"What are the effective treatments or solutions for addressing sudden patchy hair loss, commonly seen as localized bald spots on the scalp, and what could be the possible causes behind it?\"\n",
    "ground,rel = generate_ground_relevance_response(user_input_relevance3,max_tokens=512)\n",
    "\n",
    "print(ground,end=\"\\n\\n\")\n",
    "print(rel)"
   ]
  },
  {
   "cell_type": "markdown",
   "metadata": {
    "id": "BFH4aSBL2BGA"
   },
   "source": [
    "- It got a perfect score because the response is both grounded in the context and relevant to the query.  \n",
    "- This means that both the retrieval and augmentation parts are good."
   ]
  },
  {
   "cell_type": "markdown",
   "metadata": {
    "id": "jz-lGsVxYA2z"
   },
   "source": [
    "### Query 4: What treatments are recommended for a person who has sustained a physical injury to brain tissue, resulting in temporary or permanent impairment of brain function?"
   ]
  },
  {
   "cell_type": "code",
   "execution_count": null,
   "metadata": {},
   "outputs": [],
   "source": [
    "user_input_relevance4 = \"What treatments are recommended for a person who has sustained a physical injury to brain tissue, resulting in temporary or permanent impairment of brain function?\"\n",
    "ground,rel = generate_ground_relevance_response(user_input_relevance4, max_tokens=512)\n",
    "\n",
    "print(ground,end=\"\\n\\n\")\n",
    "print(rel)"
   ]
  },
  {
   "cell_type": "markdown",
   "metadata": {
    "id": "7GhQ-tqF2FD0"
   },
   "source": [
    "- It again got a perfect score because the response is both grounded in the context and relevant to the query.  \n",
    "- This means that both the retrieval and augmentation parts are good."
   ]
  },
  {
   "cell_type": "markdown",
   "metadata": {
    "id": "x2WxSxzDYA2z"
   },
   "source": [
    "### Query 5: What are the necessary precautions and treatment steps for a person who has fractured their leg during a hiking trip, and what should be considered for their care and recovery?"
   ]
  },
  {
   "cell_type": "code",
   "execution_count": null,
   "metadata": {},
   "outputs": [],
   "source": [
    "user_input_relevance5 = \"What are the necessary precautions and treatment steps for a person who has fractured their leg during a hiking trip, and what should be considered for their care and recovery?\"\n",
    "ground,rel = generate_ground_relevance_response(user_input_relevance5, max_tokens=512)\n",
    "\n",
    "print(ground,end=\"\\n\\n\")\n",
    "print(rel)"
   ]
  },
  {
   "cell_type": "markdown",
   "metadata": {
    "id": "oa6lyHGM2Hoc"
   },
   "source": [
    "- It got an overall mostly followed score 4, for some reason the ground truth was not perfectly matched the context and query. May require a bit of fine tuning.   \n",
    "- This means that both the retrieval and augmentation parts performed averaged."
   ]
  },
  {
   "cell_type": "markdown",
   "metadata": {
    "id": "1t8QwdygQObB"
   },
   "source": [
    "**Insights**:\n",
    "- **Groundedness** ensures responses align with the Merck Manual, critical for medical accuracy.\n",
    "- **Relevance** confirms the RAG system addresses the question directly.\n",
    "- Scores (3-4 for groundedness) highlight areas for improvement, such as missing context or minor hallucinations.\n",
    "- Fine-tuned responses with smaller chunks may score higher for groundedness due to precise retrieval."
   ]
  },
  {
   "cell_type": "markdown",
   "metadata": {
    "id": "Y7QICRU-njdj"
   },
   "source": [
    "## Actionable Insights and Business Recommendations"
   ]
  },
  {
   "cell_type": "markdown",
   "metadata": {
    "id": "A6tdHc-uGqNi"
   },
   "source": [
    "**Observations:**\n",
    "*   RAG enhances diagnostic accuracy by grounding responses in real medical text.\n",
    "\n",
    "* Prompt engineering significantly improves clarity and reduces hallucinations.\n",
    "\n",
    "* Increasing k in retrieval gives more context but may introduce irrelevant data—ideal k found to be in between 20 - 50.\n",
    "\n",
    "**Recommendations:**\n",
    "* Clinical Integration: Deploy RAG as a microservice accessible via internal interfaces.\n",
    "\n",
    "* Continual Updates: Schedule ingestion of updated manuals quarterly for reliability.\n",
    "\n",
    "* On-Device RAG: For emergency mobile/remote access, lightweight distilled models with quantized vector stores.\n",
    "\n",
    "* Training Staff: Train clinical staff on AI interpretation boundaries to avoid blind trust.\n",
    "\n",
    "* Compliance: Ensure HIPAA compliance and audit trails in AI-assisted decision-making.\n",
    "\n",
    "**Key Takeaways**:\n",
    "1. **Reduced Information Overload**: The RAG system efficiently retrieves relevant information from a 4,114-page manual, reducing the time clinicians spend searching for answers.\n",
    "2. **Improved Decision-Making**: Accurate responses to critical questions (e.g., sepsis protocol) support timely interventions, potentially saving lives.\n",
    "3. **Standardized Care**: By grounding responses in the Merck Manual, the system ensures consistent, evidence-based answers, reducing variability in care practices.\n",
    "4. **Scalable Solution**: The modular RAG pipeline can integrate additional medical texts or be deployed in clinical settings with minimal reconfiguration.\n",
    "\n",
    "**Business Recommendations**:\n",
    "1. **Integrate with Clinical Systems**: Embed the RAG system into electronic health record platforms to provide real-time decision support during patient consultations.\n",
    "2. **Expand Knowledge Base**: Incorporate additional trusted sources to enhance coverage and robustness.\n",
    "3. **User Training**: Train healthcare providers on using the system via intuitive interfaces (e.g., mobile apps) to maximize adoption.\n",
    "4. **Continuous Evaluation**: Implement feedback loops with clinicians to refine prompts and fine-tune parameters based on real-world usage.\n",
    "5. **Regulatory Compliance**: Ensure HIPAA compliance and FDA validation for clinical deployment to maintain trust and legal adherence.\n",
    "\n",
    "**Conclusion**:\n",
    "The RAG-based AI solution effectively addresses healthcare challenges by providing a scalable, accurate, and efficient tool for accessing medical knowledge. By reducing information overload and supporting evidence-based decision-making, it has the potential to improve patient outcomes and standardize care practices, delivering significant value to healthcare organizations."
   ]
  },
  {
   "cell_type": "markdown",
   "metadata": {
    "id": "OE6525ce0Js1"
   },
   "source": [
    "### Converting to HTML"
   ]
  },
  {
   "cell_type": "code",
   "execution_count": null,
   "metadata": {},
   "outputs": [],
   "source": [
    "!pip install nbconvert"
   ]
  },
  {
   "cell_type": "code",
   "execution_count": null,
   "metadata": {},
   "outputs": [],
   "source": [
    "!jupyter nbconvert --clear-output --inplace NLP_RAG_Medical_Assistant_AdnanNasir.ipynb"
   ]
  },
  {
   "cell_type": "code",
   "execution_count": null,
   "metadata": {},
   "outputs": [],
   "source": [
    "!jupyter nbconvert NLP_RAG_Medical_Assistant_AdnanNasir.ipynb --to html"
   ]
  },
  {
   "cell_type": "code",
   "execution_count": null,
   "metadata": {},
   "outputs": [],
   "source": [
    "from IPython.display import Javascript\n",
    "\n",
    "# Clears widget states from notebook metadata\n",
    "Javascript('''\n",
    "    const cells = Jupyter.notebook.get_cells();\n",
    "    for (let cell of cells) {\n",
    "        if (cell.output_area?.outputs) {\n",
    "            for (let output of cell.output_area.outputs) {\n",
    "                if (output.data?.['application/vnd.jupyter.widget-state+json']) {\n",
    "                    delete output.data['application/vnd.jupyter.widget-state+json'];\n",
    "                }\n",
    "            }\n",
    "        }\n",
    "    }\n",
    "''')\n",
    "\n",
    "# Save the notebook after clearing\n",
    "Javascript('Jupyter.notebook.save_checkpoint();')"
   ]
  },
  {
   "cell_type": "markdown",
   "metadata": {
    "id": "ybRlzaIhWaM9"
   },
   "source": [
    "<font size=6 color='blue'>Power Ahead</font>\n",
    "___"
   ]
  }
 ],
 "metadata": {
  "language_info": {
   "name": "python"
  }
 },
 "nbformat": 4,
 "nbformat_minor": 0
}
