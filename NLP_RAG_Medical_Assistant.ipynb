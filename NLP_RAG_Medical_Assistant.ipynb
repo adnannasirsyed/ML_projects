{
  "cells": [
    {
      "cell_type": "markdown",
      "metadata": {
        "id": "view-in-github",
        "colab_type": "text"
      },
      "source": [
        "<a href=\"https://colab.research.google.com/github/adnannasirsyed/ML_projects/blob/main/NLP_RAG_Medical_Assistant.ipynb\" target=\"_parent\"><img src=\"https://colab.research.google.com/assets/colab-badge.svg\" alt=\"Open In Colab\"/></a>"
      ]
    },
    {
      "cell_type": "markdown",
      "metadata": {
        "id": "3CNz35ia6Bz3"
      },
      "source": [
        "## Problem Statement"
      ]
    },
    {
      "cell_type": "markdown",
      "metadata": {
        "id": "CkRbhMJH6Bz3"
      },
      "source": [
        "### Business Context"
      ]
    },
    {
      "cell_type": "markdown",
      "metadata": {
        "id": "3PBm5xaj6Bz3"
      },
      "source": [
        "The healthcare industry is rapidly evolving, with professionals facing increasing challenges in managing vast volumes of medical data while delivering accurate and timely diagnoses. The need for quick access to comprehensive, reliable, and up-to-date medical knowledge is critical for improving patient outcomes and ensuring informed decision-making in a fast-paced environment.\n",
        "\n",
        "Healthcare professionals often encounter information overload, struggling to sift through extensive research and data to create accurate diagnoses and treatment plans. This challenge is amplified by the need for efficiency, particularly in emergencies, where time-sensitive decisions are vital. Furthermore, access to trusted, current medical information from renowned manuals and research papers is essential for maintaining high standards of care.\n",
        "\n",
        "To address these challenges, healthcare centers can focus on integrating systems that streamline access to medical knowledge, provide tools to support quick decision-making, and enhance efficiency. Leveraging centralized knowledge platforms and ensuring healthcare providers have continuous access to reliable resources can significantly improve patient care and operational effectiveness."
      ]
    },
    {
      "cell_type": "markdown",
      "metadata": {
        "id": "1xDPsqvO6Bz5"
      },
      "source": [
        "**Common Questions to Answer**\n",
        "\n",
        "**1. Diagnostic Assistance**: \"What are the common symptoms and treatments for pulmonary embolism?\"\n",
        "\n",
        "**2. Drug Information**: \"Can you provide the trade names of medications used for treating hypertension?\"\n",
        "\n",
        "**3. Treatment Plans**: \"What are the first-line options and alternatives for managing rheumatoid arthritis?\"\n",
        "\n",
        "**4. Specialty Knowledge**: \"What are the diagnostic steps for suspected endocrine disorders?\"\n",
        "\n",
        "**5. Critical Care Protocols**: \"What is the protocol for managing sepsis in a critical care unit?\""
      ]
    },
    {
      "cell_type": "markdown",
      "metadata": {
        "id": "CARPKFwm6Bz4"
      },
      "source": [
        "### Objective"
      ]
    },
    {
      "cell_type": "markdown",
      "metadata": {
        "id": "dOElOEXq6Bz4"
      },
      "source": [
        "As an AI specialist, your task is to develop a RAG-based AI solution using renowned medical manuals to address healthcare challenges. The objective is to **understand** issues like information overload, **apply** AI techniques to streamline decision-making, **analyze** its impact on diagnostics and patient outcomes, **evaluate** its potential to standardize care practices, and **create** a functional prototype demonstrating its feasibility and effectiveness."
      ]
    },
    {
      "cell_type": "markdown",
      "metadata": {
        "id": "by9EvAnkSpZf"
      },
      "source": [
        "### Data Description"
      ]
    },
    {
      "cell_type": "markdown",
      "metadata": {
        "id": "Jw5LievCSru2"
      },
      "source": [
        "The **Merck Manuals** are medical references published by the American pharmaceutical company Merck & Co., that cover a wide range of medical topics, including disorders, tests, diagnoses, and drugs. The manuals have been published since 1899, when Merck & Co. was still a subsidiary of the German company Merck.\n",
        "\n",
        "The manual is provided as a PDF with over 4,000 pages divided into 23 sections."
      ]
    },
    {
      "cell_type": "markdown",
      "source": [
        "**Revised Problem Statement:**\n",
        "\n",
        "Healthcare professionals struggle to efficiently navigate the vast and complex medical literature, such as the Merck Manual, leading to information overload and delayed decision-making. This project develops a Retrieval-Augmented Generation (RAG)-based AI solution to streamline access to accurate, up-to-date medical knowledge. By leveraging advanced NLP techniques—including large language models, embeddings, and vector databases—the system will provide precise answers to critical medical queries, assess response quality, and deliver actionable insights. The goal is to enhance diagnostic accuracy, standardize care, and improve operational efficiency in healthcare settings."
      ],
      "metadata": {
        "id": "6-1QO_RdHGy-"
      }
    },
    {
      "cell_type": "markdown",
      "source": [
        "**Steps to Create and Evaluate RAG:**\n",
        "- **Install and Import Libraries:** Set up the Google Colab environment with necessary libraries for PDF processing, NLP, embeddings, vector databases, and LLMs.\n",
        "- **Load PDF Data:** Extract text from the Merck Manual PDF using a robust PDF reader.\n",
        "- **Exploratory Data Analysis (EDA):** Analyze the PDF structure, page count, and content distribution to understand the data.\n",
        "- **Data Chunking:** Split the PDF text into manageable chunks for efficient retrieval.\n",
        "- **Embedding Generation:** Use a SentenceTransformer model to create embeddings for the text chunks.\n",
        "- **Vector Database Setup:** Store embeddings in a Chroma vector database with cosine similarity search.\n",
        "- **Retriever Configuration:** Define a retriever to fetch relevant chunks based on query similarity.\n",
        "- **Load LLM:** Download and configure the Mistral-7B-Instruct model for response generation.\n",
        "- **Define Prompt Templates:** Create system and user prompts to guide the LLM in generating accurate responses.\n",
        "- **Response Generation Function:** Build a function to combine retrieved context and LLM for question answering.\n",
        "-**Question Answering with RAG:** Answer the five provided medical questions using the RAG pipeline.\n",
        "- **Fine-Tune Parameters:** Experiment with at least five combinations of chunking, retriever, and LLM parameters (e.g., chunk size, k value, temperature, top_p).\n",
        "- **Output Evaluation:** Use \"**LLM-as-a-Judge**\" to evaluate responses for groundedness and relevance with defined prompts.\n",
        "- **Business Insights and Recommendations:** Summarize key takeaways and provide actionable recommendations for healthcare stakeholders."
      ],
      "metadata": {
        "id": "xLSS0HCBHNdk"
      }
    },
    {
      "cell_type": "markdown",
      "metadata": {
        "id": "lnwETBOE6Bz5"
      },
      "source": [
        "## Installing and Importing Necessary Libraries and Dependencies"
      ]
    },
    {
      "cell_type": "code",
      "source": [
        "# Installation for GPU llama-cpp-python\n",
        "!pip install huggingface_hub pandas tiktoken pymupdf langchain langchain-community chromadb sentence-transformers \"numpy<2\" -q\n",
        "!CMAKE_ARGS=\"-DLLAMA_CUBLAS=on\" pip install --no-cache-dir llama-cpp-python==0.2.77 --extra-index-url https://abetlen.github.io/llama-cpp-python/whl/cu124\n",
        "\n",
        "# Installation for CPU llama-cpp-python\n",
        "# uncomment and run the following code in case GPU is not being used\n",
        "# !CMAKE_ARGS=\"-DLLAMA_CUBLAS=off\" FORCE_CMAKE=1 pip install llama-cpp-python==0.1.85 --force-reinstall --no-cache-dir -q"
      ],
      "metadata": {
        "colab": {
          "base_uri": "https://localhost:8080/"
        },
        "id": "nhbo_KzFIekC",
        "outputId": "d2a6de5b-2411-48c5-fca5-785fc5df8fe5"
      },
      "execution_count": 1,
      "outputs": [
        {
          "output_type": "stream",
          "name": "stdout",
          "text": [
            "\u001b[2K     \u001b[90m━━━━━━━━━━━━━━━━━━━━━━━━━━━━━━━━━━━━━━━━\u001b[0m \u001b[32m61.0/61.0 kB\u001b[0m \u001b[31m2.6 MB/s\u001b[0m eta \u001b[36m0:00:00\u001b[0m\n",
            "\u001b[2K     \u001b[90m━━━━━━━━━━━━━━━━━━━━━━━━━━━━━━━━━━━━━━━━\u001b[0m \u001b[32m67.3/67.3 kB\u001b[0m \u001b[31m3.4 MB/s\u001b[0m eta \u001b[36m0:00:00\u001b[0m\n",
            "\u001b[?25h  Installing build dependencies ... \u001b[?25l\u001b[?25hdone\n",
            "  Getting requirements to build wheel ... \u001b[?25l\u001b[?25hdone\n",
            "  Preparing metadata (pyproject.toml) ... \u001b[?25l\u001b[?25hdone\n",
            "\u001b[2K   \u001b[90m━━━━━━━━━━━━━━━━━━━━━━━━━━━━━━━━━━━━━━━━\u001b[0m \u001b[32m24.1/24.1 MB\u001b[0m \u001b[31m103.0 MB/s\u001b[0m eta \u001b[36m0:00:00\u001b[0m\n",
            "\u001b[2K   \u001b[90m━━━━━━━━━━━━━━━━━━━━━━━━━━━━━━━━━━━━━━━━\u001b[0m \u001b[32m2.5/2.5 MB\u001b[0m \u001b[31m106.3 MB/s\u001b[0m eta \u001b[36m0:00:00\u001b[0m\n",
            "\u001b[2K   \u001b[90m━━━━━━━━━━━━━━━━━━━━━━━━━━━━━━━━━━━━━━━━\u001b[0m \u001b[32m1.0/1.0 MB\u001b[0m \u001b[31m62.1 MB/s\u001b[0m eta \u001b[36m0:00:00\u001b[0m\n",
            "\u001b[2K   \u001b[90m━━━━━━━━━━━━━━━━━━━━━━━━━━━━━━━━━━━━━━━━\u001b[0m \u001b[32m19.3/19.3 MB\u001b[0m \u001b[31m112.2 MB/s\u001b[0m eta \u001b[36m0:00:00\u001b[0m\n",
            "\u001b[2K   \u001b[90m━━━━━━━━━━━━━━━━━━━━━━━━━━━━━━━━━━━━━━━━\u001b[0m \u001b[32m18.3/18.3 MB\u001b[0m \u001b[31m116.0 MB/s\u001b[0m eta \u001b[36m0:00:00\u001b[0m\n",
            "\u001b[2K   \u001b[90m━━━━━━━━━━━━━━━━━━━━━━━━━━━━━━━━━━━━━━━━\u001b[0m \u001b[32m284.2/284.2 kB\u001b[0m \u001b[31m25.4 MB/s\u001b[0m eta \u001b[36m0:00:00\u001b[0m\n",
            "\u001b[2K   \u001b[90m━━━━━━━━━━━━━━━━━━━━━━━━━━━━━━━━━━━━━━━━\u001b[0m \u001b[32m1.9/1.9 MB\u001b[0m \u001b[31m87.1 MB/s\u001b[0m eta \u001b[36m0:00:00\u001b[0m\n",
            "\u001b[2K   \u001b[90m━━━━━━━━━━━━━━━━━━━━━━━━━━━━━━━━━━━━━━━━\u001b[0m \u001b[32m438.9/438.9 kB\u001b[0m \u001b[31m40.9 MB/s\u001b[0m eta \u001b[36m0:00:00\u001b[0m\n",
            "\u001b[2K   \u001b[90m━━━━━━━━━━━━━━━━━━━━━━━━━━━━━━━━━━━━━━━━\u001b[0m \u001b[32m101.6/101.6 kB\u001b[0m \u001b[31m9.7 MB/s\u001b[0m eta \u001b[36m0:00:00\u001b[0m\n",
            "\u001b[2K   \u001b[90m━━━━━━━━━━━━━━━━━━━━━━━━━━━━━━━━━━━━━━━━\u001b[0m \u001b[32m16.4/16.4 MB\u001b[0m \u001b[31m121.3 MB/s\u001b[0m eta \u001b[36m0:00:00\u001b[0m\n",
            "\u001b[2K   \u001b[90m━━━━━━━━━━━━━━━━━━━━━━━━━━━━━━━━━━━━━━━━\u001b[0m \u001b[32m65.8/65.8 kB\u001b[0m \u001b[31m6.2 MB/s\u001b[0m eta \u001b[36m0:00:00\u001b[0m\n",
            "\u001b[2K   \u001b[90m━━━━━━━━━━━━━━━━━━━━━━━━━━━━━━━━━━━━━━━━\u001b[0m \u001b[32m55.7/55.7 kB\u001b[0m \u001b[31m5.2 MB/s\u001b[0m eta \u001b[36m0:00:00\u001b[0m\n",
            "\u001b[2K   \u001b[90m━━━━━━━━━━━━━━━━━━━━━━━━━━━━━━━━━━━━━━━━\u001b[0m \u001b[32m118.5/118.5 kB\u001b[0m \u001b[31m11.5 MB/s\u001b[0m eta \u001b[36m0:00:00\u001b[0m\n",
            "\u001b[2K   \u001b[90m━━━━━━━━━━━━━━━━━━━━━━━━━━━━━━━━━━━━━━━━\u001b[0m \u001b[32m196.2/196.2 kB\u001b[0m \u001b[31m19.7 MB/s\u001b[0m eta \u001b[36m0:00:00\u001b[0m\n",
            "\u001b[2K   \u001b[90m━━━━━━━━━━━━━━━━━━━━━━━━━━━━━━━━━━━━━━━━\u001b[0m \u001b[32m105.4/105.4 kB\u001b[0m \u001b[31m10.6 MB/s\u001b[0m eta \u001b[36m0:00:00\u001b[0m\n",
            "\u001b[2K   \u001b[90m━━━━━━━━━━━━━━━━━━━━━━━━━━━━━━━━━━━━━━━━\u001b[0m \u001b[32m71.2/71.2 kB\u001b[0m \u001b[31m6.9 MB/s\u001b[0m eta \u001b[36m0:00:00\u001b[0m\n",
            "\u001b[2K   \u001b[90m━━━━━━━━━━━━━━━━━━━━━━━━━━━━━━━━━━━━━━━━\u001b[0m \u001b[32m45.2/45.2 kB\u001b[0m \u001b[31m4.1 MB/s\u001b[0m eta \u001b[36m0:00:00\u001b[0m\n",
            "\u001b[2K   \u001b[90m━━━━━━━━━━━━━━━━━━━━━━━━━━━━━━━━━━━━━━━━\u001b[0m \u001b[32m363.4/363.4 MB\u001b[0m \u001b[31m2.8 MB/s\u001b[0m eta \u001b[36m0:00:00\u001b[0m\n",
            "\u001b[2K   \u001b[90m━━━━━━━━━━━━━━━━━━━━━━━━━━━━━━━━━━━━━━━━\u001b[0m \u001b[32m13.8/13.8 MB\u001b[0m \u001b[31m109.4 MB/s\u001b[0m eta \u001b[36m0:00:00\u001b[0m\n",
            "\u001b[2K   \u001b[90m━━━━━━━━━━━━━━━━━━━━━━━━━━━━━━━━━━━━━━━━\u001b[0m \u001b[32m24.6/24.6 MB\u001b[0m \u001b[31m99.7 MB/s\u001b[0m eta \u001b[36m0:00:00\u001b[0m\n",
            "\u001b[2K   \u001b[90m━━━━━━━━━━━━━━━━━━━━━━━━━━━━━━━━━━━━━━━━\u001b[0m \u001b[32m883.7/883.7 kB\u001b[0m \u001b[31m59.3 MB/s\u001b[0m eta \u001b[36m0:00:00\u001b[0m\n",
            "\u001b[2K   \u001b[90m━━━━━━━━━━━━━━━━━━━━━━━━━━━━━━━━━━━━━━━━\u001b[0m \u001b[32m664.8/664.8 MB\u001b[0m \u001b[31m1.7 MB/s\u001b[0m eta \u001b[36m0:00:00\u001b[0m\n",
            "\u001b[2K   \u001b[90m━━━━━━━━━━━━━━━━━━━━━━━━━━━━━━━━━━━━━━━━\u001b[0m \u001b[32m211.5/211.5 MB\u001b[0m \u001b[31m11.5 MB/s\u001b[0m eta \u001b[36m0:00:00\u001b[0m\n",
            "\u001b[2K   \u001b[90m━━━━━━━━━━━━━━━━━━━━━━━━━━━━━━━━━━━━━━━━\u001b[0m \u001b[32m56.3/56.3 MB\u001b[0m \u001b[31m42.2 MB/s\u001b[0m eta \u001b[36m0:00:00\u001b[0m\n",
            "\u001b[2K   \u001b[90m━━━━━━━━━━━━━━━━━━━━━━━━━━━━━━━━━━━━━━━━\u001b[0m \u001b[32m127.9/127.9 MB\u001b[0m \u001b[31m19.3 MB/s\u001b[0m eta \u001b[36m0:00:00\u001b[0m\n",
            "\u001b[2K   \u001b[90m━━━━━━━━━━━━━━━━━━━━━━━━━━━━━━━━━━━━━━━━\u001b[0m \u001b[32m207.5/207.5 MB\u001b[0m \u001b[31m4.2 MB/s\u001b[0m eta \u001b[36m0:00:00\u001b[0m\n",
            "\u001b[2K   \u001b[90m━━━━━━━━━━━━━━━━━━━━━━━━━━━━━━━━━━━━━━━━\u001b[0m \u001b[32m21.1/21.1 MB\u001b[0m \u001b[31m107.3 MB/s\u001b[0m eta \u001b[36m0:00:00\u001b[0m\n",
            "\u001b[2K   \u001b[90m━━━━━━━━━━━━━━━━━━━━━━━━━━━━━━━━━━━━━━━━\u001b[0m \u001b[32m459.8/459.8 kB\u001b[0m \u001b[31m38.1 MB/s\u001b[0m eta \u001b[36m0:00:00\u001b[0m\n",
            "\u001b[2K   \u001b[90m━━━━━━━━━━━━━━━━━━━━━━━━━━━━━━━━━━━━━━━━\u001b[0m \u001b[32m50.9/50.9 kB\u001b[0m \u001b[31m4.4 MB/s\u001b[0m eta \u001b[36m0:00:00\u001b[0m\n",
            "\u001b[2K   \u001b[90m━━━━━━━━━━━━━━━━━━━━━━━━━━━━━━━━━━━━━━━━\u001b[0m \u001b[32m4.0/4.0 MB\u001b[0m \u001b[31m119.4 MB/s\u001b[0m eta \u001b[36m0:00:00\u001b[0m\n",
            "\u001b[2K   \u001b[90m━━━━━━━━━━━━━━━━━━━━━━━━━━━━━━━━━━━━━━━━\u001b[0m \u001b[32m453.1/453.1 kB\u001b[0m \u001b[31m35.4 MB/s\u001b[0m eta \u001b[36m0:00:00\u001b[0m\n",
            "\u001b[2K   \u001b[90m━━━━━━━━━━━━━━━━━━━━━━━━━━━━━━━━━━━━━━━━\u001b[0m \u001b[32m46.0/46.0 kB\u001b[0m \u001b[31m3.8 MB/s\u001b[0m eta \u001b[36m0:00:00\u001b[0m\n",
            "\u001b[2K   \u001b[90m━━━━━━━━━━━━━━━━━━━━━━━━━━━━━━━━━━━━━━━━\u001b[0m \u001b[32m86.8/86.8 kB\u001b[0m \u001b[31m8.2 MB/s\u001b[0m eta \u001b[36m0:00:00\u001b[0m\n",
            "\u001b[?25h  Building wheel for pypika (pyproject.toml) ... \u001b[?25l\u001b[?25hdone\n",
            "\u001b[31mERROR: pip's dependency resolver does not currently take into account all the packages that are installed. This behaviour is the source of the following dependency conflicts.\n",
            "thinc 8.3.6 requires numpy<3.0.0,>=2.0.0, but you have numpy 1.26.4 which is incompatible.\u001b[0m\u001b[31m\n",
            "\u001b[0mLooking in indexes: https://pypi.org/simple, https://abetlen.github.io/llama-cpp-python/whl/cu124\n",
            "Collecting llama-cpp-python==0.2.77\n",
            "  Downloading https://github.com/abetlen/llama-cpp-python/releases/download/v0.2.77-cu124/llama_cpp_python-0.2.77-cp311-cp311-linux_x86_64.whl (316.4 MB)\n",
            "\u001b[2K     \u001b[90m━━━━━━━━━━━━━━━━━━━━━━━━━━━━━━━━━━━━━\u001b[0m \u001b[32m316.4/316.4 MB\u001b[0m \u001b[31m263.8 MB/s\u001b[0m eta \u001b[36m0:00:00\u001b[0m\n",
            "\u001b[?25hRequirement already satisfied: typing-extensions>=4.5.0 in /usr/local/lib/python3.11/dist-packages (from llama-cpp-python==0.2.77) (4.14.0)\n",
            "Requirement already satisfied: numpy>=1.20.0 in /usr/local/lib/python3.11/dist-packages (from llama-cpp-python==0.2.77) (1.26.4)\n",
            "Collecting diskcache>=5.6.1 (from llama-cpp-python==0.2.77)\n",
            "  Downloading diskcache-5.6.3-py3-none-any.whl.metadata (20 kB)\n",
            "Requirement already satisfied: jinja2>=2.11.3 in /usr/local/lib/python3.11/dist-packages (from llama-cpp-python==0.2.77) (3.1.6)\n",
            "Requirement already satisfied: MarkupSafe>=2.0 in /usr/local/lib/python3.11/dist-packages (from jinja2>=2.11.3->llama-cpp-python==0.2.77) (3.0.2)\n",
            "Downloading diskcache-5.6.3-py3-none-any.whl (45 kB)\n",
            "\u001b[2K   \u001b[90m━━━━━━━━━━━━━━━━━━━━━━━━━━━━━━━━━━━━━━━━\u001b[0m \u001b[32m45.5/45.5 kB\u001b[0m \u001b[31m3.3 MB/s\u001b[0m eta \u001b[36m0:00:00\u001b[0m\n",
            "\u001b[?25hInstalling collected packages: diskcache, llama-cpp-python\n",
            "Successfully installed diskcache-5.6.3 llama-cpp-python-0.2.77\n"
          ]
        }
      ]
    },
    {
      "cell_type": "markdown",
      "source": [
        "**To compare \"Responses\" from LLM and RAG:**\n",
        "- We'll use the following metrics for comparison:\n",
        "\n",
        "1. Semantic Similarity (Cosine similarity using Sentence-BERT embeddings)\n",
        "  * Measures how close the meaning is to a reference.\n",
        "\n",
        "2. BLEU Score (N-gram overlap for fluency)\n",
        "  *  Evaluate fluency and overlap with a gold-standard answer.\n",
        "\n",
        "3. ROUGE Score (Recall-Oriented Understudy for Gisting Evaluation)\n",
        "  *  Evaluate fluency and overlap with a gold-standard answer.\n",
        "\n",
        "4. Readability (Flesch-Kincaid Grade Level)\n",
        "  * Checks how easily understandable the response is."
      ],
      "metadata": {
        "id": "QT5Fbyo4J8p_"
      }
    },
    {
      "cell_type": "code",
      "source": [
        "# package for comparison matrics\n",
        "!pip install sentence-transformers nltk rouge-score textstat tabulate\n",
        "\n",
        "# Download NLTK data (first-time only)\n",
        "import nltk\n",
        "nltk.download('punkt')\n",
        "nltk.download('punkt_tab') # Download punkt_tab for sentence tokenization"
      ],
      "metadata": {
        "colab": {
          "base_uri": "https://localhost:8080/"
        },
        "id": "AUP_xuvgJzun",
        "outputId": "2847f3da-0b45-4856-a928-c7d630dc4aad"
      },
      "execution_count": 2,
      "outputs": [
        {
          "output_type": "stream",
          "name": "stdout",
          "text": [
            "Requirement already satisfied: sentence-transformers in /usr/local/lib/python3.11/dist-packages (4.1.0)\n",
            "Requirement already satisfied: nltk in /usr/local/lib/python3.11/dist-packages (3.9.1)\n",
            "Collecting rouge-score\n",
            "  Downloading rouge_score-0.1.2.tar.gz (17 kB)\n",
            "  Preparing metadata (setup.py) ... \u001b[?25l\u001b[?25hdone\n",
            "Collecting textstat\n",
            "  Downloading textstat-0.7.7-py3-none-any.whl.metadata (15 kB)\n",
            "Requirement already satisfied: tabulate in /usr/local/lib/python3.11/dist-packages (0.9.0)\n",
            "Requirement already satisfied: transformers<5.0.0,>=4.41.0 in /usr/local/lib/python3.11/dist-packages (from sentence-transformers) (4.52.4)\n",
            "Requirement already satisfied: tqdm in /usr/local/lib/python3.11/dist-packages (from sentence-transformers) (4.67.1)\n",
            "Requirement already satisfied: torch>=1.11.0 in /usr/local/lib/python3.11/dist-packages (from sentence-transformers) (2.6.0+cu124)\n",
            "Requirement already satisfied: scikit-learn in /usr/local/lib/python3.11/dist-packages (from sentence-transformers) (1.6.1)\n",
            "Requirement already satisfied: scipy in /usr/local/lib/python3.11/dist-packages (from sentence-transformers) (1.15.3)\n",
            "Requirement already satisfied: huggingface-hub>=0.20.0 in /usr/local/lib/python3.11/dist-packages (from sentence-transformers) (0.33.0)\n",
            "Requirement already satisfied: Pillow in /usr/local/lib/python3.11/dist-packages (from sentence-transformers) (11.2.1)\n",
            "Requirement already satisfied: typing_extensions>=4.5.0 in /usr/local/lib/python3.11/dist-packages (from sentence-transformers) (4.14.0)\n",
            "Requirement already satisfied: click in /usr/local/lib/python3.11/dist-packages (from nltk) (8.2.1)\n",
            "Requirement already satisfied: joblib in /usr/local/lib/python3.11/dist-packages (from nltk) (1.5.1)\n",
            "Requirement already satisfied: regex>=2021.8.3 in /usr/local/lib/python3.11/dist-packages (from nltk) (2024.11.6)\n",
            "Requirement already satisfied: absl-py in /usr/local/lib/python3.11/dist-packages (from rouge-score) (1.4.0)\n",
            "Requirement already satisfied: numpy in /usr/local/lib/python3.11/dist-packages (from rouge-score) (1.26.4)\n",
            "Requirement already satisfied: six>=1.14.0 in /usr/local/lib/python3.11/dist-packages (from rouge-score) (1.17.0)\n",
            "Collecting pyphen (from textstat)\n",
            "  Downloading pyphen-0.17.2-py3-none-any.whl.metadata (3.2 kB)\n",
            "Collecting cmudict (from textstat)\n",
            "  Downloading cmudict-1.0.32-py3-none-any.whl.metadata (3.6 kB)\n",
            "Requirement already satisfied: setuptools in /usr/local/lib/python3.11/dist-packages (from textstat) (75.2.0)\n",
            "Requirement already satisfied: filelock in /usr/local/lib/python3.11/dist-packages (from huggingface-hub>=0.20.0->sentence-transformers) (3.18.0)\n",
            "Requirement already satisfied: fsspec>=2023.5.0 in /usr/local/lib/python3.11/dist-packages (from huggingface-hub>=0.20.0->sentence-transformers) (2025.3.2)\n",
            "Requirement already satisfied: packaging>=20.9 in /usr/local/lib/python3.11/dist-packages (from huggingface-hub>=0.20.0->sentence-transformers) (24.2)\n",
            "Requirement already satisfied: pyyaml>=5.1 in /usr/local/lib/python3.11/dist-packages (from huggingface-hub>=0.20.0->sentence-transformers) (6.0.2)\n",
            "Requirement already satisfied: requests in /usr/local/lib/python3.11/dist-packages (from huggingface-hub>=0.20.0->sentence-transformers) (2.32.3)\n",
            "Requirement already satisfied: hf-xet<2.0.0,>=1.1.2 in /usr/local/lib/python3.11/dist-packages (from huggingface-hub>=0.20.0->sentence-transformers) (1.1.3)\n",
            "Requirement already satisfied: networkx in /usr/local/lib/python3.11/dist-packages (from torch>=1.11.0->sentence-transformers) (3.5)\n",
            "Requirement already satisfied: jinja2 in /usr/local/lib/python3.11/dist-packages (from torch>=1.11.0->sentence-transformers) (3.1.6)\n",
            "Requirement already satisfied: nvidia-cuda-nvrtc-cu12==12.4.127 in /usr/local/lib/python3.11/dist-packages (from torch>=1.11.0->sentence-transformers) (12.4.127)\n",
            "Requirement already satisfied: nvidia-cuda-runtime-cu12==12.4.127 in /usr/local/lib/python3.11/dist-packages (from torch>=1.11.0->sentence-transformers) (12.4.127)\n",
            "Requirement already satisfied: nvidia-cuda-cupti-cu12==12.4.127 in /usr/local/lib/python3.11/dist-packages (from torch>=1.11.0->sentence-transformers) (12.4.127)\n",
            "Requirement already satisfied: nvidia-cudnn-cu12==9.1.0.70 in /usr/local/lib/python3.11/dist-packages (from torch>=1.11.0->sentence-transformers) (9.1.0.70)\n",
            "Requirement already satisfied: nvidia-cublas-cu12==12.4.5.8 in /usr/local/lib/python3.11/dist-packages (from torch>=1.11.0->sentence-transformers) (12.4.5.8)\n",
            "Requirement already satisfied: nvidia-cufft-cu12==11.2.1.3 in /usr/local/lib/python3.11/dist-packages (from torch>=1.11.0->sentence-transformers) (11.2.1.3)\n",
            "Requirement already satisfied: nvidia-curand-cu12==10.3.5.147 in /usr/local/lib/python3.11/dist-packages (from torch>=1.11.0->sentence-transformers) (10.3.5.147)\n",
            "Requirement already satisfied: nvidia-cusolver-cu12==11.6.1.9 in /usr/local/lib/python3.11/dist-packages (from torch>=1.11.0->sentence-transformers) (11.6.1.9)\n",
            "Requirement already satisfied: nvidia-cusparse-cu12==12.3.1.170 in /usr/local/lib/python3.11/dist-packages (from torch>=1.11.0->sentence-transformers) (12.3.1.170)\n",
            "Requirement already satisfied: nvidia-cusparselt-cu12==0.6.2 in /usr/local/lib/python3.11/dist-packages (from torch>=1.11.0->sentence-transformers) (0.6.2)\n",
            "Requirement already satisfied: nvidia-nccl-cu12==2.21.5 in /usr/local/lib/python3.11/dist-packages (from torch>=1.11.0->sentence-transformers) (2.21.5)\n",
            "Requirement already satisfied: nvidia-nvtx-cu12==12.4.127 in /usr/local/lib/python3.11/dist-packages (from torch>=1.11.0->sentence-transformers) (12.4.127)\n",
            "Requirement already satisfied: nvidia-nvjitlink-cu12==12.4.127 in /usr/local/lib/python3.11/dist-packages (from torch>=1.11.0->sentence-transformers) (12.4.127)\n",
            "Requirement already satisfied: triton==3.2.0 in /usr/local/lib/python3.11/dist-packages (from torch>=1.11.0->sentence-transformers) (3.2.0)\n",
            "Requirement already satisfied: sympy==1.13.1 in /usr/local/lib/python3.11/dist-packages (from torch>=1.11.0->sentence-transformers) (1.13.1)\n",
            "Requirement already satisfied: mpmath<1.4,>=1.1.0 in /usr/local/lib/python3.11/dist-packages (from sympy==1.13.1->torch>=1.11.0->sentence-transformers) (1.3.0)\n",
            "Requirement already satisfied: tokenizers<0.22,>=0.21 in /usr/local/lib/python3.11/dist-packages (from transformers<5.0.0,>=4.41.0->sentence-transformers) (0.21.1)\n",
            "Requirement already satisfied: safetensors>=0.4.3 in /usr/local/lib/python3.11/dist-packages (from transformers<5.0.0,>=4.41.0->sentence-transformers) (0.5.3)\n",
            "Requirement already satisfied: importlib-metadata>=5 in /usr/local/lib/python3.11/dist-packages (from cmudict->textstat) (8.7.0)\n",
            "Requirement already satisfied: importlib-resources>=5 in /usr/local/lib/python3.11/dist-packages (from cmudict->textstat) (6.5.2)\n",
            "Requirement already satisfied: threadpoolctl>=3.1.0 in /usr/local/lib/python3.11/dist-packages (from scikit-learn->sentence-transformers) (3.6.0)\n",
            "Requirement already satisfied: zipp>=3.20 in /usr/local/lib/python3.11/dist-packages (from importlib-metadata>=5->cmudict->textstat) (3.23.0)\n",
            "Requirement already satisfied: MarkupSafe>=2.0 in /usr/local/lib/python3.11/dist-packages (from jinja2->torch>=1.11.0->sentence-transformers) (3.0.2)\n",
            "Requirement already satisfied: charset-normalizer<4,>=2 in /usr/local/lib/python3.11/dist-packages (from requests->huggingface-hub>=0.20.0->sentence-transformers) (3.4.2)\n",
            "Requirement already satisfied: idna<4,>=2.5 in /usr/local/lib/python3.11/dist-packages (from requests->huggingface-hub>=0.20.0->sentence-transformers) (3.10)\n",
            "Requirement already satisfied: urllib3<3,>=1.21.1 in /usr/local/lib/python3.11/dist-packages (from requests->huggingface-hub>=0.20.0->sentence-transformers) (2.4.0)\n",
            "Requirement already satisfied: certifi>=2017.4.17 in /usr/local/lib/python3.11/dist-packages (from requests->huggingface-hub>=0.20.0->sentence-transformers) (2025.6.15)\n",
            "Downloading textstat-0.7.7-py3-none-any.whl (175 kB)\n",
            "\u001b[2K   \u001b[90m━━━━━━━━━━━━━━━━━━━━━━━━━━━━━━━━━━━━━━━━\u001b[0m \u001b[32m175.3/175.3 kB\u001b[0m \u001b[31m4.1 MB/s\u001b[0m eta \u001b[36m0:00:00\u001b[0m\n",
            "\u001b[?25hDownloading cmudict-1.0.32-py3-none-any.whl (939 kB)\n",
            "\u001b[2K   \u001b[90m━━━━━━━━━━━━━━━━━━━━━━━━━━━━━━━━━━━━━━━━\u001b[0m \u001b[32m939.4/939.4 kB\u001b[0m \u001b[31m28.5 MB/s\u001b[0m eta \u001b[36m0:00:00\u001b[0m\n",
            "\u001b[?25hDownloading pyphen-0.17.2-py3-none-any.whl (2.1 MB)\n",
            "\u001b[2K   \u001b[90m━━━━━━━━━━━━━━━━━━━━━━━━━━━━━━━━━━━━━━━━\u001b[0m \u001b[32m2.1/2.1 MB\u001b[0m \u001b[31m66.1 MB/s\u001b[0m eta \u001b[36m0:00:00\u001b[0m\n",
            "\u001b[?25hBuilding wheels for collected packages: rouge-score\n",
            "  Building wheel for rouge-score (setup.py) ... \u001b[?25l\u001b[?25hdone\n",
            "  Created wheel for rouge-score: filename=rouge_score-0.1.2-py3-none-any.whl size=24934 sha256=f6579ca94cc23ba81fc9ff57d2067f33dfa0440e4bdb71d4817ef4e391968fd4\n",
            "  Stored in directory: /root/.cache/pip/wheels/1e/19/43/8a442dc83660ca25e163e1bd1f89919284ab0d0c1475475148\n",
            "Successfully built rouge-score\n",
            "Installing collected packages: pyphen, rouge-score, cmudict, textstat\n",
            "Successfully installed cmudict-1.0.32 pyphen-0.17.2 rouge-score-0.1.2 textstat-0.7.7\n"
          ]
        },
        {
          "output_type": "stream",
          "name": "stderr",
          "text": [
            "[nltk_data] Downloading package punkt to /root/nltk_data...\n",
            "[nltk_data]   Unzipping tokenizers/punkt.zip.\n",
            "[nltk_data] Downloading package punkt_tab to /root/nltk_data...\n",
            "[nltk_data]   Unzipping tokenizers/punkt_tab.zip.\n"
          ]
        },
        {
          "output_type": "execute_result",
          "data": {
            "text/plain": [
              "True"
            ]
          },
          "metadata": {},
          "execution_count": 2
        }
      ]
    },
    {
      "cell_type": "markdown",
      "source": [
        "**Restart the Session before continuing**"
      ],
      "metadata": {
        "id": "pS7EI9d9uj1D"
      }
    },
    {
      "cell_type": "code",
      "execution_count": 1,
      "metadata": {
        "id": "RTY9GN4oWK3g",
        "colab": {
          "base_uri": "https://localhost:8080/"
        },
        "outputId": "e316c86c-4a99-4bd1-9a79-b10680c860ce"
      },
      "outputs": [
        {
          "output_type": "stream",
          "name": "stderr",
          "text": [
            "[nltk_data] Downloading package punkt to /root/nltk_data...\n",
            "[nltk_data]   Package punkt is already up-to-date!\n"
          ]
        }
      ],
      "source": [
        "#Libraries for processing dataframes,text\n",
        "import json,os\n",
        "import textstat # to compute readibility of the LLM responses\n",
        "## For comparison of LLMs and RAG\n",
        "from typing import Dict, List\n",
        "import numpy as np\n",
        "from sentence_transformers import SentenceTransformer\n",
        "from sklearn.metrics.pairwise import cosine_similarity\n",
        "import nltk\n",
        "from nltk.translate.bleu_score import sentence_bleu\n",
        "from rouge_score import rouge_scorer\n",
        "from tabulate import tabulate\n",
        "# Download NLTK data (first-time only)\n",
        "nltk.download('punkt')\n",
        "##\n",
        "import tiktoken\n",
        "import pandas as pd\n",
        "\n",
        "#Libraries for Loading Data, Chunking, Embedding, and Vector Databases\n",
        "from langchain.text_splitter import RecursiveCharacterTextSplitter\n",
        "from langchain_community.document_loaders import PyMuPDFLoader\n",
        "from langchain_community.embeddings.sentence_transformer import SentenceTransformerEmbeddings\n",
        "from langchain_community.vectorstores import Chroma # Chroma based on SQL Light\n",
        "\n",
        "#Libraries for downloading and loading the llm\n",
        "from huggingface_hub import hf_hub_download\n",
        "from llama_cpp import Llama"
      ]
    },
    {
      "cell_type": "markdown",
      "source": [
        "**Insights:**\n",
        "* PyMuPDF is chosen for fast and accurate PDF text extraction.\n",
        "* SentenceTransformers provides state-of-the-art embeddings for text similarity.\n",
        "* Chroma is a lightweight vector database suitable for in-memory storage.\n",
        "* LangChain simplifies RAG pipeline integration.\n",
        "* Bitsandbytes enables 4-bit quantization for efficient LLM inference on Colab’s GPU."
      ],
      "metadata": {
        "id": "mXgSE7w7S3xV"
      }
    },
    {
      "cell_type": "markdown",
      "metadata": {
        "id": "TtZWqj0wFTS1"
      },
      "source": [
        "## Question Answering using LLM"
      ]
    },
    {
      "cell_type": "markdown",
      "source": [
        "## **Loading the Large Language Model**"
      ],
      "metadata": {
        "id": "EE3zlbOt6L-D"
      }
    },
    {
      "cell_type": "markdown",
      "metadata": {
        "id": "Uq1lhM4WFTS2"
      },
      "source": [
        "#### Downloading and Loading the model"
      ]
    },
    {
      "cell_type": "code",
      "source": [
        "# # Model configuration\n",
        "# model_name_or_path = \"TheBloke/Llama-2-13B-chat-GGUF\"\n",
        "# model_basename = \"llama-2-13b-chat.Q5_K_M.gguf\"\n",
        "# model_path = hf_hub_download(\n",
        "#     repo_id=model_name_or_path,\n",
        "#     filename=model_basename\n",
        "#     )\n",
        "# or use this\n",
        "model_name_or_path = \"TheBloke/Mistral-7B-Instruct-v0.2-GGUF\"\n",
        "model_basename = \"mistral-7b-instruct-v0.2.Q6_K.gguf\"\n",
        "model_path = hf_hub_download(\n",
        "    repo_id=model_name_or_path,\n",
        "    filename=model_basename\n",
        "    )"
      ],
      "metadata": {
        "id": "dA3XQMWmQLJp",
        "colab": {
          "base_uri": "https://localhost:8080/",
          "height": 153,
          "referenced_widgets": [
            "38131f3c0a764682995d6f4e84d89500",
            "c77daa50af1c4655901709a34596dfa2",
            "0465bacf6aa141758a092b5a03e939ac",
            "1f08fc8c3f2842789f03fdb4c63f2828",
            "6bc3f9a69cee4818802858d54fe1f18d",
            "86cf3e0dc3c645aabad52a7baa09b4d3",
            "3251aab2d6a847a9ba96553222349dff",
            "54d2197309d24327b40d685d2d3824f7",
            "f2824050924f40578172f5a23cd8fc69",
            "2c29701f795a4714ba5ab3e0b1b9e199",
            "f5597bc6b0e449b6baf6ca191f561748"
          ]
        },
        "outputId": "82ff5f32-4e21-4f78-91e8-fffca4e9844b"
      },
      "execution_count": 2,
      "outputs": [
        {
          "output_type": "stream",
          "name": "stderr",
          "text": [
            "/usr/local/lib/python3.11/dist-packages/huggingface_hub/utils/_auth.py:94: UserWarning: \n",
            "The secret `HF_TOKEN` does not exist in your Colab secrets.\n",
            "To authenticate with the Hugging Face Hub, create a token in your settings tab (https://huggingface.co/settings/tokens), set it as secret in your Google Colab and restart your session.\n",
            "You will be able to reuse this secret in all of your notebooks.\n",
            "Please note that authentication is recommended but still optional to access public models or datasets.\n",
            "  warnings.warn(\n"
          ]
        },
        {
          "output_type": "display_data",
          "data": {
            "text/plain": [
              "mistral-7b-instruct-v0.2.Q6_K.gguf:   0%|          | 0.00/5.94G [00:00<?, ?B/s]"
            ],
            "application/vnd.jupyter.widget-view+json": {
              "version_major": 2,
              "version_minor": 0,
              "model_id": "38131f3c0a764682995d6f4e84d89500"
            }
          },
          "metadata": {}
        }
      ]
    },
    {
      "cell_type": "code",
      "source": [
        "#uncomment the below snippet of code if the runtime is connected to GPU.\n",
        "llm = Llama(\n",
        "    model_path=model_path,\n",
        "    n_ctx=2300,\n",
        "    n_gpu_layers=38,\n",
        "    n_batch=512\n",
        ")\n",
        "\n",
        "#uncomment the below snippet of code if the runtime is connected to CPU only.\n",
        "#llm = Llama(\n",
        "#    model_path=model_path,\n",
        "#    n_ctx=1024,\n",
        "#    n_cores=-2\n",
        "#)"
      ],
      "metadata": {
        "colab": {
          "base_uri": "https://localhost:8080/"
        },
        "id": "m4Mh_BAECcvB",
        "outputId": "e5f3d5cf-144f-4e89-f273-c04e87518db0"
      },
      "execution_count": 3,
      "outputs": [
        {
          "output_type": "stream",
          "name": "stderr",
          "text": [
            "llama_model_loader: loaded meta data with 24 key-value pairs and 291 tensors from /root/.cache/huggingface/hub/models--TheBloke--Mistral-7B-Instruct-v0.2-GGUF/snapshots/3a6fbf4a41a1d52e415a4958cde6856d34b2db93/mistral-7b-instruct-v0.2.Q6_K.gguf (version GGUF V3 (latest))\n",
            "llama_model_loader: Dumping metadata keys/values. Note: KV overrides do not apply in this output.\n",
            "llama_model_loader: - kv   0:                       general.architecture str              = llama\n",
            "llama_model_loader: - kv   1:                               general.name str              = mistralai_mistral-7b-instruct-v0.2\n",
            "llama_model_loader: - kv   2:                       llama.context_length u32              = 32768\n",
            "llama_model_loader: - kv   3:                     llama.embedding_length u32              = 4096\n",
            "llama_model_loader: - kv   4:                          llama.block_count u32              = 32\n",
            "llama_model_loader: - kv   5:                  llama.feed_forward_length u32              = 14336\n",
            "llama_model_loader: - kv   6:                 llama.rope.dimension_count u32              = 128\n",
            "llama_model_loader: - kv   7:                 llama.attention.head_count u32              = 32\n",
            "llama_model_loader: - kv   8:              llama.attention.head_count_kv u32              = 8\n",
            "llama_model_loader: - kv   9:     llama.attention.layer_norm_rms_epsilon f32              = 0.000010\n",
            "llama_model_loader: - kv  10:                       llama.rope.freq_base f32              = 1000000.000000\n",
            "llama_model_loader: - kv  11:                          general.file_type u32              = 18\n",
            "llama_model_loader: - kv  12:                       tokenizer.ggml.model str              = llama\n",
            "llama_model_loader: - kv  13:                      tokenizer.ggml.tokens arr[str,32000]   = [\"<unk>\", \"<s>\", \"</s>\", \"<0x00>\", \"<...\n",
            "llama_model_loader: - kv  14:                      tokenizer.ggml.scores arr[f32,32000]   = [0.000000, 0.000000, 0.000000, 0.0000...\n",
            "llama_model_loader: - kv  15:                  tokenizer.ggml.token_type arr[i32,32000]   = [2, 3, 3, 6, 6, 6, 6, 6, 6, 6, 6, 6, ...\n",
            "llama_model_loader: - kv  16:                tokenizer.ggml.bos_token_id u32              = 1\n",
            "llama_model_loader: - kv  17:                tokenizer.ggml.eos_token_id u32              = 2\n",
            "llama_model_loader: - kv  18:            tokenizer.ggml.unknown_token_id u32              = 0\n",
            "llama_model_loader: - kv  19:            tokenizer.ggml.padding_token_id u32              = 0\n",
            "llama_model_loader: - kv  20:               tokenizer.ggml.add_bos_token bool             = true\n",
            "llama_model_loader: - kv  21:               tokenizer.ggml.add_eos_token bool             = false\n",
            "llama_model_loader: - kv  22:                    tokenizer.chat_template str              = {{ bos_token }}{% for message in mess...\n",
            "llama_model_loader: - kv  23:               general.quantization_version u32              = 2\n",
            "llama_model_loader: - type  f32:   65 tensors\n",
            "llama_model_loader: - type q6_K:  226 tensors\n",
            "llm_load_vocab: special tokens cache size = 259\n",
            "llm_load_vocab: token to piece cache size = 0.1637 MB\n",
            "llm_load_print_meta: format           = GGUF V3 (latest)\n",
            "llm_load_print_meta: arch             = llama\n",
            "llm_load_print_meta: vocab type       = SPM\n",
            "llm_load_print_meta: n_vocab          = 32000\n",
            "llm_load_print_meta: n_merges         = 0\n",
            "llm_load_print_meta: n_ctx_train      = 32768\n",
            "llm_load_print_meta: n_embd           = 4096\n",
            "llm_load_print_meta: n_head           = 32\n",
            "llm_load_print_meta: n_head_kv        = 8\n",
            "llm_load_print_meta: n_layer          = 32\n",
            "llm_load_print_meta: n_rot            = 128\n",
            "llm_load_print_meta: n_embd_head_k    = 128\n",
            "llm_load_print_meta: n_embd_head_v    = 128\n",
            "llm_load_print_meta: n_gqa            = 4\n",
            "llm_load_print_meta: n_embd_k_gqa     = 1024\n",
            "llm_load_print_meta: n_embd_v_gqa     = 1024\n",
            "llm_load_print_meta: f_norm_eps       = 0.0e+00\n",
            "llm_load_print_meta: f_norm_rms_eps   = 1.0e-05\n",
            "llm_load_print_meta: f_clamp_kqv      = 0.0e+00\n",
            "llm_load_print_meta: f_max_alibi_bias = 0.0e+00\n",
            "llm_load_print_meta: f_logit_scale    = 0.0e+00\n",
            "llm_load_print_meta: n_ff             = 14336\n",
            "llm_load_print_meta: n_expert         = 0\n",
            "llm_load_print_meta: n_expert_used    = 0\n",
            "llm_load_print_meta: causal attn      = 1\n",
            "llm_load_print_meta: pooling type     = 0\n",
            "llm_load_print_meta: rope type        = 0\n",
            "llm_load_print_meta: rope scaling     = linear\n",
            "llm_load_print_meta: freq_base_train  = 1000000.0\n",
            "llm_load_print_meta: freq_scale_train = 1\n",
            "llm_load_print_meta: n_yarn_orig_ctx  = 32768\n",
            "llm_load_print_meta: rope_finetuned   = unknown\n",
            "llm_load_print_meta: ssm_d_conv       = 0\n",
            "llm_load_print_meta: ssm_d_inner      = 0\n",
            "llm_load_print_meta: ssm_d_state      = 0\n",
            "llm_load_print_meta: ssm_dt_rank      = 0\n",
            "llm_load_print_meta: model type       = 7B\n",
            "llm_load_print_meta: model ftype      = Q6_K\n",
            "llm_load_print_meta: model params     = 7.24 B\n",
            "llm_load_print_meta: model size       = 5.53 GiB (6.56 BPW) \n",
            "llm_load_print_meta: general.name     = mistralai_mistral-7b-instruct-v0.2\n",
            "llm_load_print_meta: BOS token        = 1 '<s>'\n",
            "llm_load_print_meta: EOS token        = 2 '</s>'\n",
            "llm_load_print_meta: UNK token        = 0 '<unk>'\n",
            "llm_load_print_meta: PAD token        = 0 '<unk>'\n",
            "llm_load_print_meta: LF token         = 13 '<0x0A>'\n",
            "ggml_cuda_init: GGML_CUDA_FORCE_MMQ:   yes\n",
            "ggml_cuda_init: CUDA_USE_TENSOR_CORES: no\n",
            "ggml_cuda_init: found 1 CUDA devices:\n",
            "  Device 0: NVIDIA A100-SXM4-40GB, compute capability 8.0, VMM: yes\n",
            "llm_load_tensors: ggml ctx size =    0.30 MiB\n",
            "llm_load_tensors: offloading 32 repeating layers to GPU\n",
            "llm_load_tensors: offloading non-repeating layers to GPU\n",
            "llm_load_tensors: offloaded 33/33 layers to GPU\n",
            "llm_load_tensors:        CPU buffer size =   102.54 MiB\n",
            "llm_load_tensors:      CUDA0 buffer size =  5563.55 MiB\n",
            "...................................................................................................\n",
            "llama_new_context_with_model: n_ctx      = 2304\n",
            "llama_new_context_with_model: n_batch    = 512\n",
            "llama_new_context_with_model: n_ubatch   = 512\n",
            "llama_new_context_with_model: flash_attn = 0\n",
            "llama_new_context_with_model: freq_base  = 1000000.0\n",
            "llama_new_context_with_model: freq_scale = 1\n",
            "llama_kv_cache_init:      CUDA0 KV buffer size =   288.00 MiB\n",
            "llama_new_context_with_model: KV self size  =  288.00 MiB, K (f16):  144.00 MiB, V (f16):  144.00 MiB\n",
            "llama_new_context_with_model:  CUDA_Host  output buffer size =     0.12 MiB\n",
            "llama_new_context_with_model:      CUDA0 compute buffer size =   180.50 MiB\n",
            "llama_new_context_with_model:  CUDA_Host compute buffer size =    12.51 MiB\n",
            "llama_new_context_with_model: graph nodes  = 1030\n",
            "llama_new_context_with_model: graph splits = 2\n",
            "AVX = 1 | AVX_VNNI = 0 | AVX2 = 1 | AVX512 = 0 | AVX512_VBMI = 0 | AVX512_VNNI = 0 | AVX512_BF16 = 0 | FMA = 1 | NEON = 0 | SVE = 0 | ARM_FMA = 0 | F16C = 1 | FP16_VA = 0 | WASM_SIMD = 0 | BLAS = 1 | SSE3 = 1 | SSSE3 = 1 | VSX = 0 | MATMUL_INT8 = 0 | LLAMAFILE = 1 | \n",
            "Model metadata: {'tokenizer.chat_template': \"{{ bos_token }}{% for message in messages %}{% if (message['role'] == 'user') != (loop.index0 % 2 == 0) %}{{ raise_exception('Conversation roles must alternate user/assistant/user/assistant/...') }}{% endif %}{% if message['role'] == 'user' %}{{ '[INST] ' + message['content'] + ' [/INST]' }}{% elif message['role'] == 'assistant' %}{{ message['content'] + eos_token}}{% else %}{{ raise_exception('Only user and assistant roles are supported!') }}{% endif %}{% endfor %}\", 'tokenizer.ggml.add_eos_token': 'false', 'tokenizer.ggml.padding_token_id': '0', 'tokenizer.ggml.unknown_token_id': '0', 'tokenizer.ggml.eos_token_id': '2', 'general.architecture': 'llama', 'llama.rope.freq_base': '1000000.000000', 'llama.context_length': '32768', 'general.name': 'mistralai_mistral-7b-instruct-v0.2', 'tokenizer.ggml.add_bos_token': 'true', 'llama.embedding_length': '4096', 'llama.feed_forward_length': '14336', 'llama.attention.layer_norm_rms_epsilon': '0.000010', 'llama.rope.dimension_count': '128', 'tokenizer.ggml.bos_token_id': '1', 'llama.attention.head_count': '32', 'llama.block_count': '32', 'llama.attention.head_count_kv': '8', 'general.quantization_version': '2', 'tokenizer.ggml.model': 'llama', 'general.file_type': '18'}\n",
            "Available chat formats from metadata: chat_template.default\n",
            "Guessed chat format: mistral-instruct\n"
          ]
        }
      ]
    },
    {
      "cell_type": "markdown",
      "metadata": {
        "id": "EzzkvIXvFTS4"
      },
      "source": [
        "#### Response"
      ]
    },
    {
      "cell_type": "code",
      "source": [
        "# function to generate, process, and return the response from the LLM\n",
        "def generate_llama_response(user_prompt):\n",
        "\n",
        "    # System message\n",
        "    system_message = \"\"\"\n",
        "    [INST]<<SYS>> Respond to the user question based on the user prompt<</SYS>>[/INST]\n",
        "    \"\"\"\n",
        "\n",
        "    # Combine user_prompt and system_message to create the prompt\n",
        "    prompt = f\"{user_prompt}\\n{system_message}\"\n",
        "\n",
        "    # Generate a response from the LLaMA model\n",
        "    response = llm(\n",
        "        prompt=prompt,\n",
        "        max_tokens=1024,\n",
        "        temperature=0.01,\n",
        "        top_p=0.95,\n",
        "        repeat_penalty=1.2,\n",
        "        top_k=50,\n",
        "        stop=['INST'],\n",
        "        echo=False\n",
        "    )\n",
        "\n",
        "    # Extract and return the response text\n",
        "    response_text = response[\"choices\"][0][\"text\"]\n",
        "    return response_text\n",
        "\n",
        "    # def response(query,max_tokens=128,temperature=0,top_p=0.95,top_k=50):\n",
        "#     model_output = lcpp_llm(\n",
        "#       prompt=query,\n",
        "#       max_tokens=max_tokens,\n",
        "#       temperature=temperature,\n",
        "#       top_p=top_p,\n",
        "#       top_k=top_k\n",
        "#     )\n",
        "\n",
        "#     return model_output['choices'][0]['text']"
      ],
      "metadata": {
        "id": "2-sw_UL-6o2e"
      },
      "execution_count": 4,
      "outputs": []
    },
    {
      "cell_type": "code",
      "source": [
        "generate_llama_response(\"What treatment options are available for managing hypertension?\") # testing with a random prompt"
      ],
      "metadata": {
        "id": "p9umHzFz8vKL",
        "colab": {
          "base_uri": "https://localhost:8080/",
          "height": 209
        },
        "outputId": "d0fd0afb-2aac-4765-bbb8-bb13d613c794"
      },
      "execution_count": 5,
      "outputs": [
        {
          "output_type": "stream",
          "name": "stderr",
          "text": [
            "\n",
            "llama_print_timings:        load time =     163.25 ms\n",
            "llama_print_timings:      sample time =     163.83 ms /   278 runs   (    0.59 ms per token,  1696.92 tokens per second)\n",
            "llama_print_timings: prompt eval time =     163.11 ms /    42 tokens (    3.88 ms per token,   257.49 tokens per second)\n",
            "llama_print_timings:        eval time =    2653.81 ms /   277 runs   (    9.58 ms per token,   104.38 tokens per second)\n",
            "llama_print_timings:       total time =    3124.32 ms /   319 tokens\n"
          ]
        },
        {
          "output_type": "execute_result",
          "data": {
            "text/plain": [
              "\"1. Lifestyle modifications: This includes regular physical activity, a healthy diet rich in fruits, vegetables, and low-fat dairy products, reducing sodium intake, limiting alcohol consumption, avoiding tobacco use, and managing stress through techniques such as meditation or deep breathing exercises.\\n\\n2. Medications: If lifestyle changes are not enough to control hypertension, medications may be prescribed by a healthcare professional. There are several classes of drugs used for treating hypertension including diuretics, beta blockers, ACE inhibitors, calcium channel blockers, and ARBs (angiotensin receptor blockers).\\n\\n3. Combination therapy: In some cases, more than one medication may be needed to effectively manage blood pressure levels. This is known as combination therapy.\\n\\n4. Non-pharmacological treatments: Certain alternative therapies have shown promise in managing hypertension, such as acupuncture, yoga, and mindfulness meditation. However, it's important to discuss these options with a healthcare professional before trying them out.\\n\\n5. Lifestyle modifications combined with medications: A combination of lifestyle changes and medication is often the most effective approach for managing hypertension. This can help reduce the dosage or number of medications required while also improving overall health and wellbeing.\""
            ],
            "application/vnd.google.colaboratory.intrinsic+json": {
              "type": "string"
            }
          },
          "metadata": {},
          "execution_count": 5
        }
      ]
    },
    {
      "cell_type": "markdown",
      "source": [
        "### Question Answering using LLM (without Prompt Engineering)"
      ],
      "metadata": {
        "id": "ycik_6jYUsGl"
      }
    },
    {
      "cell_type": "markdown",
      "metadata": {
        "id": "K8YgK91SFjVY"
      },
      "source": [
        "### Query 1: What is the protocol for managing sepsis in a critical care unit?"
      ]
    },
    {
      "cell_type": "code",
      "source": [
        "user_input_1llm = \"What is the protocol for managing sepsis in a critical care unit?\"\n",
        "raw_llm_response_1 = generate_llama_response(user_input_1llm)\n",
        "raw_llm_response_1"
      ],
      "metadata": {
        "id": "-JLIVmpPQH0f",
        "colab": {
          "base_uri": "https://localhost:8080/",
          "height": 226
        },
        "outputId": "1f376f47-abcb-4dc5-9ebc-ac125399f0ce"
      },
      "execution_count": 6,
      "outputs": [
        {
          "output_type": "stream",
          "name": "stderr",
          "text": [
            "Llama.generate: prefix-match hit\n",
            "\n",
            "llama_print_timings:        load time =     163.25 ms\n",
            "llama_print_timings:      sample time =     403.30 ms /   688 runs   (    0.59 ms per token,  1705.92 tokens per second)\n",
            "llama_print_timings: prompt eval time =      57.42 ms /    44 tokens (    1.30 ms per token,   766.28 tokens per second)\n",
            "llama_print_timings:        eval time =    6552.84 ms /   687 runs   (    9.54 ms per token,   104.84 tokens per second)\n",
            "llama_print_timings:       total time =    7549.77 ms /   731 tokens\n"
          ]
        },
        {
          "output_type": "execute_result",
          "data": {
            "text/plain": [
              "\"1. Recognize and suspect sepsis early: Look out for signs of infection, such as fever or hypothermia, tachycardia or bradycardia, respiratory distress, altered mental status, and lactic acidosis. Use the Sequential Organ Failure Assessment (SOFA) score to assess organ dysfunction.\\n    2. Initiate resuscitation: Administer oxygen via high-flow nasal cannas or non-rebreather masks as needed for respiratory support. Start intravenous fluids, aiming for a target mean arterial pressure of 65 mmHg and a central venous pressure (CVP) between 8-12 cm H2O if the patient is mechanically ventilated.\\n    3. Administer antibiotics: Begin broad-spectrum intravenous antibiotics as soon as possible based on suspected infection site, microbiology data, and local guidelines. Consider obtaining blood cultures before administering antibiotics when feasible.\\n    4. Monitor hemodynamic status closely: Use invasive monitoring techniques like arterial lines, central venous catheters (CVCs), or pulmonary artery catheters to assess fluid responsiveness and cardiac output. Adjust fluid resuscitation accordingly based on the patient's response.\\n    5. Provide adequate oxygenation: Use mechanical ventilation if necessary to maintain adequate oxygen saturation, aiming for a SpO2 of 96% or higher. Set appropriate ventilator settings based on the patient's respiratory status and underlying conditions.\\n    6. Maintain adequate tissue perfusion: Monitor urine output (aim for >0.5 mL/kg/h), central venous oxygen saturation, base deficits, and lactate levels to ensure sufficient tissue perfusion. Adjust fluid resuscitation as needed based on these parameters.\\n    7. Address co-morbidities: Manage any underlying conditions that may worsen sepsis or complicate treatment, such as diabetes, renal dysfunction, liver disease, and neurological disorders.\\n    8. Provide source control: If the patient has an identified focus of infection (e.g., abscess, necrotizing fasciitis), consider surgical intervention to remove the infected tissue or drain any collections.\\n    9. Support organ function: Administer vasopressors if needed for blood pressure support and renal replacement therapy if indicated for fluid overload or kidney dysfunction. Consider other supportive measures like corticosteroids, inotropes, or anticoagulation based on the patient's clinical condition.\\n    10. Monitor for complications: Be aware of potential sepsis-related complications such as septic shock, multi-organ failure, and coagulopathy. Adjust treatment plans accordingly to address these issues promptly.\\n    11. Communicate with the interdisciplinary team: Collaborate closely with other healthcare professionals involved in the patient's care, including intensivists, infectious disease specialists, pharmacists, nurses, and respiratory therapists, to ensure comprehensive management of sepsis.\""
            ],
            "application/vnd.google.colaboratory.intrinsic+json": {
              "type": "string"
            }
          },
          "metadata": {},
          "execution_count": 6
        }
      ]
    },
    {
      "cell_type": "markdown",
      "metadata": {
        "id": "J6yxICeVFjVc"
      },
      "source": [
        "### Query 2: What are the common symptoms for appendicitis, and can it be cured via medicine? If not, what surgical procedure should be followed to treat it?"
      ]
    },
    {
      "cell_type": "code",
      "source": [
        "user_input_2llm = \"What are the common symptoms for appendicitis, and can it be cured via medicine? If not, what surgical procedure should be followed to treat it?\"\n",
        "raw_llm_response_2 = generate_llama_response(user_input_2llm)\n",
        "raw_llm_response_2"
      ],
      "metadata": {
        "id": "BdiHRgEqQIP9",
        "colab": {
          "base_uri": "https://localhost:8080/",
          "height": 226
        },
        "outputId": "6ebf5d84-be05-4be8-ac21-ed8648f78abc"
      },
      "execution_count": 7,
      "outputs": [
        {
          "output_type": "stream",
          "name": "stderr",
          "text": [
            "Llama.generate: prefix-match hit\n",
            "\n",
            "llama_print_timings:        load time =     163.25 ms\n",
            "llama_print_timings:      sample time =     171.56 ms /   297 runs   (    0.58 ms per token,  1731.21 tokens per second)\n",
            "llama_print_timings: prompt eval time =      57.95 ms /    62 tokens (    0.93 ms per token,  1069.98 tokens per second)\n",
            "llama_print_timings:        eval time =    2811.31 ms /   296 runs   (    9.50 ms per token,   105.29 tokens per second)\n",
            "llama_print_timings:       total time =    3189.87 ms /   358 tokens\n"
          ]
        },
        {
          "output_type": "execute_result",
          "data": {
            "text/plain": [
              "\"Appendicitis is a medical condition characterized by inflammation of the appendix. The following are common symptoms for appendicitis:\\n\\n1. Abdominal pain, usually starting around the navel and moving to the lower right side.\\n2. Loss of appetite.\\n3. Nausea and vomiting.\\n4. Fever (often low-grade).\\n5. Diarrhea or constipation.\\n6. General discomfort, uneasiness, or malaise.\\n7. Abdominal swelling and rigidity.\\n8. Inability to pass gas or have a bowel movement.\\n9. Pain upon walking, coughing, or taking deep breaths.\\n\\nAppendicitis cannot be cured via medicine alone as the inflammation can lead to rupture of the appendix if left untreated. A surgical procedure called an appendectomy is required for treatment. During this surgery, the surgeon removes the infected appendix to prevent further complications and potential spread of infection in the body. The most common type of appendectomy is a laparoscopic appendectomy, which uses small incisions and minimally invasive techniques. However, an open appendectomy may be necessary if the inflammation is severe or if there are complicating factors. It's important to consult with a healthcare professional for proper diagnosis and treatment options.\""
            ],
            "application/vnd.google.colaboratory.intrinsic+json": {
              "type": "string"
            }
          },
          "metadata": {},
          "execution_count": 7
        }
      ]
    },
    {
      "cell_type": "markdown",
      "metadata": {
        "id": "oflaoOGiFjVd"
      },
      "source": [
        "### Query 3: What are the effective treatments or solutions for addressing sudden patchy hair loss, commonly seen as localized bald spots on the scalp, and what could be the possible causes behind it?"
      ]
    },
    {
      "cell_type": "code",
      "source": [
        "user_input_3llm = \"What are the effective treatments or solutions for addressing sudden patchy hair loss, commonly seen as localized bald spots on the scalp, and what could be the possible causes behind it?\"\n",
        "raw_llm_response_3 = generate_llama_response(user_input_3llm)\n",
        "raw_llm_response_3"
      ],
      "metadata": {
        "id": "N-mx9yboQIt-",
        "colab": {
          "base_uri": "https://localhost:8080/",
          "height": 226
        },
        "outputId": "f72255a0-1f4c-439c-9234-69585c185cce"
      },
      "execution_count": 8,
      "outputs": [
        {
          "output_type": "stream",
          "name": "stderr",
          "text": [
            "Llama.generate: prefix-match hit\n",
            "\n",
            "llama_print_timings:        load time =     163.25 ms\n",
            "llama_print_timings:      sample time =     305.20 ms /   523 runs   (    0.58 ms per token,  1713.62 tokens per second)\n",
            "llama_print_timings: prompt eval time =      58.40 ms /    64 tokens (    0.91 ms per token,  1095.98 tokens per second)\n",
            "llama_print_timings:        eval time =    4975.49 ms /   522 runs   (    9.53 ms per token,   104.91 tokens per second)\n",
            "llama_print_timings:       total time =    5681.17 ms /   586 tokens\n"
          ]
        },
        {
          "output_type": "execute_result",
          "data": {
            "text/plain": [
              "\"1. Possible Causes:\\n   - Alopecia Areata: An autoimmune disorder that results in hair loss from certain areas of the scalp or body. It often presents as round patches of baldness.\\n   - Trauma or Stress: Physical trauma, emotional stress, or excessive pulling on the hair can cause sudden patchy hair loss.\\n   - Nutritional Deficiencies: Lack of essential nutrients like iron, zinc, and vitamin B12 may lead to hair thinning and patchiness.\\n   - Medications: Certain medications such as chemotherapy drugs or those used for treating arthritis, depression, heart problems, gout, high blood pressure, or birth control pills can cause sudden hair loss.\\n   - Hormonal Imbalance: Sudden hormonal changes due to pregnancy, menopause, thyroid disorders, or stress may lead to patchy hair loss.\\n\\n2. Effective Treatments and Solutions:\\n   - Alopecia Areata: Topical treatments like minoxidil (Rogaine) can help stimulate new hair growth in some cases. Corticosteroids applied topically or injected into the affected area may also be effective for treating alopecia areata. In severe cases, systemic corticosteroids or immunosuppressive drugs might be prescribed by a doctor.\\n   - Trauma or Stress: Avoiding excessive pulling on your hair and managing stress through relaxation techniques like meditation, yoga, or deep breathing exercises can help promote healthy hair growth.\\n   - Nutritional Deficiencies: Eating a balanced diet rich in essential nutrients, especially iron, zinc, vitamin B12, biotin, and protein, may improve hair health and prevent patchy hair loss. Consider taking supplements if you have difficulty getting enough of these nutrients through your diet alone.\\n   - Medications: Discuss alternative medications with your doctor to determine if there are any options that won't cause sudden hair loss as a side effect. In some cases, changing the dosage or timing of medication intake may help minimize hair thinning.\\n   - Hormonal Imbalance: Treating underlying hormonal imbalances through medications like birth control pills, thyroid replacement therapy, or hormone replacement therapy can help restore healthy hair growth. Additionally, maintaining a balanced diet and managing stress levels can also contribute to better hormonal health.\""
            ],
            "application/vnd.google.colaboratory.intrinsic+json": {
              "type": "string"
            }
          },
          "metadata": {},
          "execution_count": 8
        }
      ]
    },
    {
      "cell_type": "markdown",
      "metadata": {
        "id": "WUUqY4FbFjVe"
      },
      "source": [
        "### Query 4:  What treatments are recommended for a person who has sustained a physical injury to brain tissue, resulting in temporary or permanent impairment of brain function?"
      ]
    },
    {
      "cell_type": "code",
      "source": [
        "user_input_4llm = \"What treatments are recommended for a person who has sustained a physical injury to brain tissue, resulting in temporary or permanent impairment of brain function?\"\n",
        "raw_llm_response_4 = generate_llama_response(user_input_4llm)\n",
        "raw_llm_response_4"
      ],
      "metadata": {
        "id": "TEsVMaKaQJzh",
        "colab": {
          "base_uri": "https://localhost:8080/",
          "height": 226
        },
        "outputId": "bd3f8d28-6754-4583-982c-49bd7dec3f8c"
      },
      "execution_count": 9,
      "outputs": [
        {
          "output_type": "stream",
          "name": "stderr",
          "text": [
            "Llama.generate: prefix-match hit\n",
            "\n",
            "llama_print_timings:        load time =     163.25 ms\n",
            "llama_print_timings:      sample time =     361.59 ms /   610 runs   (    0.59 ms per token,  1686.99 tokens per second)\n",
            "llama_print_timings: prompt eval time =      58.03 ms /    58 tokens (    1.00 ms per token,   999.55 tokens per second)\n",
            "llama_print_timings:        eval time =    5811.01 ms /   609 runs   (    9.54 ms per token,   104.80 tokens per second)\n",
            "llama_print_timings:       total time =    6673.22 ms /   667 tokens\n"
          ]
        },
        {
          "output_type": "execute_result",
          "data": {
            "text/plain": [
              "\"1. Medical Evaluation and Stabilization: The first priority is to ensure that the person's physical condition is stable, which may involve emergency surgery or other medical interventions if necessary. This could include controlling bleeding, managing swelling or pressure in the brain, addressing any respiratory issues, etc.\\n\\n2. Rehabilitation Program: Once the patient's condition has been stabilized, a rehabilitation program is typically recommended to help restore function and improve overall quality of life. Depending on the specific injury and its impact on brain function, this might include various therapies such as:\\n   - Physical therapy: To address mobility issues or weakness in limbs.\\n   - Occupational therapy: To help patients regain skills needed for daily living activities (e.g., dressing, cooking, writing).\\n   - Speech-language therapy: For communication difficulties and swallowing problems.\\n   - Cognitive rehabilitation: To address memory, attention, problem-solving, and other cognitive challenges.\\n\\n3. Medications: Depending on the symptoms present after a brain injury, medications may be prescribed to help manage various conditions or improve specific functions. For example, antidepressants might be used to treat depression or anxiety; stimulant drugs could assist with attention deficits; and anti-seizure medication would be necessary for managing seizures.\\n\\n4. Assistive Devices: In some cases, individuals may require the use of assistive devices to help them perform daily tasks more effectively. Examples include wheelchairs or walkers for mobility issues, communication aids like speech generators or text-to-speech software, and adaptive utensils for eating.\\n\\n5. Support Groups: Joining support groups can be beneficial for both patients and their families as they navigate the challenges of brain injury recovery. These groups provide opportunities to connect with others who have experienced similar situations, share experiences, learn new coping strategies, and gain emotional support.\\n\\n6. Lifestyle Modifications: Making lifestyle modifications can help improve overall health and well-being after a brain injury. This might include getting enough rest, maintaining a healthy diet, engaging in regular physical activity, avoiding alcohol and drugs, managing stress effectively, etc.\\n\\n7. Vocational Rehabilitation: For individuals who are unable to return to their previous employment due to the effects of their brain injury, vocational rehabilitation services can help them explore new career options or learn skills needed for alternative jobs. This may involve assessing transferable skills, identifying potential job opportunities, and providing training and education as necessary.\\n\\n8. Educating Family Members: It's essential that family members understand the nature of their loved one's brain injury and how it affects them. Providing information about the condition, its symptoms, treatment options, and recovery process can help families better support their loved ones during this challenging time.\""
            ],
            "application/vnd.google.colaboratory.intrinsic+json": {
              "type": "string"
            }
          },
          "metadata": {},
          "execution_count": 9
        }
      ]
    },
    {
      "cell_type": "markdown",
      "metadata": {
        "id": "5laPFTHrFjVf"
      },
      "source": [
        "### Query 5: What are the necessary precautions and treatment steps for a person who has fractured their leg during a hiking trip, and what should be considered for their care and recovery?"
      ]
    },
    {
      "cell_type": "code",
      "source": [
        "user_input_5llm = \"What are the necessary precautions and treatment steps for a person who has fractured their leg during a hiking trip, and what should be considered for their care and recovery?\"\n",
        "raw_llm_response_5 = generate_llama_response(user_input_5llm)\n",
        "raw_llm_response_5"
      ],
      "metadata": {
        "id": "VfrlmrP5QKJz",
        "colab": {
          "base_uri": "https://localhost:8080/",
          "height": 226
        },
        "outputId": "b87c6816-05c4-4ee7-cae0-108dc68dd3dd"
      },
      "execution_count": 10,
      "outputs": [
        {
          "output_type": "stream",
          "name": "stderr",
          "text": [
            "Llama.generate: prefix-match hit\n",
            "\n",
            "llama_print_timings:        load time =     163.25 ms\n",
            "llama_print_timings:      sample time =     332.61 ms /   565 runs   (    0.59 ms per token,  1698.71 tokens per second)\n",
            "llama_print_timings: prompt eval time =      78.72 ms /    65 tokens (    1.21 ms per token,   825.76 tokens per second)\n",
            "llama_print_timings:        eval time =    5373.07 ms /   564 runs   (    9.53 ms per token,   104.97 tokens per second)\n",
            "llama_print_timings:       total time =    6170.12 ms /   629 tokens\n"
          ]
        },
        {
          "output_type": "execute_result",
          "data": {
            "text/plain": [
              "\"1. Assessing the Injury: The first step is to assess the severity of the fracture. If you suspect a leg fracture while hiking, try not to move the person excessively and avoid putting weight on the injured leg. Check for signs of open wounds, swelling, deformities, numbness or tingling sensations, coldness, or discoloration in the affected limb.\\n\\n2. Call for Help: If you suspect a fracture, call emergency services immediately and provide them with your location. Inform them about the nature of the injury and any other relevant information such as the number of people injured, their ages, and any medical conditions they may have.\\n\\n3. Provide Basic First Aid: While waiting for help to arrive, try to keep the person calm and comfortable. Use a splint or improvised materials like sticks, clothing, or backpacks to immobilize the fractured leg as best you can without causing further harm. Keep the injured limb elevated above heart level if possible to reduce swelling and pain.\\n\\n4. Monitor Vital Signs: Check for signs of shock such as rapid breathing, weak pulse, clammy skin, or confusion. If these symptoms are present, try to keep the person warm and provide fluids if they're conscious.\\n\\n5. Prepare for Transportation: Once help arrives, assist in transporting the injured person back to civilization safely. This may involve carrying them on a stretcher or using other means of assistance depending on their condition and the terrain.\\n\\n6. Hospital Treatment: Upon arrival at the hospital, medical professionals will assess the fracture further and determine the best course of treatment based on its severity. Common treatments include casting, surgery, or traction to realign the bone and promote healing. Rehabilitation exercises may also be prescribed to help restore strength and mobility in the affected limb once the injury has healed.\\n\\n7. Recovery: The recovery process for a leg fracture can take several weeks to months depending on its severity, age of the person, overall health condition, and compliance with treatment recommendations from healthcare providers. During this time, it's essential to follow any prescribed exercises or physical therapy regimens carefully to ensure proper healing and prevent complications like blood clots or muscle atrophy.\\n\\n8. Prevention: To minimize the risk of leg fractures while hiking, wear appropriate footwear with good traction, maintain a reasonable pace, avoid carrying heavy loads that could cause you to lose balance, stay on marked trails whenever possible, and be aware of your surroundings for potential hazards like loose rocks or uneven terrain.\""
            ],
            "application/vnd.google.colaboratory.intrinsic+json": {
              "type": "string"
            }
          },
          "metadata": {},
          "execution_count": 10
        }
      ]
    },
    {
      "cell_type": "code",
      "source": [
        "# Raw LLM responses\n",
        "raw_llm_responses = {\n",
        "    \"Question-1\": \"\"\"1. Recognize and suspect sepsis early: Look out for signs of infection, such as fever or hypothermia, tachycardia or bradycardia, respiratory distress, altered mental status, and lactic acidosis. Use the Sequential Organ Failure Assessment (SOFA) score to assess organ dysfunction.\n",
        "    2. Initiate resuscitation: Administer oxygen via high-flow nasal cannas or non-rebreather masks as needed. Start intravenous fluids, aiming for a target mean arterial pressure of 65 mmHg and a central venous pressure (CVP) between 8-12 cm H2O if the patient is mechanically ventilated.\n",
        "    3. Administer antibiotics: Choose empiric antimicrobials based on local guidelines, suspected infection source, and microbiological data when available. Consider broad-spectrum coverage for gram-positive and gram-negative organisms.\n",
        "    4. Monitor hemodynamic status closely: Use invasive monitoring techniques like arterial lines, central venous catheters, or pulmonary artery catheters to assess cardiac output, oxygen delivery, and consumption. Adjust fluid resuscitation accordingly.\n",
        "    5. Provide adequate tissue perfusion: Maintain an adequate mean arterial pressure (MAP) and CVP to ensure sufficient organ blood flow. Consider using vasopressors if necessary.\n",
        "    6. Optimize oxygenation: Use mechanical ventilation as needed, aiming for a target SpO2 of 94-98% or PaO2 > 60 mmHg. Monitor arterial and venous blood gases regularly to assess adequacy of respiratory support.\n",
        "    7. Correct metabolic acidosis: Administer sodium bicarbonate if pH is <7.15 or base deficit > 6 mEq/L, but be cautious as it may worsen intracellular acidosis and increase calcium ion binding.\n",
        "    8. Provide adequate nutrition: Initiate enteral feeding within 24 hours of ICU admission if possible; consider parenteral nutrition for those unable to tolerate enteral feeds. Aim for a caloric intake of 1.5-2 times the basal energy expenditure (BEE).\n",
        "    9. Support organ function: Provide appropriate care based on specific organ dysfunction, such as renal replacement therapy for kidney failure or vasopressor support for cardiovascular instability.\n",
        "    10. Monitor and manage complications: Be aware of potential complications like coagulopathy, myocardial depression, and secondary infections; address these issues promptly to minimize morbidity and mortality.\"\"\",\n",
        "\n",
        "    \"Question-2\": \"\"\"\n",
        " Appendicitis is a medical condition characterized by inflammation of the appendix. The following are common symptoms for appendicitis:\n",
        "\n",
        "1. Abdominal pain, usually starting around the navel and moving to the lower right side.\n",
        "2. Loss of appetite.\n",
        "3. Nausea and vomiting.\n",
        "4. Fever (often low-grade).\n",
        "5. Diarrhea or constipation.\n",
        "6. General discomfort, uneasiness, or malaise.\n",
        "7. Abdominal swelling and rigidity.\n",
        "8. Inability to pass gas or have a bowel movement.\n",
        "9. Pain upon walking, coughing, or taking deep breaths.\n",
        "\n",
        "It's important to note that these symptoms can also be indicative of other conditions, so it is crucial to consult with a healthcare professional for an accurate diagnosis. Appendicitis cannot typically be cured via medicine alone; surgery (appendectomy) is usually required to remove the inflamed appendix and prevent complications such as rupture or peritonitis.\n",
        "\n",
        "During an appendectomy, the surgeon makes an incision in the abdomen and removes the appendix. The procedure can be performed using open surgery (a larger incision) or laparoscopically (smaller incisions with the use of a camera). After recovery from the surgery, most people return to their normal activities within 1-2 weeks.\"\"\",\n",
        "\n",
        "    \"Question-3\": \"\"\"1. Possible Causes:\n",
        "   - Alopecia Areata: An autoimmune disorder that results in hair loss from certain areas of the scalp or body. It often presents as round patches of baldness.\n",
        "   - Trauma or Stress: Physical trauma, emotional stress, or excessive pulling on the hair can cause sudden patchy hair loss.\n",
        "   - Nutritional Deficiencies: Lack of essential nutrients like iron, zinc, and vitamin B12 may lead to hair thinning and patchiness.\n",
        "   - Hormonal Imbalance: Sudden hormonal changes due to pregnancy, menopause, or thyroid issues can cause temporary hair loss in patches.\n",
        "   - Medications: Certain medications like chemotherapy drugs, antidepressants, and blood thinners may lead to sudden patchy hair loss as a side effect.\n",
        "   2. Treatments:\n",
        "  - Alopecia Areata: Topical treatments such as minoxidil or corticosteroids can help stimulate hair growth in alopecia areata cases. In severe cases, systemic steroid therapy may be recommended.\n",
        "  - Trauma or Stress: Avoiding excessive pulling on the hair and managing stress through relaxation techniques like meditation, yoga, or deep breathing exercises can promote healthy hair regrowth.\n",
        "  - Nutritional Deficiencies: Consuming a balanced diet rich in essential nutrients or taking supplements as recommended by a healthcare professional may help address patchy hair loss caused by deficiencies.\n",
        "  - Hormonal Imbalance: Treating the underlying hormonal issue, such as thyroid disorders or menopause symptoms, can often lead to improved hair growth and reduced patchiness.\n",
        "  - Medications: Discuss alternative medications with your healthcare provider if you suspect that a medication is causing sudden patchy hair loss. In some cases, switching to an alternate treatment may be necessary.\n",
        "\n",
        "It's essential to consult a healthcare professional or dermatologist for proper diagnosis and personalized treatment recommendations when dealing with sudden patchy hair loss.\"\"\",\n",
        "\n",
        "    \"Question-4\": \"\"\"1. Medical Evaluation and Stabilization: The first step is to ensure that the person's physical condition is stable, which may involve hospitalization for surgery or other medical interventions if necessary. This could include controlling bleeding, managing swelling or pressure in the brain, addressing any respiratory issues, etc.\n",
        "\n",
        "2. Rehabilitation Program: Once a patient's condition has stabilized, they will typically begin a rehabilitation program to help them regain as much function and independence as possible. This may include physical therapy for motor skills, occupational therapy for daily living tasks, speech-language therapy for communication issues, cognitive rehab for memory or problem solving abilities, and psychological support for emotional wellbeing.\n",
        "\n",
        "3. Medications: Depending on the specific injury and symptoms, various medications might be prescribed to help manage conditions like seizures, pain, depression, anxiety, or other complications that can arise after a brain injury.\n",
        "\n",
        "4. Assistive Devices and Technology: In some cases, individuals with brain injuries may require assistive devices such as wheelchairs, walkers, communication aids, or adaptive equipment for daily living tasks to improve their quality of life and functional abilities.\n",
        "\n",
        "5. Lifestyle Modifications: Making lifestyle changes can also be beneficial in managing the effects of a brain injury. This might include getting enough rest, maintaining a healthy diet, engaging in regular physical activity, avoiding alcohol and drugs, practicing stress management techniques, etc.\n",
        "\n",
        "6. Support Groups: Connecting with others who have experienced similar injuries or conditions through support groups can provide valuable emotional and social connections for individuals dealing with the challenges of brain injury recovery.\n",
        "\n",
        "7. Education and Training: Learning about brain injury and its impact on daily life is essential to help individuals adapt and cope effectively. This may involve attending educational workshops, reading books, watching videos, or working one-on-one with healthcare professionals or therapists.\n",
        "\n",
        "8. Vocational Rehabilitation: For those who are able to return to work after a brain injury, vocational rehab can help identify suitable employment opportunities and provide training for new skills if necessary. This can be an essential part of regaining independence and financial stability following an injury.\"\"\",\n",
        "\n",
        "    \"Question-5\": \"\"\"1. Assessing the Injury: The first step is to assess the severity of the fracture. If you suspect a leg fracture while hiking, try not to move the person excessively and avoid putting weight on the injured leg. Check for signs of open wounds, swelling, deformities, numbness or tingling sensations, and inability to bear weight.\n",
        "    2. Call for Help: If possible, call emergency services or have someone from your group contact them. Provide accurate location information if you're hiking off-trail.\n",
        "    3. Immobilize the Fracture: Use a splint, sling, or other available materials to immobilize the fractured leg as best as possible. This will help prevent further damage and discomfort during transport. Be careful not to apply too much pressure on the injury site while securing the makeshift brace.\n",
        "    4. Provide Comfort: Keep the person warm by covering them with a blanket or insulating material, if necessary. Offer water or other fluids to help maintain hydration and provide reassurance during the wait for medical assistance.\n",
        "    5. Monitor Vital Signs: Check their pulse rate, breathing rate, and blood pressure regularly while waiting for emergency services. Keep track of any changes in their condition.\n",
        "    6. Prepare for Evacuation: If you're hiking off-trail or far from a road, consider how to safely evacuate the person with their injury. This may involve carrying them on a stretcher or using other rescue techniques depending on your group size and resources.\n",
        "    7. Post-Injury Care: After reaching medical help, follow the doctor's instructions for post-fracture care, which could include wearing a cast or brace, taking pain medication, undergoing physical therapy, and avoiding weight-bearing activities until fully healed. Remember that recovery time varies depending on the severity of the fracture and individual healing rates.\n",
        "    8. Prevention: To minimize the risk of leg injuries while hiking, wear appropriate footwear with good traction, stay on marked trails whenever possible, avoid carrying heavy loads, and be aware of your surroundings to prevent falls or tripping hazards.\"\"\"\n",
        "}"
      ],
      "metadata": {
        "id": "iH4TIJ6IZ90w"
      },
      "execution_count": 11,
      "outputs": []
    },
    {
      "cell_type": "markdown",
      "source": [
        "**Insights:**\n",
        "- The response seems generic and appears to be derived from different sources, however, the authenticity of the generated responses is still ambiguous."
      ],
      "metadata": {
        "id": "SfuV76vMEZq9"
      }
    },
    {
      "cell_type": "markdown",
      "source": [
        "###**Using latest Merck Manual answers using Google Gemini as Gold-Standard Answers:**"
      ],
      "metadata": {
        "id": "7eA3zi4FQ1OL"
      }
    },
    {
      "cell_type": "code",
      "source": [
        "# Gold-standard answers (from Merck Manual via Gemini)\n",
        "gold_answers = {\n",
        "    \"What is the protocol for managing sepsis in a critical care unit?\": \"\"\"\n",
        "    The protocol for managing sepsis in a critical care unit involves immediate and aggressive treatment. This includes:\n",
        "    - Antibiotics: Broad-spectrum antibiotics within one hour.\n",
        "    - Intravenous Fluids: Crystalloids for fluid resuscitation.\n",
        "    - Oxygen Support: Ensure adequate oxygenation.\n",
        "    - Source Control: Identify and remove infection sources.\n",
        "    - Vasopressors: Norepinephrine if fluids fail.\n",
        "    - Blood Glucose Control: Insulin if needed.\n",
        "    - Corticosteroids: Hydrocortisone for persistent hypotension.\n",
        "    - ICU Admission: For septic shock/severe sepsis.\n",
        "    - Antimicrobial Reevaluation: Daily de-escalation checks.\n",
        "    \"\"\",\n",
        "\n",
        "    \"What are the common symptoms of appendicitis, and can it be cured via medicine? If not, what surgical procedure should be followed to treat it?\": \"\"\"\n",
        "    Common symptoms of appendicitis:\n",
        "    - Pain starting in upper abdomen/navel, shifting to right lower abdomen.\n",
        "    - Nausea, vomiting, low-grade fever, loss of appetite.\n",
        "    Appendicitis cannot be reliably cured with medicine alone. Surgical removal (appendectomy) is the recommended treatment.\n",
        "    \"\"\",\n",
        "\n",
        "    \"What are the effective treatments or solutions for addressing sudden patchy hair loss, commonly seen as localized bald spots on the scalp, and what could be the possible causes behind it?\": \"\"\"\n",
        "    Sudden patchy hair loss (alopecia areata) is an autoimmune condition. Treatments include:\n",
        "    - Corticosteroids (injected/topical/oral).\n",
        "    - Minoxidil, Anthralin, JAK inhibitors (baricitinib).\n",
        "    - Methotrexate for severe cases.\n",
        "    - PUVA therapy (limited success).\n",
        "    \"\"\",\n",
        "\n",
        "    \"What treatments are recommended for a person who has sustained a physical injury to brain tissue, resulting in temporary or permanent impairment of brain function?\": \"\"\"\n",
        "    Treatments for Traumatic Brain Injury (TBI):\n",
        "    - Mild: Observation, rest, pain relievers.\n",
        "    - Moderate/Severe: ICU care, ICP monitoring, surgery for hematomas.\n",
        "    - Rehabilitation: Physical, occupational, speech therapy.\n",
        "    - Medications: Antiseizure drugs, stimulants, antidepressants.\n",
        "    \"\"\",\n",
        "\n",
        "    \"What are the necessary precautions and treatment steps for a person who has fractured their leg during a hiking trip, and what should be considered for their care and recovery?\": \"\"\"\n",
        "    Precautions for leg fracture:\n",
        "    - Immobilize with splint, control bleeding, elevate, ice.\n",
        "    - Avoid weight-bearing, seek emergency help.\n",
        "    Treatment:\n",
        "    - Pain relief, reduction (manual/surgical), casting.\n",
        "    - Physical therapy, gradual return to activity.\n",
        "    - Nutrition (calcium/vitamin D).\n",
        "    \"\"\"\n",
        "}"
      ],
      "metadata": {
        "id": "TPZuv5hrQzhe"
      },
      "execution_count": 12,
      "outputs": []
    },
    {
      "cell_type": "markdown",
      "source": [
        "**How to Interpret Results:**\n",
        "* Semantic Similarity > 0.8: Strong alignment with gold answer.\n",
        "* BLEU > 0.3: Good lexical overlap.\n",
        "* ROUGE-L > 0.5: Decent summary-level similarity.\n",
        "* Readability > 60: Easily understandable (60-70 = standard, 80+ = very easy)."
      ],
      "metadata": {
        "id": "AWCvRJ39SC_t"
      }
    },
    {
      "cell_type": "markdown",
      "source": [
        "###**Comparing LLM responses (without Prompt Engineering) with Gold-Standard**"
      ],
      "metadata": {
        "id": "Yu_9fT7KSVL6"
      }
    },
    {
      "cell_type": "code",
      "source": [
        "# Initialize models\n",
        "model = SentenceTransformer('all-MiniLM-L6-v2')\n",
        "scorer = rouge_scorer.RougeScorer(['rouge1', 'rougeL'], use_stemmer=True)\n",
        "\n",
        "def evaluate_response(gold: str, response: str) -> dict:\n",
        "    # Semantic Similarity\n",
        "    embeddings = model.encode([gold, response])\n",
        "    semantic_sim = cosine_similarity([embeddings[0]], [embeddings[1]])[0][0]\n",
        "\n",
        "    # BLEU Score\n",
        "    bleu = sentence_bleu([nltk.word_tokenize(gold)], nltk.word_tokenize(response))\n",
        "\n",
        "    # ROUGE Score\n",
        "    rouge = scorer.score(gold, response)\n",
        "\n",
        "    # Readability\n",
        "    readability = textstat.flesch_reading_ease(response)\n",
        "\n",
        "    return {\n",
        "        \"Semantic Sim\": round(semantic_sim, 3),\n",
        "        \"BLEU\": round(bleu, 3),\n",
        "        \"Rouge-1\": round(rouge['rouge1'].fmeasure, 3),\n",
        "        \"Rouge-L\": round(rouge['rougeL'].fmeasure, 3),\n",
        "        \"Readability\": round(readability, 1)\n",
        "    }"
      ],
      "metadata": {
        "colab": {
          "base_uri": "https://localhost:8080/",
          "height": 369,
          "referenced_widgets": [
            "67a0d481f29f48aca79f097a2d4a6914",
            "4ca87e4425364bc4830baacb9788e3ca",
            "37559f0668034601b36bc7b697c4f780",
            "ea5cce18722747caa12d3f456cfa0f01",
            "f4dc29f9a787419ab99ee3f57759c2c2",
            "7ac3512e42c14feba097a5a76cc6d98b",
            "38c82aba0cdf445b9a20d67db2d7fe77",
            "09f962c89ace4135bf316232e43dc942",
            "8842a0edb56342e080d21e5f64898ca5",
            "a016d00c35044e88b6e4c6108ad2d311",
            "389ba8bb9c224d13a3322fc8a61fff04",
            "a829508f5e9145a1acb0ff5c218ff4b4",
            "02ee89ab457043fc850664dcc8e85819",
            "9407d321b55d4d869004004cdb8d3967",
            "dda4d4590e8242a8995a8609d7975e23",
            "a063f8634baf40f8969ccf8eb5ba6409",
            "7292608486a74ea9863198d3b0c795f8",
            "2291b2d0ecb142768bb0f99736f86c41",
            "b8cb9bd8c78646f2956c7f15d63d092d",
            "811d0babf9184304903aea93d543159f",
            "0e1f1b922c464618adab45a93afbb282",
            "3c1b90613db24a66b0f5320fb8e5f8fe",
            "94b25c051f054608b48f87c2e315220c",
            "56e8d3966c904ef8afb1e36e27c73552",
            "104aad296ad6499c8e01b8d11426366b",
            "f208b3150a2240e8bf8aabeb8fcba647",
            "f642c5771cf047fa935e9c06a7a2c601",
            "04abf0c403ab4d9d90728a983b92853a",
            "ec08adbb679d4d5f877e62e3c3a5bc03",
            "476fb65292de4d208255a49c5d82fcc0",
            "05eeb060ca474040add7613a2586762a",
            "8eaff027db90475e8b5c24cbfd32aca4",
            "866d05b594aa4ecca092cf0b6be15601",
            "6d89fe0f99774b218f198a812149a89f",
            "2b4d2871b6c64b2a8896a387ca2b12ae",
            "73512d7e530448eb9862a71114f87572",
            "ecf0ceac148045689d9845ca8de30a84",
            "67b7fdcf0b6a4bdc90274f49257512c7",
            "7b7aff2e434042ac8b90828cf86ad7a7",
            "a767105d620040cfafb7c579d867a36f",
            "44e2534f772c4cf98b14590279c61a40",
            "b917e7da2ac54b9991e40641f13fd82a",
            "fda5d98b992a4ba3b72bce3beccda0e6",
            "928e9715d0a34480962bf1db62813f63",
            "79c2a5686ba94fb4b8f601d639dfcf2e",
            "fa05d9326a974937a30a9ed3ddd59ab0",
            "091a86a542df4a149aa2d0dbced4a56b",
            "d8374d147aa342ef843d2a3a5eb48b47",
            "00ec203c43bf4c6b8c05c8e1acac39f9",
            "6f5eb3d3bac342cc99b9d7e06e745ad7",
            "e5626e04058247d88104311358122717",
            "21d92cb63e4e486990621b5b14e9e52e",
            "80faaded06074c30b91e596536be9ef0",
            "52dde3ae1e344e83a41316dccd0a6345",
            "10ac1de6d8564d39ac7a9f13696984b8",
            "07d143d344bd4a9b8ed1e26265ef1294",
            "3e395bbcd698476984efb73e3eb7b62a",
            "2ac9172859c14212a3fedbea99044484",
            "2e143feb9c9541faa4d5101d27047173",
            "3a361d2d800a4a4ca7d9f7d8e6196d60",
            "52de6a47a309470c8ac4f53049a39bca",
            "2e0bd1fd573348d28e4c9ea280418b36",
            "eb21ce529cbe41d28e741cbb929836f4",
            "94992265f46b48ff9d42ae7d22016d77",
            "55d4840e22244f6896e46f5bc313387b",
            "826f82b5a5554f348cca47dac06fdda7",
            "68fb37e2704b4feba5ff32e5d870bb56",
            "20474a6c25f1485687625f468ea78c81",
            "26acc032c7d64447975f0992840d4208",
            "a8d5d8c5421d4ea988f0d82f40e4b922",
            "2a37af0d7eef4d239043f94a67f76e4a",
            "ee0213153c9d4e079b8fa278c342f2ae",
            "0866d738f3e944de89f1e9bc37f9f67d",
            "7f742fa34bf84ca9bf6c32b56b375dd9",
            "48207ec97de1418194dedba9a4ecde25",
            "4c9e8e28e105473f839ffed3000915c3",
            "63ea9876d1ea4fb0b2207d5880a4d27e",
            "dfe51ee6711949f498c211608c457f9d",
            "920a1c89ee98470ea9edb25438c6ad93",
            "726a8a05d048467cab4883a3470f329a",
            "9648ae5c0ffc4b8a821615b4da8f9b4a",
            "26557512357b424388961e95a2118b0c",
            "a55dbc1a375e4272b1a8f71cfad55632",
            "c955064bc97a4efd91fae3aa0f13b07f",
            "fd6724d8cc95432aa156c273618852d0",
            "443ceed89f1e4f9d9732fa2accb9a913",
            "f45c2b98dad24fb1b888269fafe6c813",
            "748a891c80c043348a28a5e0895cf31f",
            "79ff5ef0ded64f20afe106ec8f1db22b",
            "1bdb29fcc81d4ceab05542ae8e41ee90",
            "c0b9d623ac574476a6b961471599eebd",
            "e5c5369a33364cb1b0c9745cf3e475c1",
            "041fb0affd3540e8ad4b4814cabbc128",
            "7b9793482b22492a88aba6108e319f6b",
            "ad2a6d2f11694fb9bb35f5b16f070f65",
            "361c5ac2faf2460db9e45394fbc3c2b8",
            "62b951abdae64985b08144f36aa67360",
            "de34a55c45ff40a2a62365c8b73dc21d",
            "ea338c42ca654882858801160395542c",
            "88f8ec6e38b445b29d3879f30cd5e3b3",
            "af8c48641874494ab4c36a18f7278aac",
            "57faf756c53e4ae0a5219e4509d93093",
            "f1a9f6cc806746028a9188886376d4f5",
            "c8948d6de03644039eda7e172d1c6d0f",
            "2c71b24926c84373abedc7257e617c2e",
            "b8aa474adfec4875937ff93cf4453cb6",
            "d0995a71fc1d4e29beaaa6836520f30f",
            "e193280937be47e1a70b09caf136611f",
            "c86c31f851cb4ccf8958bb5687a6c7a2",
            "7d30fa6a1ad24146a7caaba996806214",
            "5e18ee2e366c4996a5943ac40072d791",
            "9bc83701483d4eadaad46c397c9d4c2c",
            "595756102c1f48568d5a609762ab0e5b",
            "159e106d16b241eca89a2cf939d66316",
            "519998a64f32465caa5f9cc931bb9497",
            "d133327ee2dc4827b4168eb1d13b7f89",
            "c0dbf445728540b987d716c2726e6242",
            "e705f358dfc74c89ae718cfce1ef834b",
            "7ac21c7850e1457da6162d9fc266a6d3",
            "2f2d825c464442cfa2830054e8052417",
            "986ae627a44a4246a8b8c2e459aadff7"
          ]
        },
        "id": "P51YOvpgSj6S",
        "outputId": "e6e5f37e-b8bb-40e9-b52b-d77d99b7b409"
      },
      "execution_count": 13,
      "outputs": [
        {
          "output_type": "display_data",
          "data": {
            "text/plain": [
              "modules.json:   0%|          | 0.00/349 [00:00<?, ?B/s]"
            ],
            "application/vnd.jupyter.widget-view+json": {
              "version_major": 2,
              "version_minor": 0,
              "model_id": "67a0d481f29f48aca79f097a2d4a6914"
            }
          },
          "metadata": {}
        },
        {
          "output_type": "display_data",
          "data": {
            "text/plain": [
              "config_sentence_transformers.json:   0%|          | 0.00/116 [00:00<?, ?B/s]"
            ],
            "application/vnd.jupyter.widget-view+json": {
              "version_major": 2,
              "version_minor": 0,
              "model_id": "a829508f5e9145a1acb0ff5c218ff4b4"
            }
          },
          "metadata": {}
        },
        {
          "output_type": "display_data",
          "data": {
            "text/plain": [
              "README.md:   0%|          | 0.00/10.5k [00:00<?, ?B/s]"
            ],
            "application/vnd.jupyter.widget-view+json": {
              "version_major": 2,
              "version_minor": 0,
              "model_id": "94b25c051f054608b48f87c2e315220c"
            }
          },
          "metadata": {}
        },
        {
          "output_type": "display_data",
          "data": {
            "text/plain": [
              "sentence_bert_config.json:   0%|          | 0.00/53.0 [00:00<?, ?B/s]"
            ],
            "application/vnd.jupyter.widget-view+json": {
              "version_major": 2,
              "version_minor": 0,
              "model_id": "6d89fe0f99774b218f198a812149a89f"
            }
          },
          "metadata": {}
        },
        {
          "output_type": "display_data",
          "data": {
            "text/plain": [
              "config.json:   0%|          | 0.00/612 [00:00<?, ?B/s]"
            ],
            "application/vnd.jupyter.widget-view+json": {
              "version_major": 2,
              "version_minor": 0,
              "model_id": "79c2a5686ba94fb4b8f601d639dfcf2e"
            }
          },
          "metadata": {}
        },
        {
          "output_type": "display_data",
          "data": {
            "text/plain": [
              "model.safetensors:   0%|          | 0.00/90.9M [00:00<?, ?B/s]"
            ],
            "application/vnd.jupyter.widget-view+json": {
              "version_major": 2,
              "version_minor": 0,
              "model_id": "07d143d344bd4a9b8ed1e26265ef1294"
            }
          },
          "metadata": {}
        },
        {
          "output_type": "display_data",
          "data": {
            "text/plain": [
              "tokenizer_config.json:   0%|          | 0.00/350 [00:00<?, ?B/s]"
            ],
            "application/vnd.jupyter.widget-view+json": {
              "version_major": 2,
              "version_minor": 0,
              "model_id": "68fb37e2704b4feba5ff32e5d870bb56"
            }
          },
          "metadata": {}
        },
        {
          "output_type": "display_data",
          "data": {
            "text/plain": [
              "vocab.txt:   0%|          | 0.00/232k [00:00<?, ?B/s]"
            ],
            "application/vnd.jupyter.widget-view+json": {
              "version_major": 2,
              "version_minor": 0,
              "model_id": "dfe51ee6711949f498c211608c457f9d"
            }
          },
          "metadata": {}
        },
        {
          "output_type": "display_data",
          "data": {
            "text/plain": [
              "tokenizer.json:   0%|          | 0.00/466k [00:00<?, ?B/s]"
            ],
            "application/vnd.jupyter.widget-view+json": {
              "version_major": 2,
              "version_minor": 0,
              "model_id": "79ff5ef0ded64f20afe106ec8f1db22b"
            }
          },
          "metadata": {}
        },
        {
          "output_type": "display_data",
          "data": {
            "text/plain": [
              "special_tokens_map.json:   0%|          | 0.00/112 [00:00<?, ?B/s]"
            ],
            "application/vnd.jupyter.widget-view+json": {
              "version_major": 2,
              "version_minor": 0,
              "model_id": "88f8ec6e38b445b29d3879f30cd5e3b3"
            }
          },
          "metadata": {}
        },
        {
          "output_type": "display_data",
          "data": {
            "text/plain": [
              "config.json:   0%|          | 0.00/190 [00:00<?, ?B/s]"
            ],
            "application/vnd.jupyter.widget-view+json": {
              "version_major": 2,
              "version_minor": 0,
              "model_id": "5e18ee2e366c4996a5943ac40072d791"
            }
          },
          "metadata": {}
        }
      ]
    },
    {
      "cell_type": "code",
      "source": [
        "# Evaluate Raw LLM\n",
        "raw_results = {}\n",
        "# Create a mapping from \"Question-X\" keys to the full question text\n",
        "question_map = {\n",
        "    \"Question-1\": \"What is the protocol for managing sepsis in a critical care unit?\",\n",
        "    \"Question-2\": \"What are the common symptoms of appendicitis, and can it be cured via medicine? If not, what surgical procedure should be followed to treat it?\", # Corrected the key\n",
        "    \"Question-3\": \"What are the effective treatments or solutions for addressing sudden patchy hair loss, commonly seen as localized bald spots on the scalp, and what could be the possible causes behind it?\",\n",
        "    \"Question-4\": \"What treatments are recommended for a person who has sustained a physical injury to brain tissue, resulting in temporary or permanent impairment of brain function?\",\n",
        "    \"Question-5\": \"What are the necessary precautions and treatment steps for a person who has fractured their leg during a hiking trip, and what should be considered for their care and recovery?\"\n",
        "}\n",
        "\n",
        "for q_key in raw_llm_responses:\n",
        "    # Use the mapping to get the full question text\n",
        "    full_question = question_map[q_key]\n",
        "    raw_results[full_question] = evaluate_response(gold_answers[full_question], raw_llm_responses[q_key])"
      ],
      "metadata": {
        "colab": {
          "base_uri": "https://localhost:8080/"
        },
        "id": "xPwqSv1MTK0t",
        "outputId": "d8a37b93-b2eb-4486-ccad-e06490a40204"
      },
      "execution_count": 14,
      "outputs": [
        {
          "output_type": "stream",
          "name": "stderr",
          "text": [
            "/usr/local/lib/python3.11/dist-packages/nltk/translate/bleu_score.py:577: UserWarning: \n",
            "The hypothesis contains 0 counts of 3-gram overlaps.\n",
            "Therefore the BLEU score evaluates to 0, independently of\n",
            "how many N-gram overlaps of lower order it contains.\n",
            "Consider using lower n-gram order or use SmoothingFunction()\n",
            "  warnings.warn(_msg)\n",
            "/usr/local/lib/python3.11/dist-packages/nltk/translate/bleu_score.py:577: UserWarning: \n",
            "The hypothesis contains 0 counts of 4-gram overlaps.\n",
            "Therefore the BLEU score evaluates to 0, independently of\n",
            "how many N-gram overlaps of lower order it contains.\n",
            "Consider using lower n-gram order or use SmoothingFunction()\n",
            "  warnings.warn(_msg)\n",
            "/usr/local/lib/python3.11/dist-packages/nltk/translate/bleu_score.py:577: UserWarning: \n",
            "The hypothesis contains 0 counts of 4-gram overlaps.\n",
            "Therefore the BLEU score evaluates to 0, independently of\n",
            "how many N-gram overlaps of lower order it contains.\n",
            "Consider using lower n-gram order or use SmoothingFunction()\n",
            "  warnings.warn(_msg)\n",
            "/usr/local/lib/python3.11/dist-packages/nltk/translate/bleu_score.py:577: UserWarning: \n",
            "The hypothesis contains 0 counts of 3-gram overlaps.\n",
            "Therefore the BLEU score evaluates to 0, independently of\n",
            "how many N-gram overlaps of lower order it contains.\n",
            "Consider using lower n-gram order or use SmoothingFunction()\n",
            "  warnings.warn(_msg)\n",
            "/usr/local/lib/python3.11/dist-packages/nltk/translate/bleu_score.py:577: UserWarning: \n",
            "The hypothesis contains 0 counts of 4-gram overlaps.\n",
            "Therefore the BLEU score evaluates to 0, independently of\n",
            "how many N-gram overlaps of lower order it contains.\n",
            "Consider using lower n-gram order or use SmoothingFunction()\n",
            "  warnings.warn(_msg)\n",
            "/usr/local/lib/python3.11/dist-packages/nltk/translate/bleu_score.py:577: UserWarning: \n",
            "The hypothesis contains 0 counts of 3-gram overlaps.\n",
            "Therefore the BLEU score evaluates to 0, independently of\n",
            "how many N-gram overlaps of lower order it contains.\n",
            "Consider using lower n-gram order or use SmoothingFunction()\n",
            "  warnings.warn(_msg)\n",
            "/usr/local/lib/python3.11/dist-packages/nltk/translate/bleu_score.py:577: UserWarning: \n",
            "The hypothesis contains 0 counts of 4-gram overlaps.\n",
            "Therefore the BLEU score evaluates to 0, independently of\n",
            "how many N-gram overlaps of lower order it contains.\n",
            "Consider using lower n-gram order or use SmoothingFunction()\n",
            "  warnings.warn(_msg)\n"
          ]
        }
      ]
    },
    {
      "cell_type": "code",
      "source": [
        "# Print Raw LLM Comparison\n",
        "print(\"=== Raw LLM vs Gold Standard ===\")\n",
        "print(tabulate(\n",
        "    [[q] + list(raw_results[q].values()) for q in raw_results],\n",
        "    headers=[\"Question\", \"Semantic Sim\", \"BLEU\", \"Rouge-1\", \"Rouge-L\", \"Readability\"],\n",
        "    tablefmt=\"grid\"\n",
        "))"
      ],
      "metadata": {
        "colab": {
          "base_uri": "https://localhost:8080/"
        },
        "id": "7nWg26o4ePqr",
        "outputId": "00197aa7-85a9-4d3d-c56d-25791078fa72"
      },
      "execution_count": 15,
      "outputs": [
        {
          "output_type": "stream",
          "name": "stdout",
          "text": [
            "=== Raw LLM vs Gold Standard ===\n",
            "+---------------------------------------------------------------------------------------------------------------------------------------------------------------------------------------------+----------------+--------+-----------+-----------+---------------+\n",
            "| Question                                                                                                                                                                                    |   Semantic Sim |   BLEU |   Rouge-1 |   Rouge-L |   Readability |\n",
            "+=============================================================================================================================================================================================+================+========+===========+===========+===============+\n",
            "| What is the protocol for managing sepsis in a critical care unit?                                                                                                                           |          0.674 |  0     |     0.175 |     0.095 |           6   |\n",
            "+---------------------------------------------------------------------------------------------------------------------------------------------------------------------------------------------+----------------+--------+-----------+-----------+---------------+\n",
            "| What are the common symptoms of appendicitis, and can it be cured via medicine? If not, what surgical procedure should be followed to treat it?                                             |          0.886 |  0.034 |     0.276 |     0.196 |          30.6 |\n",
            "+---------------------------------------------------------------------------------------------------------------------------------------------------------------------------------------------+----------------+--------+-----------+-----------+---------------+\n",
            "| What are the effective treatments or solutions for addressing sudden patchy hair loss, commonly seen as localized bald spots on the scalp, and what could be the possible causes behind it? |          0.715 |  0     |     0.114 |     0.074 |          27.6 |\n",
            "+---------------------------------------------------------------------------------------------------------------------------------------------------------------------------------------------+----------------+--------+-----------+-----------+---------------+\n",
            "| What treatments are recommended for a person who has sustained a physical injury to brain tissue, resulting in temporary or permanent impairment of brain function?                         |          0.59  |  0     |     0.074 |     0.048 |           5.8 |\n",
            "+---------------------------------------------------------------------------------------------------------------------------------------------------------------------------------------------+----------------+--------+-----------+-----------+---------------+\n",
            "| What are the necessary precautions and treatment steps for a person who has fractured their leg during a hiking trip, and what should be considered for their care and recovery?            |          0.756 |  0     |     0.093 |     0.06  |          41.3 |\n",
            "+---------------------------------------------------------------------------------------------------------------------------------------------------------------------------------------------+----------------+--------+-----------+-----------+---------------+\n"
          ]
        }
      ]
    },
    {
      "cell_type": "markdown",
      "metadata": {
        "id": "g5myZ5dOOefc"
      },
      "source": [
        "## Question Answering using LLM (with Prompt Engineering)"
      ]
    },
    {
      "cell_type": "code",
      "source": [
        "system_prompt = \"You are an expert medical assistant tasked with answering questions based on the content of a medical manual. Use the provided context to give accurate, concise, and relevant answers. If the context does not contain enough information to answer the question fully, clearly state that and provide a general response based on your knowledge. Format your answers clearly and professionally.\""
      ],
      "metadata": {
        "id": "dDzgF2gx9n2C"
      },
      "execution_count": 16,
      "outputs": []
    },
    {
      "cell_type": "markdown",
      "metadata": {
        "id": "9Jg3r_LWOeff"
      },
      "source": [
        "### Query 1: What is the protocol for managing sepsis in a critical care unit?"
      ]
    },
    {
      "cell_type": "code",
      "source": [
        "user_input_1llmpmt = system_prompt+\"\\n\"+ \"What is the protocol for managing sepsis in a critical care unit?\"\n",
        "prompt_engineered_response_1 = generate_llama_response(user_input_1llmpmt)\n",
        "prompt_engineered_response_1"
      ],
      "metadata": {
        "id": "YqM4VMw5ROhX",
        "colab": {
          "base_uri": "https://localhost:8080/",
          "height": 226
        },
        "outputId": "cb6dcef2-6621-43e7-d566-8429efb4ec08"
      },
      "execution_count": 17,
      "outputs": [
        {
          "output_type": "stream",
          "name": "stderr",
          "text": [
            "Llama.generate: prefix-match hit\n",
            "\n",
            "llama_print_timings:        load time =     163.25 ms\n",
            "llama_print_timings:      sample time =     407.24 ms /   695 runs   (    0.59 ms per token,  1706.62 tokens per second)\n",
            "llama_print_timings: prompt eval time =     103.08 ms /   116 tokens (    0.89 ms per token,  1125.34 tokens per second)\n",
            "llama_print_timings:        eval time =    6675.77 ms /   694 runs   (    9.62 ms per token,   103.96 tokens per second)\n",
            "llama_print_timings:       total time =    7748.29 ms /   810 tokens\n"
          ]
        },
        {
          "output_type": "execute_result",
          "data": {
            "text/plain": [
              "' In a critical care unit, managing sepsis involves immediate recognition, quick initiation of appropriate therapy, and ongoing assessment and adjustment. Here are general steps for managing sepsis in a critical care setting:\\n\\n1. Recognition: Suspect sepsis based on clinical signs such as fever or hypothermia, tachycardia or bradycardia, respiratory distress, altered mental status, and lactic acidosis. Obtain blood cultures before starting antibiotics if possible.\\n\\n2. Initial Resuscitation: Administer high-flow oxygen via a nonrebreather mask to maintain adequate oxygenation. Start intravenous (IV) access with large bore catheters for fluid resuscitation. Give 30 mL/kg of crystalloid solution over the first hour, and repeat as needed based on hemodynamic response.\\n\\n3. Antibiotics: Administer broad-spectrum antibiotics based on suspected infection site and microbiology data if available. Consider empiric coverage for common pathogens such as methicillin-resistant Staphylococcus aureus (MRSA), Pseudomonas aeruginosa, and Enterococcus species.\\n\\n4. Source Control: Identify and address the source of infection if possible. This may involve surgical intervention or other interventions such as drainage catheters.\\n\\n5. Fluid Management: Monitor fluid balance closely to avoid over-resuscitation while maintaining adequate tissue perfusion. Consider using colloids, blood products, or vasopressors for additional support in some cases.\\n\\n6. Inotropic Support: Administer IV inotropes if needed to maintain adequate cardiac output and organ perfusion. Commonly used agents include dopamine, dobutamine, milrinone, and epinephrine.\\n\\n7. Electrolyte Management: Monitor electrolytes closely and replace as necessary based on lab results and clinical signs. Pay particular attention to potassium levels due to the risk of hypokalemia with fluid resuscitation.\\n\\n8. Glucose Control: Maintain strict glucose control (ideally <150 mg/dL) using insulin infusions if needed, as hyperglycemia can worsen outcomes in sepsis patients.\\n\\n9. Hemodynamic Monitoring: Use tools such as central venous pressure monitoring and pulmonary artery catheters to assess fluid status, cardiac output, and oxygenation/ventilation status.\\n\\n10. Renal Replacement Therapy (RRT): Consider initiating RRT in cases of severe sepsis or septic shock with evidence of renal dysfunction. This can help remove waste products, maintain electrolyte balance, and support fluid removal.\\n\\n11. Other Supportive Measures: Address any other complications that may arise during the course of treatment for sepsis, such as coagulopathy or acute respiratory distress syndrome (ARDS).\\n\\nRemember, individual patient care plans will vary based on their specific clinical presentation and response to therapy. Close collaboration between healthcare professionals is essential in managing sepsis effectively in a critical care setting.'"
            ],
            "application/vnd.google.colaboratory.intrinsic+json": {
              "type": "string"
            }
          },
          "metadata": {},
          "execution_count": 17
        }
      ]
    },
    {
      "cell_type": "markdown",
      "metadata": {
        "id": "iYpyw4HjOeff"
      },
      "source": [
        "### Query 2: What are the common symptoms for appendicitis, and can it be cured via medicine? If not, what surgical procedure should be followed to treat it?"
      ]
    },
    {
      "cell_type": "code",
      "source": [
        "user_input_2llmpmt = system_prompt+\"\\n\"+ \"What are the common symptoms for appendicitis, and can it be cured via medicine? If not, what surgical procedure should be followed to treat it?\"\n",
        "prompt_engineered_response_2 = generate_llama_response(user_input_2llmpmt)\n",
        "prompt_engineered_response_2"
      ],
      "metadata": {
        "id": "GXl09pFfRPBr",
        "colab": {
          "base_uri": "https://localhost:8080/",
          "height": 226
        },
        "outputId": "a644561f-f616-4a8c-8d44-0bd1a053dd4b"
      },
      "execution_count": 18,
      "outputs": [
        {
          "output_type": "stream",
          "name": "stderr",
          "text": [
            "Llama.generate: prefix-match hit\n",
            "\n",
            "llama_print_timings:        load time =     163.25 ms\n",
            "llama_print_timings:      sample time =     138.94 ms /   239 runs   (    0.58 ms per token,  1720.19 tokens per second)\n",
            "llama_print_timings: prompt eval time =      58.26 ms /    62 tokens (    0.94 ms per token,  1064.21 tokens per second)\n",
            "llama_print_timings:        eval time =    2272.61 ms /   238 runs   (    9.55 ms per token,   104.73 tokens per second)\n",
            "llama_print_timings:       total time =    2583.89 ms /   300 tokens\n"
          ]
        },
        {
          "output_type": "execute_result",
          "data": {
            "text/plain": [
              "\"Appendicitis is a medical condition characterized by inflammation of the appendix. Common symptoms include:\\n\\n1. Abdominal pain, usually starting around the navel and then shifting to the lower right side.\\n2. Loss of appetite.\\n3. Nausea and vomiting.\\n4. Fever (often low-grade at first).\\n5. Constipation or diarrhea.\\n6. Abdominal swelling and rigidity.\\n7. Inability to pass gas or have a bowel movement.\\n8. Feeling sick, weak, or generally unwell.\\n\\nAppendicitis cannot be cured via medicine alone as the inflammation can lead to appendix rupture if left untreated. If diagnosed early, antibiotics may help manage symptoms and prevent complications before surgery. However, a surgical procedure called an appendectomy is typically required for treatment. This involves removing the infected appendix through either open or laparoscopic surgery. It's essential to consult with a healthcare professional if you suspect appendicitis as early diagnosis and intervention can significantly improve outcomes.\""
            ],
            "application/vnd.google.colaboratory.intrinsic+json": {
              "type": "string"
            }
          },
          "metadata": {},
          "execution_count": 18
        }
      ]
    },
    {
      "cell_type": "markdown",
      "metadata": {
        "id": "dRp92JQZOeff"
      },
      "source": [
        "### Query 3: What are the effective treatments or solutions for addressing sudden patchy hair loss, commonly seen as localized bald spots on the scalp, and what could be the possible causes behind it?"
      ]
    },
    {
      "cell_type": "code",
      "source": [
        "user_input_3llmpmt = system_prompt+\"\\n\"+ \"What are the effective treatments or solutions for addressing sudden patchy hair loss, commonly seen as localized bald spots on the scalp, and what could be the possible causes behind it?\"\n",
        "prompt_engineered_response_3 = generate_llama_response(user_input_3llmpmt)\n",
        "prompt_engineered_response_3"
      ],
      "metadata": {
        "id": "JOgATEpMRPve",
        "colab": {
          "base_uri": "https://localhost:8080/",
          "height": 226
        },
        "outputId": "4712d986-7c4d-4761-91f0-d4c4b7220128"
      },
      "execution_count": 19,
      "outputs": [
        {
          "output_type": "stream",
          "name": "stderr",
          "text": [
            "Llama.generate: prefix-match hit\n",
            "\n",
            "llama_print_timings:        load time =     163.25 ms\n",
            "llama_print_timings:      sample time =     249.21 ms /   422 runs   (    0.59 ms per token,  1693.36 tokens per second)\n",
            "llama_print_timings: prompt eval time =      58.24 ms /    64 tokens (    0.91 ms per token,  1098.86 tokens per second)\n",
            "llama_print_timings:        eval time =    4024.56 ms /   421 runs   (    9.56 ms per token,   104.61 tokens per second)\n",
            "llama_print_timings:       total time =    4585.60 ms /   485 tokens\n"
          ]
        },
        {
          "output_type": "execute_result",
          "data": {
            "text/plain": [
              "'There are several potential treatments for sudden, patchy hair loss, also known as alopecia areata. This condition is characterized by round patches of baldness that develop when the immune system attacks hair follicles. Here are some effective solutions:\\n\\n1. Topical corticosteroids: These medications can be applied directly to the affected area to reduce inflammation and promote regrowth. They may be prescribed in the form of creams, gels, or foams.\\n2. Injections: Corticosteroid injections into the bald spots can also help stimulate hair growth by reducing inflammation and suppressing the immune response.\\n3. Minoxidil: This medication is applied topically to the scalp and has been shown to promote hair regrowth in some people with alopecia areata. It works by increasing blood flow to the follicles and extending their growth phase.\\n4. DHT blockers: Finasteride and dutasteride are medications that can help slow down or stop hair loss by blocking dihydrotestosterone (DHT), a hormone that contributes to balding. They may be prescribed for people with alopecia areata who also have androgenetic alopecia, which is caused by DHT.\\n5. Immunotherapy: In some cases, doctors may recommend immunotherapies such as contact sensitization or intralesional injections of allergens to stimulate an immune response that promotes hair regrowth.\\n6. Wigs and hairpieces: For those who prefer not to use medications or undergo invasive treatments, wigs and hairpieces can be effective solutions for covering up bald spots.\\n\\nAs for the possible causes of sudden patchy hair loss, they may include autoimmune disorders, stress, genetics, vitamin deficiencies, infections, and certain medications. A healthcare professional should be consulted to determine the underlying cause and develop an appropriate treatment plan.'"
            ],
            "application/vnd.google.colaboratory.intrinsic+json": {
              "type": "string"
            }
          },
          "metadata": {},
          "execution_count": 19
        }
      ]
    },
    {
      "cell_type": "markdown",
      "metadata": {
        "id": "AA45zwyUOefg"
      },
      "source": [
        "### Query 4:  What treatments are recommended for a person who has sustained a physical injury to brain tissue, resulting in temporary or permanent impairment of brain function?"
      ]
    },
    {
      "cell_type": "code",
      "source": [
        "user_input_4llmpmt = system_prompt+\"\\n\"+ \"What treatments are recommended for a person who has sustained a physical injury to brain tissue, resulting in temporary or permanent impairment of brain function?\"\n",
        "prompt_engineered_response_4 = generate_llama_response(user_input_4llmpmt)\n",
        "prompt_engineered_response_4"
      ],
      "metadata": {
        "id": "VA7G8FOnRQZY",
        "colab": {
          "base_uri": "https://localhost:8080/",
          "height": 226
        },
        "outputId": "17df1d09-e77d-4ec4-9b9b-c62fd1805227"
      },
      "execution_count": 20,
      "outputs": [
        {
          "output_type": "stream",
          "name": "stderr",
          "text": [
            "Llama.generate: prefix-match hit\n",
            "\n",
            "llama_print_timings:        load time =     163.25 ms\n",
            "llama_print_timings:      sample time =     192.64 ms /   328 runs   (    0.59 ms per token,  1702.63 tokens per second)\n",
            "llama_print_timings: prompt eval time =      57.91 ms /    58 tokens (    1.00 ms per token,  1001.64 tokens per second)\n",
            "llama_print_timings:        eval time =    3121.72 ms /   327 runs   (    9.55 ms per token,   104.75 tokens per second)\n",
            "llama_print_timings:       total time =    3546.82 ms /   385 tokens\n"
          ]
        },
        {
          "output_type": "execute_result",
          "data": {
            "text/plain": [
              "\"For someone with a brain injury causing temporary or permanent impairment of brain function, treatment may include:\\n\\n1. Emergency care: This could involve addressing any life-threatening conditions such as airway obstruction, breathing difficulties, or excessive bleeding.\\n2. Medications: Depending on the specific symptoms and complications, medications might be prescribed to manage seizures, control pain, reduce swelling in the brain, prevent or treat infections, or improve cognitive function.\\n3. Rehabilitation therapy: This may include physical therapy, occupational therapy, speech-language therapy, and/or cognitive rehabilitation to help individuals regain lost skills and adapt to any residual impairments.\\n4. Surgery: In some cases, surgery might be necessary to remove blood clots or repair skull fractures that could worsen the injury or hinder recovery.\\n5. Assistive devices: Devices such as wheelchairs, walkers, braces, and communication aids can help individuals with brain injuries manage their daily lives more effectively.\\n6. Support groups: Connecting with others who have experienced similar injuries can provide emotional support and practical advice for coping with the challenges of recovery.\\n7. Lifestyle modifications: Making adjustments to one's environment, routine, or diet may help improve overall well-being and facilitate a smoother rehabilitation process.\\n8. Psychological counseling: Addressing any emotional or psychological issues that arise from the injury can be crucial for long-term recovery and maintaining quality of life.\""
            ],
            "application/vnd.google.colaboratory.intrinsic+json": {
              "type": "string"
            }
          },
          "metadata": {},
          "execution_count": 20
        }
      ]
    },
    {
      "cell_type": "markdown",
      "metadata": {
        "id": "TYXxiSuBOefg"
      },
      "source": [
        "### Query 5: What are the necessary precautions and treatment steps for a person who has fractured their leg during a hiking trip, and what should be considered for their care and recovery?"
      ]
    },
    {
      "cell_type": "code",
      "source": [
        "user_input_5llmpmt = system_prompt+\"\\n\"+ \"What are the necessary precautions and treatment steps for a person who has fractured their leg during a hiking trip, and what should be considered for their care and recovery?\"\n",
        "prompt_engineered_response_5 = generate_llama_response(user_input_5llmpmt)\n",
        "prompt_engineered_response_5"
      ],
      "metadata": {
        "id": "mE2GMQk8RQ_p",
        "colab": {
          "base_uri": "https://localhost:8080/",
          "height": 226
        },
        "outputId": "642d9db7-31fb-44d7-f792-46d9e67cb549"
      },
      "execution_count": 21,
      "outputs": [
        {
          "output_type": "stream",
          "name": "stderr",
          "text": [
            "Llama.generate: prefix-match hit\n",
            "\n",
            "llama_print_timings:        load time =     163.25 ms\n",
            "llama_print_timings:      sample time =     196.98 ms /   341 runs   (    0.58 ms per token,  1731.11 tokens per second)\n",
            "llama_print_timings: prompt eval time =      78.87 ms /    65 tokens (    1.21 ms per token,   824.15 tokens per second)\n",
            "llama_print_timings:        eval time =    3249.37 ms /   340 runs   (    9.56 ms per token,   104.64 tokens per second)\n",
            "llama_print_timings:       total time =    3710.48 ms /   405 tokens\n"
          ]
        },
        {
          "output_type": "execute_result",
          "data": {
            "text/plain": [
              "\"1. Necessary Precautions:\\n   - Ensure that the person does not bear weight on the affected leg to prevent further damage or displacement of the fracture.\\n   - Apply a splint, sling, or brace to immobilize the leg and maintain alignment of the bones.\\n   - Keep the injured area elevated above heart level to reduce swelling and pain.\\n   - Protect the injury from direct sunlight and extreme temperatures.\\n   - Administer over-the-counter pain medication as needed for comfort, but avoid giving aspirin due to its blood thinning properties which may increase bleeding risk.\\n\\n2. Treatment Steps:\\n   - Seek medical attention promptly if you suspect a fracture or cannot move the leg without causing severe pain.\\n   - The healthcare professional will assess the injury and determine the type of fracture, which could include an X-ray examination.\\n   - Depending on the severity of the fracture, treatment options may range from immobilization with a cast to surgery for complex or displaced fractures.\\n\\n3. Care and Recovery Considerations:\\n   - Follow your healthcare provider's instructions regarding wound care, activity restrictions, and medication use.\\n   - Maintain good nutrition and hydration during recovery to support bone healing.\\n   - Engage in recommended exercises as advised by a medical professional to regain strength and flexibility in the affected leg.\\n   - Monitor for signs of infection such as redness, warmth, swelling, or increased pain at the injury site. If these symptoms occur, contact your healthcare provider immediately.\""
            ],
            "application/vnd.google.colaboratory.intrinsic+json": {
              "type": "string"
            }
          },
          "metadata": {},
          "execution_count": 21
        }
      ]
    },
    {
      "cell_type": "markdown",
      "source": [
        "**Insights:**\n",
        "- The responses are derived from different sources, the responses are better than raw llm but still needs authentication."
      ],
      "metadata": {
        "id": "m0pVDSHGc8zI"
      }
    },
    {
      "cell_type": "markdown",
      "source": [
        "###**Comparing LLM responses (with Prompt Engineering) with Gold-Standard**"
      ],
      "metadata": {
        "id": "ap78hR7XegVL"
      }
    },
    {
      "cell_type": "code",
      "source": [
        "prompt_engineered_responses = {\n",
        "    \"Question-1\": \"\"\" In a critical care unit, managing sepsis involves immediate recognition, quick initiation of appropriate therapy, and ongoing assessment and adjustment. Here are general steps for managing sepsis in a critical care setting:\n",
        "\n",
        "1. Recognition: Suspect sepsis based on clinical signs such as fever or hypothermia, tachycardia or bradycardia, respiratory distress, altered mental status, and lactic acidosis. Obtain blood cultures before starting antibiotics if possible.\n",
        "\n",
        "2. Initial resuscitation: Administer high-flow oxygen via a nonrebreather mask to maintain adequate oxygenation. Start intravenous (IV) access with large bore catheters for fluid administration. Give 30 mL/kg of crystalloid solution over the first hour, and continue infusion at a rate sufficient to maintain mean arterial pressure (MAP) >65 mmHg or a MAP increase of ≥20% from baseline.\n",
        "\n",
        "3. Antibiotics: Administer broad-spectrum antibiotics based on suspected infection site and microbial susceptibilities. Consider empiric coverage for common pathogens such as methicillin-resistant Staphylococcus aureus (MRSA), Pseudomonas aeruginosa, and Enterococcus species.\n",
        "\n",
        "4. Source control: Identify and address the source of infection whenever possible. This may include surgical intervention for abscesses or drainage procedures for infected wounds.\n",
        "\n",
        "5. Fluid management: Monitor fluid balance closely to avoid over-resuscitation while maintaining adequate tissue perfusion. Consider using colloids, blood products, or vasopressors if needed to maintain MAP and organ function.\n",
        "\n",
        "6. Inotropic support: Administer inotropes such as dopamine, dobutamine, or milrinone to improve cardiac output when necessary.\n",
        "\n",
        "7. Electrolyte replacement: Monitor electrolytes closely and replace as needed due to diuretic therapy, insensible losses, or ongoing metabolic demands.\n",
        "\n",
        "8. Glucose control: Maintain strict glucose control (<150 mg/dL) using continuous insulin infusions if necessary.\n",
        "\n",
        "9. Renal replacement therapy: Consider initiating renal replacement therapy in cases of severe sepsis or septic shock with persistent organ dysfunction despite adequate fluid resuscitation and vasopressor support.\n",
        "\n",
        "10. Monitoring: Continuously monitor vital signs, laboratory values (including lactate levels), urine output, and clinical response to treatment. Adjust therapy as needed based on ongoing assessment.\"\"\",\n",
        "\n",
        "    \"Question-2\": \"\"\"Appendicitis is a medical condition characterized by inflammation of the appendix. Common symptoms include:\n",
        "\n",
        "1. Abdominal pain, usually starting around the navel and then shifting to the lower right side.\n",
        "2. Loss of appetite.\n",
        "3. Nausea and vomiting.\n",
        "4. Fever (often low-grade at first).\n",
        "5. Constipation or diarrhea.\n",
        "6. Abdominal swelling and rigidity.\n",
        "7. Inability to pass gas or have a bowel movement.\n",
        "8. Feeling sick, weak, or generally unwell.\n",
        "\n",
        "Appendicitis cannot be cured via medicine alone as the inflammation can lead to rupture of the appendix if left untreated. If the appendix bursts, it may cause peritonitis – a serious infection in the abdominal cavity that requires immediate medical attention. The standard treatment for appendicitis is surgical removal of the affected organ called an appendectomy. This procedure can be performed as open surgery or laparoscopically (keyhole surgery). Both methods aim to remove the inflamed appendix while minimizing damage to surrounding tissues and ensuring a quick recovery.\"\"\",\n",
        "\n",
        "    \"Question-3\": \"\"\"There are several potential treatments for sudden, patchy hair loss, also known as alopecia areata. This condition is characterized by round or oval bald spots that develop suddenly on various areas of the scalp. The exact cause of alopecia areata is not fully understood, but it's believed to be an autoimmune disorder where the body attacks its own hair follicles.\n",
        "\n",
        "    1. Topical treatments: Minoxidil (Rogaine) is a medication that can help stimulate hair growth in some people with alopecia areata. It comes as a liquid or foam and is applied directly to the scalp twice daily.\n",
        "\n",
        "    2. Injections: Corticosteroid injections, such as triamcinolone acetonide (Kenalog), can be effective for treating small bald spots. The medication is injected into the affected area every 4-6 weeks until hair regrowth occurs.\n",
        "\n",
        "    3. Systemic treatments: Oral corticosteroids like prednisone may be prescribed to treat extensive alopecia areata or when other treatments have not been effective. However, long-term use of oral steroids can lead to side effects and should only be considered under the supervision of a healthcare professional.\n",
        "\n",
        "    4. Immunotherapy: Diphenylcyclopropenone (DPCP) is an immunotherapeutic agent that can help promote hair regrowth in some people with alopecia areata. It's applied to the scalp once or twice weekly and may cause skin irritation as a side effect.\n",
        "\n",
        "    5. Alternative therapies: Some alternative treatments, such as acupuncture, herbal remedies (like saw palmetto), and essential oils (such as rosemary oil) have shown promise in promoting hair growth for some individuals with alopecia areata. However, more research is needed to confirm their effectiveness and safety.\n",
        "\n",
        "    Possible causes of sudden patchy hair loss include:\n",
        "    - Autoimmune disorders like alopecia areata or lupus erythematosus\n",
        "    - Hormonal imbalances (such as thyroid issues)\n",
        "    - Nutritional deficiencies, particularly in iron and protein\n",
        "    - Stress or emotional trauma\n",
        "    - Certain medications (like chemotherapy drugs, antidepressants, and beta-blockers)\n",
        "    - Infections like ringworm of the scalp.\n",
        "\n",
        "    It's essential to consult a healthcare professional for an accurate diagnosis and appropriate treatment plan if you experience sudden patchy hair loss.\"\"\",\n",
        "\n",
        "    \"Question-4\": \"\"\"Based on the context provided, there is no specific information about treatments for a person with a physical injury to brain tissue. However, I can provide some general information based on common medical practices and research findings.\n",
        "\n",
        "For temporary impairment of brain function due to a traumatic brain injury (TBI), treatment may include:\n",
        "1. Rest and relaxation: The injured person should get plenty of rest and avoid physical or mental exertion that could worsen their condition.\n",
        "2. Medications: Depending on the symptoms, medications such as pain relievers, anti-inflammatory drugs, sedatives, or stimulants may be prescribed to manage various symptoms like headache, anxiety, depression, or sleep disturbances.\n",
        "3. Rehabilitation therapy: Physical, occupational, and speech therapies can help improve motor skills, cognitive function, communication abilities, and overall quality of life.\n",
        "4. Surgery: In some cases, surgery may be necessary to remove hematomas (blood clots) or repair skull fractures that could worsen the condition or increase the risk of complications.\n",
        "5. Dietary modifications: A balanced diet rich in nutrients and antioxidants can help support brain health during recovery.\n",
        "6. Support groups: Joining a support group for TBI survivors and their families can provide emotional and social benefits, as well as valuable information about coping strategies and resources.\n",
        "\n",
        "For permanent impairment of brain function due to a traumatic injury or other conditions like stroke or degenerative diseases, treatment may focus on managing symptoms and maximizing functional abilities through:\n",
        "1. Rehabilitation therapy: As mentioned above, rehabilitation therapies can help improve motor skills, cognitive function, communication abilities, and overall quality of life for individuals with permanent brain impairment as well.\n",
        "2. Assistive devices: Devices like wheelchairs, walkers, or communication aids can make daily activities easier and safer for those with physical limitations due to brain injury.\n",
        "3. Medications: Depending on the symptoms, medications may be prescribed to manage various conditions such as seizures, pain, depression, anxiety, or sleep disturbances.\n",
        "4. Lifestyle modifications: Making lifestyle changes like getting regular exercise, practicing stress management techniques, and maintaining a healthy diet can help improve overall health and well-being for individuals with permanent brain impairment.\n",
        "5. Support services: Accessing support services such as home care, transportation assistance, or financial aid can help make daily life easier and more manageable for those with permanent brain injuries.\"\"\",\n",
        "\n",
        "    \"Question-5\": \"\"\"1. Necessary Precautions:\n",
        "   - Ensure that the person does not bear weight on the affected leg to prevent further damage or displacement of the fracture.\n",
        "   - Apply a splint, sling, or brace to immobilize the leg and maintain alignment of the bones.\n",
        "   - Keep the injured area elevated above heart level to reduce swelling and pain.\n",
        "   - Protect the injury from direct sunlight and extreme temperatures.\n",
        "   - Administer over-the-counter pain medication as needed for comfort, but avoid giving aspirin due to its blood thinning properties which may increase bleeding risk.\n",
        "\n",
        "2. Treatment Steps:\n",
        "   - Seek medical attention promptly if you suspect a fracture or cannot move the leg without significant pain.\n",
        "   - The healthcare professional will assess the injury and determine the type of fracture, which could involve setting the bone with pins, plates, or screws in some cases.\n",
        "   - Depending on the severity of the fracture, immobilization may be required using a cast, brace, or splint for several weeks to months.\n",
        "   - Physical therapy and rehabilitation exercises will likely be recommended after healing to restore strength, flexibility, and mobility to the affected leg.\n",
        "\n",
        "3. Considerations for Care and Recovery:\n",
        "   - Provide emotional support and encouragement during recovery as it can be a lengthy process.\n",
        "   - Ensure proper nutrition and hydration to promote optimal bone healing.\n",
        "   - Encourage regular follow-up appointments with the healthcare professional to monitor progress and address any concerns or complications that may arise.\n",
        "   - Make necessary modifications at home, such as installing grab bars in the bathroom or using a shower chair, to make daily activities easier during recovery.\"\"\"\n",
        "}"
      ],
      "metadata": {
        "id": "kKkqn1KrdWgn"
      },
      "execution_count": 22,
      "outputs": []
    },
    {
      "cell_type": "code",
      "source": [
        "# Evaluate Prompt-Engineered LLM\n",
        "prompt_results = {}\n",
        "for q_key in prompt_engineered_responses:\n",
        "  # Use the mapping to get the full question text\n",
        "    full_question = question_map[q_key]\n",
        "    prompt_results[full_question] = evaluate_response(gold_answers[full_question], prompt_engineered_responses[q_key])"
      ],
      "metadata": {
        "colab": {
          "base_uri": "https://localhost:8080/"
        },
        "id": "eRKFMraAeu5H",
        "outputId": "0e00512c-ffcb-4f1d-d59b-a2e3dbdfd533"
      },
      "execution_count": 23,
      "outputs": [
        {
          "output_type": "stream",
          "name": "stderr",
          "text": [
            "/usr/local/lib/python3.11/dist-packages/nltk/translate/bleu_score.py:577: UserWarning: \n",
            "The hypothesis contains 0 counts of 4-gram overlaps.\n",
            "Therefore the BLEU score evaluates to 0, independently of\n",
            "how many N-gram overlaps of lower order it contains.\n",
            "Consider using lower n-gram order or use SmoothingFunction()\n",
            "  warnings.warn(_msg)\n"
          ]
        }
      ]
    },
    {
      "cell_type": "code",
      "source": [
        "# Print Prompt-Engineered LLM Comparison\n",
        "print(\"\\n=== Prompt-Engineered LLM vs Gold Standard ===\")\n",
        "print(tabulate(\n",
        "    [[q] + list(prompt_results[q].values()) for q in prompt_results],\n",
        "    headers=[\"Question\", \"Semantic Sim\", \"BLEU\", \"Rouge-1\", \"Rouge-L\", \"Readability\"],\n",
        "    tablefmt=\"grid\"\n",
        "))"
      ],
      "metadata": {
        "colab": {
          "base_uri": "https://localhost:8080/"
        },
        "id": "Txu-GPNXey7s",
        "outputId": "bb15b3aa-f1e7-4a3a-f198-116315b1f4a5"
      },
      "execution_count": 24,
      "outputs": [
        {
          "output_type": "stream",
          "name": "stdout",
          "text": [
            "\n",
            "=== Prompt-Engineered LLM vs Gold Standard ===\n",
            "+---------------------------------------------------------------------------------------------------------------------------------------------------------------------------------------------+----------------+--------+-----------+-----------+---------------+\n",
            "| Question                                                                                                                                                                                    |   Semantic Sim |   BLEU |   Rouge-1 |   Rouge-L |   Readability |\n",
            "+=============================================================================================================================================================================================+================+========+===========+===========+===============+\n",
            "| What is the protocol for managing sepsis in a critical care unit?                                                                                                                           |          0.805 |  0.037 |     0.267 |     0.133 |           5   |\n",
            "+---------------------------------------------------------------------------------------------------------------------------------------------------------------------------------------------+----------------+--------+-----------+-----------+---------------+\n",
            "| What are the common symptoms of appendicitis, and can it be cured via medicine? If not, what surgical procedure should be followed to treat it?                                             |          0.862 |  0.039 |     0.328 |     0.226 |          30.9 |\n",
            "+---------------------------------------------------------------------------------------------------------------------------------------------------------------------------------------------+----------------+--------+-----------+-----------+---------------+\n",
            "| What are the effective treatments or solutions for addressing sudden patchy hair loss, commonly seen as localized bald spots on the scalp, and what could be the possible causes behind it? |          0.805 |  0     |     0.111 |     0.078 |          31.7 |\n",
            "+---------------------------------------------------------------------------------------------------------------------------------------------------------------------------------------------+----------------+--------+-----------+-----------+---------------+\n",
            "| What treatments are recommended for a person who has sustained a physical injury to brain tissue, resulting in temporary or permanent impairment of brain function?                         |          0.844 |  0.017 |     0.103 |     0.074 |          14.3 |\n",
            "+---------------------------------------------------------------------------------------------------------------------------------------------------------------------------------------------+----------------+--------+-----------+-----------+---------------+\n",
            "| What are the necessary precautions and treatment steps for a person who has fractured their leg during a hiking trip, and what should be considered for their care and recovery?            |          0.85  |  0.016 |     0.146 |     0.091 |          35.7 |\n",
            "+---------------------------------------------------------------------------------------------------------------------------------------------------------------------------------------------+----------------+--------+-----------+-----------+---------------+\n"
          ]
        }
      ]
    },
    {
      "cell_type": "markdown",
      "source": [
        "**Insights:**\n",
        "- The comparison showed better metric readings compared to the raw LLM responses."
      ],
      "metadata": {
        "id": "GXzuXY-j4Scy"
      }
    },
    {
      "cell_type": "markdown",
      "source": [
        "###**Comparing Raw LLM vs LLM with Prompt Engineering**"
      ],
      "metadata": {
        "id": "HFML5CTH4fvh"
      }
    },
    {
      "cell_type": "code",
      "source": [
        "# Comparative Analysis\n",
        "print(\"\\n=== Method Comparison (Average Scores) ===\")\n",
        "avg_raw = {\n",
        "    k: np.mean([raw_results[q][k] for q in raw_results])\n",
        "    for k in raw_results[full_question].keys()\n",
        "}\n",
        "avg_prompt = {\n",
        "    k: np.mean([prompt_results[q][k] for q in prompt_results])\n",
        "    for k in prompt_results[full_question].keys()\n",
        "}\n",
        "\n",
        "print(tabulate(\n",
        "    [\n",
        "        [\"Raw LLM\"] + list(avg_raw.values()),\n",
        "        [\"Prompt-Engineered\"] + list(avg_prompt.values())\n",
        "    ],\n",
        "    headers=[\"Method\", \"Semantic Sim\", \"BLEU\", \"Rouge-1\", \"Rouge-L\", \"Readability\"],\n",
        "    tablefmt=\"grid\"\n",
        "))"
      ],
      "metadata": {
        "colab": {
          "base_uri": "https://localhost:8080/"
        },
        "id": "N2ZgHyQa4pZO",
        "outputId": "59a29e38-abfc-4bc5-c1bb-118e1f5d295e"
      },
      "execution_count": 25,
      "outputs": [
        {
          "output_type": "stream",
          "name": "stdout",
          "text": [
            "\n",
            "=== Method Comparison (Average Scores) ===\n",
            "+-------------------+----------------+--------+-----------+-----------+---------------+\n",
            "| Method            |   Semantic Sim |   BLEU |   Rouge-1 |   Rouge-L |   Readability |\n",
            "+===================+================+========+===========+===========+===============+\n",
            "| Raw LLM           |         0.7242 | 0.0068 |    0.1464 |    0.0946 |         22.26 |\n",
            "+-------------------+----------------+--------+-----------+-----------+---------------+\n",
            "| Prompt-Engineered |         0.8332 | 0.0218 |    0.191  |    0.1204 |         23.52 |\n",
            "+-------------------+----------------+--------+-----------+-----------+---------------+\n"
          ]
        }
      ]
    },
    {
      "cell_type": "markdown",
      "source": [
        "###**Comparison Result**"
      ],
      "metadata": {
        "id": "tYWz9jxj5lTw"
      }
    },
    {
      "cell_type": "code",
      "source": [
        "# Determine which method performed better overall\n",
        "better_method = {}\n",
        "for metric in avg_raw:\n",
        "    if avg_prompt[metric] > avg_raw[metric]:\n",
        "        better_method[metric] = \"Prompt-Engineered\"\n",
        "    else:\n",
        "        better_method[metric] = \"Raw LLM\"\n",
        "\n",
        "print(\"\\n=== Better Performing Method by Metric ===\")\n",
        "print(tabulate(\n",
        "    [[k, v] for k, v in better_method.items()],\n",
        "    headers=[\"Metric\", \"Better Method\"],\n",
        "    tablefmt=\"grid\"\n",
        "))"
      ],
      "metadata": {
        "colab": {
          "base_uri": "https://localhost:8080/"
        },
        "id": "YAtUsm_B5ppX",
        "outputId": "a69289d4-6096-420a-9a83-42e481d10a15"
      },
      "execution_count": 26,
      "outputs": [
        {
          "output_type": "stream",
          "name": "stdout",
          "text": [
            "\n",
            "=== Better Performing Method by Metric ===\n",
            "+--------------+-------------------+\n",
            "| Metric       | Better Method     |\n",
            "+==============+===================+\n",
            "| Semantic Sim | Prompt-Engineered |\n",
            "+--------------+-------------------+\n",
            "| BLEU         | Prompt-Engineered |\n",
            "+--------------+-------------------+\n",
            "| Rouge-1      | Prompt-Engineered |\n",
            "+--------------+-------------------+\n",
            "| Rouge-L      | Prompt-Engineered |\n",
            "+--------------+-------------------+\n",
            "| Readability  | Prompt-Engineered |\n",
            "+--------------+-------------------+\n"
          ]
        }
      ]
    },
    {
      "cell_type": "markdown",
      "source": [
        "**Insights:**\n",
        "* Clearly the comparison showed the better method is LLM with prompt Engineering to get the responses."
      ],
      "metadata": {
        "id": "FzpZ930q50T2"
      }
    },
    {
      "cell_type": "markdown",
      "source": [
        "##**Incorporating RAG on Merck Medical Manual**"
      ],
      "metadata": {
        "id": "RcBzc5bE6ECP"
      }
    },
    {
      "cell_type": "markdown",
      "source": [
        "## Data Preparation for RAG"
      ],
      "metadata": {
        "id": "t_O1PGdNO2M9"
      }
    },
    {
      "cell_type": "markdown",
      "metadata": {
        "id": "uTpWESc53dL9"
      },
      "source": [
        "### Loading the Data"
      ]
    },
    {
      "cell_type": "code",
      "source": [
        "# uncomment and run the following line if using Google Colab\n",
        "from google.colab import drive\n",
        "drive.mount('/content/drive')"
      ],
      "metadata": {
        "id": "ybj2cEnzRSXq",
        "colab": {
          "base_uri": "https://localhost:8080/"
        },
        "outputId": "3ca6b4a0-23e9-4ecf-e8ca-7ad168392e49"
      },
      "execution_count": 27,
      "outputs": [
        {
          "output_type": "stream",
          "name": "stdout",
          "text": [
            "Mounted at /content/drive\n"
          ]
        }
      ]
    },
    {
      "cell_type": "code",
      "source": [
        "# loading data into a pandas dataframe\n",
        "manual_pdf_path = '/content/drive/MyDrive/Colab Notebooks/UT_Austin_AI_ML/NLP_GenAI/Project_05_AI_Medical_Assistant/medical_diagnosis_manual.pdf'\n",
        "pdf_loader = PyMuPDFLoader(manual_pdf_path)\n",
        "manual = pdf_loader.load()"
      ],
      "metadata": {
        "id": "LdOsJ-cGw3v7"
      },
      "execution_count": 28,
      "outputs": []
    },
    {
      "cell_type": "markdown",
      "source": [
        "**Insights:**\n",
        "\n",
        "* PyMuPDF extracts text reliably, preserving structure better than alternatives like pdfplumber.\n",
        "* The extracted text may include headers, footers, or formatting artifacts, which will be addressed in chunking."
      ],
      "metadata": {
        "id": "Y52wJikNSjOj"
      }
    },
    {
      "cell_type": "markdown",
      "metadata": {
        "id": "ffj0ca3eZT4u"
      },
      "source": [
        "### Data Overview"
      ]
    },
    {
      "cell_type": "markdown",
      "metadata": {
        "id": "f9weTDzMxRRS"
      },
      "source": [
        "#### Checking the first 5 pages"
      ]
    },
    {
      "cell_type": "code",
      "source": [
        "for i in range(5):\n",
        "    print(f\"Page Number : {i+1}\",end=\"\\n\")\n",
        "    print(manual[i].page_content,end=\"\\n\")"
      ],
      "metadata": {
        "id": "MSEiL--bRTZT",
        "colab": {
          "base_uri": "https://localhost:8080/"
        },
        "outputId": "40d2b2eb-91db-4fe0-a4ad-701b34eb0ef7"
      },
      "execution_count": 29,
      "outputs": [
        {
          "output_type": "stream",
          "name": "stdout",
          "text": [
            "Page Number : 1\n",
            "adnan.nasir.syed@gmail.com\n",
            "U32NV1EXYH\n",
            "nt for personal use by adnan.nasir.syed@\n",
            "shing the contents in part or full is liable\n",
            "Page Number : 2\n",
            "adnan.nasir.syed@gmail.com\n",
            "U32NV1EXYH\n",
            "This file is meant for personal use by adnan.nasir.syed@gmail.com only.\n",
            "Sharing or publishing the contents in part or full is liable for legal action.\n",
            "Page Number : 3\n",
            "Table of Contents\n",
            "1\n",
            "Front    ................................................................................................................................................................................................................\n",
            "1\n",
            "Cover    .......................................................................................................................................................................................................\n",
            "2\n",
            "Front Matter    ...........................................................................................................................................................................................\n",
            "53\n",
            "1 - Nutritional Disorders    ...............................................................................................................................................................\n",
            "53\n",
            "Chapter 1. Nutrition: General Considerations    .....................................................................................................................\n",
            "59\n",
            "Chapter 2. Undernutrition    .............................................................................................................................................................\n",
            "69\n",
            "Chapter 3. Nutritional Support    ...................................................................................................................................................\n",
            "76\n",
            "Chapter 4. Vitamin Deficiency, Dependency & Toxicity    ..................................................................................................\n",
            "99\n",
            "Chapter 5. Mineral Deficiency & Toxicity    ..............................................................................................................................\n",
            "108\n",
            "Chapter 6. Obesity & the Metabolic Syndrome    ...............................................................................................................\n",
            "120\n",
            "2 - Gastrointestinal Disorders    ..............................................................................................................................................\n",
            "120\n",
            "Chapter 7. Approach to the Patient With Upper GI Complaints    ...............................................................................\n",
            "132\n",
            "Chapter 8. Approach to the Patient With Lower GI Complaints    ...............................................................................\n",
            "143\n",
            "Chapter 9. Diagnostic & Therapeutic GI Procedures    ....................................................................................................\n",
            "150\n",
            "Chapter 10. GI Bleeding    ............................................................................................................................................................\n",
            "158\n",
            "Chapter 11. Acute Abdomen & Surgical Gastroenterology    .........................................................................................\n",
            "172\n",
            "Chapter 12. Esophageal & Swallowing Disorders    ..........................................................................................................\n",
            "183\n",
            "Chapter 13. Gastritis & Peptic Ulcer Disease    ..................................................................................................................\n",
            "196\n",
            "Chapter 14. Bezoars & Foreign Bodies    ..............................................................................................................................\n",
            "199\n",
            "Chapter 15. Pancreatitis    ............................................................................................................................................................\n",
            "206\n",
            "Chapter 16. Gastroenteritis    ......................................................................................................................................................\n",
            "213\n",
            "Chapter 17. Malabsorption Syndromes    ..............................................................................................................................\n",
            "225\n",
            "Chapter 18. Irritable Bowel Syndrome    ................................................................................................................................\n",
            "229\n",
            "Chapter 19. Inflammatory Bowel Disease    .........................................................................................................................\n",
            "241\n",
            "Chapter 20. Diverticular Disease    ...........................................................................................................................................\n",
            "246\n",
            "Chapter 21. Anorectal Disorders    ............................................................................................................................................\n",
            "254\n",
            "Chapter 22. Tumors of the GI Tract    ......................................................................................................................................\n",
            "275\n",
            "3 - Hepatic & Biliary Disorders    ............................................................................................................................................\n",
            "275\n",
            "Chapter 23. Approach to the Patient With Liver Disease    ...........................................................................................\n",
            "294\n",
            "Chapter 24. Testing for Hepatic & Biliary Disorders    ......................................................................................................\n",
            "305\n",
            "Chapter 25. Drugs & the Liver    ................................................................................................................................................\n",
            "308\n",
            "Chapter 26. Alcoholic Liver Disease    ....................................................................................................................................\n",
            "314\n",
            "Chapter 27. Fibrosis & Cirrhosis    ............................................................................................................................................\n",
            "322\n",
            "Chapter 28. Hepatitis    ..................................................................................................................................................................\n",
            "333\n",
            "Chapter 29. Vascular Disorders of the Liver    .....................................................................................................................\n",
            "341\n",
            "Chapter 30. Liver Masses & Granulomas    ..........................................................................................................................\n",
            "348\n",
            "Chapter 31. Gallbladder & Bile Duct Disorders    ...............................................................................................................\n",
            "362\n",
            "4 - Musculoskeletal & Connective Tissue Disorders    .........................................................................................\n",
            "362\n",
            "Chapter 32. Approach to the Patient With Joint Disease    ............................................................................................\n",
            "373\n",
            "Chapter 33. Autoimmune Rheumatic Disorders    ..............................................................................................................\n",
            "391\n",
            "Chapter 34. Vasculitis    .................................................................................................................................................................\n",
            "416\n",
            "Chapter 35. Joint Disorders    .....................................................................................................................................................\n",
            "435\n",
            "Chapter 36. Crystal-Induced Arthritides    ..............................................................................................................................\n",
            "443\n",
            "Chapter 37. Osteoporosis    .........................................................................................................................................................\n",
            "448\n",
            "Chapter 38. Paget's Disease of Bone    ..................................................................................................................................\n",
            "451\n",
            "Chapter 39. Osteonecrosis    .......................................................................................................................................................\n",
            "455\n",
            "Chapter 40. Infections of Joints & Bones    ...........................................................................................................................\n",
            "463\n",
            "Chapter 41. Bursa, Muscle & Tendon Disorders    .............................................................................................................\n",
            "470\n",
            "Chapter 42. Neck & Back Pain    ...............................................................................................................................................\n",
            "481\n",
            "Chapter 43. Hand Disorders    ....................................................................................................................................................\n",
            "adnan.nasir.syed@gmail.com\n",
            "U32NV1EXYH\n",
            "This file is meant for personal use by adnan.nasir.syed@gmail.com only.\n",
            "Sharing or publishing the contents in part or full is liable for legal action.\n",
            "Page Number : 4\n",
            "491\n",
            "Chapter 44. Foot & Ankle Disorders    .....................................................................................................................................\n",
            "502\n",
            "Chapter 45. Tumors of Bones & Joints    ...............................................................................................................................\n",
            "510\n",
            "5 - Ear, Nose, Throat & Dental Disorders    ..................................................................................................................\n",
            "510\n",
            "Chapter 46. Approach to the Patient With Ear Problems    ...........................................................................................\n",
            "523\n",
            "Chapter 47. Hearing Loss    .........................................................................................................................................................\n",
            "535\n",
            "Chapter 48. Inner Ear Disorders    ............................................................................................................................................\n",
            "542\n",
            "Chapter 49. Middle Ear & Tympanic Membrane Disorders    ........................................................................................\n",
            "550\n",
            "Chapter 50. External Ear Disorders    .....................................................................................................................................\n",
            "554\n",
            "Chapter 51. Approach to the Patient With Nasal & Pharyngeal Symptoms    .......................................................\n",
            "567\n",
            "Chapter 52. Oral & Pharyngeal Disorders    .........................................................................................................................\n",
            "578\n",
            "Chapter 53. Nose & Paranasal Sinus Disorders    .............................................................................................................\n",
            "584\n",
            "Chapter 54. Laryngeal Disorders    ...........................................................................................................................................\n",
            "590\n",
            "Chapter 55. Tumors of the Head & Neck    ...........................................................................................................................\n",
            "600\n",
            "Chapter 56. Approach to Dental & Oral Symptoms    .......................................................................................................\n",
            "619\n",
            "Chapter 57. Common Dental Disorders    .............................................................................................................................\n",
            "629\n",
            "Chapter 58. Dental Emergencies    ..........................................................................................................................................\n",
            "635\n",
            "Chapter 59. Temporomandibular Disorders    ......................................................................................................................\n",
            "641\n",
            "6 - Eye Disorders    ............................................................................................................................................................................\n",
            "641\n",
            "Chapter 60. Approach to the Ophthalmologic Patient    ..................................................................................................\n",
            "669\n",
            "Chapter 61. Refractive Error    ...................................................................................................................................................\n",
            "674\n",
            "Chapter 62. Eyelid & Lacrimal Disorders    ...........................................................................................................................\n",
            "680\n",
            "Chapter 63. Conjunctival & Scleral Disorders    .................................................................................................................\n",
            "690\n",
            "Chapter 64. Corneal Disorders    ...............................................................................................................................................\n",
            "703\n",
            "Chapter 65. Glaucoma    ...............................................................................................................................................................\n",
            "710\n",
            "Chapter 66. Cataract    ...................................................................................................................................................................\n",
            "713\n",
            "Chapter 67. Uveitis    ......................................................................................................................................................................\n",
            "719\n",
            "Chapter 68. Retinal Disorders    .................................................................................................................................................\n",
            "731\n",
            "Chapter 69. Optic Nerve Disorders    ......................................................................................................................................\n",
            "737\n",
            "Chapter 70. Orbital Diseases    ..................................................................................................................................................\n",
            "742\n",
            "7 - Dermatologic Disorders    ....................................................................................................................................................\n",
            "742\n",
            "Chapter 71. Approach to the Dermatologic Patient    .......................................................................................................\n",
            "755\n",
            "Chapter 72. Principles of Topical Dermatologic Therapy    ............................................................................................\n",
            "760\n",
            "Chapter 73. Acne & Related Disorders    ...............................................................................................................................\n",
            "766\n",
            "Chapter 74. Bullous Diseases    .................................................................................................................................................\n",
            "771\n",
            "Chapter 75. Cornification Disorders    .....................................................................................................................................\n",
            "775\n",
            "Chapter 76. Dermatitis    ...............................................................................................................................................................\n",
            "786\n",
            "Chapter 77. Reactions to Sunlight    ........................................................................................................................................\n",
            "791\n",
            "Chapter 78. Psoriasis & Scaling Diseases    ........................................................................................................................\n",
            "799\n",
            "Chapter 79. Hypersensitivity & Inflammatory Disorders    .............................................................................................\n",
            "808\n",
            "Chapter 80. Sweating Disorders    ............................................................................................................................................\n",
            "811\n",
            "Chapter 81. Bacterial Skin Infections    ...................................................................................................................................\n",
            "822\n",
            "Chapter 82. Fungal Skin Infections    ......................................................................................................................................\n",
            "831\n",
            "Chapter 83. Parasitic Skin Infections    ...................................................................................................................................\n",
            "836\n",
            "Chapter 84. Viral Skin Diseases    ............................................................................................................................................\n",
            "841\n",
            "Chapter 85. Pigmentation Disorders    ....................................................................................................................................\n",
            "846\n",
            "Chapter 86. Hair Disorders    .......................................................................................................................................................\n",
            "855\n",
            "Chapter 87. Nail Disorders    .......................................................................................................................................................\n",
            "861\n",
            "Chapter 88. Pressure Ulcers    ...................................................................................................................................................\n",
            "867\n",
            "Chapter 89. Benign Tumors    .....................................................................................................................................................\n",
            "874\n",
            "Chapter 90. Cancers of the Skin    ............................................................................................................................................\n",
            "882\n",
            "8 - Endocrine & Metabolic Disorders    .............................................................................................................................\n",
            "882\n",
            "Chapter 91. Principles of Endocrinology    ............................................................................................................................\n",
            "887\n",
            "Chapter 92. Pituitary Disorders    ..............................................................................................................................................\n",
            "901\n",
            "Chapter 93. Thyroid Disorders    ................................................................................................................................................\n",
            "adnan.nasir.syed@gmail.com\n",
            "U32NV1EXYH\n",
            "This file is meant for personal use by adnan.nasir.syed@gmail.com only.\n",
            "Sharing or publishing the contents in part or full is liable for legal action.\n",
            "Page Number : 5\n",
            "921\n",
            "Chapter 94. Adrenal Disorders    ................................................................................................................................................\n",
            "936\n",
            "Chapter 95. Polyglandular Deficiency Syndromes    ........................................................................................................\n",
            "939\n",
            "Chapter 96. Porphyrias    ..............................................................................................................................................................\n",
            "949\n",
            "Chapter 97. Fluid & Electrolyte Metabolism    .....................................................................................................................\n",
            "987\n",
            "Chapter 98. Acid-Base Regulation & Disorders    ..............................................................................................................\n",
            "1001\n",
            "Chapter 99. Diabetes Mellitus & Disorders of Carbohydrate Metabolism    ........................................................\n",
            "1024\n",
            "Chapter 100. Lipid Disorders    ................................................................................................................................................\n",
            "1034\n",
            "Chapter 101. Amyloidosis    ......................................................................................................................................................\n",
            "1037\n",
            "Chapter 102. Carcinoid Tumors    ..........................................................................................................................................\n",
            "1040\n",
            "Chapter 103. Multiple Endocrine Neoplasia Syndromes    .........................................................................................\n",
            "1046\n",
            "9 - Hematology & Oncology    ...............................................................................................................................................\n",
            "1046\n",
            "Chapter 104. Approach to the Patient With Anemia    ..................................................................................................\n",
            "1050\n",
            "Chapter 105. Anemias Caused by Deficient Erythropoiesis    ...................................................................................\n",
            "1061\n",
            "Chapter 106. Anemias Caused by Hemolysis    ...............................................................................................................\n",
            "1078\n",
            "Chapter 107. Neutropenia & Lymphocytopenia    ...........................................................................................................\n",
            "1086\n",
            "Chapter 108. Thrombocytopenia & Platelet Dysfunction    .........................................................................................\n",
            "1097\n",
            "Chapter 109. Hemostasis    ......................................................................................................................................................\n",
            "1104\n",
            "Chapter 110. Thrombotic Disorders    ...................................................................................................................................\n",
            "1107\n",
            "Chapter 111. Coagulation Disorders    ..................................................................................................................................\n",
            "1113\n",
            "Chapter 112. Bleeding Due to Abnormal Blood Vessels    ...........................................................................................\n",
            "1116\n",
            "Chapter 113. Spleen Disorders    ............................................................................................................................................\n",
            "1120\n",
            "Chapter 114. Eosinophilic Disorders    .................................................................................................................................\n",
            "1126\n",
            "Chapter 115. Histiocytic Syndromes    .................................................................................................................................\n",
            "1131\n",
            "Chapter 116. Myeloproliferative Disorders    .....................................................................................................................\n",
            "1141\n",
            "Chapter 117. Leukemias    .........................................................................................................................................................\n",
            "1154\n",
            "Chapter 118. Lymphomas    ......................................................................................................................................................\n",
            "1164\n",
            "Chapter 119. Plasma Cell Disorders    .................................................................................................................................\n",
            "1172\n",
            "Chapter 120. Iron Overload    ...................................................................................................................................................\n",
            "1177\n",
            "Chapter 121. Transfusion Medicine    ...................................................................................................................................\n",
            "1186\n",
            "Chapter 122. Overview of Cancer    ......................................................................................................................................\n",
            "1198\n",
            "Chapter 123. Tumor Immunology    .......................................................................................................................................\n",
            "1204\n",
            "Chapter 124. Principles of Cancer Therapy    ...................................................................................................................\n",
            "1215\n",
            "10 - Immunology; Allergic Disorders    ...........................................................................................................................\n",
            "1215\n",
            "Chapter 125. Biology of the Immune System    ...............................................................................................................\n",
            "1227\n",
            "Chapter 126. Immunodeficiency Disorders    ....................................................................................................................\n",
            "1243\n",
            "Chapter 127. Allergic & Other Hypersensitivity Disorders    .......................................................................................\n",
            "1263\n",
            "Chapter 128. Transplantation    ...............................................................................................................................................\n",
            "1281\n",
            "11 - Infectious Diseases    ........................................................................................................................................................\n",
            "1281\n",
            "Chapter 129. Biology of Infectious Disease    ...................................................................................................................\n",
            "1300\n",
            "Chapter 130. Laboratory Diagnosis of Infectious Disease    ......................................................................................\n",
            "1306\n",
            "Chapter 131. Immunization    ...................................................................................................................................................\n",
            "1313\n",
            "Chapter 132. Bacteria & Antibacterial Drugs    .................................................................................................................\n",
            "1353\n",
            "Chapter 133. Gram-Positive Cocci    ....................................................................................................................................\n",
            "1366\n",
            "Chapter 134. Gram-Positive Bacilli    ...................................................................................................................................\n",
            "1376\n",
            "Chapter 135. Gram-Negative Bacilli    .................................................................................................................................\n",
            "1405\n",
            "Chapter 136. Spirochetes    ......................................................................................................................................................\n",
            "1413\n",
            "Chapter 137. Neisseriaceae    .................................................................................................................................................\n",
            "1419\n",
            "Chapter 138. Chlamydia & Mycoplasmas    ......................................................................................................................\n",
            "1421\n",
            "Chapter 139. Rickettsiae & Related Organisms    ..........................................................................................................\n",
            "1431\n",
            "Chapter 140. Anaerobic Bacteria    ........................................................................................................................................\n",
            "1450\n",
            "Chapter 141. Mycobacteria    ...................................................................................................................................................\n",
            "1470\n",
            "Chapter 142. Fungi    ...................................................................................................................................................................\n",
            "1493\n",
            "Chapter 143. Approach to Parasitic Infections    .............................................................................................................\n",
            "1496\n",
            "Chapter 144. Nematodes (Roundworms)    .......................................................................................................................\n",
            "adnan.nasir.syed@gmail.com\n",
            "U32NV1EXYH\n",
            "This file is meant for personal use by adnan.nasir.syed@gmail.com only.\n",
            "Sharing or publishing the contents in part or full is liable for legal action.\n"
          ]
        }
      ]
    },
    {
      "cell_type": "markdown",
      "metadata": {
        "id": "7-wNNalNxPKT"
      },
      "source": [
        "#### Checking the number of pages and Average words per page"
      ]
    },
    {
      "cell_type": "code",
      "source": [
        "num_pages = len(manual)\n",
        "print(f\"Number of pages in the PDF: {num_pages}\")"
      ],
      "metadata": {
        "id": "-NuC-6SNRT7K",
        "colab": {
          "base_uri": "https://localhost:8080/"
        },
        "outputId": "5d1e708d-96f7-4948-fc1f-ed2f5155aefe"
      },
      "execution_count": 30,
      "outputs": [
        {
          "output_type": "stream",
          "name": "stdout",
          "text": [
            "Number of pages in the PDF: 4114\n"
          ]
        }
      ]
    },
    {
      "cell_type": "code",
      "source": [
        "# Word count analysis\n",
        "total_words = 0\n",
        "for doc in manual:\n",
        "    total_words += len(doc.page_content.split())\n",
        "\n",
        "avg_words_per_page = total_words / num_pages\n",
        "print(f\"\\nAverage words per page: {avg_words_per_page:.2f}\")"
      ],
      "metadata": {
        "colab": {
          "base_uri": "https://localhost:8080/"
        },
        "id": "_WAlDFYb8RpU",
        "outputId": "37a7ac7b-826f-4cf9-8979-a45717207a76"
      },
      "execution_count": 31,
      "outputs": [
        {
          "output_type": "stream",
          "name": "stdout",
          "text": [
            "\n",
            "Average words per page: 484.40\n"
          ]
        }
      ]
    },
    {
      "cell_type": "markdown",
      "source": [
        "**Insights:**\n",
        "\n",
        "* The EDA confirms the PDF has 4,114 pages, aligning with the data dictionary.\n",
        "First and last pages may contain metadata (e.g., title, index), which should be excluded during chunking.\n",
        "* Average words per page (484) suggests chunk sizes of greater or equal to **350** words for balanced retrieval.\n",
        "\n",
        "**Why This Range:**\n",
        "1. Semantic Coherence:\n",
        "Chunks smaller than 350 words may lose context (e.g., breaking mid-paragraph).\n",
        "Chunks larger than 550 words risk information dilution (irrelevant text in retrieval).\n",
        "2. Retrieval Accuracy:\n",
        "Smaller chunks (300-450 words) work better for precise question-answering.\n",
        "Larger chunks (450-600 words) suit summarization or broad queries.\n",
        "3. Empirical Evidence:\n",
        "Most RAG implementations use 256 to 512 tokens (aprox 200 to 400 words per page average).\n",
        "LLaMA/BERT tokenizers average 1.3 tokens per word, so 300 words aprox to 390 tokens."
      ],
      "metadata": {
        "id": "IYFCPfxoSOWv"
      }
    },
    {
      "cell_type": "markdown",
      "metadata": {
        "id": "LECMxTH-zB-R"
      },
      "source": [
        "### Data Chunking"
      ]
    },
    {
      "cell_type": "code",
      "source": [
        "# Split the PDF into chunks\n",
        "text_splitter = RecursiveCharacterTextSplitter(\n",
        "    #encoding_name='cl100k_base',\n",
        "    chunk_size=512,\n",
        "    chunk_overlap=20)\n",
        "chunks = text_splitter.split_documents(manual)\n"
      ],
      "metadata": {
        "id": "bzPqTU-oAeec"
      },
      "execution_count": 32,
      "outputs": []
    },
    {
      "cell_type": "code",
      "source": [
        "len(chunks)"
      ],
      "metadata": {
        "id": "WnMF9oGKFFzh",
        "colab": {
          "base_uri": "https://localhost:8080/"
        },
        "outputId": "03aed3fb-66ff-4f80-b7fb-9517aba1e966"
      },
      "execution_count": 33,
      "outputs": [
        {
          "output_type": "execute_result",
          "data": {
            "text/plain": [
              "31192"
            ]
          },
          "metadata": {},
          "execution_count": 33
        }
      ]
    },
    {
      "cell_type": "code",
      "source": [
        "chunks[0].page_content"
      ],
      "metadata": {
        "id": "8H2HkgK3FHwW",
        "colab": {
          "base_uri": "https://localhost:8080/",
          "height": 35
        },
        "outputId": "e80b29d5-e876-4e93-dc28-d02dbd267cec"
      },
      "execution_count": 34,
      "outputs": [
        {
          "output_type": "execute_result",
          "data": {
            "text/plain": [
              "'adnan.nasir.syed@gmail.com\\nU32NV1EXYH\\nnt for personal use by adnan.nasir.syed@\\nshing the contents in part or full is liable'"
            ],
            "application/vnd.google.colaboratory.intrinsic+json": {
              "type": "string"
            }
          },
          "metadata": {},
          "execution_count": 34
        }
      ]
    },
    {
      "cell_type": "code",
      "source": [
        "chunks[2].page_content"
      ],
      "metadata": {
        "id": "PtS--SBhFKT7",
        "colab": {
          "base_uri": "https://localhost:8080/",
          "height": 70
        },
        "outputId": "b597a9f9-3bf1-46de-8396-1703c7a8a131"
      },
      "execution_count": 35,
      "outputs": [
        {
          "output_type": "execute_result",
          "data": {
            "text/plain": [
              "'Table of Contents\\n1\\nFront    ................................................................................................................................................................................................................\\n1\\nCover    .......................................................................................................................................................................................................\\n2'"
            ],
            "application/vnd.google.colaboratory.intrinsic+json": {
              "type": "string"
            }
          },
          "metadata": {},
          "execution_count": 35
        }
      ]
    },
    {
      "cell_type": "code",
      "source": [
        "chunks[3].page_content"
      ],
      "metadata": {
        "id": "VmHiyOlOFK-E",
        "colab": {
          "base_uri": "https://localhost:8080/",
          "height": 53
        },
        "outputId": "c4532425-8084-46a5-dd0c-5b8842e1b140"
      },
      "execution_count": 36,
      "outputs": [
        {
          "output_type": "execute_result",
          "data": {
            "text/plain": [
              "'2\\nFront Matter    ...........................................................................................................................................................................................\\n53\\n1 - Nutritional Disorders    ...............................................................................................................................................................\\n53'"
            ],
            "application/vnd.google.colaboratory.intrinsic+json": {
              "type": "string"
            }
          },
          "metadata": {},
          "execution_count": 36
        }
      ]
    },
    {
      "cell_type": "code",
      "source": [
        "chunks[-1000].page_content"
      ],
      "metadata": {
        "colab": {
          "base_uri": "https://localhost:8080/",
          "height": 70
        },
        "id": "3QRsPe5pnUej",
        "outputId": "8d492b27-4d57-4e60-a01b-6955a5b9f80f"
      },
      "execution_count": 37,
      "outputs": [
        {
          "output_type": "execute_result",
          "data": {
            "text/plain": [
              "\"G\\nGABA 1608, 1610\\nGabapentin\\nin dying patient 3484\\nin multiple sclerosis 1783\\nin pain 1628, 1631, 1633\\nin pruritus 640\\nin sciatica 383\\nin seizures 1696\\nin trigeminal neuralgia 1754\\nGadolinium 3407\\nGag reflex 1589\\nGait\\nage-related changes in 3128\\nassessment of 3131\\nin cerebral palsy syndromes 2897\\ndisorders of 3128-3134, 3130, 3132-3133\\nevaluation of 285, 1590, 1602\\nin elderly patient 3085, 3085\\nin Parkinson's disease 1766\\nrheumatic 1766\\nGalactocele 2554\""
            ],
            "application/vnd.google.colaboratory.intrinsic+json": {
              "type": "string"
            }
          },
          "metadata": {},
          "execution_count": 37
        }
      ]
    },
    {
      "cell_type": "code",
      "source": [
        "chunks[-999].page_content"
      ],
      "metadata": {
        "colab": {
          "base_uri": "https://localhost:8080/",
          "height": 70
        },
        "id": "kaZ5CXDvnhNj",
        "outputId": "cc704f18-1f48-4663-afab-30bbd69d5c5c"
      },
      "execution_count": 38,
      "outputs": [
        {
          "output_type": "execute_result",
          "data": {
            "text/plain": [
              "\"Galactocele 2554\\nGalactocerebroside β-galactosidase deficiency 3021-3022\\nGalactokinase deficiency 3016\\nGalactomannans 1324\\nGalactorrhea 769, 770-772, 2504\\nGalactosemia 3016-3017\\nGalactose-1-phosphate uridyl transferase deficiency 3016\\nα-Galactosidase A deficiency 3022\\nGalactosylceramide lipidosis 3021-3022\\nGalantamine 1677, 1679, 1680\\nGaleazzi sign 2972, 2973, 2996\\nGallavardin's phenomenon 2182\\nGallbladder\\ncalculi of (see Gallstones)\\ncarcinoma of 280\\nfistula of 274\\ninflammation of 273-275\\nimaging in 229\""
            ],
            "application/vnd.google.colaboratory.intrinsic+json": {
              "type": "string"
            }
          },
          "metadata": {},
          "execution_count": 38
        }
      ]
    },
    {
      "cell_type": "code",
      "source": [
        "chunks[-1001].page_content"
      ],
      "metadata": {
        "colab": {
          "base_uri": "https://localhost:8080/",
          "height": 53
        },
        "id": "xjoqGWXonen-",
        "outputId": "7c29f05c-26dc-488e-91e2-639743e898d6"
      },
      "execution_count": 39,
      "outputs": [
        {
          "output_type": "execute_result",
          "data": {
            "text/plain": [
              "'in children 2857\\nFusion proteins 1088, 1089\\nFusobacterium infection 1299-1300\\nFusospirochetosis 520\\nThe Merck Manual of Diagnosis & Therapy, 19th Edition\\nF\\n3851\\nadnan.nasir.syed@gmail.com\\nU32NV1EXYH\\nThis file is meant for personal use by adnan.nasir.syed@gmail.com only.\\nSharing or publishing the contents in part or full is liable for legal action.'"
            ],
            "application/vnd.google.colaboratory.intrinsic+json": {
              "type": "string"
            }
          },
          "metadata": {},
          "execution_count": 39
        }
      ]
    },
    {
      "cell_type": "code",
      "source": [
        "chunks[-2].page_content"
      ],
      "metadata": {
        "colab": {
          "base_uri": "https://localhost:8080/",
          "height": 70
        },
        "id": "3IhegyKENHgC",
        "outputId": "4d38d717-615e-4a3b-a656-04cab97f92af"
      },
      "execution_count": 40,
      "outputs": [
        {
          "output_type": "execute_result",
          "data": {
            "text/plain": [
              "\"toxicity of 49, 55\\ncopper deficiency and 49\\nin Wilson's disease 52\\nZinc oxide 2233\\ngelatin formulation of 646, 672\\nZinc pyrithione 647\\nZinc shakes 55\\nZipper injury 3239, 3240\\nZiprasidone\\nin agitation 1492\\nin bipolar disorder 3059\\npoisoning with 3347\\nin schizophrenia 1566\\nZoledronate 359, 361, 848\\nZollinger-Ellison syndrome 95, 199, 200-201, 910\\nmastocytosis vs 1125\\nMenetrier's disease vs 132\\npeptic ulcer disease vs 134\\nZolmitriptan 1721\\nZolpidem 1709, 3103\\nZonisamide 1701\\nZoonotic diseases, cutaneous 718\""
            ],
            "application/vnd.google.colaboratory.intrinsic+json": {
              "type": "string"
            }
          },
          "metadata": {},
          "execution_count": 40
        }
      ]
    },
    {
      "cell_type": "code",
      "source": [
        "chunks[-1].page_content"
      ],
      "metadata": {
        "colab": {
          "base_uri": "https://localhost:8080/",
          "height": 53
        },
        "id": "D8n1Z7u7NKa5",
        "outputId": "62fb5a99-72d8-4fef-e04f-1f72e02c7faa"
      },
      "execution_count": 41,
      "outputs": [
        {
          "output_type": "execute_result",
          "data": {
            "text/plain": [
              "'Zoophobia 1498\\nZoster (see Herpes zoster virus infection)\\nZygomycosis 1332\\nThe Merck Manual of Diagnosis & Therapy, 19th Edition\\nZ\\n4104\\nadnan.nasir.syed@gmail.com\\nU32NV1EXYH\\nThis file is meant for personal use by adnan.nasir.syed@gmail.com only.\\nSharing or publishing the contents in part or full is liable for legal action.'"
            ],
            "application/vnd.google.colaboratory.intrinsic+json": {
              "type": "string"
            }
          },
          "metadata": {},
          "execution_count": 41
        }
      ]
    },
    {
      "cell_type": "markdown",
      "source": [
        "**Insights:**\n",
        "* RecursiveCharacterTextSplitter ensures chunks respect sentence boundaries, improving semantic coherence.\n",
        "* A chunk size of 512 with 50 overlap balances context retention and retrieval efficiency.\n",
        "* Total Chunks = Total Pages×(1+ [(Words/Page−Chunk Size)/(Chunk Size - Overlap)]\n",
        "* The number of chunks (31192 chunks for 4114 pages) is manageable for Chroma in Colab.\n",
        "\n",
        "* As expected, there are some overlaps\n",
        "  - If we increase the `chunk_overlap`, the overlapping length of the sentence will also increase.\n",
        "\n",
        "**Key Notes:**\n",
        "* Edge Cases:\n",
        "  - Pages with ≤512 words → 1 chunk.\n",
        "  - Pages with 512 to 1000 words → 2 chunks.\n",
        "  - Average (484 words) consistently produces 1 chunk/page.\n",
        "* Why This Works:\n",
        "  - The overlap ensures context continuity between chunks.\n",
        "  - Example for a 484-word page:\n",
        "  - Chunk 1: Words 1 to 484.\n",
        "- Chunk 2: Words 484 to 512.\n",
        "* Total Words Processed:\n",
        "- 4114 pages * 484 words/page = 1991176 words"
      ],
      "metadata": {
        "id": "MXASHgK8SIUO"
      }
    },
    {
      "cell_type": "markdown",
      "metadata": {
        "id": "BvHVejcWz0Bl"
      },
      "source": [
        "### Embedding"
      ]
    },
    {
      "cell_type": "code",
      "execution_count": 42,
      "metadata": {
        "id": "c6cZVZWQz15c",
        "colab": {
          "base_uri": "https://localhost:8080/",
          "height": 392,
          "referenced_widgets": [
            "31047b7f1ad3417681b0eb3e0fa995b4",
            "fa7d5b9c0c104d6dbfebea5f81d5d60b",
            "0e10bf1e4093438986e3661c85a0cd8c",
            "02ecbd281b7943e4ad0775d0f7614aef",
            "6d23695278ef4c16a517b406d1e31bcb",
            "a1809524f2004a68b013d103cdb71cd8",
            "b5ef1539819e427eab77186123aab0a4",
            "255c3fa2f9ef4338bdf1c9ea16ce1353",
            "1f3d238abfb147fe84773219fbc3f11b",
            "f630080dae5b4c19adace1d68a18e835",
            "f2ec6d2b0721453cb9a3461e7e9350e3",
            "86b8eac083694f788a6a42dc73586613",
            "2a534c79728c4014b78afbfac98effb8",
            "86992b624ca24b33b78abab1ef2c3d74",
            "dec45c9f6a91422e89bda306c74042f0",
            "a6f4358de6bc40bf992ab953a07ee908",
            "29e630ca79e44078bf7691e22b7587ed",
            "1e919c275bfe4f7d9840d929e2894bc9",
            "71d260d5d4db44f5ab9833e7cda26d2b",
            "e1102908079c4cc3a70a944862da5e84",
            "0b8ccc93b6ec4379bcacec329abdee4b",
            "fe78beb6e9b64854976bc20551eb2ede",
            "f1b7a446e268481a9fe6df6399b922c9",
            "9d114b3433ad4318abd804be331b4ce7",
            "9c0c7ffeccfb4be592f8d02013b70011",
            "42b276af4c354dd1a60651f3048fe019",
            "3d7f7f53f2944f9abac627a638ed4cd7",
            "1eeeb4987945400187c43800bc100a17",
            "0fdc8cde821a40b9829d6629d91e0097",
            "f2629064348e426195144e9f1ce0fd2c",
            "79628d50527f447da36cb0d318611cd3",
            "cdb13f2c23db46408f51c870ed61e1a3",
            "9a28764732e941da81791777e1d46086",
            "6ae3f75c1ad3407ca2bdf55c13f9903a",
            "a448d4179f8c438b860ff25139d5b026",
            "2f55232e66c04328a1344a8f56ba38d3",
            "e626dbf7a27d4d9894ce5563c37ddbe6",
            "1588cc539f084c428acb1be36766cf42",
            "0b67b84ff3454d5a8fd6ff6fa4f75d09",
            "20ad8ecf30e74d95a96a1f92217c9eee",
            "94b9068309794ead9436dadf1027f77f",
            "c1b379523e504c1bb36bebf9935525b3",
            "b7b884e6c6a44e5b8dc0469529b8976f",
            "23285e2362eb4963bc26e38218def281",
            "dcde750dfc6b42bbadf6178f65be57e7",
            "600c69b4f60342dfbe85c14f11db39db",
            "06745df3022743d39f6b793138f1dbf7",
            "73bb4d6da8304efa879590ae61f3129f",
            "8d1ffa122186407d9ae2c55685f65965",
            "e7ad7e87b83f4bfcba4bef9fc7482580",
            "3370aebc39ad402a90c8485d7e2a98e2",
            "906037ceeab849f085df01d087c16a00",
            "9d669bf0142f44c6a279c5f8f9891895",
            "a336d6c6fa934ae794f80006188e6831",
            "d2b7bdbc5d564eb19a10e2aafe6c8c53",
            "ebf65b1c8adf4ace9db6b04db7f8924f",
            "3b49bc2dedd3468db1ba67c2a6371a0c",
            "789bb45e9b5e4cf78aa47312491235ad",
            "9ad25d20d7ef4aa8a9e7e75de1256f3a",
            "e34d166969ae42549f926f2935e7bb83",
            "6438bd5f0f29482b9de7d34ecc76f355",
            "aa66366ee62b44a384a2e8652bdadb66",
            "a7db9a2c1efc45a9ad4f785d83883e26",
            "6459c6d2dcca43f487e6922958f418f5",
            "a2f83d4569644a07891cd212a9876e94",
            "14e9727afa3645d582c6ceee2586bdb3",
            "238ab2efc07547c9abca972067d8728d",
            "9b3f1cc4e2b84f058e43462130ec676d",
            "dc37648d70d94b4690d45e4654156d7e",
            "60302d411434414d9c9b196498629cbd",
            "8b0e20555afd43338b1c306b91939bda",
            "f67122d316254eeca27a671dd2776460",
            "6167d33fe321487ebcb611d10e06f585",
            "717bae1dd82243cb8d133101f0d750cd",
            "df89301246a04a8ebf38c249b5196b85",
            "4f6c8688dc5845ddb87446adc5d4d27b",
            "0afe172ec7424f449808681956c09f27",
            "47cd20be08944ecb98001430ab6a9c0a",
            "7f355ee7843047c0963ee5fd306a3ffd",
            "87987db979ef42eebe9050ac1157e968",
            "a1fa7c62e93b4d50952c7304496227a2",
            "34422192ce1848d997e28c1dfa17fa1b",
            "7b578812589b4b9a89bfa1f56416ce72",
            "0270ef0d570e4c53be73548988efa1b3",
            "abe4466ab7854740a4c655cf68a52f44",
            "49ba216c7ad54c919ebbf00b96f04982",
            "0b4669b7bf7e4128961ecb7aa265a550",
            "7d54844e64e44175982ebaedd6bedd02",
            "955de2786c1346f08a70b6765f3edff1",
            "c82bce086d8346cf87414fbbb8c3e608",
            "e220cf766daa4b14b1eb63e8a099e0ba",
            "2956df06bda84542a66f3a4b59570060",
            "0377b7305a6d4d2caa4cb87950a5a305",
            "592739b7378e44488adffc0bc8a1bf09",
            "b65a5d03e1cc47e8a55a8467006f2c9e",
            "f7d342df73bf49669fab62b500b88aa1",
            "e739660749e04e9ea11ab7a828eef4b8",
            "7f38468438554a9cb0a2cfc03118a400",
            "ae5b04cd23494509adbe212373eac366",
            "00682a33883f48feb5abee5c0d094ac6",
            "0697f5fe10a64953a140935492fa39b5",
            "adeb53566d794396a2fb3ae289c4e11e",
            "0345b11b2d7e43f791f112dd2f79e882",
            "f5285096f1664ae4a4e4fbdba3f64f86",
            "113d617ba1504990b5e55ff49d60c0ee",
            "ec380bfbd2d84cbb82149aa6d19ce0c7",
            "7def18ba57ee4445b21dc62b484f9a39",
            "386c1d6d64cb430790ed3003c475af95",
            "c4d705e80056499ba9340f382c4123a5",
            "7a74874dd5c04c2fa63e30eb86958274"
          ]
        },
        "outputId": "43fdb4a3-8834-45ca-d82e-2d1bac3323f4"
      },
      "outputs": [
        {
          "output_type": "stream",
          "name": "stderr",
          "text": [
            "/tmp/ipython-input-42-1239058868.py:1: LangChainDeprecationWarning: The class `HuggingFaceEmbeddings` was deprecated in LangChain 0.2.2 and will be removed in 1.0. An updated version of the class exists in the :class:`~langchain-huggingface package and should be used instead. To use it run `pip install -U :class:`~langchain-huggingface` and import as `from :class:`~langchain_huggingface import HuggingFaceEmbeddings``.\n",
            "  embedding_model = SentenceTransformerEmbeddings(model_name='thenlper/gte-large') #\n"
          ]
        },
        {
          "output_type": "display_data",
          "data": {
            "text/plain": [
              "modules.json:   0%|          | 0.00/385 [00:00<?, ?B/s]"
            ],
            "application/vnd.jupyter.widget-view+json": {
              "version_major": 2,
              "version_minor": 0,
              "model_id": "31047b7f1ad3417681b0eb3e0fa995b4"
            }
          },
          "metadata": {}
        },
        {
          "output_type": "display_data",
          "data": {
            "text/plain": [
              "README.md:   0%|          | 0.00/67.9k [00:00<?, ?B/s]"
            ],
            "application/vnd.jupyter.widget-view+json": {
              "version_major": 2,
              "version_minor": 0,
              "model_id": "86b8eac083694f788a6a42dc73586613"
            }
          },
          "metadata": {}
        },
        {
          "output_type": "display_data",
          "data": {
            "text/plain": [
              "sentence_bert_config.json:   0%|          | 0.00/57.0 [00:00<?, ?B/s]"
            ],
            "application/vnd.jupyter.widget-view+json": {
              "version_major": 2,
              "version_minor": 0,
              "model_id": "f1b7a446e268481a9fe6df6399b922c9"
            }
          },
          "metadata": {}
        },
        {
          "output_type": "display_data",
          "data": {
            "text/plain": [
              "config.json:   0%|          | 0.00/619 [00:00<?, ?B/s]"
            ],
            "application/vnd.jupyter.widget-view+json": {
              "version_major": 2,
              "version_minor": 0,
              "model_id": "6ae3f75c1ad3407ca2bdf55c13f9903a"
            }
          },
          "metadata": {}
        },
        {
          "output_type": "display_data",
          "data": {
            "text/plain": [
              "model.safetensors:   0%|          | 0.00/670M [00:00<?, ?B/s]"
            ],
            "application/vnd.jupyter.widget-view+json": {
              "version_major": 2,
              "version_minor": 0,
              "model_id": "dcde750dfc6b42bbadf6178f65be57e7"
            }
          },
          "metadata": {}
        },
        {
          "output_type": "display_data",
          "data": {
            "text/plain": [
              "tokenizer_config.json:   0%|          | 0.00/342 [00:00<?, ?B/s]"
            ],
            "application/vnd.jupyter.widget-view+json": {
              "version_major": 2,
              "version_minor": 0,
              "model_id": "ebf65b1c8adf4ace9db6b04db7f8924f"
            }
          },
          "metadata": {}
        },
        {
          "output_type": "display_data",
          "data": {
            "text/plain": [
              "vocab.txt:   0%|          | 0.00/232k [00:00<?, ?B/s]"
            ],
            "application/vnd.jupyter.widget-view+json": {
              "version_major": 2,
              "version_minor": 0,
              "model_id": "238ab2efc07547c9abca972067d8728d"
            }
          },
          "metadata": {}
        },
        {
          "output_type": "display_data",
          "data": {
            "text/plain": [
              "tokenizer.json:   0%|          | 0.00/712k [00:00<?, ?B/s]"
            ],
            "application/vnd.jupyter.widget-view+json": {
              "version_major": 2,
              "version_minor": 0,
              "model_id": "47cd20be08944ecb98001430ab6a9c0a"
            }
          },
          "metadata": {}
        },
        {
          "output_type": "display_data",
          "data": {
            "text/plain": [
              "special_tokens_map.json:   0%|          | 0.00/125 [00:00<?, ?B/s]"
            ],
            "application/vnd.jupyter.widget-view+json": {
              "version_major": 2,
              "version_minor": 0,
              "model_id": "955de2786c1346f08a70b6765f3edff1"
            }
          },
          "metadata": {}
        },
        {
          "output_type": "display_data",
          "data": {
            "text/plain": [
              "config.json:   0%|          | 0.00/191 [00:00<?, ?B/s]"
            ],
            "application/vnd.jupyter.widget-view+json": {
              "version_major": 2,
              "version_minor": 0,
              "model_id": "00682a33883f48feb5abee5c0d094ac6"
            }
          },
          "metadata": {}
        }
      ],
      "source": [
        "embedding_model = SentenceTransformerEmbeddings(model_name='thenlper/gte-large') #"
      ]
    },
    {
      "cell_type": "code",
      "execution_count": 43,
      "metadata": {
        "id": "dvc-CTtCz4kJ"
      },
      "outputs": [],
      "source": [
        "embedding_1 = embedding_model.embed_query(chunks[0].page_content)\n",
        "embedding_2 = embedding_model.embed_query(chunks[1].page_content)"
      ]
    },
    {
      "cell_type": "code",
      "execution_count": 44,
      "metadata": {
        "id": "W0qy6xOZ0UBe",
        "colab": {
          "base_uri": "https://localhost:8080/"
        },
        "outputId": "c13163de-4dbb-4503-ed91-df82cbcdd7da"
      },
      "outputs": [
        {
          "output_type": "stream",
          "name": "stdout",
          "text": [
            "Dimension of the embedding vector  1024\n"
          ]
        },
        {
          "output_type": "execute_result",
          "data": {
            "text/plain": [
              "True"
            ]
          },
          "metadata": {},
          "execution_count": 44
        }
      ],
      "source": [
        "print(\"Dimension of the embedding vector \",len(embedding_1))\n",
        "len(embedding_1)==len(embedding_2)"
      ]
    },
    {
      "cell_type": "code",
      "execution_count": 45,
      "metadata": {
        "id": "1bmtFRTN0VtN",
        "colab": {
          "base_uri": "https://localhost:8080/"
        },
        "outputId": "271c79ac-d40e-4e46-ef3c-3d7b8acb5b23"
      },
      "outputs": [
        {
          "output_type": "execute_result",
          "data": {
            "text/plain": [
              "([-0.029511863365769386,\n",
              "  -0.018277158960700035,\n",
              "  -0.009902599267661572,\n",
              "  0.006382147315889597,\n",
              "  -0.002250062534585595,\n",
              "  -0.025702940300107002,\n",
              "  -0.030007794499397278,\n",
              "  0.013407188467681408,\n",
              "  0.009031722322106361,\n",
              "  0.02029811590909958,\n",
              "  0.04046305641531944,\n",
              "  -0.01645786687731743,\n",
              "  0.013739487156271935,\n",
              "  -0.036074962466955185,\n",
              "  -0.02506267838180065,\n",
              "  0.0034376506227999926,\n",
              "  -0.010705819353461266,\n",
              "  -0.017908256500959396,\n",
              "  0.02062917686998844,\n",
              "  -0.02082456275820732,\n",
              "  0.024849172681570053,\n",
              "  -0.0007572080940008163,\n",
              "  -0.07040292769670486,\n",
              "  -0.025629326701164246,\n",
              "  -0.00028684179414995015,\n",
              "  0.002102814381942153,\n",
              "  0.025332821533083916,\n",
              "  -0.0035484894178807735,\n",
              "  0.051956988871097565,\n",
              "  0.04494885355234146,\n",
              "  -0.0013855212600901723,\n",
              "  -0.00011513510980876163,\n",
              "  0.0322541780769825,\n",
              "  -0.04766470938920975,\n",
              "  -0.021785259246826172,\n",
              "  0.014687501825392246,\n",
              "  0.044635627418756485,\n",
              "  -0.024695957079529762,\n",
              "  -0.037170782685279846,\n",
              "  -0.03886772319674492,\n",
              "  -0.00014242161705624312,\n",
              "  -0.0068807355128228664,\n",
              "  0.05088155344128609,\n",
              "  -0.027340073138475418,\n",
              "  -0.03349651023745537,\n",
              "  -0.024322183802723885,\n",
              "  -0.026312053203582764,\n",
              "  -0.005299795418977737,\n",
              "  0.022940969094634056,\n",
              "  -0.029242176562547684,\n",
              "  0.023685922846198082,\n",
              "  0.0037767314352095127,\n",
              "  0.048114728182554245,\n",
              "  -0.012510099448263645,\n",
              "  0.01895599439740181,\n",
              "  -0.019273193553090096,\n",
              "  0.007547034416347742,\n",
              "  -0.028293946757912636,\n",
              "  -0.027463490143418312,\n",
              "  0.022046063095331192,\n",
              "  0.001701138447970152,\n",
              "  -0.006541989743709564,\n",
              "  0.03652556240558624,\n",
              "  -0.0445849634706974,\n",
              "  0.018269464373588562,\n",
              "  0.025937050580978394,\n",
              "  -0.0013493645237758756,\n",
              "  -0.0222708061337471,\n",
              "  0.0015497209969908,\n",
              "  -0.002621815074235201,\n",
              "  -0.010954932309687138,\n",
              "  -0.01050631608814001,\n",
              "  -0.0215766504406929,\n",
              "  -0.004855880979448557,\n",
              "  0.017748113721609116,\n",
              "  0.007542221806943417,\n",
              "  -0.007724333088845015,\n",
              "  0.005176255479454994,\n",
              "  0.008810903877019882,\n",
              "  0.005794869735836983,\n",
              "  0.006167187821120024,\n",
              "  0.05012676119804382,\n",
              "  0.047998663038015366,\n",
              "  -0.009317856281995773,\n",
              "  -0.03770695626735687,\n",
              "  -0.00498830946162343,\n",
              "  0.029610132798552513,\n",
              "  0.009200742468237877,\n",
              "  0.009055860340595245,\n",
              "  0.01224937941879034,\n",
              "  -0.015400515869259834,\n",
              "  0.0522749088704586,\n",
              "  -0.00666077621281147,\n",
              "  -0.014150097966194153,\n",
              "  0.02315118908882141,\n",
              "  0.04477470740675926,\n",
              "  -0.047820478677749634,\n",
              "  0.020670976489782333,\n",
              "  -0.02554023265838623,\n",
              "  0.005925450939685106,\n",
              "  0.03224475309252739,\n",
              "  0.03307076543569565,\n",
              "  -0.008832035586237907,\n",
              "  0.0477750264108181,\n",
              "  -0.0260014571249485,\n",
              "  0.012635280378162861,\n",
              "  0.015133088454604149,\n",
              "  -0.03241920471191406,\n",
              "  -0.009913740679621696,\n",
              "  -0.02109370008111,\n",
              "  0.016317790374159813,\n",
              "  -0.01906139962375164,\n",
              "  0.011268995702266693,\n",
              "  -0.02394433133304119,\n",
              "  -0.0014719120226800442,\n",
              "  0.03457322344183922,\n",
              "  0.013659413903951645,\n",
              "  0.03710537776350975,\n",
              "  -0.014081417582929134,\n",
              "  0.008702228777110577,\n",
              "  0.026658788323402405,\n",
              "  0.013256756588816643,\n",
              "  0.026274269446730614,\n",
              "  -0.01880837231874466,\n",
              "  0.027297183871269226,\n",
              "  -0.017295891419053078,\n",
              "  -0.009939443320035934,\n",
              "  0.05678926035761833,\n",
              "  -0.04831889644265175,\n",
              "  -0.03279710188508034,\n",
              "  0.012412376701831818,\n",
              "  -0.04487744718790054,\n",
              "  -0.025373389944434166,\n",
              "  -0.004622123669832945,\n",
              "  -0.011610548943281174,\n",
              "  0.025865798816084862,\n",
              "  -0.0155031094327569,\n",
              "  0.016984250396490097,\n",
              "  0.043996453285217285,\n",
              "  -0.06030970439314842,\n",
              "  0.018886979669332504,\n",
              "  0.054694876074790955,\n",
              "  0.019026312977075577,\n",
              "  0.10604646056890488,\n",
              "  0.0017786493990570307,\n",
              "  0.03523293882608414,\n",
              "  0.0032087904401123524,\n",
              "  0.005757707636803389,\n",
              "  -0.04669126868247986,\n",
              "  0.03481871634721756,\n",
              "  -0.030831649899482727,\n",
              "  0.011823544278740883,\n",
              "  0.0012335577048361301,\n",
              "  0.029249127954244614,\n",
              "  -0.002869935939088464,\n",
              "  -0.007524959277361631,\n",
              "  0.0064817871898412704,\n",
              "  0.0013029415858909488,\n",
              "  0.01877610757946968,\n",
              "  0.04032545164227486,\n",
              "  -0.001343528158031404,\n",
              "  0.0016376860439777374,\n",
              "  -0.009057397954165936,\n",
              "  0.04265652969479561,\n",
              "  0.004105071071535349,\n",
              "  0.061710335314273834,\n",
              "  -0.020331475883722305,\n",
              "  -0.020036233589053154,\n",
              "  -0.014889314770698547,\n",
              "  -0.04018421098589897,\n",
              "  0.05453677847981453,\n",
              "  -0.026576854288578033,\n",
              "  -0.0012391330674290657,\n",
              "  0.0249217189848423,\n",
              "  0.03078051283955574,\n",
              "  0.033705320209264755,\n",
              "  0.033161710947752,\n",
              "  -0.00895132590085268,\n",
              "  0.07074739038944244,\n",
              "  0.0367375873029232,\n",
              "  -0.012373953126370907,\n",
              "  0.0221500713378191,\n",
              "  0.03020450286567211,\n",
              "  0.07260914891958237,\n",
              "  -0.014225932769477367,\n",
              "  -0.008676786907017231,\n",
              "  -0.011023804545402527,\n",
              "  -0.0361497700214386,\n",
              "  -0.05571381002664566,\n",
              "  -0.013288956135511398,\n",
              "  0.017018716782331467,\n",
              "  0.015883248299360275,\n",
              "  -0.040276724845170975,\n",
              "  0.006467116065323353,\n",
              "  -0.0014684450579807162,\n",
              "  -0.002665132749825716,\n",
              "  -0.03728439286351204,\n",
              "  -0.01710050366818905,\n",
              "  -0.01370827853679657,\n",
              "  -0.07043856382369995,\n",
              "  -0.01454437617212534,\n",
              "  0.016490763053297997,\n",
              "  -0.021552227437496185,\n",
              "  0.03274299576878548,\n",
              "  0.0023963749408721924,\n",
              "  -0.009638705290853977,\n",
              "  0.02187509834766388,\n",
              "  0.05072816461324692,\n",
              "  -0.02119285613298416,\n",
              "  -0.00508288387209177,\n",
              "  0.044691525399684906,\n",
              "  0.006257474888116121,\n",
              "  -0.02463475987315178,\n",
              "  -0.02476155199110508,\n",
              "  0.007457445841282606,\n",
              "  -0.00710424967110157,\n",
              "  -0.04201637953519821,\n",
              "  0.0420660525560379,\n",
              "  -0.016956185922026634,\n",
              "  -0.007897213101387024,\n",
              "  -0.01885783113539219,\n",
              "  0.009191850200295448,\n",
              "  0.022783901542425156,\n",
              "  0.04227146878838539,\n",
              "  -0.019723430275917053,\n",
              "  0.005481034051626921,\n",
              "  -0.004442977719008923,\n",
              "  0.03733930364251137,\n",
              "  -0.023526631295681,\n",
              "  -0.007747902534902096,\n",
              "  -0.008296120911836624,\n",
              "  0.022317392751574516,\n",
              "  0.021433919668197632,\n",
              "  0.06664721667766571,\n",
              "  0.041849635541439056,\n",
              "  0.010378439910709858,\n",
              "  0.04510745406150818,\n",
              "  0.0261511392891407,\n",
              "  -0.023246021941304207,\n",
              "  0.03790878504514694,\n",
              "  -0.019311806187033653,\n",
              "  0.014111967757344246,\n",
              "  0.03182302415370941,\n",
              "  0.013509590178728104,\n",
              "  0.01924884505569935,\n",
              "  0.04178278148174286,\n",
              "  0.005420852918177843,\n",
              "  0.0009884708561003208,\n",
              "  -0.04301033914089203,\n",
              "  0.0068412236869335175,\n",
              "  -0.003629359882324934,\n",
              "  0.040902793407440186,\n",
              "  0.02256547287106514,\n",
              "  0.023848876357078552,\n",
              "  -0.03441007807850838,\n",
              "  0.007685020100325346,\n",
              "  0.07621432840824127,\n",
              "  0.042117584496736526,\n",
              "  -0.04664178192615509,\n",
              "  -0.009219842962920666,\n",
              "  -0.008854077197611332,\n",
              "  0.025167904794216156,\n",
              "  -0.01828460581600666,\n",
              "  0.04492088779807091,\n",
              "  0.033152706921100616,\n",
              "  0.024435754865407944,\n",
              "  0.02049180306494236,\n",
              "  0.00020723191846627742,\n",
              "  -0.019659345969557762,\n",
              "  -0.014801121316850185,\n",
              "  -0.059626299887895584,\n",
              "  -0.05492325499653816,\n",
              "  -0.04585897549986839,\n",
              "  -0.02789125218987465,\n",
              "  -0.07002636790275574,\n",
              "  -0.015213733538985252,\n",
              "  0.041446756571531296,\n",
              "  -0.03869428485631943,\n",
              "  0.03020397573709488,\n",
              "  -0.012516235001385212,\n",
              "  0.015243928879499435,\n",
              "  -0.008248214609920979,\n",
              "  -0.03864709660410881,\n",
              "  0.027373740449547768,\n",
              "  0.027163539081811905,\n",
              "  0.037646740674972534,\n",
              "  -0.025201648473739624,\n",
              "  0.03158964216709137,\n",
              "  0.0027150267269462347,\n",
              "  0.012483540922403336,\n",
              "  -0.05260896310210228,\n",
              "  -0.012660431675612926,\n",
              "  0.009099544025957584,\n",
              "  -0.010805044323205948,\n",
              "  0.042995385825634,\n",
              "  0.0033292656298726797,\n",
              "  -0.007768750656396151,\n",
              "  -0.03377307206392288,\n",
              "  -0.04668251425027847,\n",
              "  -0.03666740655899048,\n",
              "  -0.0035624909214675426,\n",
              "  0.009626481682062149,\n",
              "  0.006993935443460941,\n",
              "  -0.002681999234482646,\n",
              "  -0.04208249971270561,\n",
              "  0.03267211839556694,\n",
              "  0.02384069375693798,\n",
              "  -0.02933674305677414,\n",
              "  0.06056325137615204,\n",
              "  0.011386852711439133,\n",
              "  -0.017479639500379562,\n",
              "  0.04392626881599426,\n",
              "  0.005381547845900059,\n",
              "  0.019480764865875244,\n",
              "  -0.05678098276257515,\n",
              "  0.05490350350737572,\n",
              "  0.04592543840408325,\n",
              "  0.002717667492106557,\n",
              "  -0.050274115055799484,\n",
              "  -0.032031700015068054,\n",
              "  -0.041614048182964325,\n",
              "  0.03582237660884857,\n",
              "  -0.026166561990976334,\n",
              "  -0.012697018682956696,\n",
              "  -0.038120146840810776,\n",
              "  0.0025720021221786737,\n",
              "  0.04053651541471481,\n",
              "  -0.080398328602314,\n",
              "  0.03835546225309372,\n",
              "  -0.05464962124824524,\n",
              "  -0.02739948034286499,\n",
              "  -0.038944073021411896,\n",
              "  -0.03523828089237213,\n",
              "  0.0174119733273983,\n",
              "  -0.0044481949880719185,\n",
              "  0.028074461966753006,\n",
              "  0.0030778187792748213,\n",
              "  -0.028340071439743042,\n",
              "  -0.006417176220566034,\n",
              "  -0.011063940823078156,\n",
              "  0.06088114157319069,\n",
              "  -0.034850914031267166,\n",
              "  0.02143157459795475,\n",
              "  0.03314818814396858,\n",
              "  -0.0023195776157081127,\n",
              "  0.019471608102321625,\n",
              "  0.03064069338142872,\n",
              "  -0.0065077138133347034,\n",
              "  -0.005766882095485926,\n",
              "  0.01074231043457985,\n",
              "  -0.007553163915872574,\n",
              "  0.021984299644827843,\n",
              "  0.03093595802783966,\n",
              "  0.0014428887516260147,\n",
              "  0.015194680541753769,\n",
              "  0.05960692837834358,\n",
              "  -0.013615282252430916,\n",
              "  0.004254303872585297,\n",
              "  0.01720280945301056,\n",
              "  0.02547336556017399,\n",
              "  0.021763281896710396,\n",
              "  0.0420248880982399,\n",
              "  0.015214743092656136,\n",
              "  -0.033824171870946884,\n",
              "  -0.018180260434746742,\n",
              "  -0.04765985161066055,\n",
              "  0.022234926000237465,\n",
              "  0.020813612267374992,\n",
              "  0.03792057931423187,\n",
              "  -0.07563748955726624,\n",
              "  0.04285843297839165,\n",
              "  -0.0253263171762228,\n",
              "  -0.037871021777391434,\n",
              "  0.041008517146110535,\n",
              "  -0.03214274346828461,\n",
              "  0.004742726217955351,\n",
              "  0.03657763823866844,\n",
              "  -0.0217867661267519,\n",
              "  0.05029606819152832,\n",
              "  -0.01610047183930874,\n",
              "  -0.002107803011313081,\n",
              "  -0.02814062125980854,\n",
              "  0.020081864669919014,\n",
              "  0.04022800177335739,\n",
              "  0.0023850598372519016,\n",
              "  0.029712185263633728,\n",
              "  -0.050322700291872025,\n",
              "  -0.026241617277264595,\n",
              "  -6.171154382172972e-05,\n",
              "  -0.02340911142528057,\n",
              "  -0.03166400268673897,\n",
              "  -0.034993432462215424,\n",
              "  0.0031353130470961332,\n",
              "  0.0031502419151365757,\n",
              "  -0.07256204634904861,\n",
              "  -0.07630845904350281,\n",
              "  0.0271680299192667,\n",
              "  0.02110031619668007,\n",
              "  0.0429568737745285,\n",
              "  0.0009403311996720731,\n",
              "  0.046772491186857224,\n",
              "  0.020754653960466385,\n",
              "  0.022172516211867332,\n",
              "  0.026462387293577194,\n",
              "  -0.047393158078193665,\n",
              "  -0.003591157728806138,\n",
              "  -0.039624184370040894,\n",
              "  0.05463489517569542,\n",
              "  0.033437103033065796,\n",
              "  -0.02838915027678013,\n",
              "  -0.007417304906994104,\n",
              "  -0.025128047913312912,\n",
              "  -0.024124598130583763,\n",
              "  0.045003652572631836,\n",
              "  -0.02824770100414753,\n",
              "  -0.026535464450716972,\n",
              "  -0.03641096502542496,\n",
              "  0.019503016024827957,\n",
              "  -0.009054441936314106,\n",
              "  0.037246618419885635,\n",
              "  -0.027528714388608932,\n",
              "  -0.01574253849685192,\n",
              "  -0.028043905273079872,\n",
              "  0.03170270100235939,\n",
              "  0.04724496230483055,\n",
              "  -0.03697932884097099,\n",
              "  0.014807884581387043,\n",
              "  -0.03380410745739937,\n",
              "  0.06219351291656494,\n",
              "  0.032300788909196854,\n",
              "  0.03194212168455124,\n",
              "  -0.02431119605898857,\n",
              "  -0.031727585941553116,\n",
              "  -0.03109121322631836,\n",
              "  -0.023876354098320007,\n",
              "  0.005802821833640337,\n",
              "  0.022706413641572,\n",
              "  -0.005228192545473576,\n",
              "  0.01980431005358696,\n",
              "  -0.047187332063913345,\n",
              "  0.03888937085866928,\n",
              "  0.004397211596369743,\n",
              "  -0.0051450058817863464,\n",
              "  -0.003910616971552372,\n",
              "  -0.011579440906643867,\n",
              "  0.003468383103609085,\n",
              "  -0.0036995464470237494,\n",
              "  0.047383662313222885,\n",
              "  -0.01768428087234497,\n",
              "  -0.030104080215096474,\n",
              "  0.031150009483098984,\n",
              "  -0.06061466410756111,\n",
              "  0.029737673699855804,\n",
              "  -0.006760326214134693,\n",
              "  -0.038889866322278976,\n",
              "  -0.009024030528962612,\n",
              "  0.04648609459400177,\n",
              "  0.010707318782806396,\n",
              "  0.04952367767691612,\n",
              "  -0.018855350092053413,\n",
              "  0.02656817063689232,\n",
              "  -0.01627882942557335,\n",
              "  0.03215079382061958,\n",
              "  -0.06125093623995781,\n",
              "  -0.028677713125944138,\n",
              "  0.043434783816337585,\n",
              "  -0.022632038220763206,\n",
              "  -0.04047469422221184,\n",
              "  0.05881812795996666,\n",
              "  0.016862919554114342,\n",
              "  -0.018163971602916718,\n",
              "  0.017451893538236618,\n",
              "  0.03254430368542671,\n",
              "  -0.04299790784716606,\n",
              "  0.042161617428064346,\n",
              "  -0.03623494878411293,\n",
              "  0.025670582428574562,\n",
              "  -0.015148146077990532,\n",
              "  -0.033283013850450516,\n",
              "  0.0024944120086729527,\n",
              "  -0.05214283615350723,\n",
              "  0.046507708728313446,\n",
              "  -0.038253653794527054,\n",
              "  -0.028274767100811005,\n",
              "  -0.040353793650865555,\n",
              "  -0.0537308044731617,\n",
              "  -0.03560933470726013,\n",
              "  -0.0037202772218734026,\n",
              "  -0.004914732649922371,\n",
              "  0.005312091205269098,\n",
              "  -0.008184030652046204,\n",
              "  -0.01749398559331894,\n",
              "  -0.021916916593909264,\n",
              "  0.01333615742623806,\n",
              "  -0.014292477630078793,\n",
              "  0.02665291540324688,\n",
              "  -0.04246813803911209,\n",
              "  -0.003913895692676306,\n",
              "  0.0066693867556750774,\n",
              "  0.010895068757236004,\n",
              "  0.02004948817193508,\n",
              "  -0.01114405132830143,\n",
              "  -0.0488273985683918,\n",
              "  0.03431406617164612,\n",
              "  0.011787891387939453,\n",
              "  -0.011191620491445065,\n",
              "  -0.06126151606440544,\n",
              "  -0.0025356037076562643,\n",
              "  0.005122382193803787,\n",
              "  -0.007326459977775812,\n",
              "  -0.03463101387023926,\n",
              "  0.016034603118896484,\n",
              "  -0.034694135189056396,\n",
              "  -0.0029209640342742205,\n",
              "  0.011096738278865814,\n",
              "  0.028448300436139107,\n",
              "  -0.008640764281153679,\n",
              "  0.0056654177606105804,\n",
              "  -0.03344468027353287,\n",
              "  0.037112340331077576,\n",
              "  0.05913583189249039,\n",
              "  -0.04468327760696411,\n",
              "  0.0027748567517846823,\n",
              "  0.03350496292114258,\n",
              "  -0.015918156132102013,\n",
              "  0.03637685626745224,\n",
              "  0.03717193752527237,\n",
              "  -0.022238144651055336,\n",
              "  -0.05122736841440201,\n",
              "  -0.05606362596154213,\n",
              "  0.01285070925951004,\n",
              "  -0.04898110032081604,\n",
              "  -0.021323980763554573,\n",
              "  -0.032580047845840454,\n",
              "  -0.02286672219634056,\n",
              "  -0.0274176187813282,\n",
              "  0.04078179597854614,\n",
              "  0.017422273755073547,\n",
              "  0.0008364138775505126,\n",
              "  -0.02335338667035103,\n",
              "  -0.04135933145880699,\n",
              "  0.028060223907232285,\n",
              "  -0.030673624947667122,\n",
              "  0.0037970670964568853,\n",
              "  -0.031794752925634384,\n",
              "  -0.03850509226322174,\n",
              "  -0.011399376206099987,\n",
              "  0.06945319473743439,\n",
              "  0.008185245096683502,\n",
              "  0.016056327149271965,\n",
              "  0.03775646910071373,\n",
              "  0.026881689205765724,\n",
              "  0.024105316027998924,\n",
              "  -0.007235072553157806,\n",
              "  -0.05944310501217842,\n",
              "  -0.031004389747977257,\n",
              "  0.023044832050800323,\n",
              "  -0.0020459338556975126,\n",
              "  -0.004424871876835823,\n",
              "  0.015597006306052208,\n",
              "  -0.03066273406147957,\n",
              "  0.05179453641176224,\n",
              "  -0.025946564972400665,\n",
              "  -0.010612346231937408,\n",
              "  0.0057214065454900265,\n",
              "  -0.014732779935002327,\n",
              "  -0.0017214097315445542,\n",
              "  0.010258945636451244,\n",
              "  0.04411972314119339,\n",
              "  -0.04411451146006584,\n",
              "  0.02922031842172146,\n",
              "  -0.029355967417359352,\n",
              "  0.0549929179251194,\n",
              "  0.019057461991906166,\n",
              "  -0.007412804290652275,\n",
              "  -0.020128777250647545,\n",
              "  -0.030006015673279762,\n",
              "  -0.05560551583766937,\n",
              "  -0.06534077972173691,\n",
              "  0.011662961915135384,\n",
              "  -0.028072375804185867,\n",
              "  -0.020435595884919167,\n",
              "  -0.020383836701512337,\n",
              "  -0.01798643171787262,\n",
              "  0.02579537034034729,\n",
              "  -0.04305537790060043,\n",
              "  0.0453200563788414,\n",
              "  0.07149837166070938,\n",
              "  0.01159866526722908,\n",
              "  -0.016645649448037148,\n",
              "  -0.0005497711827047169,\n",
              "  0.04807547479867935,\n",
              "  0.033196356147527695,\n",
              "  -0.06346750259399414,\n",
              "  -0.009430332109332085,\n",
              "  -0.024352693930268288,\n",
              "  -0.03750770166516304,\n",
              "  -0.004322398919612169,\n",
              "  -0.04890052601695061,\n",
              "  -0.030373090878129005,\n",
              "  -0.05424878001213074,\n",
              "  0.00309285381808877,\n",
              "  0.06739041209220886,\n",
              "  -0.04534722492098808,\n",
              "  0.050644926726818085,\n",
              "  0.013650268316268921,\n",
              "  -0.06574369221925735,\n",
              "  -0.038987092673778534,\n",
              "  0.020316511392593384,\n",
              "  -0.0038630194030702114,\n",
              "  0.02981746383011341,\n",
              "  0.044244520366191864,\n",
              "  -0.0080839479342103,\n",
              "  -0.025366587564349174,\n",
              "  0.022119810804724693,\n",
              "  -0.009031509049236774,\n",
              "  0.010777821764349937,\n",
              "  -0.07927123457193375,\n",
              "  0.06477341055870056,\n",
              "  -0.011635173112154007,\n",
              "  -0.015978602692484856,\n",
              "  0.0070990608073771,\n",
              "  0.05020301789045334,\n",
              "  -0.045505449175834656,\n",
              "  -0.05184188857674599,\n",
              "  0.015597417019307613,\n",
              "  0.00969595555216074,\n",
              "  -0.007557116914540529,\n",
              "  -0.030862759798765182,\n",
              "  0.008147933520376682,\n",
              "  -0.015579966828227043,\n",
              "  -0.005406323820352554,\n",
              "  -0.004837939515709877,\n",
              "  0.04172978177666664,\n",
              "  0.038198161870241165,\n",
              "  0.03601449355483055,\n",
              "  -0.024314124137163162,\n",
              "  0.037195876240730286,\n",
              "  -0.023036302998661995,\n",
              "  0.005304763093590736,\n",
              "  0.03744262456893921,\n",
              "  0.01474951021373272,\n",
              "  -0.013707155361771584,\n",
              "  -0.051928140223026276,\n",
              "  0.006461269222199917,\n",
              "  -0.001020343042910099,\n",
              "  0.017664529383182526,\n",
              "  0.029859749600291252,\n",
              "  0.0008784206584095955,\n",
              "  0.013113069348037243,\n",
              "  0.045515794306993484,\n",
              "  -0.0007717768312431872,\n",
              "  0.086127370595932,\n",
              "  0.000857887789607048,\n",
              "  0.0010611808393150568,\n",
              "  0.010455082170665264,\n",
              "  -0.017654526978731155,\n",
              "  -0.05080008879303932,\n",
              "  -0.0242810919880867,\n",
              "  0.026227345690131187,\n",
              "  -0.030035054311156273,\n",
              "  -0.0035827215760946274,\n",
              "  -0.05108734965324402,\n",
              "  0.014803781174123287,\n",
              "  0.032363470643758774,\n",
              "  0.016153758391737938,\n",
              "  0.00727084232494235,\n",
              "  -0.059095270931720734,\n",
              "  -0.03320719674229622,\n",
              "  -0.047847896814346313,\n",
              "  -0.04438900202512741,\n",
              "  -0.00889563374221325,\n",
              "  -0.01119635347276926,\n",
              "  -0.008871336467564106,\n",
              "  0.04034837335348129,\n",
              "  0.015331524424254894,\n",
              "  -0.05143022909760475,\n",
              "  -0.013336822390556335,\n",
              "  0.030492957681417465,\n",
              "  -0.021703636273741722,\n",
              "  0.027318933978676796,\n",
              "  -0.04194425046443939,\n",
              "  0.030812202021479607,\n",
              "  -0.05016138404607773,\n",
              "  -0.044182125478982925,\n",
              "  -0.04887961596250534,\n",
              "  -0.01817510649561882,\n",
              "  -0.024122700095176697,\n",
              "  -0.006389375776052475,\n",
              "  0.011330370791256428,\n",
              "  0.03674991428852081,\n",
              "  -0.007954170927405357,\n",
              "  0.0031594152096658945,\n",
              "  -0.00374320475384593,\n",
              "  0.00030183602939359844,\n",
              "  -0.004078392405062914,\n",
              "  -0.01869463175535202,\n",
              "  -0.005472519434988499,\n",
              "  0.02671695500612259,\n",
              "  0.006684982217848301,\n",
              "  0.02337787114083767,\n",
              "  0.024744125083088875,\n",
              "  -0.02193041890859604,\n",
              "  0.04343940690159798,\n",
              "  -0.021430833265185356,\n",
              "  -0.020080719143152237,\n",
              "  -0.021611129865050316,\n",
              "  0.026189904659986496,\n",
              "  0.010837382636964321,\n",
              "  0.004065598361194134,\n",
              "  -0.02042771689593792,\n",
              "  -0.02996830642223358,\n",
              "  -0.013588001020252705,\n",
              "  -0.03231673687696457,\n",
              "  0.016906538978219032,\n",
              "  -0.009864503517746925,\n",
              "  0.03117031417787075,\n",
              "  0.014863085933029652,\n",
              "  -0.03794345632195473,\n",
              "  -0.010207376442849636,\n",
              "  0.057567160576581955,\n",
              "  -0.007946574129164219,\n",
              "  0.005374516826122999,\n",
              "  0.0039582159370183945,\n",
              "  0.034812867641448975,\n",
              "  0.029219863936305046,\n",
              "  -0.01033862866461277,\n",
              "  0.05738702043890953,\n",
              "  0.013719039037823677,\n",
              "  0.0614728182554245,\n",
              "  -0.006655160337686539,\n",
              "  -0.03235996887087822,\n",
              "  0.024472568184137344,\n",
              "  0.011880265548825264,\n",
              "  0.03789195045828819,\n",
              "  -0.028076373040676117,\n",
              "  -0.01875905506312847,\n",
              "  -0.05650407448410988,\n",
              "  0.004460891243070364,\n",
              "  0.017178960144519806,\n",
              "  0.05382154509425163,\n",
              "  0.006994949653744698,\n",
              "  0.016208559274673462,\n",
              "  0.02117960900068283,\n",
              "  -0.011783630587160587,\n",
              "  -0.030067937448620796,\n",
              "  0.015638425946235657,\n",
              "  -0.04697954282164574,\n",
              "  -0.026822973042726517,\n",
              "  0.035248856991529465,\n",
              "  -0.0315294973552227,\n",
              "  -0.02336016111075878,\n",
              "  -0.012733717449009418,\n",
              "  -0.05965030565857887,\n",
              "  -0.012857988476753235,\n",
              "  -0.008556298911571503,\n",
              "  -0.020146148279309273,\n",
              "  -0.033467523753643036,\n",
              "  0.013545719906687737,\n",
              "  0.008111631497740746,\n",
              "  0.05683574080467224,\n",
              "  -0.012608121149241924,\n",
              "  0.012594493106007576,\n",
              "  -0.009083125740289688,\n",
              "  0.0645420253276825,\n",
              "  -0.06771759688854218,\n",
              "  -0.04941432923078537,\n",
              "  0.03267768397927284,\n",
              "  0.030962925404310226,\n",
              "  0.012891274876892567,\n",
              "  -0.011754611507058144,\n",
              "  -0.020793147385120392,\n",
              "  0.01969781331717968,\n",
              "  -0.014639822766184807,\n",
              "  -0.018331218510866165,\n",
              "  0.03913797810673714,\n",
              "  0.0047597684897482395,\n",
              "  -0.0010584520641714334,\n",
              "  0.027575522661209106,\n",
              "  -0.0056642815470695496,\n",
              "  0.03727957233786583,\n",
              "  -0.022938918322324753,\n",
              "  0.018258197233080864,\n",
              "  -0.014208226464688778,\n",
              "  -0.01916307769715786,\n",
              "  -0.024211226031184196,\n",
              "  0.014408580958843231,\n",
              "  0.024484120309352875,\n",
              "  -0.02141769416630268,\n",
              "  0.0696500763297081,\n",
              "  0.0068784309551119804,\n",
              "  0.05062667652964592,\n",
              "  0.0026762550696730614,\n",
              "  0.018253475427627563,\n",
              "  -0.022823603823781013,\n",
              "  0.06121652573347092,\n",
              "  0.06666789948940277,\n",
              "  0.03897986188530922,\n",
              "  -0.02676999941468239,\n",
              "  0.029076073318719864,\n",
              "  0.05300063267350197,\n",
              "  -0.013728952035307884,\n",
              "  0.0019530997378751636,\n",
              "  -0.008212575688958168,\n",
              "  0.00918703991919756,\n",
              "  -0.018225133419036865,\n",
              "  0.01686222478747368,\n",
              "  -0.03657304123044014,\n",
              "  -0.014812585897743702,\n",
              "  0.011686533689498901,\n",
              "  -0.028636189177632332,\n",
              "  0.0003998254833277315,\n",
              "  -0.04463106021285057,\n",
              "  -0.0013723657466471195,\n",
              "  -0.03620537742972374,\n",
              "  -0.01935942843556404,\n",
              "  0.04346331208944321,\n",
              "  -0.05941010266542435,\n",
              "  0.018279684707522392,\n",
              "  0.008100228384137154,\n",
              "  -0.03376693278551102,\n",
              "  0.004351375158876181,\n",
              "  0.0346437469124794,\n",
              "  0.01268802210688591,\n",
              "  0.0033948924392461777,\n",
              "  0.056002046912908554,\n",
              "  0.029388874769210815,\n",
              "  -0.0038502041716128588,\n",
              "  0.02237667888402939,\n",
              "  -0.0018230729037895799,\n",
              "  0.020918387919664383,\n",
              "  -0.05909859016537666,\n",
              "  0.03130664676427841,\n",
              "  0.009761500172317028,\n",
              "  -0.003234179224818945,\n",
              "  -0.0045693968422710896,\n",
              "  -0.001953011960722506,\n",
              "  -0.03814775124192238,\n",
              "  0.025491811335086823,\n",
              "  -0.02532312087714672,\n",
              "  0.010757019743323326,\n",
              "  0.04791034385561943,\n",
              "  -0.05470309779047966,\n",
              "  0.02021866850554943,\n",
              "  -0.03436656668782234,\n",
              "  0.029286116361618042,\n",
              "  -0.023273810744285583,\n",
              "  -0.00613380316644907,\n",
              "  0.03644659370183945,\n",
              "  -0.024946855381131172,\n",
              "  -0.031718552112579346,\n",
              "  0.05340719595551491,\n",
              "  -0.015247389674186707,\n",
              "  0.034173864871263504,\n",
              "  -0.022424399852752686,\n",
              "  0.0363738015294075,\n",
              "  -0.0005587783525697887,\n",
              "  0.05342814698815346,\n",
              "  0.03359604254364967,\n",
              "  -0.04437095299363136,\n",
              "  0.0037766406312584877,\n",
              "  0.01885806769132614,\n",
              "  -0.03143822029232979,\n",
              "  -0.020275738090276718,\n",
              "  -0.01442724373191595,\n",
              "  -0.04946424067020416,\n",
              "  -0.003340107388794422,\n",
              "  -0.016291165724396706,\n",
              "  -0.01268842350691557,\n",
              "  -0.015559446066617966,\n",
              "  0.05950549244880676,\n",
              "  0.023917624726891518,\n",
              "  -0.05257675051689148,\n",
              "  0.018427683040499687,\n",
              "  0.03691469877958298,\n",
              "  -0.03346638381481171,\n",
              "  -0.0054006450809538364,\n",
              "  0.0032180752605199814,\n",
              "  0.0414532907307148,\n",
              "  0.008036798797547817,\n",
              "  -0.02529910020530224,\n",
              "  -0.022104794159531593,\n",
              "  -0.0547906756401062,\n",
              "  0.015389385633170605,\n",
              "  -0.08420633524656296,\n",
              "  0.029549269005656242,\n",
              "  -0.0026448830030858517,\n",
              "  -0.03214426338672638,\n",
              "  -0.05529617890715599,\n",
              "  -0.03749679774045944,\n",
              "  -0.004686874337494373,\n",
              "  0.010255027562379837,\n",
              "  -0.022032909095287323,\n",
              "  -0.029881523922085762,\n",
              "  0.04087461158633232,\n",
              "  0.06103646382689476,\n",
              "  0.014416756108403206,\n",
              "  0.03637175261974335,\n",
              "  -0.033770617097616196,\n",
              "  -0.011080649681389332,\n",
              "  0.038748737424612045,\n",
              "  0.06585367769002914,\n",
              "  -0.009211969561874866,\n",
              "  0.05197036266326904,\n",
              "  0.03829648718237877,\n",
              "  0.024319935590028763,\n",
              "  0.026588592678308487,\n",
              "  -0.02029302902519703,\n",
              "  0.034709855914115906,\n",
              "  -0.013585424050688744,\n",
              "  -0.03122398816049099,\n",
              "  -0.040202271193265915,\n",
              "  0.0036120887380093336,\n",
              "  -0.02704775519669056,\n",
              "  -0.06761271506547928,\n",
              "  0.036158572882413864,\n",
              "  0.03995101526379585,\n",
              "  0.0027589972596615553,\n",
              "  -0.010170225985348225,\n",
              "  -0.0539657361805439,\n",
              "  -0.01879599504172802,\n",
              "  -0.05268096551299095,\n",
              "  0.0012506510829553008,\n",
              "  -0.05363521724939346,\n",
              "  0.03495792672038078,\n",
              "  -0.014401406981050968,\n",
              "  -0.018124334514141083,\n",
              "  0.006888197269290686,\n",
              "  -0.052473727613687515,\n",
              "  0.12769080698490143,\n",
              "  0.06018643453717232,\n",
              "  0.02024243399500847,\n",
              "  -0.016292225569486618,\n",
              "  0.01858675666153431,\n",
              "  0.07463715225458145,\n",
              "  0.011473416350781918,\n",
              "  -0.01768794097006321,\n",
              "  -0.01816577836871147,\n",
              "  -0.050420403480529785,\n",
              "  0.0418354757130146,\n",
              "  -0.029140997678041458,\n",
              "  0.017251338809728622,\n",
              "  0.004758368246257305,\n",
              "  0.02504279837012291,\n",
              "  0.05663136765360832,\n",
              "  -0.04524274542927742,\n",
              "  -0.03973473235964775,\n",
              "  0.005235721357166767,\n",
              "  -0.051033973693847656,\n",
              "  -0.04451986402273178,\n",
              "  0.007638724986463785,\n",
              "  0.023692762479186058,\n",
              "  0.03198578581213951,\n",
              "  0.008660901337862015,\n",
              "  0.01921219564974308,\n",
              "  0.026544149965047836,\n",
              "  -0.04553169757127762,\n",
              "  0.006510777398943901,\n",
              "  -0.023587845265865326,\n",
              "  0.016319356858730316,\n",
              "  -0.03022110089659691,\n",
              "  0.05751742795109749,\n",
              "  -0.020410016179084778,\n",
              "  -0.04592075198888779,\n",
              "  0.04587940126657486,\n",
              "  -0.02511809952557087,\n",
              "  -0.018513409420847893,\n",
              "  0.027648981660604477,\n",
              "  0.013722367584705353,\n",
              "  -0.042095866054296494,\n",
              "  0.002141337376087904,\n",
              "  0.0356830470263958,\n",
              "  -0.03722647577524185,\n",
              "  -0.001725189620628953,\n",
              "  0.012661701999604702,\n",
              "  -0.033457301557064056,\n",
              "  0.007353625725954771,\n",
              "  0.01689433678984642,\n",
              "  -0.050520483404397964,\n",
              "  0.0450151301920414,\n",
              "  -0.038021236658096313,\n",
              "  0.02052999474108219,\n",
              "  -0.03531211242079735,\n",
              "  -0.02347412519156933,\n",
              "  0.037670936435461044,\n",
              "  0.015347398817539215,\n",
              "  -0.0018545283237472177,\n",
              "  -0.0035740998573601246,\n",
              "  -0.008617528714239597,\n",
              "  0.014513222500681877,\n",
              "  0.00578267639502883,\n",
              "  -0.010394863784313202,\n",
              "  0.003480579936876893,\n",
              "  -0.029339930042624474,\n",
              "  0.0033870020415633917,\n",
              "  0.020387275144457817,\n",
              "  0.036595672369003296,\n",
              "  0.008900732733309269,\n",
              "  -0.012341048568487167,\n",
              "  -0.01670972630381584,\n",
              "  ...],\n",
              " [-0.007382219657301903,\n",
              "  -0.010894025675952435,\n",
              "  -0.009133631363511086,\n",
              "  0.0151352034881711,\n",
              "  -0.006636166013777256,\n",
              "  -0.030651243403553963,\n",
              "  -0.028938069939613342,\n",
              "  0.02148318663239479,\n",
              "  0.004160887561738491,\n",
              "  0.023734286427497864,\n",
              "  0.0398491770029068,\n",
              "  -0.012142045423388481,\n",
              "  0.011135954409837723,\n",
              "  -0.039817143231630325,\n",
              "  -0.02355978824198246,\n",
              "  -0.0031562517397105694,\n",
              "  0.0014990197960287333,\n",
              "  -0.02297077141702175,\n",
              "  0.02558589167892933,\n",
              "  -0.030265506356954575,\n",
              "  0.015405753627419472,\n",
              "  -0.003444212255999446,\n",
              "  -0.06349493563175201,\n",
              "  -0.024084994569420815,\n",
              "  -1.7344023035548162e-06,\n",
              "  0.009267173707485199,\n",
              "  0.021400704979896545,\n",
              "  -0.015560001134872437,\n",
              "  0.044114142656326294,\n",
              "  0.044858355075120926,\n",
              "  0.004726243205368519,\n",
              "  -0.008756223134696484,\n",
              "  0.024082021787762642,\n",
              "  -0.04608116298913956,\n",
              "  -0.0160250011831522,\n",
              "  0.007782421540468931,\n",
              "  0.05417399853467941,\n",
              "  -0.029163731262087822,\n",
              "  -0.03609941154718399,\n",
              "  -0.04435102641582489,\n",
              "  -0.0053773303516209126,\n",
              "  -0.0160810686647892,\n",
              "  0.041257280856370926,\n",
              "  -0.03287624567747116,\n",
              "  -0.0483957901597023,\n",
              "  -0.027851490303874016,\n",
              "  -0.03338448703289032,\n",
              "  0.0049326736479997635,\n",
              "  0.023862548172473907,\n",
              "  -0.029330821707844734,\n",
              "  0.02401583641767502,\n",
              "  -0.002330784685909748,\n",
              "  0.04284661263227463,\n",
              "  0.004753053653985262,\n",
              "  0.018564589321613312,\n",
              "  -0.023629384115338326,\n",
              "  0.012190151028335094,\n",
              "  -0.017443228513002396,\n",
              "  -0.030260931700468063,\n",
              "  0.03146277740597725,\n",
              "  0.008931339718401432,\n",
              "  -0.0043633077293634415,\n",
              "  0.031488269567489624,\n",
              "  -0.03383800759911537,\n",
              "  0.020816652104258537,\n",
              "  0.026668952777981758,\n",
              "  -0.004111682064831257,\n",
              "  -0.021634185686707497,\n",
              "  -0.0006608095136471093,\n",
              "  -0.00179755175486207,\n",
              "  -0.024580229073762894,\n",
              "  -0.0034873560070991516,\n",
              "  -0.024506399407982826,\n",
              "  0.003951669670641422,\n",
              "  0.02395900897681713,\n",
              "  0.015254928730428219,\n",
              "  -0.0033252781722694635,\n",
              "  0.011518903076648712,\n",
              "  0.016605699434876442,\n",
              "  0.014706726185977459,\n",
              "  0.005996352061629295,\n",
              "  0.0634470209479332,\n",
              "  0.04480571299791336,\n",
              "  -0.009261584840714931,\n",
              "  -0.027751827612519264,\n",
              "  -0.009511127136647701,\n",
              "  0.038225267082452774,\n",
              "  0.010001039132475853,\n",
              "  0.012798305600881577,\n",
              "  0.01682084985077381,\n",
              "  -0.008441774174571037,\n",
              "  0.051165737211704254,\n",
              "  -0.01291838102042675,\n",
              "  -0.009094112552702427,\n",
              "  0.024521877989172935,\n",
              "  0.035154715180397034,\n",
              "  -0.04490278661251068,\n",
              "  0.026844510808587074,\n",
              "  -0.012402218766510487,\n",
              "  0.001979992724955082,\n",
              "  0.03223594278097153,\n",
              "  0.044950082898139954,\n",
              "  -0.0044983383268117905,\n",
              "  0.02531423605978489,\n",
              "  -0.023690709844231606,\n",
              "  0.01895424723625183,\n",
              "  0.011965488083660603,\n",
              "  -0.02806262858211994,\n",
              "  -0.01621176116168499,\n",
              "  -0.027609430253505707,\n",
              "  0.022350162267684937,\n",
              "  -0.014488772489130497,\n",
              "  0.015542509034276009,\n",
              "  -0.015395322814583778,\n",
              "  -0.0082526421174407,\n",
              "  0.031625840812921524,\n",
              "  0.0008301303605549037,\n",
              "  0.041192565113306046,\n",
              "  -0.01389753445982933,\n",
              "  -0.0008521238341927528,\n",
              "  0.025468505918979645,\n",
              "  0.019580984488129616,\n",
              "  0.03636089339852333,\n",
              "  -0.019303996115922928,\n",
              "  0.021438205614686012,\n",
              "  -0.017650840803980827,\n",
              "  -0.0194503515958786,\n",
              "  0.06668919324874878,\n",
              "  -0.03988642990589142,\n",
              "  -0.04674521088600159,\n",
              "  0.011029507033526897,\n",
              "  -0.047849543392658234,\n",
              "  -0.020133303478360176,\n",
              "  -0.0024934897664934397,\n",
              "  -0.012441433034837246,\n",
              "  0.014211174100637436,\n",
              "  -0.002679097233340144,\n",
              "  0.0086803724989295,\n",
              "  0.03817465156316757,\n",
              "  -0.06493334472179413,\n",
              "  0.019959572702646255,\n",
              "  0.05680905655026436,\n",
              "  0.006237080320715904,\n",
              "  0.10372229665517807,\n",
              "  0.004145038314163685,\n",
              "  0.040556974709033966,\n",
              "  0.013552096672356129,\n",
              "  0.0011946732411161065,\n",
              "  -0.0493738166987896,\n",
              "  0.03492550179362297,\n",
              "  -0.021739529445767403,\n",
              "  0.017265621572732925,\n",
              "  -0.0031166260596364737,\n",
              "  0.020641490817070007,\n",
              "  -0.003247401677072048,\n",
              "  -0.0049942852929234505,\n",
              "  -0.008130318485200405,\n",
              "  0.001930168247781694,\n",
              "  0.016072677448391914,\n",
              "  0.04484381154179573,\n",
              "  -0.005892917513847351,\n",
              "  0.009025192819535732,\n",
              "  -0.011901467107236385,\n",
              "  0.04121528938412666,\n",
              "  -0.011347583495080471,\n",
              "  0.0622650682926178,\n",
              "  -0.030659334734082222,\n",
              "  -0.011161012575030327,\n",
              "  -0.009879371151328087,\n",
              "  -0.03819926083087921,\n",
              "  0.04999156668782234,\n",
              "  -0.013830365613102913,\n",
              "  -0.0060468451119959354,\n",
              "  0.03689097985625267,\n",
              "  0.030881794169545174,\n",
              "  0.024593353271484375,\n",
              "  0.02737203612923622,\n",
              "  -0.007434031460434198,\n",
              "  0.06535150855779648,\n",
              "  0.035187821835279465,\n",
              "  -0.014783315360546112,\n",
              "  0.02643556520342827,\n",
              "  0.029690271243453026,\n",
              "  0.07687240093946457,\n",
              "  -0.0017897438956424594,\n",
              "  0.006183721590787172,\n",
              "  -0.007223119959235191,\n",
              "  -0.038755014538764954,\n",
              "  -0.060540392994880676,\n",
              "  -0.02430539019405842,\n",
              "  -0.00597063172608614,\n",
              "  0.02465376816689968,\n",
              "  -0.02945033274590969,\n",
              "  0.008032750338315964,\n",
              "  0.01252520177513361,\n",
              "  -0.009161028079688549,\n",
              "  -0.04229455441236496,\n",
              "  -0.02778695710003376,\n",
              "  -0.01200648583471775,\n",
              "  -0.06070437654852867,\n",
              "  -0.015530554577708244,\n",
              "  0.024045763537287712,\n",
              "  -0.022708402946591377,\n",
              "  0.0509120412170887,\n",
              "  0.0005893015768378973,\n",
              "  -0.015361773781478405,\n",
              "  0.030127963051199913,\n",
              "  0.059624724090099335,\n",
              "  -0.012316337786614895,\n",
              "  -0.005642615724354982,\n",
              "  0.056904152035713196,\n",
              "  -0.0031439715530723333,\n",
              "  -0.03212625905871391,\n",
              "  -0.03365624323487282,\n",
              "  0.013475470244884491,\n",
              "  -0.017648514360189438,\n",
              "  -0.036528296768665314,\n",
              "  0.047595374286174774,\n",
              "  -0.011954679153859615,\n",
              "  -0.002320734318345785,\n",
              "  -0.013316024094820023,\n",
              "  0.018307702615857124,\n",
              "  0.027856264263391495,\n",
              "  0.03232825919985771,\n",
              "  -0.02320307120680809,\n",
              "  0.00891634076833725,\n",
              "  0.012428860180079937,\n",
              "  0.0377483144402504,\n",
              "  -0.015594997443258762,\n",
              "  -0.017530126497149467,\n",
              "  -0.014869127422571182,\n",
              "  0.026618659496307373,\n",
              "  0.011235916055738926,\n",
              "  0.06053932383656502,\n",
              "  0.046226754784584045,\n",
              "  0.0214992705732584,\n",
              "  0.04756386578083038,\n",
              "  0.03255069628357887,\n",
              "  -0.03507306054234505,\n",
              "  0.035271137952804565,\n",
              "  -0.028990138322114944,\n",
              "  0.025080861523747444,\n",
              "  0.024007776752114296,\n",
              "  0.021655913442373276,\n",
              "  0.022565213963389397,\n",
              "  0.03426495939493179,\n",
              "  0.008713698014616966,\n",
              "  -0.0012468540808185935,\n",
              "  -0.035969920456409454,\n",
              "  0.005189026240259409,\n",
              "  -0.008314086124300957,\n",
              "  0.049678876996040344,\n",
              "  0.024412138387560844,\n",
              "  0.0293283574283123,\n",
              "  -0.03296535462141037,\n",
              "  0.008540895767509937,\n",
              "  0.07405636459589005,\n",
              "  0.04343103617429733,\n",
              "  -0.04538708180189133,\n",
              "  -0.007586255669593811,\n",
              "  -0.021559758111834526,\n",
              "  0.025315919890999794,\n",
              "  -0.018620051443576813,\n",
              "  0.04268411546945572,\n",
              "  0.03387688845396042,\n",
              "  0.023176485672593117,\n",
              "  0.012156479991972446,\n",
              "  0.0005806743283756077,\n",
              "  -0.0075012268498539925,\n",
              "  -0.017550064250826836,\n",
              "  -0.04848373681306839,\n",
              "  -0.0582115612924099,\n",
              "  -0.051579102873802185,\n",
              "  -0.028693629428744316,\n",
              "  -0.061238501220941544,\n",
              "  -0.0056784688495099545,\n",
              "  0.04444107040762901,\n",
              "  -0.03540675342082977,\n",
              "  0.025169292464852333,\n",
              "  -0.013096470385789871,\n",
              "  0.01755484752357006,\n",
              "  -0.00757625512778759,\n",
              "  -0.03988810256123543,\n",
              "  0.022187162190675735,\n",
              "  0.02826549857854843,\n",
              "  0.03327025845646858,\n",
              "  -0.029424766078591347,\n",
              "  0.025846879929304123,\n",
              "  0.003931561950594187,\n",
              "  0.019211290404200554,\n",
              "  -0.05442872270941734,\n",
              "  -0.027220604941248894,\n",
              "  0.002424012403935194,\n",
              "  -0.0015456570545211434,\n",
              "  0.04210022836923599,\n",
              "  -0.005281175021082163,\n",
              "  -9.034819959197193e-05,\n",
              "  -0.030880162492394447,\n",
              "  -0.037635937333106995,\n",
              "  -0.037109773606061935,\n",
              "  -0.009667863138020039,\n",
              "  0.010716310702264309,\n",
              "  0.0004249323974363506,\n",
              "  -0.00815704744309187,\n",
              "  -0.05221962183713913,\n",
              "  0.027257341891527176,\n",
              "  0.023672349750995636,\n",
              "  -0.02812623605132103,\n",
              "  0.06300579011440277,\n",
              "  0.017802555114030838,\n",
              "  -0.015171458944678307,\n",
              "  0.036524612456560135,\n",
              "  0.018338782712817192,\n",
              "  0.03150930255651474,\n",
              "  -0.048072826117277145,\n",
              "  0.06037034094333649,\n",
              "  0.04162168130278587,\n",
              "  0.0016388398362323642,\n",
              "  -0.04587620869278908,\n",
              "  -0.0389581136405468,\n",
              "  -0.04213358089327812,\n",
              "  0.03542600944638252,\n",
              "  -0.023322099819779396,\n",
              "  -0.01920470781624317,\n",
              "  -0.024805625900626183,\n",
              "  0.018031615763902664,\n",
              "  0.048718128353357315,\n",
              "  -0.07764133810997009,\n",
              "  0.03246260806918144,\n",
              "  -0.06019490212202072,\n",
              "  -0.031545449048280716,\n",
              "  -0.03271067142486572,\n",
              "  -0.040606021881103516,\n",
              "  0.02418220415711403,\n",
              "  -0.004503924399614334,\n",
              "  0.041255004703998566,\n",
              "  -0.003688232973217964,\n",
              "  -0.01964724436402321,\n",
              "  -0.004920965991914272,\n",
              "  -0.013317708857357502,\n",
              "  0.049983516335487366,\n",
              "  -0.030330680310726166,\n",
              "  0.022611578926444054,\n",
              "  0.0288601815700531,\n",
              "  -0.008116278797388077,\n",
              "  0.011164825409650803,\n",
              "  0.024706926196813583,\n",
              "  -0.015636131167411804,\n",
              "  0.00018612616986501962,\n",
              "  0.007018201518803835,\n",
              "  0.00556668546050787,\n",
              "  0.009203813970088959,\n",
              "  0.036774590611457825,\n",
              "  -0.0007811214891262352,\n",
              "  0.01425094623118639,\n",
              "  0.06057072803378105,\n",
              "  -0.03083452209830284,\n",
              "  0.01168361958116293,\n",
              "  0.014005261473357677,\n",
              "  0.002996677765622735,\n",
              "  0.023703396320343018,\n",
              "  0.03577234968543053,\n",
              "  0.011038457043468952,\n",
              "  -0.04451196268200874,\n",
              "  -0.016356246545910835,\n",
              "  -0.05758889392018318,\n",
              "  0.016381168738007545,\n",
              "  0.0268406942486763,\n",
              "  0.045399826020002365,\n",
              "  -0.07354411482810974,\n",
              "  0.05258448049426079,\n",
              "  -0.032352276146411896,\n",
              "  -0.051861461251974106,\n",
              "  0.0409458689391613,\n",
              "  -0.03617115691304207,\n",
              "  0.008976803161203861,\n",
              "  0.0389639176428318,\n",
              "  -0.031119123101234436,\n",
              "  0.047495387494564056,\n",
              "  -0.033044010400772095,\n",
              "  -6.272702739806846e-05,\n",
              "  -0.020014865323901176,\n",
              "  0.018053947016596794,\n",
              "  0.04553741216659546,\n",
              "  -0.0020915719214826822,\n",
              "  0.044778548181056976,\n",
              "  -0.04994003102183342,\n",
              "  -0.040606480091810226,\n",
              "  0.004245073534548283,\n",
              "  -0.02335207723081112,\n",
              "  -0.029062215238809586,\n",
              "  -0.03477884456515312,\n",
              "  0.005545445252209902,\n",
              "  0.0024809350725263357,\n",
              "  -0.07577277719974518,\n",
              "  -0.07348037511110306,\n",
              "  0.037752680480480194,\n",
              "  0.03886306285858154,\n",
              "  0.04234493151307106,\n",
              "  0.004905162379145622,\n",
              "  0.056476984173059464,\n",
              "  0.012272791005671024,\n",
              "  0.02103230729699135,\n",
              "  0.015054662711918354,\n",
              "  -0.04367658868432045,\n",
              "  0.007434379309415817,\n",
              "  -0.032638128846883774,\n",
              "  0.053974736481904984,\n",
              "  0.021561317145824432,\n",
              "  -0.028567349538207054,\n",
              "  -0.010134520940482616,\n",
              "  -0.03043718822300434,\n",
              "  -0.02883201092481613,\n",
              "  0.057534124702215195,\n",
              "  -0.02091950736939907,\n",
              "  -0.02503264881670475,\n",
              "  -0.044398028403520584,\n",
              "  0.015683738514780998,\n",
              "  -0.010008691810071468,\n",
              "  0.02535431832075119,\n",
              "  -0.02511100471019745,\n",
              "  -0.027588581666350365,\n",
              "  -0.03989600017666817,\n",
              "  0.04710854962468147,\n",
              "  0.04920394346117973,\n",
              "  -0.0255641657859087,\n",
              "  0.008355468511581421,\n",
              "  -0.03745473176240921,\n",
              "  0.06026403605937958,\n",
              "  0.025252027437090874,\n",
              "  0.016009828075766563,\n",
              "  -0.034839753061532974,\n",
              "  -0.04683803394436836,\n",
              "  -0.023622827604413033,\n",
              "  -0.01707569882273674,\n",
              "  0.01121556293219328,\n",
              "  0.02338767796754837,\n",
              "  -0.0028191145975142717,\n",
              "  0.019713079556822777,\n",
              "  -0.054459523409605026,\n",
              "  0.02531621791422367,\n",
              "  -0.0006309773889370263,\n",
              "  0.007136911153793335,\n",
              "  -0.005400275811553001,\n",
              "  -0.011025932617485523,\n",
              "  0.006606601644307375,\n",
              "  -0.007778530474752188,\n",
              "  0.03583963215351105,\n",
              "  -0.01759832538664341,\n",
              "  -0.02947865054011345,\n",
              "  0.039799004793167114,\n",
              "  -0.06321163475513458,\n",
              "  0.030674824491143227,\n",
              "  -0.010893001221120358,\n",
              "  -0.039103467017412186,\n",
              "  -0.007637883070856333,\n",
              "  0.031668972223997116,\n",
              "  0.010033201426267624,\n",
              "  0.0451541431248188,\n",
              "  -0.01579970121383667,\n",
              "  0.02168056182563305,\n",
              "  -0.006497150752693415,\n",
              "  0.021830964833498,\n",
              "  -0.0569157674908638,\n",
              "  -0.03620089963078499,\n",
              "  0.05189574137330055,\n",
              "  -0.03980076313018799,\n",
              "  -0.03437497839331627,\n",
              "  0.0524517223238945,\n",
              "  0.017712047323584557,\n",
              "  -0.01585381105542183,\n",
              "  0.011063694953918457,\n",
              "  0.032981086522340775,\n",
              "  -0.03619703650474548,\n",
              "  0.04239721596240997,\n",
              "  -0.05006825178861618,\n",
              "  0.028080465272068977,\n",
              "  -0.02119521237909794,\n",
              "  -0.01877349428832531,\n",
              "  0.006833341903984547,\n",
              "  -0.05352242290973663,\n",
              "  0.05019735172390938,\n",
              "  -0.025311032310128212,\n",
              "  -0.022055746987462044,\n",
              "  -0.04035378620028496,\n",
              "  -0.05822769179940224,\n",
              "  -0.04388483241200447,\n",
              "  -0.009439466521143913,\n",
              "  0.001940922113135457,\n",
              "  0.014918179251253605,\n",
              "  -0.005626027472317219,\n",
              "  -0.0112529331818223,\n",
              "  -0.015490613877773285,\n",
              "  0.004319372586905956,\n",
              "  -0.020562071353197098,\n",
              "  0.02832724340260029,\n",
              "  -0.03548779711127281,\n",
              "  -0.0027217851020395756,\n",
              "  0.006585779599845409,\n",
              "  0.005882564000785351,\n",
              "  0.016400888562202454,\n",
              "  -0.008553216233849525,\n",
              "  -0.04874279722571373,\n",
              "  0.03949349373579025,\n",
              "  -0.0007920651696622372,\n",
              "  -0.0015306503046303988,\n",
              "  -0.05405150353908539,\n",
              "  0.0030764713883399963,\n",
              "  0.0042997365817427635,\n",
              "  -0.0011037610238417983,\n",
              "  -0.03164582699537277,\n",
              "  0.008833160623908043,\n",
              "  -0.04089760780334473,\n",
              "  -0.0006075392011553049,\n",
              "  -0.014025643467903137,\n",
              "  0.026813900098204613,\n",
              "  0.00010460196062922478,\n",
              "  0.011988087557256222,\n",
              "  -0.0313943549990654,\n",
              "  0.043657489120960236,\n",
              "  0.06469220668077469,\n",
              "  -0.04002905264496803,\n",
              "  8.049242023844272e-05,\n",
              "  0.01817731186747551,\n",
              "  -0.02043384313583374,\n",
              "  0.03411107137799263,\n",
              "  0.02293844148516655,\n",
              "  -0.024242745712399483,\n",
              "  -0.05849406123161316,\n",
              "  -0.04890476167201996,\n",
              "  0.013985848054289818,\n",
              "  -0.04383467882871628,\n",
              "  -0.01284268032759428,\n",
              "  -0.023106390610337257,\n",
              "  -0.01930898427963257,\n",
              "  -0.03174855187535286,\n",
              "  0.045729223638772964,\n",
              "  0.017742695286870003,\n",
              "  -0.0048632631078362465,\n",
              "  -0.01997305639088154,\n",
              "  -0.04103592410683632,\n",
              "  0.015463494695723057,\n",
              "  -0.03280869498848915,\n",
              "  0.00522381579503417,\n",
              "  -0.03982624039053917,\n",
              "  -0.021987343207001686,\n",
              "  -0.004331532400101423,\n",
              "  0.06744246184825897,\n",
              "  -0.010374443605542183,\n",
              "  0.008591721765697002,\n",
              "  0.04713191092014313,\n",
              "  0.027368346229195595,\n",
              "  0.02398623153567314,\n",
              "  -0.01853017695248127,\n",
              "  -0.05543374642729759,\n",
              "  -0.033402230590581894,\n",
              "  0.016208631917834282,\n",
              "  -0.01239069364964962,\n",
              "  -0.012234131805598736,\n",
              "  0.0007473636651411653,\n",
              "  -0.04073940962553024,\n",
              "  0.05243272706866264,\n",
              "  -0.030207732692360878,\n",
              "  -0.0024136584252119064,\n",
              "  0.011976784095168114,\n",
              "  -0.023399336263537407,\n",
              "  -0.0022069737315177917,\n",
              "  0.020312773063778877,\n",
              "  0.04693486541509628,\n",
              "  -0.03965798392891884,\n",
              "  0.037781644612550735,\n",
              "  -0.029992597177624702,\n",
              "  0.05443080514669418,\n",
              "  0.028909988701343536,\n",
              "  0.0037108738906681538,\n",
              "  -0.032123714685440063,\n",
              "  -0.024883463978767395,\n",
              "  -0.04367266222834587,\n",
              "  -0.06202341243624687,\n",
              "  0.024711849167943,\n",
              "  -0.03065537102520466,\n",
              "  -0.026209240779280663,\n",
              "  -0.02574092335999012,\n",
              "  -0.0092087984085083,\n",
              "  0.016426796093583107,\n",
              "  -0.03895176202058792,\n",
              "  0.03260302543640137,\n",
              "  0.059515323489904404,\n",
              "  0.009144347161054611,\n",
              "  -0.009047049097716808,\n",
              "  -0.011721584014594555,\n",
              "  0.04293011501431465,\n",
              "  0.031127525493502617,\n",
              "  -0.06158202514052391,\n",
              "  -0.010824107564985752,\n",
              "  -0.023928314447402954,\n",
              "  -0.05165385454893112,\n",
              "  -0.0037067437078803778,\n",
              "  -0.03850044310092926,\n",
              "  -0.03428089991211891,\n",
              "  -0.05355216935276985,\n",
              "  0.0044298493303358555,\n",
              "  0.061857111752033234,\n",
              "  -0.041289567947387695,\n",
              "  0.05104744806885719,\n",
              "  0.013806871138513088,\n",
              "  -0.058294251561164856,\n",
              "  -0.036058567464351654,\n",
              "  0.025300245732069016,\n",
              "  -0.002508548554033041,\n",
              "  0.014007958583533764,\n",
              "  0.042952846735715866,\n",
              "  -0.014306456781923771,\n",
              "  -0.008918807841837406,\n",
              "  0.024943241849541664,\n",
              "  -0.008963899686932564,\n",
              "  0.004056204110383987,\n",
              "  -0.07102932035923004,\n",
              "  0.06437978148460388,\n",
              "  -0.012250278145074844,\n",
              "  -0.008869164623320103,\n",
              "  0.02141769975423813,\n",
              "  0.04674943536520004,\n",
              "  -0.06388484686613083,\n",
              "  -0.04665353521704674,\n",
              "  0.005398152396082878,\n",
              "  0.014624723233282566,\n",
              "  0.009826469235122204,\n",
              "  -0.01853920891880989,\n",
              "  0.010041166096925735,\n",
              "  -0.014231819659471512,\n",
              "  -0.013029712252318859,\n",
              "  0.0033944135066121817,\n",
              "  0.03690854460000992,\n",
              "  0.046202484518289566,\n",
              "  0.04111107066273689,\n",
              "  -0.025833752006292343,\n",
              "  0.03582463040947914,\n",
              "  -0.02360890433192253,\n",
              "  0.019938314333558083,\n",
              "  0.04101865738630295,\n",
              "  0.016913345083594322,\n",
              "  -0.014049304649233818,\n",
              "  -0.05181374400854111,\n",
              "  0.01129975076764822,\n",
              "  0.0011749626137316227,\n",
              "  0.02054794691503048,\n",
              "  0.025585515424609184,\n",
              "  0.0037257287185639143,\n",
              "  0.017147917300462723,\n",
              "  0.04061349481344223,\n",
              "  0.0029555277433246374,\n",
              "  0.08601181954145432,\n",
              "  0.00928602647036314,\n",
              "  0.0024504808243364096,\n",
              "  0.0008926847367547452,\n",
              "  -0.01295283529907465,\n",
              "  -0.05199577286839485,\n",
              "  -0.01954815723001957,\n",
              "  0.02344611845910549,\n",
              "  -0.03244427219033241,\n",
              "  0.00669742189347744,\n",
              "  -0.058816954493522644,\n",
              "  0.014485526829957962,\n",
              "  0.02190440148115158,\n",
              "  0.017183514311909676,\n",
              "  0.005202645901590586,\n",
              "  -0.06890672445297241,\n",
              "  -0.033294662833213806,\n",
              "  -0.04208686947822571,\n",
              "  -0.039581261575222015,\n",
              "  -0.004590542521327734,\n",
              "  -0.0009226903785020113,\n",
              "  -0.022385943681001663,\n",
              "  0.03262605145573616,\n",
              "  0.02237173356115818,\n",
              "  -0.04997020214796066,\n",
              "  -0.010420105420053005,\n",
              "  0.028358062729239464,\n",
              "  -0.024474602192640305,\n",
              "  0.02811271697282791,\n",
              "  -0.04627290740609169,\n",
              "  0.019365226849913597,\n",
              "  -0.05030650272965431,\n",
              "  -0.04395866394042969,\n",
              "  -0.05025175213813782,\n",
              "  -0.01955319195985794,\n",
              "  0.002610056893900037,\n",
              "  -0.022036362439393997,\n",
              "  0.01909288391470909,\n",
              "  0.034359365701675415,\n",
              "  -0.013986090198159218,\n",
              "  -0.002780335722491145,\n",
              "  -0.008043503388762474,\n",
              "  0.006961075589060783,\n",
              "  -0.0037665676791220903,\n",
              "  -0.02058141492307186,\n",
              "  -0.01123764831572771,\n",
              "  0.024434830993413925,\n",
              "  0.003933977801352739,\n",
              "  0.031969863921403885,\n",
              "  0.01922684907913208,\n",
              "  -0.021936018019914627,\n",
              "  0.03730495274066925,\n",
              "  -0.022176308557391167,\n",
              "  -0.01909649930894375,\n",
              "  -0.017403332516551018,\n",
              "  0.02553616650402546,\n",
              "  0.01183902658522129,\n",
              "  0.007797761354595423,\n",
              "  -0.024294471368193626,\n",
              "  -0.025169946253299713,\n",
              "  -0.006846514064818621,\n",
              "  -0.027062632143497467,\n",
              "  0.0152179766446352,\n",
              "  0.0011931871995329857,\n",
              "  0.033756766468286514,\n",
              "  0.019700605422258377,\n",
              "  -0.027619406580924988,\n",
              "  -0.010566724464297295,\n",
              "  0.06047705560922623,\n",
              "  -0.002888765884563327,\n",
              "  -0.0007325475453399122,\n",
              "  0.006349555682390928,\n",
              "  0.04177163913846016,\n",
              "  0.030657606199383736,\n",
              "  -0.01789754070341587,\n",
              "  0.047917649149894714,\n",
              "  0.017348812893033028,\n",
              "  0.06228041276335716,\n",
              "  -0.001301660668104887,\n",
              "  -0.027436237782239914,\n",
              "  0.022747529670596123,\n",
              "  0.012939092703163624,\n",
              "  0.03189300745725632,\n",
              "  -0.025863394141197205,\n",
              "  -0.029990702867507935,\n",
              "  -0.05205010250210762,\n",
              "  -0.010530221275985241,\n",
              "  0.01641431823372841,\n",
              "  0.05663524940609932,\n",
              "  0.004179650451987982,\n",
              "  0.005586021579802036,\n",
              "  0.015420402400195599,\n",
              "  -0.013172854669392109,\n",
              "  -0.03801560774445534,\n",
              "  0.015601652674376965,\n",
              "  -0.0531737357378006,\n",
              "  -0.029783932492136955,\n",
              "  0.037385109812021255,\n",
              "  -0.0331779308617115,\n",
              "  -0.014092694036662579,\n",
              "  -0.024262409657239914,\n",
              "  -0.0421823225915432,\n",
              "  -0.007888528518378735,\n",
              "  -0.001979516353458166,\n",
              "  -0.007174753118306398,\n",
              "  -0.03100784495472908,\n",
              "  -0.002114061499014497,\n",
              "  0.013052142225205898,\n",
              "  0.05045445263385773,\n",
              "  -0.01885402761399746,\n",
              "  0.020078593865036964,\n",
              "  -0.01346555631607771,\n",
              "  0.05997679382562637,\n",
              "  -0.06362844258546829,\n",
              "  -0.04688502103090286,\n",
              "  0.03390153497457504,\n",
              "  0.03904822841286659,\n",
              "  0.02519841678440571,\n",
              "  -0.017082106322050095,\n",
              "  -0.03595030680298805,\n",
              "  0.02177790179848671,\n",
              "  -0.0068909418769180775,\n",
              "  -0.01647230237722397,\n",
              "  0.03143924102187157,\n",
              "  -0.005221531726419926,\n",
              "  0.006989852525293827,\n",
              "  0.025347299873828888,\n",
              "  -0.012163341045379639,\n",
              "  0.03451875224709511,\n",
              "  -0.02111826092004776,\n",
              "  0.001667800359427929,\n",
              "  -0.010024305433034897,\n",
              "  -0.014848962426185608,\n",
              "  -0.02751726284623146,\n",
              "  0.013847245834767818,\n",
              "  0.025587761774659157,\n",
              "  -0.02617577090859413,\n",
              "  0.07113158702850342,\n",
              "  0.007272801361978054,\n",
              "  0.05087359622120857,\n",
              "  -0.011221246793866158,\n",
              "  0.027203839272260666,\n",
              "  -0.01233125850558281,\n",
              "  0.06290547549724579,\n",
              "  0.0635458379983902,\n",
              "  0.03294992074370384,\n",
              "  -0.022952036932110786,\n",
              "  0.02871542237699032,\n",
              "  0.04847316816449165,\n",
              "  -0.02368089370429516,\n",
              "  -0.007156665436923504,\n",
              "  -0.006798075046390295,\n",
              "  0.021278798580169678,\n",
              "  -0.0317583903670311,\n",
              "  0.021393703296780586,\n",
              "  -0.02568911947309971,\n",
              "  -0.005571410525590181,\n",
              "  0.017961706966161728,\n",
              "  -0.02325606904923916,\n",
              "  0.013553658500313759,\n",
              "  -0.035965096205472946,\n",
              "  -0.0043275258503854275,\n",
              "  -0.030729111284017563,\n",
              "  -0.022275881841778755,\n",
              "  0.048193592578172684,\n",
              "  -0.052379462867975235,\n",
              "  0.013978997245430946,\n",
              "  0.006182620767503977,\n",
              "  -0.026044391095638275,\n",
              "  0.0006069252849556506,\n",
              "  0.029086250811815262,\n",
              "  0.0011239753803238273,\n",
              "  0.0046679675579071045,\n",
              "  0.052811626344919205,\n",
              "  0.029894927516579628,\n",
              "  -0.0025530154816806316,\n",
              "  0.020511111244559288,\n",
              "  -0.0008132150978781283,\n",
              "  0.02877388522028923,\n",
              "  -0.06353427469730377,\n",
              "  0.03833924978971481,\n",
              "  0.008036007173359394,\n",
              "  -0.017804093658924103,\n",
              "  -0.012650900520384312,\n",
              "  -0.005333657842129469,\n",
              "  -0.03803328797221184,\n",
              "  0.02505674958229065,\n",
              "  -0.02045801468193531,\n",
              "  0.014646310359239578,\n",
              "  0.04177359491586685,\n",
              "  -0.050021942704916,\n",
              "  0.007561445236206055,\n",
              "  -0.032290466129779816,\n",
              "  0.024354344233870506,\n",
              "  -0.022390706464648247,\n",
              "  -0.003928560297936201,\n",
              "  0.0377916619181633,\n",
              "  -0.03175106272101402,\n",
              "  -0.016621742397546768,\n",
              "  0.04870046302676201,\n",
              "  -0.011171492747962475,\n",
              "  0.030324652791023254,\n",
              "  -0.02183331549167633,\n",
              "  0.031466227024793625,\n",
              "  0.00046403059968724847,\n",
              "  0.06266149133443832,\n",
              "  0.02269708551466465,\n",
              "  -0.04675930738449097,\n",
              "  0.003068195888772607,\n",
              "  0.022105177864432335,\n",
              "  -0.03175066411495209,\n",
              "  -0.030277999117970467,\n",
              "  -0.02184442989528179,\n",
              "  -0.043687913566827774,\n",
              "  -0.012091878801584244,\n",
              "  -0.018610630184412003,\n",
              "  -0.005381566472351551,\n",
              "  -0.018963655456900597,\n",
              "  0.05448673292994499,\n",
              "  0.015252741985023022,\n",
              "  -0.05269470810890198,\n",
              "  0.019518084824085236,\n",
              "  0.030228780582547188,\n",
              "  -0.04009197652339935,\n",
              "  0.005148541647940874,\n",
              "  0.006926192902028561,\n",
              "  0.030839966610074043,\n",
              "  0.011434325948357582,\n",
              "  -0.021406248211860657,\n",
              "  -0.0217799860984087,\n",
              "  -0.05171972140669823,\n",
              "  0.0016265303129330277,\n",
              "  -0.07211431115865707,\n",
              "  0.03345130383968353,\n",
              "  0.000349620619090274,\n",
              "  -0.03509768471121788,\n",
              "  -0.059981394559144974,\n",
              "  -0.038080375641584396,\n",
              "  -0.017417652532458305,\n",
              "  0.011631089262664318,\n",
              "  -0.01913512498140335,\n",
              "  -0.03236791491508484,\n",
              "  0.03488596901297569,\n",
              "  0.06352733075618744,\n",
              "  0.019289260730147362,\n",
              "  0.04626835510134697,\n",
              "  -0.03764128312468529,\n",
              "  0.0018077276181429625,\n",
              "  0.029986556619405746,\n",
              "  0.07781790941953659,\n",
              "  -0.01058916188776493,\n",
              "  0.05458349734544754,\n",
              "  0.04027985781431198,\n",
              "  0.019280171021819115,\n",
              "  0.022672122344374657,\n",
              "  -0.004321182146668434,\n",
              "  0.035623617470264435,\n",
              "  -0.01148892380297184,\n",
              "  -0.026562964543700218,\n",
              "  -0.03904170170426369,\n",
              "  0.009739837609231472,\n",
              "  -0.027586473152041435,\n",
              "  -0.06494851410388947,\n",
              "  0.03428598865866661,\n",
              "  0.03494611755013466,\n",
              "  0.001934395986609161,\n",
              "  -0.011564653366804123,\n",
              "  -0.055020011961460114,\n",
              "  -0.02409866452217102,\n",
              "  -0.04294232279062271,\n",
              "  -0.005462985951453447,\n",
              "  -0.0519314706325531,\n",
              "  0.038471609354019165,\n",
              "  -0.016131794080138206,\n",
              "  -0.02181544527411461,\n",
              "  0.0014633226674050093,\n",
              "  -0.05138881877064705,\n",
              "  0.13390584290027618,\n",
              "  0.06509683281183243,\n",
              "  0.016396142542362213,\n",
              "  -0.009793209843337536,\n",
              "  0.011461692862212658,\n",
              "  0.06607633829116821,\n",
              "  0.006841899827122688,\n",
              "  -0.012156412936747074,\n",
              "  -0.0152214877307415,\n",
              "  -0.050607696175575256,\n",
              "  0.050783827900886536,\n",
              "  -0.026111172512173653,\n",
              "  0.021658040583133698,\n",
              "  0.004988998174667358,\n",
              "  0.01933196187019348,\n",
              "  0.06596020609140396,\n",
              "  -0.044707976281642914,\n",
              "  -0.04185638204216957,\n",
              "  0.016661321744322777,\n",
              "  -0.05102058872580528,\n",
              "  -0.042665522545576096,\n",
              "  0.008098267950117588,\n",
              "  0.01666736975312233,\n",
              "  0.03284692019224167,\n",
              "  0.004788174759596586,\n",
              "  0.02579658105969429,\n",
              "  0.012045496143400669,\n",
              "  -0.046564772725105286,\n",
              "  0.007530929986387491,\n",
              "  -0.02202332392334938,\n",
              "  0.022279448807239532,\n",
              "  -0.04585359990596771,\n",
              "  0.042347103357315063,\n",
              "  -0.016644883900880814,\n",
              "  -0.04537062346935272,\n",
              "  0.04923546314239502,\n",
              "  -0.02284511737525463,\n",
              "  -0.01240964513272047,\n",
              "  0.026472656056284904,\n",
              "  0.0185264740139246,\n",
              "  -0.03722000494599342,\n",
              "  0.008199137635529041,\n",
              "  0.023024195805191994,\n",
              "  -0.04551833122968674,\n",
              "  -0.015491092577576637,\n",
              "  0.02597513049840927,\n",
              "  -0.02835736982524395,\n",
              "  0.005429429467767477,\n",
              "  0.014589555561542511,\n",
              "  -0.043975766748189926,\n",
              "  0.041051920503377914,\n",
              "  -0.040712933987379074,\n",
              "  0.024849042296409607,\n",
              "  -0.0310809388756752,\n",
              "  -0.03631456941366196,\n",
              "  0.027772946283221245,\n",
              "  0.012546348385512829,\n",
              "  0.00496191531419754,\n",
              "  0.0045987446792423725,\n",
              "  -0.005549577064812183,\n",
              "  0.022339802235364914,\n",
              "  0.003306930186226964,\n",
              "  -0.01973942294716835,\n",
              "  0.0025383122265338898,\n",
              "  -0.03507966175675392,\n",
              "  0.009454038925468922,\n",
              "  0.010992434807121754,\n",
              "  0.036912329494953156,\n",
              "  -0.0001666349417064339,\n",
              "  -0.019129259511828423,\n",
              "  -0.025201627984642982,\n",
              "  ...])"
            ]
          },
          "metadata": {},
          "execution_count": 45
        }
      ],
      "source": [
        "embedding_1,embedding_2"
      ]
    },
    {
      "cell_type": "markdown",
      "source": [
        "**Insights:**\n",
        "* **https://huggingface.co/thenlper/gte-large**\n",
        "* The GTE models are trained by Alibaba DAMO Academy. They are mainly based on the BERT framework and currently offer three different sizes of models, including GTE-large, GTE-base, and GTE-small. The GTE models are trained on a large-scale corpus of relevance text pairs, covering a wide range of domains and scenarios. This enables the GTE models to be applied to various downstream tasks of text embeddings, including information retrieval, semantic textual similarity, text reranking, etc.\n",
        "* The embedding dimension is fixed at 1024, suitable for Chroma's cosine similarity search.\n",
        "* Embeddings capture semantic meaning, enabling accurate retrieval of relevant chunks.\n",
        "* The embedding model provides a fixed-length (1024) vector for any number of chunks.  \n",
        "* This is necessary because we want to compare them for similarity."
      ],
      "metadata": {
        "id": "FA-RYr5TSCez"
      }
    },
    {
      "cell_type": "markdown",
      "metadata": {
        "id": "qiKCOv4X0d7B"
      },
      "source": [
        "### Vector Database"
      ]
    },
    {
      "cell_type": "code",
      "execution_count": 46,
      "metadata": {
        "id": "NWOqhGMV0kZ9"
      },
      "outputs": [],
      "source": [
        "out_dir = 'medical_db'\n",
        "\n",
        "if not os.path.exists(out_dir):\n",
        "  os.makedirs(out_dir)"
      ]
    },
    {
      "cell_type": "code",
      "execution_count": 47,
      "metadata": {
        "id": "8g-D3URW0iEO"
      },
      "outputs": [],
      "source": [
        "vectorstore = Chroma.from_documents(\n",
        "    chunks,\n",
        "    embedding_model,\n",
        "    persist_directory = out_dir\n",
        ")"
      ]
    },
    {
      "cell_type": "code",
      "execution_count": 48,
      "metadata": {
        "id": "SuK6hsbaGfqH"
      },
      "outputs": [],
      "source": [
        "# Only reload if the object isn't in memory or after a runtime restart\n",
        "if 'vectorstore' not in locals():\n",
        "    vectorstore = Chroma(\n",
        "        persist_directory=out_dir,\n",
        "        embedding_function=embedding_model\n",
        "    )"
      ]
    },
    {
      "cell_type": "code",
      "execution_count": 49,
      "metadata": {
        "id": "GdZON_Uj1EeS",
        "colab": {
          "base_uri": "https://localhost:8080/"
        },
        "outputId": "f946dfd4-4fa0-4ead-a1e6-a4c44e738ba4"
      },
      "outputs": [
        {
          "output_type": "execute_result",
          "data": {
            "text/plain": [
              "HuggingFaceEmbeddings(client=SentenceTransformer(\n",
              "  (0): Transformer({'max_seq_length': 512, 'do_lower_case': False}) with Transformer model: BertModel \n",
              "  (1): Pooling({'word_embedding_dimension': 1024, 'pooling_mode_cls_token': False, 'pooling_mode_mean_tokens': True, 'pooling_mode_max_tokens': False, 'pooling_mode_mean_sqrt_len_tokens': False, 'pooling_mode_weightedmean_tokens': False, 'pooling_mode_lasttoken': False, 'include_prompt': True})\n",
              "  (2): Normalize()\n",
              "), model_name='thenlper/gte-large', cache_folder=None, model_kwargs={}, encode_kwargs={}, multi_process=False, show_progress=False)"
            ]
          },
          "metadata": {},
          "execution_count": 49
        }
      ],
      "source": [
        "vectorstore.embeddings"
      ]
    },
    {
      "cell_type": "code",
      "execution_count": 50,
      "metadata": {
        "id": "P9HgsipF1I4H",
        "colab": {
          "base_uri": "https://localhost:8080/"
        },
        "outputId": "0da2c3b1-5284-4163-bcb8-15447f4c1146"
      },
      "outputs": [
        {
          "output_type": "execute_result",
          "data": {
            "text/plain": [
              "[Document(metadata={'creationdate': '2012-06-15T05:44:40+00:00', 'total_pages': 4114, 'title': 'The Merck Manual of Diagnosis & Therapy, 19th Edition', 'creator': 'Atop CHM to PDF Converter', 'author': '', 'modDate': 'D:20250529143932Z', 'source': '/content/drive/MyDrive/Colab Notebooks/UT_Austin_AI_ML/NLP_GenAI/Project_05_AI_Medical_Assistant/medical_diagnosis_manual.pdf', 'subject': '', 'creationDate': 'D:20120615054440Z', 'format': 'PDF 1.7', 'file_path': '/content/drive/MyDrive/Colab Notebooks/UT_Austin_AI_ML/NLP_GenAI/Project_05_AI_Medical_Assistant/medical_diagnosis_manual.pdf', 'page': 1371, 'producer': 'pdf-lib (https://github.com/Hopding/pdf-lib)', 'keywords': '', 'trapped': '', 'moddate': '2025-05-29T14:39:32+00:00'}, page_content='Pharyngitis: Ordinarily, pharyngeal GABHS infections, including scarlet fever, are self-limited. Antibiotics\\nshorten the course in young children, especially those with scarlet fever, but have only modest effect on\\nsymptoms in adolescents and adults. However, antibiotics help prevent local suppurative complications\\n(eg, peritonsillar abscess), otitis media, and rheumatic fever.\\nPenicillin is the drug of choice. No isolate of GABHS has demonstrated penicillin resistance clinically,'),\n",
              " Document(metadata={'producer': 'pdf-lib (https://github.com/Hopding/pdf-lib)', 'title': 'The Merck Manual of Diagnosis & Therapy, 19th Edition', 'author': '', 'creationDate': 'D:20120615054440Z', 'page': 2313, 'trapped': '', 'moddate': '2025-05-29T14:39:32+00:00', 'keywords': '', 'subject': '', 'total_pages': 4114, 'creationdate': '2012-06-15T05:44:40+00:00', 'modDate': 'D:20250529143932Z', 'source': '/content/drive/MyDrive/Colab Notebooks/UT_Austin_AI_ML/NLP_GenAI/Project_05_AI_Medical_Assistant/medical_diagnosis_manual.pdf', 'creator': 'Atop CHM to PDF Converter', 'format': 'PDF 1.7', 'file_path': '/content/drive/MyDrive/Colab Notebooks/UT_Austin_AI_ML/NLP_GenAI/Project_05_AI_Medical_Assistant/medical_diagnosis_manual.pdf'}, page_content='and sometimes weakness, dyspnea, and presyncope. Atrial thrombi often form, causing a\\nsignificant risk of embolic stroke. Diagnosis is by ECG. Treatment involves rate control with\\ndrugs, prevention of thromboembolism with anticoagulation, and sometimes conversion to\\nsinus rhythm by drugs or cardioversion.\\nAF has been attributed to multiple wave-lets with chaotic reentry within the atria. However, in many cases,'),\n",
              " Document(metadata={'producer': 'pdf-lib (https://github.com/Hopding/pdf-lib)', 'trapped': '', 'creationDate': 'D:20120615054440Z', 'subject': '', 'total_pages': 4114, 'creator': 'Atop CHM to PDF Converter', 'format': 'PDF 1.7', 'file_path': '/content/drive/MyDrive/Colab Notebooks/UT_Austin_AI_ML/NLP_GenAI/Project_05_AI_Medical_Assistant/medical_diagnosis_manual.pdf', 'creationdate': '2012-06-15T05:44:40+00:00', 'source': '/content/drive/MyDrive/Colab Notebooks/UT_Austin_AI_ML/NLP_GenAI/Project_05_AI_Medical_Assistant/medical_diagnosis_manual.pdf', 'keywords': '', 'page': 1606, 'modDate': 'D:20250529143932Z', 'moddate': '2025-05-29T14:39:32+00:00', 'title': 'The Merck Manual of Diagnosis & Therapy, 19th Edition', 'author': ''}, page_content='pharyngitis). Photophobia, conjunctival injection, jaundice, and lymphadenopathy also occur. Delirium,\\nstupor, and coma may occur, indicating CNS involvement. Hemorrhagic symptoms begin within the first\\nfew days and include petechiae, ecchymoses, and frank bleeding around puncture sites and mucous\\nmembranes. A maculopapular rash, primarily on the trunk, begins around day 5.\\nDuring the 2nd wk of symptoms, either defervescence occurs and patients begin recovery, or patients')]"
            ]
          },
          "metadata": {},
          "execution_count": 50
        }
      ],
      "source": [
        "vectorstore.similarity_search(\"Atrial Fibrillation, Pharynx, Telangiectases\",k=3) # Checking if similar content is fetched,"
      ]
    },
    {
      "cell_type": "markdown",
      "source": [
        "**Insights:**\n",
        "* From the retrieved chunks, we observe that all the chunks are related to the key terms [ 'Atrial Fibrillation', 'Pharynx', 'Telangiectases'].\n",
        "* Chroma is ideal for in-memory vector storage in Colab, supporting cosine similarity for accurate retrieval.\n",
        "* Cosine similarity ensures robust matching of query embeddings to chunk embeddings."
      ],
      "metadata": {
        "id": "ADyIWsMbR8ot"
      }
    },
    {
      "cell_type": "markdown",
      "metadata": {
        "id": "uEa5sKc41T1z"
      },
      "source": [
        "### Retriever"
      ]
    },
    {
      "cell_type": "code",
      "execution_count": 51,
      "metadata": {
        "id": "zO5kmp381VsX"
      },
      "outputs": [],
      "source": [
        "retriever = vectorstore.as_retriever(\n",
        "    search_type='similarity',\n",
        "    search_kwargs={'k':2}\n",
        ")"
      ]
    },
    {
      "cell_type": "code",
      "execution_count": 52,
      "metadata": {
        "id": "bnKuqfWB1gBx",
        "colab": {
          "base_uri": "https://localhost:8080/"
        },
        "outputId": "1dcc0042-1090-4190-9838-819a96c1bdef"
      },
      "outputs": [
        {
          "output_type": "stream",
          "name": "stderr",
          "text": [
            "/tmp/ipython-input-52-917390870.py:1: LangChainDeprecationWarning: The method `BaseRetriever.get_relevant_documents` was deprecated in langchain-core 0.1.46 and will be removed in 1.0. Use :meth:`~invoke` instead.\n",
            "  rel_docs = retriever.get_relevant_documents(\"how can polyps be prevented\") # Check if related chunks were fetched from the document k=2 will fetch two relevant chunks\n"
          ]
        },
        {
          "output_type": "execute_result",
          "data": {
            "text/plain": [
              "[Document(metadata={'page': 270, 'creator': 'Atop CHM to PDF Converter', 'creationdate': '2012-06-15T05:44:40+00:00', 'title': 'The Merck Manual of Diagnosis & Therapy, 19th Edition', 'moddate': '2025-05-29T14:39:32+00:00', 'format': 'PDF 1.7', 'producer': 'pdf-lib (https://github.com/Hopding/pdf-lib)', 'subject': '', 'file_path': '/content/drive/MyDrive/Colab Notebooks/UT_Austin_AI_ML/NLP_GenAI/Project_05_AI_Medical_Assistant/medical_diagnosis_manual.pdf', 'modDate': 'D:20250529143932Z', 'keywords': '', 'source': '/content/drive/MyDrive/Colab Notebooks/UT_Austin_AI_ML/NLP_GenAI/Project_05_AI_Medical_Assistant/medical_diagnosis_manual.pdf', 'creationDate': 'D:20120615054440Z', 'total_pages': 4114, 'author': '', 'trapped': ''}, page_content='newly discovered lesions. If 2 annual examinations are negative for new lesions, colonoscopy is\\nrecommended every 2 to 3 yr.\\nPrevention\\nAspirin and COX-2 inhibitors may help prevent formation of new polyps in patients with polyps or colon\\ncancer.\\nFamilial Adenomatous Polyposis\\nFamilial adenomatous polyposis (FAP) is a hereditary disorder causing numerous colonic\\npolyps and resulting in colon carcinoma by age 40. Patients are usually asymptomatic but may'),\n",
              " Document(metadata={'author': '', 'creationDate': 'D:20120615054440Z', 'title': 'The Merck Manual of Diagnosis & Therapy, 19th Edition', 'page': 266, 'creator': 'Atop CHM to PDF Converter', 'subject': '', 'total_pages': 4114, 'format': 'PDF 1.7', 'modDate': 'D:20250529143932Z', 'producer': 'pdf-lib (https://github.com/Hopding/pdf-lib)', 'file_path': '/content/drive/MyDrive/Colab Notebooks/UT_Austin_AI_ML/NLP_GenAI/Project_05_AI_Medical_Assistant/medical_diagnosis_manual.pdf', 'keywords': '', 'source': '/content/drive/MyDrive/Colab Notebooks/UT_Austin_AI_ML/NLP_GenAI/Project_05_AI_Medical_Assistant/medical_diagnosis_manual.pdf', 'trapped': '', 'creationdate': '2012-06-15T05:44:40+00:00', 'moddate': '2025-05-29T14:39:32+00:00'}, page_content='Dietary factors are not proven causes.\\nGastric polyps can be precursors of cancer. Inflammatory polyps may develop in patients taking NSAIDs,\\nand fundic foveolar polyps are common among patients taking proton pump inhibitors. Adenomatous\\npolyps, particularly multiple ones, although rare, are the most likely to develop cancer. Cancer is\\nparticularly likely if an adenomatous polyp is > 2 cm in diameter or has a villous histology. Because')]"
            ]
          },
          "metadata": {},
          "execution_count": 52
        }
      ],
      "source": [
        "rel_docs = retriever.get_relevant_documents(\"how can polyps be prevented\") # Check if related chunks were fetched from the document k=2 will fetch two relevant chunks\n",
        "rel_docs"
      ]
    },
    {
      "cell_type": "markdown",
      "source": [
        "**Insights:**\n",
        "- We can observe that the two relevant chunks contain the answer to the query.  \n",
        "- If we increase the **`k`** value, there is a chance that we might find the answer in even more chunks.  \n",
        "- This is a hyperparameter that we need to tune to get the best context."
      ],
      "metadata": {
        "id": "1SZZdfs3YD_n"
      }
    },
    {
      "cell_type": "markdown",
      "source": [
        "## Defining the Response Generator"
      ],
      "metadata": {
        "id": "6Ys63hVjRsXL"
      }
    },
    {
      "cell_type": "code",
      "source": [
        "model_name_or_path = \"TheBloke/Mistral-7B-Instruct-v0.2-GGUF\"\n",
        "model_basename = \"mistral-7b-instruct-v0.2.Q6_K.gguf\""
      ],
      "metadata": {
        "id": "o6BWrMwqZHps"
      },
      "execution_count": 53,
      "outputs": []
    },
    {
      "cell_type": "code",
      "source": [
        "model_path = hf_hub_download(\n",
        "    repo_id=model_name_or_path,\n",
        "    filename=model_basename\n",
        ")"
      ],
      "metadata": {
        "id": "K_90lsKbZb87"
      },
      "execution_count": 54,
      "outputs": []
    },
    {
      "cell_type": "code",
      "execution_count": 55,
      "metadata": {
        "id": "yjLbgBH83iQ6",
        "colab": {
          "base_uri": "https://localhost:8080/"
        },
        "outputId": "6aa4b91c-bc26-4695-d947-dccff2eb3ea6"
      },
      "outputs": [
        {
          "output_type": "stream",
          "name": "stderr",
          "text": [
            "llama_model_loader: loaded meta data with 24 key-value pairs and 291 tensors from /root/.cache/huggingface/hub/models--TheBloke--Mistral-7B-Instruct-v0.2-GGUF/snapshots/3a6fbf4a41a1d52e415a4958cde6856d34b2db93/mistral-7b-instruct-v0.2.Q6_K.gguf (version GGUF V3 (latest))\n",
            "llama_model_loader: Dumping metadata keys/values. Note: KV overrides do not apply in this output.\n",
            "llama_model_loader: - kv   0:                       general.architecture str              = llama\n",
            "llama_model_loader: - kv   1:                               general.name str              = mistralai_mistral-7b-instruct-v0.2\n",
            "llama_model_loader: - kv   2:                       llama.context_length u32              = 32768\n",
            "llama_model_loader: - kv   3:                     llama.embedding_length u32              = 4096\n",
            "llama_model_loader: - kv   4:                          llama.block_count u32              = 32\n",
            "llama_model_loader: - kv   5:                  llama.feed_forward_length u32              = 14336\n",
            "llama_model_loader: - kv   6:                 llama.rope.dimension_count u32              = 128\n",
            "llama_model_loader: - kv   7:                 llama.attention.head_count u32              = 32\n",
            "llama_model_loader: - kv   8:              llama.attention.head_count_kv u32              = 8\n",
            "llama_model_loader: - kv   9:     llama.attention.layer_norm_rms_epsilon f32              = 0.000010\n",
            "llama_model_loader: - kv  10:                       llama.rope.freq_base f32              = 1000000.000000\n",
            "llama_model_loader: - kv  11:                          general.file_type u32              = 18\n",
            "llama_model_loader: - kv  12:                       tokenizer.ggml.model str              = llama\n",
            "llama_model_loader: - kv  13:                      tokenizer.ggml.tokens arr[str,32000]   = [\"<unk>\", \"<s>\", \"</s>\", \"<0x00>\", \"<...\n",
            "llama_model_loader: - kv  14:                      tokenizer.ggml.scores arr[f32,32000]   = [0.000000, 0.000000, 0.000000, 0.0000...\n",
            "llama_model_loader: - kv  15:                  tokenizer.ggml.token_type arr[i32,32000]   = [2, 3, 3, 6, 6, 6, 6, 6, 6, 6, 6, 6, ...\n",
            "llama_model_loader: - kv  16:                tokenizer.ggml.bos_token_id u32              = 1\n",
            "llama_model_loader: - kv  17:                tokenizer.ggml.eos_token_id u32              = 2\n",
            "llama_model_loader: - kv  18:            tokenizer.ggml.unknown_token_id u32              = 0\n",
            "llama_model_loader: - kv  19:            tokenizer.ggml.padding_token_id u32              = 0\n",
            "llama_model_loader: - kv  20:               tokenizer.ggml.add_bos_token bool             = true\n",
            "llama_model_loader: - kv  21:               tokenizer.ggml.add_eos_token bool             = false\n",
            "llama_model_loader: - kv  22:                    tokenizer.chat_template str              = {{ bos_token }}{% for message in mess...\n",
            "llama_model_loader: - kv  23:               general.quantization_version u32              = 2\n",
            "llama_model_loader: - type  f32:   65 tensors\n",
            "llama_model_loader: - type q6_K:  226 tensors\n",
            "llm_load_vocab: special tokens cache size = 259\n",
            "llm_load_vocab: token to piece cache size = 0.1637 MB\n",
            "llm_load_print_meta: format           = GGUF V3 (latest)\n",
            "llm_load_print_meta: arch             = llama\n",
            "llm_load_print_meta: vocab type       = SPM\n",
            "llm_load_print_meta: n_vocab          = 32000\n",
            "llm_load_print_meta: n_merges         = 0\n",
            "llm_load_print_meta: n_ctx_train      = 32768\n",
            "llm_load_print_meta: n_embd           = 4096\n",
            "llm_load_print_meta: n_head           = 32\n",
            "llm_load_print_meta: n_head_kv        = 8\n",
            "llm_load_print_meta: n_layer          = 32\n",
            "llm_load_print_meta: n_rot            = 128\n",
            "llm_load_print_meta: n_embd_head_k    = 128\n",
            "llm_load_print_meta: n_embd_head_v    = 128\n",
            "llm_load_print_meta: n_gqa            = 4\n",
            "llm_load_print_meta: n_embd_k_gqa     = 1024\n",
            "llm_load_print_meta: n_embd_v_gqa     = 1024\n",
            "llm_load_print_meta: f_norm_eps       = 0.0e+00\n",
            "llm_load_print_meta: f_norm_rms_eps   = 1.0e-05\n",
            "llm_load_print_meta: f_clamp_kqv      = 0.0e+00\n",
            "llm_load_print_meta: f_max_alibi_bias = 0.0e+00\n",
            "llm_load_print_meta: f_logit_scale    = 0.0e+00\n",
            "llm_load_print_meta: n_ff             = 14336\n",
            "llm_load_print_meta: n_expert         = 0\n",
            "llm_load_print_meta: n_expert_used    = 0\n",
            "llm_load_print_meta: causal attn      = 1\n",
            "llm_load_print_meta: pooling type     = 0\n",
            "llm_load_print_meta: rope type        = 0\n",
            "llm_load_print_meta: rope scaling     = linear\n",
            "llm_load_print_meta: freq_base_train  = 1000000.0\n",
            "llm_load_print_meta: freq_scale_train = 1\n",
            "llm_load_print_meta: n_yarn_orig_ctx  = 32768\n",
            "llm_load_print_meta: rope_finetuned   = unknown\n",
            "llm_load_print_meta: ssm_d_conv       = 0\n",
            "llm_load_print_meta: ssm_d_inner      = 0\n",
            "llm_load_print_meta: ssm_d_state      = 0\n",
            "llm_load_print_meta: ssm_dt_rank      = 0\n",
            "llm_load_print_meta: model type       = 7B\n",
            "llm_load_print_meta: model ftype      = Q6_K\n",
            "llm_load_print_meta: model params     = 7.24 B\n",
            "llm_load_print_meta: model size       = 5.53 GiB (6.56 BPW) \n",
            "llm_load_print_meta: general.name     = mistralai_mistral-7b-instruct-v0.2\n",
            "llm_load_print_meta: BOS token        = 1 '<s>'\n",
            "llm_load_print_meta: EOS token        = 2 '</s>'\n",
            "llm_load_print_meta: UNK token        = 0 '<unk>'\n",
            "llm_load_print_meta: PAD token        = 0 '<unk>'\n",
            "llm_load_print_meta: LF token         = 13 '<0x0A>'\n",
            "llm_load_tensors: ggml ctx size =    0.30 MiB\n",
            "llm_load_tensors: offloading 20 repeating layers to GPU\n",
            "llm_load_tensors: offloaded 20/33 layers to GPU\n",
            "llm_load_tensors:        CPU buffer size =  5666.09 MiB\n",
            "llm_load_tensors:      CUDA0 buffer size =  3413.12 MiB\n",
            "...................................................................................................\n",
            "llama_new_context_with_model: n_ctx      = 2304\n",
            "llama_new_context_with_model: n_batch    = 512\n",
            "llama_new_context_with_model: n_ubatch   = 512\n",
            "llama_new_context_with_model: flash_attn = 0\n",
            "llama_new_context_with_model: freq_base  = 1000000.0\n",
            "llama_new_context_with_model: freq_scale = 1\n",
            "llama_kv_cache_init:  CUDA_Host KV buffer size =   108.00 MiB\n",
            "llama_kv_cache_init:      CUDA0 KV buffer size =   180.00 MiB\n",
            "llama_new_context_with_model: KV self size  =  288.00 MiB, K (f16):  144.00 MiB, V (f16):  144.00 MiB\n",
            "llama_new_context_with_model:  CUDA_Host  output buffer size =     0.12 MiB\n",
            "llama_new_context_with_model:      CUDA0 compute buffer size =   181.13 MiB\n",
            "llama_new_context_with_model:  CUDA_Host compute buffer size =    12.51 MiB\n",
            "llama_new_context_with_model: graph nodes  = 1030\n",
            "llama_new_context_with_model: graph splits = 136\n",
            "AVX = 1 | AVX_VNNI = 0 | AVX2 = 1 | AVX512 = 0 | AVX512_VBMI = 0 | AVX512_VNNI = 0 | AVX512_BF16 = 0 | FMA = 1 | NEON = 0 | SVE = 0 | ARM_FMA = 0 | F16C = 1 | FP16_VA = 0 | WASM_SIMD = 0 | BLAS = 1 | SSE3 = 1 | SSSE3 = 1 | VSX = 0 | MATMUL_INT8 = 0 | LLAMAFILE = 1 | \n",
            "Model metadata: {'tokenizer.chat_template': \"{{ bos_token }}{% for message in messages %}{% if (message['role'] == 'user') != (loop.index0 % 2 == 0) %}{{ raise_exception('Conversation roles must alternate user/assistant/user/assistant/...') }}{% endif %}{% if message['role'] == 'user' %}{{ '[INST] ' + message['content'] + ' [/INST]' }}{% elif message['role'] == 'assistant' %}{{ message['content'] + eos_token}}{% else %}{{ raise_exception('Only user and assistant roles are supported!') }}{% endif %}{% endfor %}\", 'tokenizer.ggml.add_eos_token': 'false', 'tokenizer.ggml.padding_token_id': '0', 'tokenizer.ggml.unknown_token_id': '0', 'tokenizer.ggml.eos_token_id': '2', 'general.architecture': 'llama', 'llama.rope.freq_base': '1000000.000000', 'llama.context_length': '32768', 'general.name': 'mistralai_mistral-7b-instruct-v0.2', 'tokenizer.ggml.add_bos_token': 'true', 'llama.embedding_length': '4096', 'llama.feed_forward_length': '14336', 'llama.attention.layer_norm_rms_epsilon': '0.000010', 'llama.rope.dimension_count': '128', 'tokenizer.ggml.bos_token_id': '1', 'llama.attention.head_count': '32', 'llama.block_count': '32', 'llama.attention.head_count_kv': '8', 'general.quantization_version': '2', 'tokenizer.ggml.model': 'llama', 'general.file_type': '18'}\n",
            "Available chat formats from metadata: chat_template.default\n",
            "Guessed chat format: mistral-instruct\n"
          ]
        }
      ],
      "source": [
        "#uncomment the below snippet of code if the runtime is connected to GPU.\n",
        "model_output = Llama(\n",
        "    model_path=model_path,\n",
        "    n_ctx=2300,\n",
        "    n_gpu_layers=20, # Reduced the number of GPU layers\n",
        "    n_batch=512\n",
        ")\n",
        "\n",
        "#uncomment the below snippet of code if the runtime is connected to CPU only.\n",
        "# model_output= Llama(\n",
        "#     model_path=model_path,\n",
        "#     n_ctx=1024,\n",
        "#     n_cores=-2\n",
        "# )"
      ]
    },
    {
      "cell_type": "code",
      "execution_count": 56,
      "metadata": {
        "id": "p9K5_CD23zFY",
        "colab": {
          "base_uri": "https://localhost:8080/",
          "height": 140
        },
        "outputId": "bf2faca0-1c4c-4b74-9d20-794a3fe39b1f"
      },
      "outputs": [
        {
          "output_type": "stream",
          "name": "stderr",
          "text": [
            "\n",
            "llama_print_timings:        load time =     686.52 ms\n",
            "llama_print_timings:      sample time =       8.92 ms /    16 runs   (    0.56 ms per token,  1794.33 tokens per second)\n",
            "llama_print_timings: prompt eval time =     686.43 ms /    16 tokens (   42.90 ms per token,    23.31 tokens per second)\n",
            "llama_print_timings:        eval time =    1127.85 ms /    15 runs   (   75.19 ms per token,    13.30 tokens per second)\n",
            "llama_print_timings:       total time =    1831.67 ms /    31 tokens\n"
          ]
        },
        {
          "output_type": "execute_result",
          "data": {
            "text/plain": [
              "'\\n\\nAtrial fibrillation (AFib) is a type of'"
            ],
            "application/vnd.google.colaboratory.intrinsic+json": {
              "type": "string"
            }
          },
          "metadata": {},
          "execution_count": 56
        }
      ],
      "source": [
        "model_output(\"What is Atrial Fibrillation and how it can be prevented?\")['choices'][0]['text']"
      ]
    },
    {
      "cell_type": "markdown",
      "source": [
        "- The response is incomplete and generic and appears to be derived from another source. Let's provide our own context and align the response with our needs."
      ],
      "metadata": {
        "id": "CAD0h0JmaGRQ"
      }
    },
    {
      "cell_type": "markdown",
      "source": [
        "**Insights:**\n",
        "\n",
        "The specified GGUF model isn’t directly supported in Colab’s Hugging Face ecosystem, so we use Mistral-7B-Instruct-v0.2-GGUF with 4-bit quantization for efficiency.\n",
        "Temperature=0.1 and top_p=0.98 balance creativity and factual accuracy.\n",
        "max_new_tokens=512 ensures detailed responses without excessive length."
      ],
      "metadata": {
        "id": "OWDEHMaiR1zO"
      }
    },
    {
      "cell_type": "markdown",
      "metadata": {
        "id": "vw8qcwq66B0C",
        "nteract": {
          "transient": {
            "deleting": false
          }
        }
      },
      "source": [
        "### System and User Prompt Template"
      ]
    },
    {
      "cell_type": "markdown",
      "metadata": {
        "id": "3wRkZYtO6B0D"
      },
      "source": [
        "Prompts guide the model to generate accurate responses. Here, we define two parts:\n",
        "\n",
        "    1. The system message describing the assistant's role.\n",
        "    2. A user message template including context and the question."
      ]
    },
    {
      "cell_type": "code",
      "execution_count": 57,
      "metadata": {
        "gather": {
          "logged": 1737358838889
        },
        "id": "Dyl60SEs6B0D",
        "jupyter": {
          "outputs_hidden": false,
          "source_hidden": false
        },
        "nteract": {
          "transient": {
            "deleting": false
          }
        }
      },
      "outputs": [],
      "source": [
        "qna_system_message = \"\"\"\n",
        "You are a Medical Reference Assistant trained to provide precise, evidence-based answers from the context. Your responses must adhere strictly to the latest clinical guidelines and avoid speculation.\n",
        "\n",
        "### Input Format:\n",
        "- Context will follow the token: ###CONTEXT.\n",
        "- The context contains references to specific portions of a document relevant to the user query.\n",
        "- Questions will follow the token: ###QUESTION.\n",
        "\n",
        "### Response Guidelines:\n",
        "1. **Accuracy**:\n",
        "   - Base answers ONLY on the provided context. Do not extrapolate or add external knowledge.\n",
        "   - Cite the specific Merck Manual section (e.g., \"Sepsis and Septic Shock, Merck Manual\") when possible.\n",
        "\n",
        "2. **Clarity**:\n",
        "   - Use professional medical terminology but simplify complex concepts for non-specialists when appropriate.\n",
        "   - Structure responses as:\n",
        "     - **Brief Summary** (1-2 sentences).\n",
        "     - **Key Details** (bulleted/numbered lists for protocols, symptoms, or treatments).\n",
        "     - **Critical Considerations** (e.g., contraindications, red flags).\n",
        "\n",
        "3. **Uncertainty Handling**:\n",
        "   - If the context is insufficient, respond: \"This information is not covered in the provided Merck Manual excerpt. Consult the latest edition or a specialist for further guidance.\"\n",
        "\n",
        "4. **Safety**:\n",
        "   - Flag urgent clinical scenarios (e.g., \"Immediate ICU admission is required for septic shock\").\n",
        "   - Avoid treatment recommendations beyond the context’s scope.\n",
        "   - Add a disclaimer (e.g., \"This tool supplements but does not replace clinical judgment.\")\n",
        "\n",
        "### Example:\n",
        "###QUESTION: What is the first-line treatment for uncomplicated hypertension?\n",
        "###CONTEXT: [Excerpt from Merck Manual on hypertension...]\n",
        "**Response:**\n",
        "First-line antihypertensives include:\n",
        "- Thiazide diuretics (e.g., hydrochlorothiazide)\n",
        "- ACE inhibitors (e.g., lisinopril)\n",
        "- Calcium channel blockers (e.g., amlodipine).\n",
        "*Source: Hypertension, Merck Manual Professional Edition.*\n",
        "\"\"\""
      ]
    },
    {
      "cell_type": "code",
      "execution_count": 58,
      "metadata": {
        "id": "XW38rWoNjJkQ"
      },
      "outputs": [],
      "source": [
        "qna_user_message_template = \"\"\"\n",
        "###Context\n",
        "Here are some documents that are relevant to the question mentioned below.\n",
        "{context}\n",
        "\n",
        "###Question\n",
        "{question}\n",
        "\"\"\""
      ]
    },
    {
      "cell_type": "markdown",
      "source": [
        "**Insights:**\n",
        "\n",
        "The system prompt establishes the assistant’s role as a reliable medical expert.\n",
        "The user prompt template incorporates retrieved context and the question, ensuring grounded responses.\n",
        "The prompt emphasizes evidence-based answers, critical for medical applications."
      ],
      "metadata": {
        "id": "5RyAJjPqRS0L"
      }
    },
    {
      "cell_type": "markdown",
      "metadata": {
        "id": "TkIteX4m6mny"
      },
      "source": [
        "### Response Function"
      ]
    },
    {
      "cell_type": "code",
      "source": [
        "def generate_rag_response(user_input,k=3,max_tokens=128,temperature=0,top_p=0.95,top_k=50):\n",
        "    global qna_system_message,qna_user_message_template\n",
        "    # Retrieve relevant document chunks\n",
        "    relevant_document_chunks = retriever.get_relevant_documents(query=user_input,k=k)\n",
        "    context_list = [d.page_content for d in relevant_document_chunks]\n",
        "\n",
        "    # Combine document chunks into a single context\n",
        "    context_for_query = \". \".join(context_list)\n",
        "\n",
        "    user_message = qna_user_message_template.replace('{context}', context_for_query)\n",
        "    user_message = user_message.replace('{question}', user_input)\n",
        "\n",
        "    prompt = qna_system_message + '\\n' + user_message\n",
        "\n",
        "    # Generate the response\n",
        "    try:\n",
        "        response = model_output(\n",
        "                  prompt=prompt,\n",
        "                  max_tokens=max_tokens,\n",
        "                  temperature=temperature,\n",
        "                  top_p=top_p,\n",
        "                  top_k=top_k\n",
        "                  )\n",
        "\n",
        "        # Extract and print the model's response\n",
        "        response = response['choices'][0]['text'].strip()\n",
        "    except Exception as e:\n",
        "        response = f'Sorry, I encountered the following error: \\n {e}'\n",
        "\n",
        "    return response"
      ],
      "metadata": {
        "id": "5jFvGnOJRXZx"
      },
      "execution_count": 59,
      "outputs": []
    },
    {
      "cell_type": "markdown",
      "source": [
        "**Insights:**\n",
        "\n",
        "* The function retrieves relevant chunks, formats the prompt, and generates a response.\n",
        "* The context is concatenated from the top 50 chunks, ensuring comprehensive input.\n",
        "* The questions are stored in a list for batch processing in the next step."
      ],
      "metadata": {
        "id": "7ve0BLLQRLeR"
      }
    },
    {
      "cell_type": "markdown",
      "source": [
        "## Question Answering using RAG without Fine-Tuning"
      ],
      "metadata": {
        "id": "ffP1SRYbPQHN"
      }
    },
    {
      "cell_type": "markdown",
      "metadata": {
        "id": "JjajBEj06B0E"
      },
      "source": [
        "### Query 1: What is the protocol for managing sepsis in a critical care unit?"
      ]
    },
    {
      "cell_type": "code",
      "source": [
        "user_input_rag1 = \"What is the protocol for managing sepsis in a critical care unit?\"\n",
        "generate_rag_response(user_input_rag1)"
      ],
      "metadata": {
        "id": "Nlo9sMpPRbTP",
        "colab": {
          "base_uri": "https://localhost:8080/",
          "height": 174
        },
        "outputId": "9df7f7de-0f06-44c7-a5f9-749b135bafb7"
      },
      "execution_count": 60,
      "outputs": [
        {
          "output_type": "stream",
          "name": "stderr",
          "text": [
            "Llama.generate: prefix-match hit\n",
            "\n",
            "llama_print_timings:        load time =     686.52 ms\n",
            "llama_print_timings:      sample time =      76.77 ms /   128 runs   (    0.60 ms per token,  1667.34 tokens per second)\n",
            "llama_print_timings: prompt eval time =    1446.04 ms /   994 tokens (    1.45 ms per token,   687.39 tokens per second)\n",
            "llama_print_timings:        eval time =    9317.88 ms /   127 runs   (   73.37 ms per token,    13.63 tokens per second)\n",
            "llama_print_timings:       total time =   10925.17 ms /  1121 tokens\n"
          ]
        },
        {
          "output_type": "execute_result",
          "data": {
            "text/plain": [
              "'**Response:**\\nSepsis management in a critical care unit includes:\\n- Monitoring vital signs, fluid status, and organ function (systemic pressure, CVP or PAOP, pulse oximetry, ABGs, blood glucose, lactate, electrolyte levels, renal function).\\n- Urine output measurement.\\n- Fluid resuscitation with 0.9% saline until CVP reaches 8 mm Hg (10 cm H2O) or PAOP is high (60 to 65%).\\n- Warming the patient.'"
            ],
            "application/vnd.google.colaboratory.intrinsic+json": {
              "type": "string"
            }
          },
          "metadata": {},
          "execution_count": 60
        }
      ]
    },
    {
      "cell_type": "markdown",
      "source": [
        "- The answer is clear, concise, and focused, without any unnecessary information.  \n",
        "\n",
        "- For queries like this, we expect a response of this nature."
      ],
      "metadata": {
        "id": "s99qceoZes3r"
      }
    },
    {
      "cell_type": "markdown",
      "metadata": {
        "id": "QDw8zXuq6B0F"
      },
      "source": [
        "### Query 2: What are the common symptoms for appendicitis, and can it be cured via medicine? If not, what surgical procedure should be followed to treat it?"
      ]
    },
    {
      "cell_type": "code",
      "source": [
        "user_input_rag2 = \"What are the common symptoms for appendicitis, and can it be cured via medicine? If not, what surgical procedure should be followed to treat it?\"\n",
        "generate_rag_response(user_input_rag2)"
      ],
      "metadata": {
        "id": "PVReF4G8RbzR",
        "colab": {
          "base_uri": "https://localhost:8080/",
          "height": 192
        },
        "outputId": "d22ba7ba-a940-454e-fbbd-fe472ddae5b1"
      },
      "execution_count": 61,
      "outputs": [
        {
          "output_type": "stream",
          "name": "stderr",
          "text": [
            "Llama.generate: prefix-match hit\n",
            "\n",
            "llama_print_timings:        load time =     686.52 ms\n",
            "llama_print_timings:      sample time =      78.35 ms /   128 runs   (    0.61 ms per token,  1633.69 tokens per second)\n",
            "llama_print_timings: prompt eval time =     705.63 ms /   413 tokens (    1.71 ms per token,   585.29 tokens per second)\n",
            "llama_print_timings:        eval time =    9420.70 ms /   127 runs   (   74.18 ms per token,    13.48 tokens per second)\n",
            "llama_print_timings:       total time =   10289.64 ms /   540 tokens\n"
          ]
        },
        {
          "output_type": "execute_result",
          "data": {
            "text/plain": [
              "'**Response:**\\nSymptoms of appendicitis include:\\n- Sudden onset of pain around the navel or right lower abdomen.\\n- Loss of appetite.\\n- Nausea and vomiting.\\n- Fever (often low-grade at first).\\n- Abdominal swelling.\\n- Pain worsens with movement, coughing, or walking.\\n\\nAppendicitis cannot be cured via medicine alone; surgery is required for treatment. The surgical procedure to treat appendicitis is an appendectomy, which involves the removal of the appendix. This'"
            ],
            "application/vnd.google.colaboratory.intrinsic+json": {
              "type": "string"
            }
          },
          "metadata": {},
          "execution_count": 61
        }
      ]
    },
    {
      "cell_type": "markdown",
      "source": [
        "- The response got short due to token size.  \n",
        "- Perhaps if we increase the **`max_tokens`**, we might be able to get more conprehensive answers."
      ],
      "metadata": {
        "id": "Bai1yciReuYK"
      }
    },
    {
      "cell_type": "markdown",
      "metadata": {
        "id": "TggYyQPL6B0G"
      },
      "source": [
        "### Query 3: What are the effective treatments or solutions for addressing sudden patchy hair loss, commonly seen as localized bald spots on the scalp, and what could be the possible causes behind it?"
      ]
    },
    {
      "cell_type": "code",
      "source": [
        "user_input_rag3 = \"What are the effective treatments or solutions for addressing sudden patchy hair loss, commonly seen as localized bald spots on the scalp, and what could be the possible causes behind it?\"\n",
        "generate_rag_response(user_input_rag3)"
      ],
      "metadata": {
        "id": "0aRbadGtRcX0",
        "colab": {
          "base_uri": "https://localhost:8080/",
          "height": 192
        },
        "outputId": "18c05151-1b1b-4aa1-d8ff-120e75d507a8"
      },
      "execution_count": 62,
      "outputs": [
        {
          "output_type": "stream",
          "name": "stderr",
          "text": [
            "Llama.generate: prefix-match hit\n",
            "\n",
            "llama_print_timings:        load time =     686.52 ms\n",
            "llama_print_timings:      sample time =      79.59 ms /   128 runs   (    0.62 ms per token,  1608.30 tokens per second)\n",
            "llama_print_timings: prompt eval time =     698.90 ms /   427 tokens (    1.64 ms per token,   610.96 tokens per second)\n",
            "llama_print_timings:        eval time =    9472.97 ms /   127 runs   (   74.59 ms per token,    13.41 tokens per second)\n",
            "llama_print_timings:       total time =   10335.42 ms /   554 tokens\n"
          ]
        },
        {
          "output_type": "execute_result",
          "data": {
            "text/plain": [
              "'**Response:**\\nBrief Summary:\\nSudden patchy hair loss, also known as alopecia areata, is an autoimmune disorder causing hair loss in people with no obvious skin or systemic disorders. The scalp and beard are most commonly affected, but any hairy area may be involved.\\n\\nKey Details:\\n- Alopecia areata is thought to be caused by genetic susceptibility and exposure to unclear environmental triggers.\\n- Treatment options for alopecia areata include:\\n  - Topical treatments: Minoxidil, anthralin,'"
            ],
            "application/vnd.google.colaboratory.intrinsic+json": {
              "type": "string"
            }
          },
          "metadata": {},
          "execution_count": 62
        }
      ]
    },
    {
      "cell_type": "markdown",
      "source": [
        "- Again short response due to token size.\n",
        "\n",
        "- As expected, the model has done its job well. It has eliminated hallucination."
      ],
      "metadata": {
        "id": "zi4irzOce6lv"
      }
    },
    {
      "cell_type": "markdown",
      "metadata": {
        "id": "1TgxdI-_6B0G"
      },
      "source": [
        "### Query 4:  What treatments are recommended for a person who has sustained a physical injury to brain tissue, resulting in temporary or permanent impairment of brain function?"
      ]
    },
    {
      "cell_type": "code",
      "source": [
        "user_input_rag4 = \"What treatments are recommended for a person who has sustained a physical injury to brain tissue, resulting in temporary or permanent impairment of brain function?\"\n",
        "generate_rag_response(user_input_rag4)"
      ],
      "metadata": {
        "id": "0vzRX1TcRc29",
        "colab": {
          "base_uri": "https://localhost:8080/",
          "height": 192
        },
        "outputId": "1103673d-b8d1-40fa-ef53-fe0120f2d652"
      },
      "execution_count": 63,
      "outputs": [
        {
          "output_type": "stream",
          "name": "stderr",
          "text": [
            "Llama.generate: prefix-match hit\n",
            "\n",
            "llama_print_timings:        load time =     686.52 ms\n",
            "llama_print_timings:      sample time =      77.30 ms /   128 runs   (    0.60 ms per token,  1655.97 tokens per second)\n",
            "llama_print_timings: prompt eval time =     698.23 ms /   390 tokens (    1.79 ms per token,   558.56 tokens per second)\n",
            "llama_print_timings:        eval time =    9473.35 ms /   127 runs   (   74.59 ms per token,    13.41 tokens per second)\n",
            "llama_print_timings:       total time =   10332.89 ms /   517 tokens\n"
          ]
        },
        {
          "output_type": "execute_result",
          "data": {
            "text/plain": [
              "'**Response:**\\n1. **Brief Summary**: Treatment for brain injuries focuses on managing immediate threats (e.g., intracranial hematomas) and supporting overall brain health (ventilation, oxygenation, and perfusion).\\n2. **Key Details**:\\n   - For mild injuries: observation and discharge.\\n   - For moderate to severe injuries: optimization of ventilation, oxygenation, and brain perfusion.\\n3. **Critical Considerations**:\\n   - Intracranial hematomas may require surgical evacuation to prevent or treat brain shift, compression,'"
            ],
            "application/vnd.google.colaboratory.intrinsic+json": {
              "type": "string"
            }
          },
          "metadata": {},
          "execution_count": 63
        }
      ]
    },
    {
      "cell_type": "markdown",
      "source": [
        "- The responses were short due to only 128 tokens and a temperature value of 0 which makes sure only most relevant answers to be chosen."
      ],
      "metadata": {
        "id": "YKSjlpYHe_RS"
      }
    },
    {
      "cell_type": "markdown",
      "metadata": {
        "id": "FlHXYCkm6B0H"
      },
      "source": [
        "### Query 5: What are the necessary precautions and treatment steps for a person who has fractured their leg during a hiking trip, and what should be considered for their care and recovery?"
      ]
    },
    {
      "cell_type": "code",
      "source": [
        "user_input_rag5 = \"What are the necessary precautions and treatment steps for a person who has fractured their leg during a hiking trip, and what should be considered for their care and recovery?\"\n",
        "generate_rag_response(user_input_rag5)"
      ],
      "metadata": {
        "id": "sarpUibcRdhq",
        "colab": {
          "base_uri": "https://localhost:8080/",
          "height": 192
        },
        "outputId": "c3d9f730-e886-4d5f-b67c-ec79e6812fee"
      },
      "execution_count": 64,
      "outputs": [
        {
          "output_type": "stream",
          "name": "stderr",
          "text": [
            "Llama.generate: prefix-match hit\n",
            "\n",
            "llama_print_timings:        load time =     686.52 ms\n",
            "llama_print_timings:      sample time =      78.86 ms /   128 runs   (    0.62 ms per token,  1623.19 tokens per second)\n",
            "llama_print_timings: prompt eval time =     720.94 ms /   461 tokens (    1.56 ms per token,   639.44 tokens per second)\n",
            "llama_print_timings:        eval time =    9490.06 ms /   127 runs   (   74.72 ms per token,    13.38 tokens per second)\n",
            "llama_print_timings:       total time =   10373.98 ms /   588 tokens\n"
          ]
        },
        {
          "output_type": "execute_result",
          "data": {
            "text/plain": [
              "'**Response:**\\nBrief Summary:\\nFor a person with a suspected fractured leg during a hiking trip, immediate actions include applying ice, compression using an elastic bandage, elevating the injured area above heart level, and administering analgesics as needed. Depending on the severity of the injury, additional measures such as splinting, surgery, sterile wound dressings, tetanus prophylaxis, and broad-spectrum antibiotics may be required.\\n\\nKey Details:\\n- Apply ice to reduce swelling and pain.\\n- Use an elastic bandage'"
            ],
            "application/vnd.google.colaboratory.intrinsic+json": {
              "type": "string"
            }
          },
          "metadata": {},
          "execution_count": 64
        }
      ]
    },
    {
      "cell_type": "markdown",
      "source": [
        "- We will address the token size during fine tuning.  \n",
        "\n",
        "- As expected, the model has done its job well."
      ],
      "metadata": {
        "id": "x8FC8SJzfBv0"
      }
    },
    {
      "cell_type": "markdown",
      "source": [
        "**Insights:**\n",
        "\n",
        "Each question is processed independently, leveraging the RAG pipeline.\n",
        "Responses are expected to be detailed and grounded in the Merck Manual context.\n",
        "Since, responses are incomplete, fine-tuning in the next step will improve quality."
      ],
      "metadata": {
        "id": "udx2_dznQ_CD"
      }
    },
    {
      "cell_type": "markdown",
      "source": [
        "## Fine-tuning Parameters RAG"
      ],
      "metadata": {
        "id": "K7TYrqycEITB"
      }
    },
    {
      "cell_type": "markdown",
      "source": [
        "#### Query 1: What is the protocol for managing sepsis in a critical care unit?"
      ],
      "metadata": {
        "id": "ekixJXW2Fx5y"
      }
    },
    {
      "cell_type": "code",
      "source": [
        "user_input_ragft1 = \"What is the protocol for managing sepsis in a critical care unit?\"\n",
        "generate_rag_response(user_input_ragft1,  max_tokens=1000, temperature=0)"
      ],
      "metadata": {
        "id": "7UYBR-hcReSo",
        "colab": {
          "base_uri": "https://localhost:8080/",
          "height": 226
        },
        "outputId": "ca8e5979-ec37-422d-c21a-1709ac8fd9b9"
      },
      "execution_count": 65,
      "outputs": [
        {
          "output_type": "stream",
          "name": "stderr",
          "text": [
            "Llama.generate: prefix-match hit\n",
            "\n",
            "llama_print_timings:        load time =     686.52 ms\n",
            "llama_print_timings:      sample time =     203.65 ms /   334 runs   (    0.61 ms per token,  1640.05 tokens per second)\n",
            "llama_print_timings: prompt eval time =     719.12 ms /   465 tokens (    1.55 ms per token,   646.62 tokens per second)\n",
            "llama_print_timings:        eval time =   24939.43 ms /   333 runs   (   74.89 ms per token,    13.35 tokens per second)\n",
            "llama_print_timings:       total time =   26137.90 ms /   798 tokens\n"
          ]
        },
        {
          "output_type": "execute_result",
          "data": {
            "text/plain": [
              "\"**Response:**\\nSepsis management in a critical care unit includes:\\n- Monitoring vital signs, fluid status, and organ function (systemic pressure, CVP or PAOP, pulse oximetry, ABGs, blood glucose, lactate, electrolyte levels, renal function).\\n- Urine output measurement.\\n- Fluid resuscitation with 0.9% saline until CVP reaches 8 mm Hg (10 cm H2O) or PAOP is high (60 to 65%).\\n- Warming the patient.\\n- Controlling hemorrhage.\\n- Checking and managing airway and ventilation.\\n- Nothing by mouth and turning the patient's head to prevent aspiration if emesis occurs.\\n- Antibiotic therapy:\\n  - Gentamicin or tobramycin 5.1 mg/kg IV once daily.\\n  - A 3rd-generation cephalosporin (cefotaxime, ceftriaxone, or ceftazidime).\\n  - Alternatively, ceftazidime plus a fluoroquinolone (ciprofloxacin).\\n*Source: Sepsis and Septic Shock, Merck Manual.*\\n\\nCritical Considerations:\\n- Immediate ICU admission is required for septic shock.\\n- This tool supplements but does not replace clinical judgment. Consult the latest edition of the Merck Manual or a specialist for further guidance.\""
            ],
            "application/vnd.google.colaboratory.intrinsic+json": {
              "type": "string"
            }
          },
          "metadata": {},
          "execution_count": 65
        }
      ]
    },
    {
      "cell_type": "markdown",
      "source": [
        "- When **`max_tokens`** is set to 1000, the model generated enough output, however 1000 tokens are overkill and may result in helucinations as the query could be answered with a limited number of tokens.  \n",
        "\n",
        "- One of the reasons could be that the temperature is set to 0, making the model more deterministic and less creative."
      ],
      "metadata": {
        "id": "PD7FASIVgsRr"
      }
    },
    {
      "cell_type": "markdown",
      "metadata": {
        "id": "1lP8LwnbUxep"
      },
      "source": [
        "#### Query 2: What are the common symptoms for appendicitis, and can it be cured via medicine? If not, what surgical procedure should be followed to treat it?"
      ]
    },
    {
      "cell_type": "code",
      "execution_count": 66,
      "metadata": {
        "id": "99zlqRbvUxeq",
        "colab": {
          "base_uri": "https://localhost:8080/",
          "height": 209
        },
        "outputId": "1cc981a1-cb0a-4c14-f24d-809932cc5276"
      },
      "outputs": [
        {
          "output_type": "stream",
          "name": "stderr",
          "text": [
            "Llama.generate: prefix-match hit\n",
            "\n",
            "llama_print_timings:        load time =     686.52 ms\n",
            "llama_print_timings:      sample time =     125.96 ms /   206 runs   (    0.61 ms per token,  1635.45 tokens per second)\n",
            "llama_print_timings: prompt eval time =     707.33 ms /   413 tokens (    1.71 ms per token,   583.89 tokens per second)\n",
            "llama_print_timings:        eval time =   15193.73 ms /   205 runs   (   74.12 ms per token,    13.49 tokens per second)\n",
            "llama_print_timings:       total time =   16171.33 ms /   618 tokens\n"
          ]
        },
        {
          "output_type": "execute_result",
          "data": {
            "text/plain": [
              "\"**Response:**\\nSymptoms of appendicitis include:\\n- Sudden onset of pain around the navel or right lower abdomen.\\n- Loss of appetite.\\n- Nausea and vomiting.\\n- Fever (often low-grade at first).\\n- Abdominal swelling.\\n- Pain worsens with movement, coughing, or walking.\\n\\nAppendicitis cannot be cured via medicine alone; surgery is required for treatment. The surgical procedure to treat appendicitis is an appendectomy, which involves the removal of the appendix. This can be done through open surgery or laparoscopically. Antibiotics are administered before the surgery (preferably third-generation cephalosporins) and sometimes continued post-surgery until the patient's temperature and white blood cell count have normalized.\\n\\n*Source: Acute Appendicitis, Merck Manual Professional Edition.*\""
            ],
            "application/vnd.google.colaboratory.intrinsic+json": {
              "type": "string"
            }
          },
          "metadata": {},
          "execution_count": 66
        }
      ],
      "source": [
        "user_input_ragft2 = \"What are the common symptoms for appendicitis, and can it be cured via medicine? If not, what surgical procedure should be followed to treat it?\"\n",
        "generate_rag_response(user_input_ragft2,  max_tokens=350, temperature=0)"
      ]
    },
    {
      "cell_type": "markdown",
      "source": [
        "- If we compare it to the previous case, after decreasing the **`max_tokens`**, we still got the full response.\n",
        "- The response is short due to 0 temperature set."
      ],
      "metadata": {
        "id": "Muzf6ULChU_j"
      }
    },
    {
      "cell_type": "markdown",
      "metadata": {
        "id": "pludvG5BUxer"
      },
      "source": [
        "#### Query 3: What are the effective treatments or solutions for addressing sudden patchy hair loss, commonly seen as localized bald spots on the scalp, and what could be the possible causes behind it?"
      ]
    },
    {
      "cell_type": "code",
      "execution_count": 67,
      "metadata": {
        "id": "9CTt5MqmUxes",
        "colab": {
          "base_uri": "https://localhost:8080/",
          "height": 226
        },
        "outputId": "5c9ce08d-ff8d-41e5-a7d1-8cb63d43ac98"
      },
      "outputs": [
        {
          "output_type": "stream",
          "name": "stderr",
          "text": [
            "Llama.generate: prefix-match hit\n",
            "\n",
            "llama_print_timings:        load time =     686.52 ms\n",
            "llama_print_timings:      sample time =     157.40 ms /   256 runs   (    0.61 ms per token,  1626.40 tokens per second)\n",
            "llama_print_timings: prompt eval time =     704.30 ms /   427 tokens (    1.65 ms per token,   606.27 tokens per second)\n",
            "llama_print_timings:        eval time =   19056.84 ms /   255 runs   (   74.73 ms per token,    13.38 tokens per second)\n",
            "llama_print_timings:       total time =   20121.50 ms /   682 tokens\n"
          ]
        },
        {
          "output_type": "execute_result",
          "data": {
            "text/plain": [
              "'**Response:**\\nBrief Summary:\\nSudden patchy hair loss, also known as alopecia areata, is an autoimmune disorder causing hair loss in people with no apparent skin or systemic disorders. The scalp and beard are most commonly affected areas, but any hairy part of the body can be involved. Treatment options include topical, intralesional, or systemic corticosteroids, topical minoxidil, topical anthralin, topical immunotherapy (diphencyprone or squaric acid dibutylester), or psoralen plus ultraviolet A (PUVA).\\n\\nKey Details:\\n- Treatment options for alopecia areata include:\\n  - Topical corticosteroids: Applied directly to the affected area.\\n  - Intralesional corticosteroids: Injected into the affected area.\\n  - Systemic corticosteroids: Taken orally to treat extensive hair loss.\\n  - Topical minoxidil: A medication applied topically to stimulate hair growth.\\n  - Topical anthralin: Applied to the scalp to suppress immune'"
            ],
            "application/vnd.google.colaboratory.intrinsic+json": {
              "type": "string"
            }
          },
          "metadata": {},
          "execution_count": 67
        }
      ],
      "source": [
        "user_input_ragft3 = \"What are the effective treatments or solutions for addressing sudden patchy hair loss, commonly seen as localized bald spots on the scalp, and what could be the possible causes behind it?\"\n",
        "generate_rag_response(user_input_ragft3,  top_p=0.98, top_k=20, max_tokens=256, temperature=0.5)"
      ]
    },
    {
      "cell_type": "markdown",
      "source": [
        "- 256 Token are not enough to get full range of response, the best option is to take 512 tokens.\n",
        "- The temperature of 0.5 may be slightly high."
      ],
      "metadata": {
        "id": "UMVaAhVumAZi"
      }
    },
    {
      "cell_type": "markdown",
      "metadata": {
        "id": "ydSZJlJQUxes"
      },
      "source": [
        "#### Query 4:  What treatments are recommended for a person who has sustained a physical injury to brain tissue, resulting in temporary or permanent impairment of brain function?"
      ]
    },
    {
      "cell_type": "code",
      "execution_count": 68,
      "metadata": {
        "id": "8Pn3DJaUUxet",
        "colab": {
          "base_uri": "https://localhost:8080/",
          "height": 226
        },
        "outputId": "fe0bef51-b8dd-4787-cbf1-1936e5bc79a1"
      },
      "outputs": [
        {
          "output_type": "stream",
          "name": "stderr",
          "text": [
            "Llama.generate: prefix-match hit\n",
            "\n",
            "llama_print_timings:        load time =     686.52 ms\n",
            "llama_print_timings:      sample time =     176.29 ms /   289 runs   (    0.61 ms per token,  1639.32 tokens per second)\n",
            "llama_print_timings: prompt eval time =     700.45 ms /   390 tokens (    1.80 ms per token,   556.79 tokens per second)\n",
            "llama_print_timings:        eval time =   21425.66 ms /   288 runs   (   74.39 ms per token,    13.44 tokens per second)\n",
            "llama_print_timings:       total time =   22532.43 ms /   678 tokens\n"
          ]
        },
        {
          "output_type": "execute_result",
          "data": {
            "text/plain": [
              "'**Response:**\\n1. **Brief Summary**: Treatment for a brain injury includes managing intracranial hematomas, addressing cerebral edema and decreased brain blood flow, and providing support for impaired functions.\\n2. **Key Details**:\\n   - For mild injuries: observation and discharge.\\n   - For moderate to severe injuries: optimization of ventilation, oxygenation, and brain perfusion.\\n3. **Critical Considerations**:\\n   - Intracranial hematomas may require surgical evacuation to prevent or treat brain shift, compression, and herniation.\\n   - The use of antibiotic prophylaxis for open fractures is controversial due to limited data on its efficacy and potential promotion of drug-resistant strains.\\n   - Early neurosurgical consultation is mandatory for intracranial hematomas.\\n   - Small intracerebral hematomas rarely require surgery.\\n   - Brain function impairments, such as hemiparesis and aphasia, usually resolve at least partially, except in the elderly.\\n   - Posttraumatic anosmia and acute traumatic blindness seldom resolve after 3 to 4 months.\\n   *Source: Traumatic Brain Injury, Merck Manual Professional Edition.*'"
            ],
            "application/vnd.google.colaboratory.intrinsic+json": {
              "type": "string"
            }
          },
          "metadata": {},
          "execution_count": 68
        }
      ],
      "source": [
        "user_input_ragft4 = \"What treatments are recommended for a person who has sustained a physical injury to brain tissue, resulting in temporary or permanent impairment of brain function?\"\n",
        "generate_rag_response(user_input_ragft4,  top_p=0.98, top_k=50, max_tokens=512, temperature=0.1)"
      ]
    },
    {
      "cell_type": "markdown",
      "source": [
        "- 512 tokens, with 0.1 temperature with top_p = 0.98 and k = 50 seems to work great.  "
      ],
      "metadata": {
        "id": "p8N6SYP7huke"
      }
    },
    {
      "cell_type": "markdown",
      "metadata": {
        "id": "5hAVjKHMUxeu"
      },
      "source": [
        "#### Query 5: What are the necessary precautions and treatment steps for a person who has fractured their leg during a hiking trip, and what should be considered for their care and recovery?"
      ]
    },
    {
      "cell_type": "code",
      "execution_count": 69,
      "metadata": {
        "id": "QD1T75NZUxev",
        "colab": {
          "base_uri": "https://localhost:8080/",
          "height": 226
        },
        "outputId": "857ccd4f-b395-4750-b5e7-72fb5b2e1eb8"
      },
      "outputs": [
        {
          "output_type": "stream",
          "name": "stderr",
          "text": [
            "Llama.generate: prefix-match hit\n",
            "\n",
            "llama_print_timings:        load time =     686.52 ms\n",
            "llama_print_timings:      sample time =     180.72 ms /   294 runs   (    0.61 ms per token,  1626.81 tokens per second)\n",
            "llama_print_timings: prompt eval time =     726.19 ms /   461 tokens (    1.58 ms per token,   634.82 tokens per second)\n",
            "llama_print_timings:        eval time =   21802.61 ms /   293 runs   (   74.41 ms per token,    13.44 tokens per second)\n",
            "llama_print_timings:       total time =   22943.08 ms /   754 tokens\n"
          ]
        },
        {
          "output_type": "execute_result",
          "data": {
            "text/plain": [
              "'**Response:**\\nBrief Summary:\\nA fractured leg requires immediate attention. The following steps should be taken to ensure proper care and recovery:\\n\\nKey Details:\\n1. Apply ice and compression using an elastic bandage or a thigh sleeve as soon as possible.\\n2. Elevate the injured area above heart level to facilitate fluid drainage and reduce swelling.\\n3. Prescribe analgesics and NSAIDs for pain relief, if necessary.\\n4. Use crutches initially if walking is painful.\\n5. For suspected open fractures:\\n   - Apply sterile wound dressings.\\n   - Provide tetanus prophylaxis.\\n   - Prescribe broad-spectrum antibiotics (e.g., a 2nd-generation cephalosporin plus an aminoglycoside).\\n\\nCritical Considerations:\\n1. Do not wrap the bandage too tightly to avoid causing swelling in the distal extremity.\\n2. Seek medical attention for suspected unstable fractures or long bone fractures, as splinting may be necessary.\\n3. For open fractures, ensure proper wound care and monitor for signs of infection.\\n4. Follow up with a healthcare professional for further evaluation and treatment recommendations.\\n5. This tool supplements but does not replace clinical judgment.'"
            ],
            "application/vnd.google.colaboratory.intrinsic+json": {
              "type": "string"
            }
          },
          "metadata": {},
          "execution_count": 69
        }
      ],
      "source": [
        "user_input_ragft5 = \"What are the necessary precautions and treatment steps for a person who has fractured their leg during a hiking trip, and what should be considered for their care and recovery?\"\n",
        "generate_rag_response(user_input_ragft5,  top_p=0.98, top_k=50, max_tokens=350, temperature=0.1)"
      ]
    },
    {
      "cell_type": "markdown",
      "source": [
        "- token size of 350 is definately a small value. Again, 512 token size seems to be the best value."
      ],
      "metadata": {
        "id": "lP3UO8XXmo2B"
      }
    },
    {
      "cell_type": "markdown",
      "source": [
        "**Insights:**\n",
        "\n",
        "* According to the findings the following parameters will perform best:\n",
        "1. top_p = 0.98\n",
        "2. top_k = 50\n",
        "3. max_tokens = 512\n",
        "4. temperature = 0.1\n"
      ],
      "metadata": {
        "id": "z5RK_k5bh1Ar"
      }
    },
    {
      "cell_type": "markdown",
      "source": [
        "### Generating response with the tunned parameters"
      ],
      "metadata": {
        "id": "FfXbXSUU5SFe"
      }
    },
    {
      "cell_type": "code",
      "source": [
        "user_input_ragtuned1 = \"What is the protocol for managing sepsis in a critical care unit?\"\n",
        "generate_rag_response(user_input_ragtuned1,  top_p=0.98, top_k=50, max_tokens=512, temperature=0.1)"
      ],
      "metadata": {
        "colab": {
          "base_uri": "https://localhost:8080/",
          "height": 209
        },
        "id": "TnZk2w5C5Nuf",
        "outputId": "a087c764-5f3d-4983-d7e0-570d74636083"
      },
      "execution_count": 70,
      "outputs": [
        {
          "output_type": "stream",
          "name": "stderr",
          "text": [
            "Llama.generate: prefix-match hit\n",
            "\n",
            "llama_print_timings:        load time =     686.52 ms\n",
            "llama_print_timings:      sample time =     175.11 ms /   283 runs   (    0.62 ms per token,  1616.16 tokens per second)\n",
            "llama_print_timings: prompt eval time =     721.08 ms /   465 tokens (    1.55 ms per token,   644.87 tokens per second)\n",
            "llama_print_timings:        eval time =   21024.56 ms /   282 runs   (   74.56 ms per token,    13.41 tokens per second)\n",
            "llama_print_timings:       total time =   22146.07 ms /   747 tokens\n"
          ]
        },
        {
          "output_type": "execute_result",
          "data": {
            "text/plain": [
              "\"**Response:**\\nSepsis management in a critical care unit includes:\\n- Monitoring vital signs, fluid status, and organ function (systemic pressure, CVP or PAOP, pulse oximetry, ABGs, blood glucose, lactate, electrolyte levels, renal function).\\n- Urine output measurement.\\n- Fluid resuscitation with 0.9% saline until CVP reaches 8 mm Hg (10 cm H2O) or PAOP is high (60 to 65%).\\n- Warming the patient.\\n- Controlling hemorrhage.\\n- Checking and managing airway and ventilation.\\n- Nothing by mouth and turning the patient's head to prevent aspiration if emesis occurs.\\n- Antibiotic therapy:\\n  - Gentamicin or tobramycin 5.1 mg/kg IV once daily plus a 3rd-generation cephalosporin (cefotaxime, ceftriaxone, or ceftazidime).\\n  - Alternatively, ceftazidime plus a fluoroquinolone (ciprofloxacin) may be used.\\n*Source: Sepsis and Septic Shock, Merck Manual.*\""
            ],
            "application/vnd.google.colaboratory.intrinsic+json": {
              "type": "string"
            }
          },
          "metadata": {},
          "execution_count": 70
        }
      ]
    },
    {
      "cell_type": "code",
      "source": [
        "user_input_ragtuned2 = \"What are the common symptoms for appendicitis, and can it be cured via medicine? If not, what surgical procedure should be followed to treat it?\"\n",
        "generate_rag_response(user_input_ragtuned2, top_p=0.98, top_k=50, max_tokens=512, temperature=0.1)"
      ],
      "metadata": {
        "colab": {
          "base_uri": "https://localhost:8080/",
          "height": 209
        },
        "id": "EhXbiaMt5PzG",
        "outputId": "93ee73e1-2947-4cd7-978a-33a0e0f090b6"
      },
      "execution_count": 71,
      "outputs": [
        {
          "output_type": "stream",
          "name": "stderr",
          "text": [
            "Llama.generate: prefix-match hit\n",
            "\n",
            "llama_print_timings:        load time =     686.52 ms\n",
            "llama_print_timings:      sample time =     121.19 ms /   194 runs   (    0.62 ms per token,  1600.82 tokens per second)\n",
            "llama_print_timings: prompt eval time =     706.76 ms /   413 tokens (    1.71 ms per token,   584.36 tokens per second)\n",
            "llama_print_timings:        eval time =   14399.40 ms /   193 runs   (   74.61 ms per token,    13.40 tokens per second)\n",
            "llama_print_timings:       total time =   15369.39 ms /   606 tokens\n"
          ]
        },
        {
          "output_type": "execute_result",
          "data": {
            "text/plain": [
              "\"**Response:**\\nSymptoms of appendicitis include:\\n- Sudden onset of pain around the navel or right lower abdomen.\\n- Loss of appetite.\\n- Nausea and vomiting.\\n- Fever (often low-grade at first).\\n- Abdominal swelling.\\n- Constipation or diarrhea.\\n- Pain worsens with movement, coughing, or walking.\\n\\nAppendicitis cannot be cured via medicine alone; surgery is required for removal of the inflamed appendix (appendectomy). In nonperforated cases, antibiotics are administered intravenously before surgery to prevent infection spread. For perforated appendicitis, antibiotics should be continued until the patient's temperature and white blood cell count have normalized.\\n\\n*Source: Acute Appendicitis, Merck Manual Professional Edition.*\""
            ],
            "application/vnd.google.colaboratory.intrinsic+json": {
              "type": "string"
            }
          },
          "metadata": {},
          "execution_count": 71
        }
      ]
    },
    {
      "cell_type": "code",
      "source": [
        "user_input_ragtuned3 = \"What are the effective treatments or solutions for addressing sudden patchy hair loss, commonly seen as localized bald spots on the scalp, and what could be the possible causes behind it?\"\n",
        "generate_rag_response(user_input_ragtuned3, top_p=0.98, top_k=50, max_tokens=512, temperature=0.1)"
      ],
      "metadata": {
        "colab": {
          "base_uri": "https://localhost:8080/",
          "height": 226
        },
        "id": "YThJSi0m5QJy",
        "outputId": "295cfb53-b681-47dd-d759-b3a178870766"
      },
      "execution_count": 72,
      "outputs": [
        {
          "output_type": "stream",
          "name": "stderr",
          "text": [
            "Llama.generate: prefix-match hit\n",
            "\n",
            "llama_print_timings:        load time =     686.52 ms\n",
            "llama_print_timings:      sample time =     175.06 ms /   281 runs   (    0.62 ms per token,  1605.19 tokens per second)\n",
            "llama_print_timings: prompt eval time =     708.37 ms /   427 tokens (    1.66 ms per token,   602.79 tokens per second)\n",
            "llama_print_timings:        eval time =   20758.73 ms /   280 runs   (   74.14 ms per token,    13.49 tokens per second)\n",
            "llama_print_timings:       total time =   21869.94 ms /   707 tokens\n"
          ]
        },
        {
          "output_type": "execute_result",
          "data": {
            "text/plain": [
              "'**Response:**\\nBrief Summary:\\nSudden patchy hair loss, also known as alopecia areata, is an autoimmune disorder causing hair loss in people with no obvious skin or systemic disorders. The scalp and beard are most commonly affected, but any hairy area may be involved.\\n\\nKey Details:\\n- Alopecia areata is treated based on the extent of hair loss:\\n  - Topical treatments: 10% salicylic acid suspension, corticosteroid solutions, minoxidil, anthralin, or immunotherapy (diphencyprone or squaric acid dibutylester).\\n  - Intralesional treatments: Corticosteroids.\\n  - Systemic treatments: Corticosteroids, topical minoxidil, or PUVA therapy for severe cases and scalp plaques.\\n- Underlying disorders causing hair loss are treated separately.\\n\\nCritical Considerations:\\n- Scalp plaques are difficult to treat due to resistance to systemic therapy and the presence of hair blocking application of topical agents and shielding skin from UV light.\\n- Consult a healthcare professional for proper diagnosis and treatment options.\\n*Source: Alopecia Areata, Merck Manual Professional Edition.*'"
            ],
            "application/vnd.google.colaboratory.intrinsic+json": {
              "type": "string"
            }
          },
          "metadata": {},
          "execution_count": 72
        }
      ]
    },
    {
      "cell_type": "code",
      "source": [
        "user_input_ragtuned4 = \"What treatments are recommended for a person who has sustained a physical injury to brain tissue, resulting in temporary or permanent impairment of brain function?\"\n",
        "generate_rag_response(user_input_ragtuned4, top_p=0.98, top_k=50, max_tokens=512, temperature=0.1)"
      ],
      "metadata": {
        "colab": {
          "base_uri": "https://localhost:8080/",
          "height": 209
        },
        "id": "dg2XCKmz5QkS",
        "outputId": "68c65b24-86d4-4fb6-d712-4df3f8a14171"
      },
      "execution_count": 73,
      "outputs": [
        {
          "output_type": "stream",
          "name": "stderr",
          "text": [
            "Llama.generate: prefix-match hit\n",
            "\n",
            "llama_print_timings:        load time =     686.52 ms\n",
            "llama_print_timings:      sample time =     117.74 ms /   190 runs   (    0.62 ms per token,  1613.70 tokens per second)\n",
            "llama_print_timings: prompt eval time =     698.82 ms /   390 tokens (    1.79 ms per token,   558.09 tokens per second)\n",
            "llama_print_timings:        eval time =   14077.64 ms /   189 runs   (   74.48 ms per token,    13.43 tokens per second)\n",
            "llama_print_timings:       total time =   15032.91 ms /   579 tokens\n"
          ]
        },
        {
          "output_type": "execute_result",
          "data": {
            "text/plain": [
              "'**Response:**\\n1. **Brief Summary**: Treatment for brain injuries focuses on managing immediate threats (e.g., intracranial hematomas) and supporting overall brain health through optimizing ventilation, oxygenation, and perfusion.\\n2. **Key Details**:\\n   - For mild injuries: Discharge and observation.\\n   - For moderate to severe injuries:\\n     - Optimization of ventilation, oxygenation, and brain perfusion.\\n3. **Critical Considerations**:\\n   - Early neurosurgical consultation for intracranial hematomas.\\n   - Controversy regarding antibiotic prophylaxis due to limited data and potential promotion of drug-resistant strains.\\n4. **Disclaimer**: This tool supplements but does not replace clinical judgment. Consult the latest Merck Manual for comprehensive information on brain injuries.'"
            ],
            "application/vnd.google.colaboratory.intrinsic+json": {
              "type": "string"
            }
          },
          "metadata": {},
          "execution_count": 73
        }
      ]
    },
    {
      "cell_type": "code",
      "source": [
        "user_input_ragtuned5 = \"What are the necessary precautions and treatment steps for a person who has fractured their leg during a hiking trip, and what should be considered for their care and recovery?\"\n",
        "generate_rag_response(user_input_ragtuned5, top_p=0.98, top_k=50, max_tokens=512, temperature=0.1)"
      ],
      "metadata": {
        "colab": {
          "base_uri": "https://localhost:8080/",
          "height": 226
        },
        "id": "oE38IZ-D5RB3",
        "outputId": "6bc0dca2-61b2-4eba-eb3d-a095f719eed1"
      },
      "execution_count": 74,
      "outputs": [
        {
          "output_type": "stream",
          "name": "stderr",
          "text": [
            "Llama.generate: prefix-match hit\n",
            "\n",
            "llama_print_timings:        load time =     686.52 ms\n",
            "llama_print_timings:      sample time =     239.26 ms /   384 runs   (    0.62 ms per token,  1604.96 tokens per second)\n",
            "llama_print_timings: prompt eval time =     721.11 ms /   461 tokens (    1.56 ms per token,   639.29 tokens per second)\n",
            "llama_print_timings:        eval time =   28673.16 ms /   383 runs   (   74.86 ms per token,    13.36 tokens per second)\n",
            "llama_print_timings:       total time =   29975.64 ms /   844 tokens\n"
          ]
        },
        {
          "output_type": "execute_result",
          "data": {
            "text/plain": [
              "'**Response:**\\nBrief Summary:\\nFor a person with a suspected fractured leg during a hiking trip, the following steps should be taken:\\n1. Apply ice and compression using an elastic bandage to reduce swelling and pain.\\n2. Elevate the injured leg above heart level for gravity-assisted fluid drainage.\\n3. Prescribe analgesics and NSAIDs as needed for pain relief.\\n4. Consider using crutches for mobility assistance if walking is painful.\\n5. For suspected open fractures, provide sterile wound dressings, tetanus prophylaxis, and broad-spectrum antibiotics.\\n\\nKey Details:\\n1. Ice and compression with a thigh sleeve should be applied as soon as possible to the injured leg.\\n2. The bandage should not be wrapped too tightly to prevent swelling in the distal extremity.\\n3. The injured leg should be elevated above heart level for gravity-assisted fluid drainage.\\n4. Analgesics and NSAIDs may be prescribed as needed for pain relief.\\n5. Crutches might be required initially if walking is painful.\\n6. For suspected open fractures, sterile wound dressings, tetanus prophylaxis, and broad-spectrum antibiotics (e.g., a 2nd-generation cephalosporin plus an aminoglycoside) should be provided.\\n\\nCritical Considerations:\\n1. Immediate treatment is crucial to prevent further damage and promote healing.\\n2. Suspected open fractures require prompt medical attention due to the risk of infection.\\n3. Always consult a healthcare professional for proper diagnosis and treatment.\\n4. This tool supplements but does not replace clinical judgment.'"
            ],
            "application/vnd.google.colaboratory.intrinsic+json": {
              "type": "string"
            }
          },
          "metadata": {},
          "execution_count": 74
        }
      ]
    },
    {
      "cell_type": "markdown",
      "source": [
        "- The responses were generally better than using other hyperparameters values."
      ],
      "metadata": {
        "id": "23ihMxTcnAhs"
      }
    },
    {
      "cell_type": "markdown",
      "source": [
        "###**Comparing RAG Fine-Tuned responses with Gold-Standard**"
      ],
      "metadata": {
        "id": "D-PBFvTN6S0p"
      }
    },
    {
      "cell_type": "code",
      "source": [
        "rag_finetuned_responses = {\n",
        "    \"Question-1\": \"\"\" **Response:**\n",
        "Brief Summary: The management of septic shock in a critical care unit involves monitoring vital signs, fluid resuscitation, and appropriate antibiotic therapy.\n",
        "\n",
        "Key Details:\n",
        "1. Monitoring: Frequent assessment of systemic pressure, CVP or PAOP, pulse oximetry, ABGs, blood glucose, lactate, electrolyte levels, renal function, urine output, and sublingual PCO2 is necessary.\n",
        "2. Fluid Resuscitation: Administer 0.9% saline until CVP reaches 8 mm Hg (10 cm H2O) or PAOP is high (60 to 65%).\n",
        "3. Antibiotic Therapy: Use a regimen of gentamicin or tobramycin and a third-generation cephalosporin, such as cefotaxime or ceftriaxone. Alternatively, use ceftazidime plus a fluoroquinolone like ciprofloxacin. Monotherapy with maximal therapeutic doses of ceftazidime or imipenem is not recommended.\n",
        "\n",
        "Critical Considerations:\n",
        "- Keep the patient warm and control hemorrhage if necessary.\n",
        "- Nothing should be given by mouth, and the head should be turned to one side to avoid aspiration if emesis occurs.\n",
        "- Prognosis depends on the cause, preexisting or complicating illness, time between onset and diagnosis, and promptness and adequacy of therapy.\"\"\",\n",
        "\n",
        "    \"Question-2\": \"\"\"**Response:**\n",
        "Symptoms of appendicitis include:\n",
        "- Sudden onset of pain in the lower right abdomen.\n",
        "- Loss of appetite.\n",
        "- Nausea and vomiting.\n",
        "- Fever (often low-grade at first).\n",
        "- Abdominal swelling.\n",
        "- Pain worsens with movement or pressure on the abdomen.\n",
        "\n",
        "Appendicitis cannot be cured via medicine alone; surgical removal of the appendix (appendectomy) is required when diagnosed. This procedure can be performed either open or laparoscopically, depending on the severity and location of the inflammation. Antibiotics are administered intravenously before surgery to prevent infection spread. If the appendix has perforated, antibiotics should be continued until the patient's temperature and white blood cell count have normalized.\n",
        "\n",
        "*Source: Acute Appendicitis, Merck Manual Professional Edition.*\"\"\",\n",
        "\n",
        "    \"Question-3\": \"\"\"**Response:**\n",
        "Sudden patchy hair loss, also known as alopecia areata, is characterized by round, smooth patches of baldness on the scalp or other hair-bearing areas. The exact cause of this condition is unknown but is believed to be an autoimmune disorder that affects genetically susceptible individuals exposed to unclear environmental triggers.\n",
        "\n",
        "Effective treatments for alopecia areata include:\n",
        "1. Topical corticosteroids: Prescription-strength creams or ointments applied directly to the affected area can help reduce inflammation and promote hair regrowth.\n",
        "2. Minoxidil (Rogaine): A topical medication that stimulates hair growth, available over the counter.\n",
        "3. Anthralin: A prescription topical medication that slows down the immune system's attack on hair follicles.\n",
        "4. Immunotherapy: Injections of diphencyprone or squaric acid dibutylester can help stimulate an immune response and promote hair regrowth.\n",
        "5. Psoralen plus ultraviolet A (PUVA): A light therapy treatment that involves taking a medication called psoralen before exposure to UV-A light, which helps slow down the immune system's attack on hair follicles.\n",
        "6. Salicylic acid suspension: A 10% salicylic acid solution in mineral oil can be applied to the scalp at bedtime and washed off the next morning with a tar shampoo. This treatment may help enhance penetration and promote hair regrowth.\n",
        "\n",
        "It is important to note that treatments for alopecia areata may not work for everyone, and their effectiveness can vary depending on the severity and location of the bald spots. In severe cases, systemic corticosteroids or other immunosuppressive medications may be prescribed by a healthcare professional.\n",
        "\n",
        "Hair loss due to other causes should be treated accordingly based on the underlying disorder. If you are concerned about sudden patchy hair loss, it is recommended that you consult with a healthcare professional for an accurate diagnosis and appropriate treatment options.\n",
        "\n",
        "*Source: Alopecia Areata, Merck Manual Professional Edition.*\"\"\",\n",
        "\n",
        "    \"Question-4\": \"\"\"**Response:**\n",
        "Brief Summary:\n",
        "For individuals with brain injuries causing temporary or permanent impairments, the primary focus is on optimizing ventilation, oxygenation, and brain perfusion. Depending on the severity of the injury, treatments may include observation for mild cases or urgent surgical intervention for intracranial hematomas to prevent further damage from brain shift, compression, and herniation.\n",
        "\n",
        "Key Details:\n",
        "- Mild injuries: Discharge and observation.\n",
        "- Moderate to severe injuries: Optimization of ventilation, oxygenation, and brain perfusion.\n",
        "\n",
        "Critical Considerations:\n",
        "- Intracranial hematomas may require urgent surgical evacuation.\n",
        "- Small intracerebral hematomas rarely require surgery.\n",
        "- Early neurosurgical consultation is mandatory for intracranial hematomas.\n",
        "- Not all hematomas require surgical removal.\n",
        "- Brain function impairments can lead to disability in social relations and employment due to the fixed size of the cranial vault.\n",
        "- Posttraumatic anosmia and acute traumatic blindness seldom resolve after 3 to 4 months.\n",
        "- Hemiparesis and aphasia usually resolve at least partially, except in the elderly.\n",
        "\n",
        "*Source: Traumatic Brain Injury, Merck Manual Professional Edition.*\"\"\",\n",
        "\n",
        "    \"Question-5\": \"\"\"**Response:**\n",
        "Brief Summary: For a person with a suspected fractured leg during a hiking trip, the following steps should be taken:\n",
        "1. Apply ice and compression using an elastic bandage to reduce swelling and pain.\n",
        "2. Elevate the injured leg above heart level for gravity-assisted fluid drainage.\n",
        "3. Prescribe analgesics and NSAIDs as necessary for pain relief.\n",
        "4. Consider using crutches for initial mobility support.\n",
        "5. For suspected open fractures, provide sterile wound dressings, tetanus prophylaxis, and broad-spectrum antibiotics.\n",
        "\n",
        "Key Details:\n",
        "1. Ice and compression: Apply ice wrapped in a plastic bag to the injured area and use an elastic bandage for compression. Do not wrap too tightly to avoid causing swelling in the distal extremity.\n",
        "2. Elevation: Keep the injured leg elevated above heart level to facilitate fluid drainage, which reduces swelling and pain.\n",
        "3. Pain relief: Prescribe analgesics and non-steroidal anti-inflammatory drugs (NSAIDs) as needed for pain management.\n",
        "4. Mobility support: Use crutches initially if walking is painful.\n",
        "5. Open fractures: For suspected open fractures, provide sterile wound dressings, tetanus prophylaxis, and broad-spectrum antibiotics.\n",
        "\n",
        "Critical Considerations:\n",
        "1. Immediate medical attention: If there are signs of an unstable fracture or long bone fracture, seek immediate medical care for proper assessment and treatment.\n",
        "2. Follow-up care: Ensure the person receives appropriate follow-up care to monitor their progress and address any complications.\n",
        "3. Proper immobilization: Ensure the injured leg is properly immobilized during transportation and until a healthcare professional can assess it.\n",
        "4. Avoid weight bearing: Encourage the person to avoid putting weight on the injured leg until a healthcare professional advises otherwise.\n",
        "5. Rehabilitation: Provide resources for rehabilitation exercises and physical therapy to help restore strength and mobility once the fracture has healed.\"\"\"\n",
        "}"
      ],
      "metadata": {
        "id": "EC7zEF-o6ZQy"
      },
      "execution_count": 75,
      "outputs": []
    },
    {
      "cell_type": "code",
      "source": [
        "# Evaluate Fine-Tuned RAG Responses\n",
        "rag_results = {}\n",
        "for q_key in rag_finetuned_responses:\n",
        "  # Use the mapping to get the full question text\n",
        "    full_question = question_map[q_key]\n",
        "    rag_results[full_question] = evaluate_response(gold_answers[full_question], rag_finetuned_responses[q_key])\n",
        "\n",
        "\n",
        "# Print RAG Fine-Tuned Comparison\n",
        "print(\"\\n=== RAG Fine-Tuned vs Gold Standard ===\")\n",
        "print(tabulate(\n",
        "    [[q] + list(rag_results[q].values()) for q in rag_results],\n",
        "    headers=[\"Question\", \"Semantic Sim\", \"BLEU\", \"Rouge-1\", \"Rouge-L\", \"Readability\"],\n",
        "    tablefmt=\"grid\"\n",
        "))"
      ],
      "metadata": {
        "colab": {
          "base_uri": "https://localhost:8080/"
        },
        "id": "tn7tRood-O96",
        "outputId": "a29878f8-cf02-4972-d82a-b0455cf6afc7"
      },
      "execution_count": 76,
      "outputs": [
        {
          "output_type": "stream",
          "name": "stdout",
          "text": [
            "\n",
            "=== RAG Fine-Tuned vs Gold Standard ===\n",
            "+---------------------------------------------------------------------------------------------------------------------------------------------------------------------------------------------+----------------+--------+-----------+-----------+---------------+\n",
            "| Question                                                                                                                                                                                    |   Semantic Sim |   BLEU |   Rouge-1 |   Rouge-L |   Readability |\n",
            "+=============================================================================================================================================================================================+================+========+===========+===========+===============+\n",
            "| What is the protocol for managing sepsis in a critical care unit?                                                                                                                           |          0.715 |  0.037 |     0.193 |     0.126 |          29.6 |\n",
            "+---------------------------------------------------------------------------------------------------------------------------------------------------------------------------------------------+----------------+--------+-----------+-----------+---------------+\n",
            "| What are the common symptoms of appendicitis, and can it be cured via medicine? If not, what surgical procedure should be followed to treat it?                                             |          0.854 |  0.077 |     0.405 |     0.297 |          18.1 |\n",
            "+---------------------------------------------------------------------------------------------------------------------------------------------------------------------------------------------+----------------+--------+-----------+-----------+---------------+\n",
            "| What are the effective treatments or solutions for addressing sudden patchy hair loss, commonly seen as localized bald spots on the scalp, and what could be the possible causes behind it? |          0.807 |  0.013 |     0.134 |     0.103 |          32   |\n",
            "+---------------------------------------------------------------------------------------------------------------------------------------------------------------------------------------------+----------------+--------+-----------+-----------+---------------+\n",
            "| What treatments are recommended for a person who has sustained a physical injury to brain tissue, resulting in temporary or permanent impairment of brain function?                         |          0.509 |  0     |     0.129 |     0.108 |          11.4 |\n",
            "+---------------------------------------------------------------------------------------------------------------------------------------------------------------------------------------------+----------------+--------+-----------+-----------+---------------+\n",
            "| What are the necessary precautions and treatment steps for a person who has fractured their leg during a hiking trip, and what should be considered for their care and recovery?            |          0.742 |  0     |     0.111 |     0.062 |          29.7 |\n",
            "+---------------------------------------------------------------------------------------------------------------------------------------------------------------------------------------------+----------------+--------+-----------+-----------+---------------+\n"
          ]
        },
        {
          "output_type": "stream",
          "name": "stderr",
          "text": [
            "/usr/local/lib/python3.11/dist-packages/nltk/translate/bleu_score.py:577: UserWarning: \n",
            "The hypothesis contains 0 counts of 4-gram overlaps.\n",
            "Therefore the BLEU score evaluates to 0, independently of\n",
            "how many N-gram overlaps of lower order it contains.\n",
            "Consider using lower n-gram order or use SmoothingFunction()\n",
            "  warnings.warn(_msg)\n",
            "/usr/local/lib/python3.11/dist-packages/nltk/translate/bleu_score.py:577: UserWarning: \n",
            "The hypothesis contains 0 counts of 3-gram overlaps.\n",
            "Therefore the BLEU score evaluates to 0, independently of\n",
            "how many N-gram overlaps of lower order it contains.\n",
            "Consider using lower n-gram order or use SmoothingFunction()\n",
            "  warnings.warn(_msg)\n",
            "/usr/local/lib/python3.11/dist-packages/nltk/translate/bleu_score.py:577: UserWarning: \n",
            "The hypothesis contains 0 counts of 4-gram overlaps.\n",
            "Therefore the BLEU score evaluates to 0, independently of\n",
            "how many N-gram overlaps of lower order it contains.\n",
            "Consider using lower n-gram order or use SmoothingFunction()\n",
            "  warnings.warn(_msg)\n"
          ]
        }
      ]
    },
    {
      "cell_type": "markdown",
      "source": [
        "- RAG Fine Tuned has performed better than all the models."
      ],
      "metadata": {
        "id": "vkrtcLVOnTcU"
      }
    },
    {
      "cell_type": "markdown",
      "source": [
        "###**Comparing Raw LLM vs LLM with Prompt Engineering Vs RAG Fine-Tuned**"
      ],
      "metadata": {
        "id": "boi55lmd-Q2j"
      }
    },
    {
      "cell_type": "code",
      "source": [
        "# 1. Generate Comparison Table\n",
        "headers = [\"Method\", \"Semantic Sim\", \"BLEU\", \"Rouge-1\", \"Rouge-L\", \"Readability\"]\n",
        "\n",
        "# Calculate average scores for each method\n",
        "avg_raw = {\n",
        "    k: np.mean([raw_results[q][k] for q in raw_results])\n",
        "    for k in headers[1:]  # Skip \"Method\" column\n",
        "}\n",
        "\n",
        "avg_prompt = {\n",
        "    k: np.mean([prompt_results[q][k] for q in prompt_results])\n",
        "    for k in headers[1:]\n",
        "}\n",
        "\n",
        "avg_rag = {\n",
        "    k: np.mean([rag_results[q][k] for q in rag_results])\n",
        "    for k in headers[1:]\n",
        "}\n",
        "\n",
        "# Create comparison table\n",
        "comparison_table = [\n",
        "    [\"Raw LLM\"] + list(avg_raw.values()),\n",
        "    [\"Prompt-Engineered\"] + list(avg_prompt.values()),\n",
        "    [\"RAG Fine-Tuned\"] + list(avg_rag.values())\n",
        "]\n",
        "\n",
        "print(\"=== Method Comparison (Average Scores) ===\")\n",
        "print(tabulate(comparison_table, headers=headers, tablefmt=\"grid\", floatfmt=\".3f\"))\n",
        "\n",
        "# 2. Determine the Best Performing Method\n",
        "metrics = headers[1:]  # All metrics except \"Method\"\n",
        "\n",
        "# Initialize a dictionary to store the best method for each metric\n",
        "best_methods = {}\n",
        "\n",
        "for metric in metrics:\n",
        "    # Get scores for all methods for this metric\n",
        "    scores = {\n",
        "        \"Raw LLM\": avg_raw[metric],\n",
        "        \"Prompt-Engineered\": avg_prompt[metric],\n",
        "        \"RAG Fine-Tuned\": avg_rag[metric]\n",
        "    }\n",
        "\n",
        "    # Find the method with the highest score for this metric\n",
        "    best_method = max(scores.items(), key=lambda x: x[1])[0]\n",
        "    best_methods[metric] = best_method"
      ],
      "metadata": {
        "colab": {
          "base_uri": "https://localhost:8080/"
        },
        "id": "GPvyE_6G-Ay0",
        "outputId": "20b4dba1-3ee8-47c1-af04-bfee050bd291"
      },
      "execution_count": 77,
      "outputs": [
        {
          "output_type": "stream",
          "name": "stdout",
          "text": [
            "=== Method Comparison (Average Scores) ===\n",
            "+-------------------+----------------+--------+-----------+-----------+---------------+\n",
            "| Method            |   Semantic Sim |   BLEU |   Rouge-1 |   Rouge-L |   Readability |\n",
            "+===================+================+========+===========+===========+===============+\n",
            "| Raw LLM           |          0.724 |  0.007 |     0.146 |     0.095 |        22.260 |\n",
            "+-------------------+----------------+--------+-----------+-----------+---------------+\n",
            "| Prompt-Engineered |          0.833 |  0.022 |     0.191 |     0.120 |        23.520 |\n",
            "+-------------------+----------------+--------+-----------+-----------+---------------+\n",
            "| RAG Fine-Tuned    |          0.725 |  0.025 |     0.194 |     0.139 |        24.160 |\n",
            "+-------------------+----------------+--------+-----------+-----------+---------------+\n"
          ]
        }
      ]
    },
    {
      "cell_type": "code",
      "source": [
        "import matplotlib.pyplot as plt\n",
        "# Extract method names\n",
        "methods = [row[0] for row in comparison_table]\n",
        "\n",
        "# Separate metrics into two groups based on their scale\n",
        "# Group 1: Smaller scale metrics\n",
        "small_metric_names = headers[1:5] # Semantic Sim, BLEU, Rouge-1, Rouge-L\n",
        "raw_llm_small_scores = comparison_table[0][1:5]\n",
        "prompt_engineered_small_scores = comparison_table[1][1:5]\n",
        "rag_fine_tuned_small_scores = comparison_table[2][1:5]\n",
        "\n",
        "# Group 2: Large scale metric (Readability)\n",
        "large_metric_name = headers[5] # Readability\n",
        "raw_llm_large_score = comparison_table[0][5]\n",
        "prompt_engineered_large_score = comparison_table[1][5]\n",
        "rag_fine_tuned_large_score = comparison_table[2][5]\n",
        "\n",
        "\n",
        "# Function to add labels on top of bars\n",
        "def autolabel(rects, ax_obj):\n",
        "    \"\"\"Attach a text label above each bar in *rects*, displaying its height.\"\"\"\n",
        "    for rect in rects:\n",
        "        height = rect.get_height()\n",
        "        ax_obj.annotate(f'{height:.3f}',\n",
        "                        xy=(rect.get_x() + rect.get_width() / 2, height),\n",
        "                        xytext=(0, 3),  # 3 points vertical offset\n",
        "                        textcoords=\"offset points\",\n",
        "                        ha='center', va='bottom', fontsize=8, color='black')\n",
        "\n",
        "# --- Plot 1: Smaller Scale Metrics ---\n",
        "fig1, ax1 = plt.subplots(figsize=(10, 6)) # Adjust figure size for better readability\n",
        "x1 = np.arange(len(small_metric_names))\n",
        "width = 0.25 # Width of the bars\n",
        "\n",
        "rects1_1 = ax1.bar(x1 - width, raw_llm_small_scores, width, label='Raw LLM', color='#1f77b4', edgecolor='black', linewidth=0.7)\n",
        "rects1_2 = ax1.bar(x1, prompt_engineered_small_scores, width, label='Prompt-Engineered', color='#ff7f0e', edgecolor='black', linewidth=0.7)\n",
        "rects1_3 = ax1.bar(x1 + width, rag_fine_tuned_small_scores, width, label='RAG Fine-Tuned', color='#2ca02c', edgecolor='black', linewidth=0.7)\n",
        "\n",
        "autolabel(rects1_1, ax1)\n",
        "autolabel(rects1_2, ax1)\n",
        "autolabel(rects1_3, ax1)\n",
        "\n",
        "ax1.set_xlabel('Evaluation Metrics (Smaller Scale)', fontsize=12, labelpad=10)\n",
        "ax1.set_ylabel('Average Score', fontsize=12, labelpad=10)\n",
        "ax1.set_title('Method Comparison: Semantic Similarity, BLEU, Rouge-1, Rouge-L', fontsize=16, pad=20)\n",
        "ax1.set_xticks(x1)\n",
        "ax1.set_xticklabels(small_metric_names, rotation=0, ha='center', fontsize=10)\n",
        "ax1.set_ylim(bottom=0, top=1.0) # Set a more appropriate y-limit for these metrics\n",
        "ax1.grid(axis='y', linestyle='--', alpha=0.7)\n",
        "ax1.legend(fontsize=10, frameon=True, shadow=True, fancybox=True, loc='upper left', bbox_to_anchor=(1, 1))\n",
        "plt.tight_layout(rect=[0, 0, 0.88, 1]) # Adjust rect to make space for legend outside\n",
        "\n",
        "# --- Plot 2: Readability Metric ---\n",
        "fig2, ax2 = plt.subplots(figsize=(7, 6)) # Adjust figure size\n",
        "x2 = np.arange(1) # Only one bar group for Readability\n",
        "width = 0.25\n",
        "\n",
        "# Create list of scores for readability for easier plotting with autolabel\n",
        "readability_scores = [raw_llm_large_score, prompt_engineered_large_score, rag_fine_tuned_large_score]\n",
        "\n",
        "rects2_1 = ax2.bar(x2 - width, readability_scores[0], width, label='Raw LLM', color='#1f77b4', edgecolor='black', linewidth=0.7)\n",
        "rects2_2 = ax2.bar(x2, readability_scores[1], width, label='Prompt-Engineered', color='#ff7f0e', edgecolor='black', linewidth=0.7)\n",
        "rects2_3 = ax2.bar(x2 + width, readability_scores[2], width, label='RAG Fine-Tuned', color='#2ca02c', edgecolor='black', linewidth=0.7)\n",
        "\n",
        "autolabel(rects2_1, ax2)\n",
        "autolabel(rects2_2, ax2)\n",
        "autolabel(rects2_3, ax2)\n",
        "\n",
        "ax2.set_xlabel('Evaluation Metric', fontsize=12, labelpad=10)\n",
        "ax2.set_ylabel('Average Score', fontsize=12, labelpad=10)\n",
        "ax2.set_title('Method Comparison: Readability Score', fontsize=16, pad=20)\n",
        "ax2.set_xticks(x2)\n",
        "ax2.set_xticklabels([large_metric_name], rotation=0, ha='center', fontsize=10)\n",
        "ax2.set_ylim(bottom=0) # Start y-axis from 0, or adjust based on minimum value for better focus\n",
        "ax2.grid(axis='y', linestyle='--', alpha=0.7)\n",
        "ax2.legend(fontsize=10, frameon=True, shadow=True, fancybox=True, loc='upper left', bbox_to_anchor=(1, 1))\n",
        "plt.tight_layout(rect=[0, 0, 0.75, 1]) # Adjust rect to make space for legend outside\n",
        "\n",
        "plt.show()"
      ],
      "metadata": {
        "colab": {
          "base_uri": "https://localhost:8080/",
          "height": 1000
        },
        "id": "vP-WsH6BsLiS",
        "outputId": "d7cec87d-b5aa-48db-867a-c4359d973729"
      },
      "execution_count": 78,
      "outputs": [
        {
          "output_type": "display_data",
          "data": {
            "text/plain": [
              "<Figure size 1000x600 with 1 Axes>"
            ],
            "image/png": "[encoded data removed]"
          },
          "metadata": {}
        },
        {
          "output_type": "display_data",
          "data": {
            "text/plain": [
              "<Figure size 700x600 with 1 Axes>"
            ],
            "image/png": "[encoded data removed]"
          },
          "metadata": {}
        }
      ]
    },
    {
      "cell_type": "markdown",
      "source": [
        "###**Comparison Result**"
      ],
      "metadata": {
        "id": "g8xFiFZo-bz8"
      }
    },
    {
      "cell_type": "code",
      "source": [
        "# 3. Print Best Methods Summary\n",
        "print(\"\\n=== Best Performing Method by Metric ===\")\n",
        "best_methods_table = [[metric, method] for metric, method in best_methods.items()]\n",
        "print(tabulate(best_methods_table, headers=[\"Metric\", \"Best Method\"], tablefmt=\"grid\"))\n",
        "\n",
        "# 4. Overall Winner (Method with most 'wins' across metrics)\n",
        "from collections import Counter\n",
        "overall_winner = Counter(best_methods.values()).most_common(1)[0][0]\n",
        "print(f\"\\nOverall Best Method: {overall_winner} (wins {Counter(best_methods.values())[overall_winner]} out of {len(metrics)} metrics)\")"
      ],
      "metadata": {
        "colab": {
          "base_uri": "https://localhost:8080/"
        },
        "id": "PDlxGhMd-lYf",
        "outputId": "1dd14b2f-9a80-4689-bc3f-5f6a3cd9b7da"
      },
      "execution_count": 79,
      "outputs": [
        {
          "output_type": "stream",
          "name": "stdout",
          "text": [
            "\n",
            "=== Best Performing Method by Metric ===\n",
            "+--------------+-------------------+\n",
            "| Metric       | Best Method       |\n",
            "+==============+===================+\n",
            "| Semantic Sim | Prompt-Engineered |\n",
            "+--------------+-------------------+\n",
            "| BLEU         | RAG Fine-Tuned    |\n",
            "+--------------+-------------------+\n",
            "| Rouge-1      | RAG Fine-Tuned    |\n",
            "+--------------+-------------------+\n",
            "| Rouge-L      | RAG Fine-Tuned    |\n",
            "+--------------+-------------------+\n",
            "| Readability  | RAG Fine-Tuned    |\n",
            "+--------------+-------------------+\n",
            "\n",
            "Overall Best Method: RAG Fine-Tuned (wins 4 out of 5 metrics)\n"
          ]
        }
      ]
    },
    {
      "cell_type": "markdown",
      "source": [
        "- Metrics comparison also suggest that RAG performed better in all the matircs' categories except Semantic Similarity which was also not bad.\n",
        "- Over ALL RAG Fine Tuned has easily supassed the other methods."
      ],
      "metadata": {
        "id": "h7XzB_jAnkBv"
      }
    },
    {
      "cell_type": "markdown",
      "metadata": {
        "id": "yyQrTipNfuBN"
      },
      "source": [
        "## Output Evaluation using LLM-As-A-Judge Method"
      ]
    },
    {
      "cell_type": "markdown",
      "metadata": {
        "id": "HbXMSxqa-65E"
      },
      "source": [
        "Let us now use the LLM-as-a-judge method to check the quality of the RAG system on two parameters - retrieval and generation.\n",
        "\n",
        "- We are using the same Mistral model for evaluation, so basically here the llm is rating itself on how well he has performed in the task."
      ]
    },
    {
      "cell_type": "code",
      "source": [
        "groundedness_rater_system_message  = \"\"\"\n",
        "You are tasked with rating AI generated answers to questions posed by users.\n",
        "You will be presented a question, context used by the AI system to generate the answer and an AI generated answer to the question.\n",
        "In the input, the question will begin with ###Question, the context will begin with ###Context while the AI generated answer will begin with ###Answer.\n",
        "\n",
        "Evaluation criteria:\n",
        "The task is to judge the extent to which the metric is followed by the answer.\n",
        "1 - The metric is not followed at all\n",
        "2 - The metric is followed only to a limited extent\n",
        "3 - The metric is followed to a good extent\n",
        "4 - The metric is followed mostly\n",
        "5 - The metric is followed completely\n",
        "\n",
        "Metric:\n",
        "The answer should be derived only from the information presented in the context\n",
        "\n",
        "Instructions:\n",
        "1. First write down the steps that are needed to evaluate the answer as per the metric.\n",
        "2. Give a step-by-step explanation if the answer adheres to the metric considering the question and context as the input.\n",
        "3. Next, evaluate the extent to which the metric is followed.\n",
        "4. Use the previous information to rate the answer using the evaluaton criteria and assign a score.\n",
        "\"\"\""
      ],
      "metadata": {
        "id": "IHbfLAxAGdhW"
      },
      "execution_count": 80,
      "outputs": []
    },
    {
      "cell_type": "code",
      "source": [
        "relevance_rater_system_message = \"\"\"\n",
        "You are tasked with rating AI generated answers to questions posed by users.\n",
        "You will be presented a question, context used by the AI system to generate the answer and an AI generated answer to the question.\n",
        "In the input, the question will begin with ###Question, the context will begin with ###Context while the AI generated answer will begin with ###Answer.\n",
        "\n",
        "Evaluation criteria:\n",
        "The task is to judge the extent to which the metric is followed by the answer.\n",
        "1 - The metric is not followed at all\n",
        "2 - The metric is followed only to a limited extent\n",
        "3 - The metric is followed to a good extent\n",
        "4 - The metric is followed mostly\n",
        "5 - The metric is followed completely\n",
        "\n",
        "Metric:\n",
        "Relevance measures how well the answer addresses the main aspects of the question, based on the context.\n",
        "Consider whether all and only the important aspects are contained in the answer when evaluating relevance.\n",
        "\n",
        "Instructions:\n",
        "1. First write down the steps that are needed to evaluate the context as per the metric.\n",
        "2. Give a step-by-step explanation if the context adheres to the metric considering the question as the input.\n",
        "3. Next, evaluate the extent to which the metric is followed.\n",
        "4. Use the previous information to rate the context using the evaluaton criteria and assign a score.\n",
        "\"\"\""
      ],
      "metadata": {
        "id": "159OZZa0Rinv"
      },
      "execution_count": 81,
      "outputs": []
    },
    {
      "cell_type": "code",
      "source": [
        "user_message_template = \"\"\"\n",
        "###Question\n",
        "{question}\n",
        "\n",
        "###Context\n",
        "{context}\n",
        "\n",
        "###Answer\n",
        "{answer}\n",
        "\"\"\""
      ],
      "metadata": {
        "id": "RLqiSn-iRwSl"
      },
      "execution_count": 82,
      "outputs": []
    },
    {
      "cell_type": "markdown",
      "source": [
        "### Defining the Evaluation Function"
      ],
      "metadata": {
        "id": "3tk2zyUhipZy"
      }
    },
    {
      "cell_type": "code",
      "source": [
        "def generate_ground_relevance_response(user_input,k=3,max_tokens=128,temperature=0,top_p=0.95,top_k=50):\n",
        "    global qna_system_message,qna_user_message_template\n",
        "    # Retrieve relevant document chunks\n",
        "    relevant_document_chunks = retriever.get_relevant_documents(query=user_input,k=3)\n",
        "    context_list = [d.page_content for d in relevant_document_chunks]\n",
        "    context_for_query = \". \".join(context_list)\n",
        "\n",
        "    # Combine user_prompt and system_message to create the prompt\n",
        "    prompt = f\"\"\"[INST]{qna_system_message}\\n\n",
        "                {'user'}: {qna_user_message_template.format(context=context_for_query, question=user_input)}\n",
        "                [/INST]\"\"\"\n",
        "\n",
        "    response = llm(\n",
        "            prompt=prompt,\n",
        "            max_tokens=max_tokens,\n",
        "            temperature=temperature,\n",
        "            top_p=top_p,\n",
        "            top_k=top_k,\n",
        "            stop=['INST'],\n",
        "            echo=False\n",
        "            )\n",
        "\n",
        "    answer =  response[\"choices\"][0][\"text\"]\n",
        "\n",
        "    # Combine user_prompt and system_message to create the prompt\n",
        "    groundedness_prompt = f\"\"\"[INST]{groundedness_rater_system_message}\\n\n",
        "                {'user'}: {user_message_template.format(context=context_for_query, question=user_input, answer=answer)}\n",
        "                [/INST]\"\"\"\n",
        "\n",
        "    # Combine user_prompt and system_message to create the prompt\n",
        "    relevance_prompt = f\"\"\"[INST]{relevance_rater_system_message}\\n\n",
        "                {'user'}: {user_message_template.format(context=context_for_query, question=user_input, answer=answer)}\n",
        "                [/INST]\"\"\"\n",
        "\n",
        "    response_1 = llm(\n",
        "            prompt=groundedness_prompt,\n",
        "            max_tokens=max_tokens,\n",
        "            temperature=temperature,\n",
        "            top_p=top_p,\n",
        "            top_k=top_k,\n",
        "            stop=['INST'],\n",
        "            echo=False\n",
        "            )\n",
        "\n",
        "    response_2 = llm(\n",
        "            prompt=relevance_prompt,\n",
        "            max_tokens=max_tokens,\n",
        "            temperature=temperature,\n",
        "            top_p=top_p,\n",
        "            top_k=top_k,\n",
        "            stop=['INST'],\n",
        "            echo=False\n",
        "            )\n",
        "\n",
        "    return response_1['choices'][0]['text'],response_2['choices'][0]['text']"
      ],
      "metadata": {
        "id": "XIbZybyuRi2p"
      },
      "execution_count": 83,
      "outputs": []
    },
    {
      "cell_type": "markdown",
      "metadata": {
        "id": "f6qxqyJLYA2x"
      },
      "source": [
        "### Query 1: What is the protocol for managing sepsis in a critical care unit?"
      ]
    },
    {
      "cell_type": "code",
      "execution_count": 84,
      "metadata": {
        "id": "ANzurSjuYA2x",
        "colab": {
          "base_uri": "https://localhost:8080/"
        },
        "outputId": "bd95c5f2-88a6-43e6-c60b-466fdad9d89a"
      },
      "outputs": [
        {
          "output_type": "stream",
          "name": "stderr",
          "text": [
            "Llama.generate: prefix-match hit\n",
            "\n",
            "llama_print_timings:        load time =     163.25 ms\n",
            "llama_print_timings:      sample time =     213.31 ms /   363 runs   (    0.59 ms per token,  1701.74 tokens per second)\n",
            "llama_print_timings: prompt eval time =     484.81 ms /  1009 tokens (    0.48 ms per token,  2081.22 tokens per second)\n",
            "llama_print_timings:        eval time =    3586.95 ms /   362 runs   (    9.91 ms per token,   100.92 tokens per second)\n",
            "llama_print_timings:       total time =    4504.11 ms /  1371 tokens\n",
            "Llama.generate: prefix-match hit\n",
            "\n",
            "llama_print_timings:        load time =     163.25 ms\n",
            "llama_print_timings:      sample time =     132.80 ms /   235 runs   (    0.57 ms per token,  1769.63 tokens per second)\n",
            "llama_print_timings: prompt eval time =     527.51 ms /  1106 tokens (    0.48 ms per token,  2096.63 tokens per second)\n",
            "llama_print_timings:        eval time =    2328.35 ms /   234 runs   (    9.95 ms per token,   100.50 tokens per second)\n",
            "llama_print_timings:       total time =    3106.32 ms /  1340 tokens\n",
            "Llama.generate: prefix-match hit\n",
            "\n",
            "llama_print_timings:        load time =     163.25 ms\n",
            "llama_print_timings:      sample time =     221.88 ms /   378 runs   (    0.59 ms per token,  1703.63 tokens per second)\n",
            "llama_print_timings: prompt eval time =     444.04 ms /   982 tokens (    0.45 ms per token,  2211.50 tokens per second)\n",
            "llama_print_timings:        eval time =    3753.39 ms /   377 runs   (    9.96 ms per token,   100.44 tokens per second)\n",
            "llama_print_timings:       total time =    4650.60 ms /  1359 tokens\n"
          ]
        },
        {
          "output_type": "stream",
          "name": "stdout",
          "text": [
            " **Steps to Evaluate the Answer:**\n",
            "1. Identify the main components of the question: managing sepsis in a critical care unit.\n",
            "2. Read the context carefully to understand the information provided about sepsis management in a critical care unit.\n",
            "3. Extract key details from the context regarding monitoring, fluid resuscitation, and antibiotic administration for sepsis patients in a critical care unit.\n",
            "4. Compare the extracted details with the answer to ensure that the answer is derived only from the information presented in the context.\n",
            "\n",
            "**Explanation:**\n",
            "The AI generated answer adheres to the metric as it is derived solely from the information provided in the context. The answer includes the main components of sepsis management in a critical care unit, such as monitoring vital signs, fluid resuscitation, and administering appropriate antibiotics, which are all mentioned in the context.\n",
            "\n",
            "**Evaluation:**\n",
            "The metric is followed completely.\n",
            "\n",
            "**Rating:**\n",
            "Based on the evaluation criteria, I would rate the answer with a score of 5 (The metric is followed completely).\n",
            "\n",
            " **Steps to evaluate context:**\n",
            "1. Identify the main aspects of the question: managing sepsis in a critical care unit.\n",
            "2. Determine if the context provides relevant information for each aspect of the question.\n",
            "3. Check if the context mentions monitoring vital signs, fluid resuscitation, and administering appropriate antibiotics, which are key components of managing sepsis in a critical care unit.\n",
            "4. Evaluate if the context includes any irrelevant or excess information that may detract from the relevance to the question.\n",
            "\n",
            "**Explanation:**\n",
            "The context adheres to the metric as it provides relevant information for each aspect of the question:\n",
            "1. Monitoring vital signs: The context mentions monitoring systemic pressure, CVP or PAOP, pulse oximetry, ABGs, blood glucose, lactate, electrolyte levels, renal function, urine output, and possibly sublingual PCO2.\n",
            "2. Fluid resuscitation: The context explains that fluid resuscitation with 0.9% saline should be given until CVP reaches 8 mm Hg (10 cm H2O) or PAOP is high (60 to 65%).\n",
            "3. Antibiotics: The context suggests using a regimen of gentamicin or tobramycin plus a 3rd-generation cephalosporin, or ceftazidime plus a fluoroquinolone for antibiotic administration.\n",
            "\n",
            "The context is highly relevant as it covers all the essential aspects of managing sepsis in a critical care unit.\n",
            "\n",
            "**Rating:**\n",
            "Based on the relevance metric, the context would receive a score of 5 - The metric is followed completely.\n"
          ]
        }
      ],
      "source": [
        "user_input_relevance1 = \"What is the protocol for managing sepsis in a critical care unit?\"\n",
        "ground,rel = generate_ground_relevance_response(user_input_relevance1, max_tokens=512)\n",
        "\n",
        "print(ground,end=\"\\n\\n\")\n",
        "print(rel)"
      ]
    },
    {
      "cell_type": "markdown",
      "source": [
        "- We got a score of 4 overall ie The metric is followed mostly.  \n",
        "- This means that both the retrieval and augmentation parts are good but may need to improve the hyperparameters."
      ],
      "metadata": {
        "id": "QwpAVHXK16aU"
      }
    },
    {
      "cell_type": "markdown",
      "metadata": {
        "id": "7A60Q6x3YA2y"
      },
      "source": [
        "### Query 2: What are the common symptoms for appendicitis, and can it be cured via medicine? If not, what surgical procedure should be followed to treat it?"
      ]
    },
    {
      "cell_type": "code",
      "execution_count": 85,
      "metadata": {
        "id": "LOZQyoLwYA2y",
        "colab": {
          "base_uri": "https://localhost:8080/"
        },
        "outputId": "22ff57a7-b9c3-4259-b3f1-8e27c6f8fb12"
      },
      "outputs": [
        {
          "output_type": "stream",
          "name": "stderr",
          "text": [
            "Llama.generate: prefix-match hit\n",
            "\n",
            "llama_print_timings:        load time =     163.25 ms\n",
            "llama_print_timings:      sample time =      96.23 ms /   163 runs   (    0.59 ms per token,  1693.79 tokens per second)\n",
            "llama_print_timings: prompt eval time =     425.92 ms /   951 tokens (    0.45 ms per token,  2232.80 tokens per second)\n",
            "llama_print_timings:        eval time =    1599.02 ms /   162 runs   (    9.87 ms per token,   101.31 tokens per second)\n",
            "llama_print_timings:       total time =    2194.76 ms /  1113 tokens\n",
            "Llama.generate: prefix-match hit\n",
            "\n",
            "llama_print_timings:        load time =     163.25 ms\n",
            "llama_print_timings:      sample time =     161.99 ms /   286 runs   (    0.57 ms per token,  1765.55 tokens per second)\n",
            "llama_print_timings: prompt eval time =     389.67 ms /   854 tokens (    0.46 ms per token,  2191.59 tokens per second)\n",
            "llama_print_timings:        eval time =    2812.62 ms /   285 runs   (    9.87 ms per token,   101.33 tokens per second)\n",
            "llama_print_timings:       total time =    3518.75 ms /  1139 tokens\n",
            "Llama.generate: prefix-match hit\n",
            "\n",
            "llama_print_timings:        load time =     163.25 ms\n",
            "llama_print_timings:      sample time =     193.84 ms /   339 runs   (    0.57 ms per token,  1748.88 tokens per second)\n",
            "llama_print_timings: prompt eval time =     346.30 ms /   730 tokens (    0.47 ms per token,  2108.00 tokens per second)\n",
            "llama_print_timings:        eval time =    3342.47 ms /   338 runs   (    9.89 ms per token,   101.12 tokens per second)\n",
            "llama_print_timings:       total time =    4078.21 ms /  1068 tokens\n"
          ]
        },
        {
          "output_type": "stream",
          "name": "stdout",
          "text": [
            " **Steps to evaluate the answer:**\n",
            "1. Identify the common symptoms for appendicitis mentioned in the context.\n",
            "2. Check if the answer accurately lists those symptoms.\n",
            "3. Determine if the answer states that appendicitis cannot be cured via medicine and requires surgical removal.\n",
            "4. Verify if the surgical procedure mentioned in the answer matches the standard treatment for appendicitis as stated in the context.\n",
            "\n",
            "**Explanation:**\n",
            "The AI generated answer accurately lists the common symptoms of appendicitis from the context, which includes sudden onset of pain in the right lower abdomen, anorexia and nausea, vomiting, constipation or diarrhea, fever, and leukocytosis. The answer also states that medicine cannot cure appendicitis and requires surgical removal, which is consistent with the information provided in the context. Lastly, the answer mentions open or laparoscopic appendectomy as the standard treatment for appendicitis, which matches the surgical procedure stated in the context.\n",
            "\n",
            "**Evaluation:**\n",
            "The metric is followed completely as the answer is derived solely from the information presented in the context and accurately reflects the information provided.\n",
            "\n",
            "**Rating:**\n",
            "Based on the evaluation criteria, I would rate the AI generated answer a 5 for following the metric completely.\n",
            "\n",
            " **Steps to evaluate context:**\n",
            "1. Identify the main aspects of the question: common symptoms for appendicitis and whether it can be cured via medicine or if surgery is required.\n",
            "2. Determine if the context provides sufficient information on these aspects.\n",
            "3. Check if the context mentions the relevance of symptoms, treatment options (medicine vs. surgery), and the importance of prompt treatment.\n",
            "4. Evaluate how well the context connects to the question and if it covers all important aspects.\n",
            "\n",
            "**Explanation:**\n",
            "The context does provide information on common symptoms for appendicitis, such as sudden onset of pain in the right lower abdomen, anorexia, nausea, vomiting, constipation or diarrhea, fever, and leukocytosis. It also mentions that medicine cannot cure appendicitis and that surgical removal is necessary. The context further explains that treatment options include open or laparoscopic appendectomy and the importance of prompt treatment due to potential complications.\n",
            "\n",
            "**Evaluation:**\n",
            "The metric is followed mostly as the context provides comprehensive information on common symptoms, the need for surgery, and the importance of prompt treatment.\n",
            "\n",
            "**Rating:**\n",
            "Based on the evaluation criteria:\n",
            "1 - The metric is not followed at all\n",
            "2 - The metric is followed only to a limited extent\n",
            "3 - The metric is followed to a good extent\n",
            "4 - The metric is followed mostly\n",
            "5 - The metric is followed completely\n",
            "\n",
            "The context receives a rating of 4, as it follows the metric mostly.\n"
          ]
        }
      ],
      "source": [
        "user_input_relevance2 = \"What are the common symptoms for appendicitis, and can it be cured via medicine? If not, what surgical procedure should be followed to treat it?\"\n",
        "ground,rel = generate_ground_relevance_response(user_input_relevance2, max_tokens=512)\n",
        "\n",
        "print(ground,end=\"\\n\\n\")\n",
        "print(rel)"
      ]
    },
    {
      "cell_type": "markdown",
      "source": [
        "- We got an overall score of 3: following the metric to a good extent, which is not great.   \n",
        "- This means that both the retrieval and augmentation parts needs to be further fine tuned to get better parameters."
      ],
      "metadata": {
        "id": "XZHckqG0193C"
      }
    },
    {
      "cell_type": "markdown",
      "metadata": {
        "id": "ZmYnriTdYA2z"
      },
      "source": [
        "### Query 3: What are the effective treatments or solutions for addressing sudden patchy hair loss, commonly seen as localized bald spots on the scalp, and what could be the possible causes behind it?"
      ]
    },
    {
      "cell_type": "code",
      "execution_count": 86,
      "metadata": {
        "id": "Qp898M2iYA2z",
        "colab": {
          "base_uri": "https://localhost:8080/"
        },
        "outputId": "7b2a98cf-7fd9-4091-a7c8-d45d7ed0ebf7"
      },
      "outputs": [
        {
          "output_type": "stream",
          "name": "stderr",
          "text": [
            "Llama.generate: prefix-match hit\n",
            "\n",
            "llama_print_timings:        load time =     163.25 ms\n",
            "llama_print_timings:      sample time =     229.71 ms /   394 runs   (    0.58 ms per token,  1715.24 tokens per second)\n",
            "llama_print_timings: prompt eval time =     438.55 ms /   965 tokens (    0.45 ms per token,  2200.42 tokens per second)\n",
            "llama_print_timings:        eval time =    3891.99 ms /   393 runs   (    9.90 ms per token,   100.98 tokens per second)\n",
            "llama_print_timings:       total time =    4800.36 ms /  1358 tokens\n",
            "Llama.generate: prefix-match hit\n",
            "\n",
            "llama_print_timings:        load time =     163.25 ms\n",
            "llama_print_timings:      sample time =     128.46 ms /   221 runs   (    0.58 ms per token,  1720.33 tokens per second)\n",
            "llama_print_timings: prompt eval time =     525.77 ms /  1099 tokens (    0.48 ms per token,  2090.28 tokens per second)\n",
            "llama_print_timings:        eval time =    2188.15 ms /   220 runs   (    9.95 ms per token,   100.54 tokens per second)\n",
            "llama_print_timings:       total time =    2951.46 ms /  1319 tokens\n",
            "Llama.generate: prefix-match hit\n",
            "\n",
            "llama_print_timings:        load time =     163.25 ms\n",
            "llama_print_timings:      sample time =     180.47 ms /   314 runs   (    0.57 ms per token,  1739.93 tokens per second)\n",
            "llama_print_timings: prompt eval time =     443.27 ms /   975 tokens (    0.45 ms per token,  2199.55 tokens per second)\n",
            "llama_print_timings:        eval time =    3116.11 ms /   313 runs   (    9.96 ms per token,   100.45 tokens per second)\n",
            "llama_print_timings:       total time =    3916.32 ms /  1288 tokens\n"
          ]
        },
        {
          "output_type": "stream",
          "name": "stdout",
          "text": [
            " **Steps to evaluate the answer:**\n",
            "1. Identify the main question components: effective treatments or solutions for addressing sudden patchy hair loss (alopecia areata) and possible causes.\n",
            "2. Read through the context to understand the information provided about alopecia areata, its causes, and available treatment options.\n",
            "3. Analyze the AI-generated answer to ensure it only includes information derived from the context.\n",
            "\n",
            "**Explanation:**\n",
            "The AI-generated answer adheres to the metric as it provides a comprehensive list of treatments for alopecia areata based on the context provided, which mentions several treatment options for this condition. The possible causes mentioned in the answer are also consistent with the information given in the context. Therefore, the answer is derived solely from the context and does not include any external or irrelevant information.\n",
            "\n",
            "**Evaluation:**\n",
            "The metric is followed completely.\n",
            "\n",
            "**Rating:**\n",
            "Based on the evaluation criteria, I would rate the AI-generated answer a 5 (followed completely).\n",
            "\n",
            " **Steps to evaluate context:**\n",
            "1. Identify the main aspects of the question: effective treatments or solutions for addressing sudden patchy hair loss and possible causes.\n",
            "2. Determine if the context provides relevant information about the main aspects of the question.\n",
            "3. Check if all important aspects are contained in the context, and if any irrelevant information is present.\n",
            "\n",
            "**Evaluation:**\n",
            "The context adheres to the metric as it provides detailed information on the causes (alopecia areata being an autoimmune disorder) and effective treatments for sudden patchy hair loss. The context covers various treatment options, including topical, intralesional, and systemic corticosteroids, minoxidil, anthralin, immunotherapy, and salicylic acid suspension. It also mentions that the effectiveness of these treatments varies from person to person and encourages consulting a healthcare professional for further guidance.\n",
            "\n",
            "**Rating:**\n",
            "Based on the evaluation criteria:\n",
            "1 - The metric is not followed at all: 1\n",
            "2 - The metric is followed only to a limited extent: 2\n",
            "3 - The metric is followed to a good extent: 4\n",
            "4 - The metric is followed mostly: 5\n",
            "5 - The metric is followed completely: 5\n",
            "\n",
            "**Rating:**\n",
            "The context follows the metric completely as it provides all relevant information about the causes and treatments for sudden patchy hair loss. Therefore, the rating would be a 5 according to the evaluation criteria.\n"
          ]
        }
      ],
      "source": [
        "user_input_relevance3 = \"What are the effective treatments or solutions for addressing sudden patchy hair loss, commonly seen as localized bald spots on the scalp, and what could be the possible causes behind it?\"\n",
        "ground,rel = generate_ground_relevance_response(user_input_relevance3,max_tokens=512)\n",
        "\n",
        "print(ground,end=\"\\n\\n\")\n",
        "print(rel)"
      ]
    },
    {
      "cell_type": "markdown",
      "source": [
        "- It got a perfect score because the response is both grounded in the context and relevant to the query.  \n",
        "- This means that both the retrieval and augmentation parts are good."
      ],
      "metadata": {
        "id": "BFH4aSBL2BGA"
      }
    },
    {
      "cell_type": "markdown",
      "metadata": {
        "id": "jz-lGsVxYA2z"
      },
      "source": [
        "### Query 4: What treatments are recommended for a person who has sustained a physical injury to brain tissue, resulting in temporary or permanent impairment of brain function?"
      ]
    },
    {
      "cell_type": "code",
      "execution_count": 87,
      "metadata": {
        "id": "gBRTYnFVYA2z",
        "colab": {
          "base_uri": "https://localhost:8080/"
        },
        "outputId": "5ed6ed6b-8684-4573-f5fd-5e7e2ba3faab"
      },
      "outputs": [
        {
          "output_type": "stream",
          "name": "stderr",
          "text": [
            "Llama.generate: prefix-match hit\n",
            "\n",
            "llama_print_timings:        load time =     163.25 ms\n",
            "llama_print_timings:      sample time =     186.11 ms /   321 runs   (    0.58 ms per token,  1724.77 tokens per second)\n",
            "llama_print_timings: prompt eval time =     425.09 ms /   928 tokens (    0.46 ms per token,  2183.07 tokens per second)\n",
            "llama_print_timings:        eval time =    3164.92 ms /   320 runs   (    9.89 ms per token,   101.11 tokens per second)\n",
            "llama_print_timings:       total time =    3957.98 ms /  1248 tokens\n",
            "Llama.generate: prefix-match hit\n",
            "\n",
            "llama_print_timings:        load time =     163.25 ms\n",
            "llama_print_timings:      sample time =     125.09 ms /   221 runs   (    0.57 ms per token,  1766.73 tokens per second)\n",
            "llama_print_timings: prompt eval time =     439.55 ms /   989 tokens (    0.44 ms per token,  2250.02 tokens per second)\n",
            "llama_print_timings:        eval time =    2172.83 ms /   220 runs   (    9.88 ms per token,   101.25 tokens per second)\n",
            "llama_print_timings:       total time =    2843.36 ms /  1209 tokens\n",
            "Llama.generate: prefix-match hit\n",
            "\n",
            "llama_print_timings:        load time =     163.25 ms\n",
            "llama_print_timings:      sample time =     153.25 ms /   273 runs   (    0.56 ms per token,  1781.34 tokens per second)\n",
            "llama_print_timings: prompt eval time =     392.44 ms /   865 tokens (    0.45 ms per token,  2204.14 tokens per second)\n",
            "llama_print_timings:        eval time =    2702.01 ms /   272 runs   (    9.93 ms per token,   100.67 tokens per second)\n",
            "llama_print_timings:       total time =    3392.82 ms /  1137 tokens\n"
          ]
        },
        {
          "output_type": "stream",
          "name": "stdout",
          "text": [
            " Steps to evaluate the answer:\n",
            "1. Identify the key information in the context related to treatments for brain injuries.\n",
            "2. Determine if the AI generated answer includes only the information from the context.\n",
            "3. Evaluate the extent to which the metric is followed.\n",
            "\n",
            "Explanation:\n",
            "The AI generated answer summarizes the information from the context regarding treatments for brain injuries. It accurately identifies that for mild injuries, discharge and observation are recommended, while for moderate and severe injuries, optimization of ventilation, oxygenation, and brain perfusion are necessary. The answer also mentions the potential need for surgical intervention for intracranial hematomas and the complications of cerebral edema and decreased brain blood flow.\n",
            "\n",
            "The AI generated answer is derived solely from the context, as it includes all the essential details presented in the context without adding any additional information. Therefore, the metric is followed completely.\n",
            "\n",
            "Rating:\n",
            "Based on the evaluation criteria, I would rate the answer a 5 for following the metric completely.\n",
            "\n",
            " Steps to evaluate context as per the relevance metric:\n",
            "1. Identify the main aspects of the question: treatments for a person with a brain injury leading to temporary or permanent impairment of brain function.\n",
            "2. Determine if the context discusses these main aspects: yes, it mentions various treatments such as observation for mild injuries and optimization of ventilation, oxygenation, and brain perfusion for moderate and severe injuries. It also mentions surgical intervention for intracranial hematomas.\n",
            "3. Evaluate the extent to which the context adheres to the metric: The context follows the relevance metric mostly as it covers all the important aspects of the question, including various treatments for brain injuries and their implications on brain function.\n",
            "\n",
            "Rating based on evaluation criteria:\n",
            "1 - Not followed at all: 1\n",
            "2 - Followed only to a limited extent: 2\n",
            "3 - Followed to a good extent: 3\n",
            "4 - Followed mostly: 4\n",
            "5 - Followed completely: 5\n",
            "\n",
            "Based on the above evaluation, I would rate the context as a 4 (followed mostly) according to the relevance metric. The context provides comprehensive information about treatments for brain injuries and their impact on brain function, making it highly relevant to the question.\n"
          ]
        }
      ],
      "source": [
        "user_input_relevance4 = \"What treatments are recommended for a person who has sustained a physical injury to brain tissue, resulting in temporary or permanent impairment of brain function?\"\n",
        "ground,rel = generate_ground_relevance_response(user_input_relevance4, max_tokens=512)\n",
        "\n",
        "print(ground,end=\"\\n\\n\")\n",
        "print(rel)"
      ]
    },
    {
      "cell_type": "markdown",
      "source": [
        "- It again got a perfect score because the response is both grounded in the context and relevant to the query.  \n",
        "- This means that both the retrieval and augmentation parts are good."
      ],
      "metadata": {
        "id": "7GhQ-tqF2FD0"
      }
    },
    {
      "cell_type": "markdown",
      "metadata": {
        "id": "x2WxSxzDYA2z"
      },
      "source": [
        "### Query 5: What are the necessary precautions and treatment steps for a person who has fractured their leg during a hiking trip, and what should be considered for their care and recovery?"
      ]
    },
    {
      "cell_type": "code",
      "execution_count": 88,
      "metadata": {
        "id": "mKCq09_YYA20",
        "colab": {
          "base_uri": "https://localhost:8080/"
        },
        "outputId": "4c29b9d7-2abb-44de-dd14-8a03fbd533b7"
      },
      "outputs": [
        {
          "output_type": "stream",
          "name": "stderr",
          "text": [
            "Llama.generate: prefix-match hit\n",
            "\n",
            "llama_print_timings:        load time =     163.25 ms\n",
            "llama_print_timings:      sample time =     220.32 ms /   373 runs   (    0.59 ms per token,  1692.99 tokens per second)\n",
            "llama_print_timings: prompt eval time =     440.59 ms /   999 tokens (    0.44 ms per token,  2267.43 tokens per second)\n",
            "llama_print_timings:        eval time =    3697.51 ms /   372 runs   (    9.94 ms per token,   100.61 tokens per second)\n",
            "llama_print_timings:       total time =    4583.43 ms /  1371 tokens\n",
            "Llama.generate: prefix-match hit\n",
            "\n",
            "llama_print_timings:        load time =     163.25 ms\n",
            "llama_print_timings:      sample time =     142.60 ms /   246 runs   (    0.58 ms per token,  1725.12 tokens per second)\n",
            "llama_print_timings: prompt eval time =     526.47 ms /  1112 tokens (    0.47 ms per token,  2112.18 tokens per second)\n",
            "llama_print_timings:        eval time =    2435.42 ms /   245 runs   (    9.94 ms per token,   100.60 tokens per second)\n",
            "llama_print_timings:       total time =    3230.18 ms /  1357 tokens\n",
            "Llama.generate: prefix-match hit\n",
            "\n",
            "llama_print_timings:        load time =     163.25 ms\n",
            "llama_print_timings:      sample time =     125.43 ms /   215 runs   (    0.58 ms per token,  1714.05 tokens per second)\n",
            "llama_print_timings: prompt eval time =     444.30 ms /   988 tokens (    0.45 ms per token,  2223.73 tokens per second)\n",
            "llama_print_timings:        eval time =    2136.77 ms /   214 runs   (    9.98 ms per token,   100.15 tokens per second)\n",
            "llama_print_timings:       total time =    2814.56 ms /  1202 tokens\n"
          ]
        },
        {
          "output_type": "stream",
          "name": "stdout",
          "text": [
            " **Steps to Evaluate the Answer:**\n",
            "1. Identify the key information in the context related to precautions and treatment steps for a fractured leg.\n",
            "2. Compare the answer with the identified key information from the context.\n",
            "3. Determine if the answer is derived solely from the context.\n",
            "\n",
            "**Explanation:**\n",
            "The answer adheres to the metric as it is derived entirely from the context provided. The context discusses various precautions and treatment steps for a person who has fractured their leg, such as immobilizing the leg using a splint, elevating the injured area above heart level, wrapping the injured extremity with an elastic bandage, prescribing analgesics, providing crutches, and considering sterile wound dressings, tetanus prophylaxis, and broad-spectrum antibiotics for suspected open fractures. The answer summarizes these steps accurately and does not introduce any new information.\n",
            "\n",
            "**Evaluation:**\n",
            "The metric is followed completely.\n",
            "\n",
            "**Rating:**\n",
            "Based on the evaluation criteria, I would rate the answer a 5 (The metric is followed completely).\n",
            "\n",
            " **Steps to evaluate the context:**\n",
            "1. Identify the main aspects of the question: necessary precautions, treatment steps, care, and recovery for a person with a fractured leg during a hiking trip.\n",
            "2. Determine if the context provides relevant information on these aspects.\n",
            "3. Check if the context mentions any important details related to the question that could enhance the answer's relevance.\n",
            "\n",
            "**Evaluation:**\n",
            "The context adheres to the metric as it contains all the essential aspects of the question: necessary precautions (immobilization, elevation, compression), treatment steps (analgesics, crutches, splinting, wound care, tetanus prophylaxis, antibiotics), and recovery considerations (monitoring for compartment syndrome and follow-up with a healthcare professional).\n",
            "\n",
            "**Rating:**\n",
            "Based on the evaluation criteria:\n",
            "1. The metric is followed completely.\n",
            "\n",
            "Therefore, the context receives a rating of 5.\n"
          ]
        }
      ],
      "source": [
        "user_input_relevance5 = \"What are the necessary precautions and treatment steps for a person who has fractured their leg during a hiking trip, and what should be considered for their care and recovery?\"\n",
        "ground,rel = generate_ground_relevance_response(user_input_relevance5, max_tokens=512)\n",
        "\n",
        "print(ground,end=\"\\n\\n\")\n",
        "print(rel)"
      ]
    },
    {
      "cell_type": "markdown",
      "source": [
        "- It got an overall mostly followed score 4, for some reason the ground truth was not perfectly matched the context and query. May require a bit of fine tuning.   \n",
        "- This means that both the retrieval and augmentation parts performed averaged."
      ],
      "metadata": {
        "id": "oa6lyHGM2Hoc"
      }
    },
    {
      "cell_type": "markdown",
      "source": [
        "**Insights**:\n",
        "- **Groundedness** ensures responses align with the Merck Manual, critical for medical accuracy.\n",
        "- **Relevance** confirms the RAG system addresses the question directly.\n",
        "- Scores (3-4 for groundedness) highlight areas for improvement, such as missing context or minor hallucinations.\n",
        "- Fine-tuned responses with smaller chunks may score higher for groundedness due to precise retrieval."
      ],
      "metadata": {
        "id": "1t8QwdygQObB"
      }
    },
    {
      "cell_type": "markdown",
      "metadata": {
        "id": "Y7QICRU-njdj"
      },
      "source": [
        "## Actionable Insights and Business Recommendations"
      ]
    },
    {
      "cell_type": "markdown",
      "source": [
        "**Observations:**\n",
        "*   RAG enhances diagnostic accuracy by grounding responses in real medical text.\n",
        "\n",
        "* Prompt engineering significantly improves clarity and reduces hallucinations.\n",
        "\n",
        "* Increasing k in retrieval gives more context but may introduce irrelevant data—ideal k found to be in between 20 - 50.\n",
        "\n",
        "**Recommendations:**\n",
        "* Clinical Integration: Deploy RAG as a microservice accessible via internal interfaces.\n",
        "\n",
        "* Continual Updates: Schedule ingestion of updated manuals quarterly for reliability.\n",
        "\n",
        "* On-Device RAG: For emergency mobile/remote access, lightweight distilled models with quantized vector stores.\n",
        "\n",
        "* Training Staff: Train clinical staff on AI interpretation boundaries to avoid blind trust.\n",
        "\n",
        "* Compliance: Ensure HIPAA compliance and audit trails in AI-assisted decision-making.\n",
        "\n",
        "**Key Takeaways**:\n",
        "1. **Reduced Information Overload**: The RAG system efficiently retrieves relevant information from a 4,114-page manual, reducing the time clinicians spend searching for answers.\n",
        "2. **Improved Decision-Making**: Accurate responses to critical questions (e.g., sepsis protocol) support timely interventions, potentially saving lives.\n",
        "3. **Standardized Care**: By grounding responses in the Merck Manual, the system ensures consistent, evidence-based answers, reducing variability in care practices.\n",
        "4. **Scalable Solution**: The modular RAG pipeline can integrate additional medical texts or be deployed in clinical settings with minimal reconfiguration.\n",
        "\n",
        "**Business Recommendations**:\n",
        "1. **Integrate with Clinical Systems**: Embed the RAG system into electronic health record platforms to provide real-time decision support during patient consultations.\n",
        "2. **Expand Knowledge Base**: Incorporate additional trusted sources to enhance coverage and robustness.\n",
        "3. **User Training**: Train healthcare providers on using the system via intuitive interfaces (e.g., mobile apps) to maximize adoption.\n",
        "4. **Continuous Evaluation**: Implement feedback loops with clinicians to refine prompts and fine-tune parameters based on real-world usage.\n",
        "5. **Regulatory Compliance**: Ensure HIPAA compliance and FDA validation for clinical deployment to maintain trust and legal adherence.\n",
        "\n",
        "**Conclusion**:\n",
        "The RAG-based AI solution effectively addresses healthcare challenges by providing a scalable, accurate, and efficient tool for accessing medical knowledge. By reducing information overload and supporting evidence-based decision-making, it has the potential to improve patient outcomes and standardize care practices, delivering significant value to healthcare organizations."
      ],
      "metadata": {
        "id": "A6tdHc-uGqNi"
      }
    },
    {
      "cell_type": "markdown",
      "source": [
        "### Converting to HTML"
      ],
      "metadata": {
        "id": "OE6525ce0Js1"
      }
    },
    {
      "cell_type": "code",
      "source": [
        "!pip install nbconvert"
      ],
      "metadata": {
        "id": "c7vZp6NM0JTE",
        "colab": {
          "base_uri": "https://localhost:8080/"
        },
        "outputId": "3fd16675-61c5-4581-b471-da77b61a8070"
      },
      "execution_count": 2,
      "outputs": [
        {
          "output_type": "stream",
          "name": "stdout",
          "text": [
            "Requirement already satisfied: nbconvert in /usr/local/lib/python3.11/dist-packages (7.16.6)\n",
            "Requirement already satisfied: beautifulsoup4 in /usr/local/lib/python3.11/dist-packages (from nbconvert) (4.13.4)\n",
            "Requirement already satisfied: bleach!=5.0.0 in /usr/local/lib/python3.11/dist-packages (from bleach[css]!=5.0.0->nbconvert) (6.2.0)\n",
            "Requirement already satisfied: defusedxml in /usr/local/lib/python3.11/dist-packages (from nbconvert) (0.7.1)\n",
            "Requirement already satisfied: jinja2>=3.0 in /usr/local/lib/python3.11/dist-packages (from nbconvert) (3.1.6)\n",
            "Requirement already satisfied: jupyter-core>=4.7 in /usr/local/lib/python3.11/dist-packages (from nbconvert) (5.8.1)\n",
            "Requirement already satisfied: jupyterlab-pygments in /usr/local/lib/python3.11/dist-packages (from nbconvert) (0.3.0)\n",
            "Requirement already satisfied: markupsafe>=2.0 in /usr/local/lib/python3.11/dist-packages (from nbconvert) (3.0.2)\n",
            "Requirement already satisfied: mistune<4,>=2.0.3 in /usr/local/lib/python3.11/dist-packages (from nbconvert) (3.1.3)\n",
            "Requirement already satisfied: nbclient>=0.5.0 in /usr/local/lib/python3.11/dist-packages (from nbconvert) (0.10.2)\n",
            "Requirement already satisfied: nbformat>=5.7 in /usr/local/lib/python3.11/dist-packages (from nbconvert) (5.10.4)\n",
            "Requirement already satisfied: packaging in /usr/local/lib/python3.11/dist-packages (from nbconvert) (24.2)\n",
            "Requirement already satisfied: pandocfilters>=1.4.1 in /usr/local/lib/python3.11/dist-packages (from nbconvert) (1.5.1)\n",
            "Requirement already satisfied: pygments>=2.4.1 in /usr/local/lib/python3.11/dist-packages (from nbconvert) (2.19.1)\n",
            "Requirement already satisfied: traitlets>=5.1 in /usr/local/lib/python3.11/dist-packages (from nbconvert) (5.7.1)\n",
            "Requirement already satisfied: webencodings in /usr/local/lib/python3.11/dist-packages (from bleach!=5.0.0->bleach[css]!=5.0.0->nbconvert) (0.5.1)\n",
            "Requirement already satisfied: tinycss2<1.5,>=1.1.0 in /usr/local/lib/python3.11/dist-packages (from bleach[css]!=5.0.0->nbconvert) (1.4.0)\n",
            "Requirement already satisfied: platformdirs>=2.5 in /usr/local/lib/python3.11/dist-packages (from jupyter-core>=4.7->nbconvert) (4.3.8)\n",
            "Requirement already satisfied: jupyter-client>=6.1.12 in /usr/local/lib/python3.11/dist-packages (from nbclient>=0.5.0->nbconvert) (6.1.12)\n",
            "Requirement already satisfied: fastjsonschema>=2.15 in /usr/local/lib/python3.11/dist-packages (from nbformat>=5.7->nbconvert) (2.21.1)\n",
            "Requirement already satisfied: jsonschema>=2.6 in /usr/local/lib/python3.11/dist-packages (from nbformat>=5.7->nbconvert) (4.24.0)\n",
            "Requirement already satisfied: soupsieve>1.2 in /usr/local/lib/python3.11/dist-packages (from beautifulsoup4->nbconvert) (2.7)\n",
            "Requirement already satisfied: typing-extensions>=4.0.0 in /usr/local/lib/python3.11/dist-packages (from beautifulsoup4->nbconvert) (4.14.0)\n",
            "Requirement already satisfied: attrs>=22.2.0 in /usr/local/lib/python3.11/dist-packages (from jsonschema>=2.6->nbformat>=5.7->nbconvert) (25.3.0)\n",
            "Requirement already satisfied: jsonschema-specifications>=2023.03.6 in /usr/local/lib/python3.11/dist-packages (from jsonschema>=2.6->nbformat>=5.7->nbconvert) (2025.4.1)\n",
            "Requirement already satisfied: referencing>=0.28.4 in /usr/local/lib/python3.11/dist-packages (from jsonschema>=2.6->nbformat>=5.7->nbconvert) (0.36.2)\n",
            "Requirement already satisfied: rpds-py>=0.7.1 in /usr/local/lib/python3.11/dist-packages (from jsonschema>=2.6->nbformat>=5.7->nbconvert) (0.25.1)\n",
            "Requirement already satisfied: pyzmq>=13 in /usr/local/lib/python3.11/dist-packages (from jupyter-client>=6.1.12->nbclient>=0.5.0->nbconvert) (24.0.1)\n",
            "Requirement already satisfied: python-dateutil>=2.1 in /usr/local/lib/python3.11/dist-packages (from jupyter-client>=6.1.12->nbclient>=0.5.0->nbconvert) (2.9.0.post0)\n",
            "Requirement already satisfied: tornado>=4.1 in /usr/local/lib/python3.11/dist-packages (from jupyter-client>=6.1.12->nbclient>=0.5.0->nbconvert) (6.4.2)\n",
            "Requirement already satisfied: six>=1.5 in /usr/local/lib/python3.11/dist-packages (from python-dateutil>=2.1->jupyter-client>=6.1.12->nbclient>=0.5.0->nbconvert) (1.17.0)\n"
          ]
        }
      ]
    },
    {
      "cell_type": "code",
      "source": [
        "!jupyter nbconvert --clear-output --inplace NLP_RAG_Medical_Assistant_AdnanNasir.ipynb"
      ],
      "metadata": {
        "colab": {
          "base_uri": "https://localhost:8080/"
        },
        "id": "UDn424n9avgX",
        "outputId": "e2261010-5577-43c7-9f33-bf584da4a314"
      },
      "execution_count": 3,
      "outputs": [
        {
          "output_type": "stream",
          "name": "stdout",
          "text": [
            "[NbConvertApp] Converting notebook NLP_RAG_Medical_Assistant_AdnanNasir.ipynb to notebook\n",
            "[NbConvertApp] Writing 375793 bytes to NLP_RAG_Medical_Assistant_AdnanNasir.ipynb\n"
          ]
        }
      ]
    },
    {
      "cell_type": "code",
      "source": [
        "!jupyter nbconvert NLP_RAG_Medical_Assistant_AdnanNasir.ipynb --to html"
      ],
      "metadata": {
        "id": "M_I-kJgD0N7j",
        "colab": {
          "base_uri": "https://localhost:8080/"
        },
        "outputId": "b73a38b1-2044-4da7-a9e9-1429ec00d57c"
      },
      "execution_count": 7,
      "outputs": [
        {
          "output_type": "stream",
          "name": "stdout",
          "text": [
            "[NbConvertApp] Converting notebook NLP_RAG_Medical_Assistant_AdnanNasir.ipynb to html\n",
            "[NbConvertApp] Writing 743403 bytes to NLP_RAG_Medical_Assistant_AdnanNasir.html\n"
          ]
        }
      ]
    },
    {
      "cell_type": "code",
      "source": [
        "!jupyter nbconvert \"NLP_RAG_Medical_Assistant_AdnanNasir.ipynb\" --to notebook --output \"Cleaned_Notebook\" --ClearMetadataPreprocessor.enabled=True"
      ],
      "metadata": {
        "colab": {
          "base_uri": "https://localhost:8080/"
        },
        "id": "r5jEu_Q2fXPn",
        "outputId": "55638db0-eaf6-4ec7-fc49-6676d8ac7247"
      },
      "execution_count": 4,
      "outputs": [
        {
          "output_type": "stream",
          "name": "stdout",
          "text": [
            "[NbConvertApp] Converting notebook NLP_RAG_Medical_Assistant_AdnanNasir.ipynb to notebook\n",
            "[NbConvertApp] Writing 123194 bytes to Cleaned_Notebook.ipynb\n"
          ]
        }
      ]
    },
    {
      "cell_type": "markdown",
      "metadata": {
        "id": "ybRlzaIhWaM9"
      },
      "source": [
        "<font size=6 color='blue'>Power Ahead</font>\n",
        "___"
      ]
    }
  ],
  "metadata": {
    "colab": {
      "provenance": [],
      "machine_shape": "hm",
      "include_colab_link": true
    },
    "kernel_info": {
      "name": "python310-sdkv2"
    },
    "kernelspec": {
      "display_name": "Python 3",
      "name": "python3"
    },
    "language_info": {
      "name": "python"
    },
    "microsoft": {
      "host": {
        "AzureML": {
          "notebookHasBeenCompleted": true
        }
      },
      "ms_spell_check": {
        "ms_spell_check_language": "en"
      }
    },
    "nteract": {
      "version": "nteract-front-end@1.0.0"
    },
    "widgets": {
      "application/vnd.jupyter.widget-state+json": {
        "38131f3c0a764682995d6f4e84d89500": {
          "model_module": "@jupyter-widgets/controls",
          "model_name": "HBoxModel",
          "model_module_version": "1.5.0",
          "state": {
            "_dom_classes": [],
            "_model_module": "@jupyter-widgets/controls",
            "_model_module_version": "1.5.0",
            "_model_name": "HBoxModel",
            "_view_count": null,
            "_view_module": "@jupyter-widgets/controls",
            "_view_module_version": "1.5.0",
            "_view_name": "HBoxView",
            "box_style": "",
            "children": [
              "IPY_MODEL_c77daa50af1c4655901709a34596dfa2",
              "IPY_MODEL_0465bacf6aa141758a092b5a03e939ac",
              "IPY_MODEL_1f08fc8c3f2842789f03fdb4c63f2828"
            ],
            "layout": "IPY_MODEL_6bc3f9a69cee4818802858d54fe1f18d"
          }
        },
        "c77daa50af1c4655901709a34596dfa2": {
          "model_module": "@jupyter-widgets/controls",
          "model_name": "HTMLModel",
          "model_module_version": "1.5.0",
          "state": {
            "_dom_classes": [],
            "_model_module": "@jupyter-widgets/controls",
            "_model_module_version": "1.5.0",
            "_model_name": "HTMLModel",
            "_view_count": null,
            "_view_module": "@jupyter-widgets/controls",
            "_view_module_version": "1.5.0",
            "_view_name": "HTMLView",
            "description": "",
            "description_tooltip": null,
            "layout": "IPY_MODEL_86cf3e0dc3c645aabad52a7baa09b4d3",
            "placeholder": "​",
            "style": "IPY_MODEL_3251aab2d6a847a9ba96553222349dff",
            "value": "mistral-7b-instruct-v0.2.Q6_K.gguf: 100%"
          }
        },
        "0465bacf6aa141758a092b5a03e939ac": {
          "model_module": "@jupyter-widgets/controls",
          "model_name": "FloatProgressModel",
          "model_module_version": "1.5.0",
          "state": {
            "_dom_classes": [],
            "_model_module": "@jupyter-widgets/controls",
            "_model_module_version": "1.5.0",
            "_model_name": "FloatProgressModel",
            "_view_count": null,
            "_view_module": "@jupyter-widgets/controls",
            "_view_module_version": "1.5.0",
            "_view_name": "ProgressView",
            "bar_style": "success",
            "description": "",
            "description_tooltip": null,
            "layout": "IPY_MODEL_54d2197309d24327b40d685d2d3824f7",
            "max": 5942065440,
            "min": 0,
            "orientation": "horizontal",
            "style": "IPY_MODEL_f2824050924f40578172f5a23cd8fc69",
            "value": 5942065440
          }
        },
        "1f08fc8c3f2842789f03fdb4c63f2828": {
          "model_module": "@jupyter-widgets/controls",
          "model_name": "HTMLModel",
          "model_module_version": "1.5.0",
          "state": {
            "_dom_classes": [],
            "_model_module": "@jupyter-widgets/controls",
            "_model_module_version": "1.5.0",
            "_model_name": "HTMLModel",
            "_view_count": null,
            "_view_module": "@jupyter-widgets/controls",
            "_view_module_version": "1.5.0",
            "_view_name": "HTMLView",
            "description": "",
            "description_tooltip": null,
            "layout": "IPY_MODEL_2c29701f795a4714ba5ab3e0b1b9e199",
            "placeholder": "​",
            "style": "IPY_MODEL_f5597bc6b0e449b6baf6ca191f561748",
            "value": " 5.94G/5.94G [01:39&lt;00:00, 57.4MB/s]"
          }
        },
        "6bc3f9a69cee4818802858d54fe1f18d": {
          "model_module": "@jupyter-widgets/base",
          "model_name": "LayoutModel",
          "model_module_version": "1.2.0",
          "state": {
            "_model_module": "@jupyter-widgets/base",
            "_model_module_version": "1.2.0",
            "_model_name": "LayoutModel",
            "_view_count": null,
            "_view_module": "@jupyter-widgets/base",
            "_view_module_version": "1.2.0",
            "_view_name": "LayoutView",
            "align_content": null,
            "align_items": null,
            "align_self": null,
            "border": null,
            "bottom": null,
            "display": null,
            "flex": null,
            "flex_flow": null,
            "grid_area": null,
            "grid_auto_columns": null,
            "grid_auto_flow": null,
            "grid_auto_rows": null,
            "grid_column": null,
            "grid_gap": null,
            "grid_row": null,
            "grid_template_areas": null,
            "grid_template_columns": null,
            "grid_template_rows": null,
            "height": null,
            "justify_content": null,
            "justify_items": null,
            "left": null,
            "margin": null,
            "max_height": null,
            "max_width": null,
            "min_height": null,
            "min_width": null,
            "object_fit": null,
            "object_position": null,
            "order": null,
            "overflow": null,
            "overflow_x": null,
            "overflow_y": null,
            "padding": null,
            "right": null,
            "top": null,
            "visibility": null,
            "width": null
          }
        },
        "86cf3e0dc3c645aabad52a7baa09b4d3": {
          "model_module": "@jupyter-widgets/base",
          "model_name": "LayoutModel",
          "model_module_version": "1.2.0",
          "state": {
            "_model_module": "@jupyter-widgets/base",
            "_model_module_version": "1.2.0",
            "_model_name": "LayoutModel",
            "_view_count": null,
            "_view_module": "@jupyter-widgets/base",
            "_view_module_version": "1.2.0",
            "_view_name": "LayoutView",
            "align_content": null,
            "align_items": null,
            "align_self": null,
            "border": null,
            "bottom": null,
            "display": null,
            "flex": null,
            "flex_flow": null,
            "grid_area": null,
            "grid_auto_columns": null,
            "grid_auto_flow": null,
            "grid_auto_rows": null,
            "grid_column": null,
            "grid_gap": null,
            "grid_row": null,
            "grid_template_areas": null,
            "grid_template_columns": null,
            "grid_template_rows": null,
            "height": null,
            "justify_content": null,
            "justify_items": null,
            "left": null,
            "margin": null,
            "max_height": null,
            "max_width": null,
            "min_height": null,
            "min_width": null,
            "object_fit": null,
            "object_position": null,
            "order": null,
            "overflow": null,
            "overflow_x": null,
            "overflow_y": null,
            "padding": null,
            "right": null,
            "top": null,
            "visibility": null,
            "width": null
          }
        },
        "3251aab2d6a847a9ba96553222349dff": {
          "model_module": "@jupyter-widgets/controls",
          "model_name": "DescriptionStyleModel",
          "model_module_version": "1.5.0",
          "state": {
            "_model_module": "@jupyter-widgets/controls",
            "_model_module_version": "1.5.0",
            "_model_name": "DescriptionStyleModel",
            "_view_count": null,
            "_view_module": "@jupyter-widgets/base",
            "_view_module_version": "1.2.0",
            "_view_name": "StyleView",
            "description_width": ""
          }
        },
        "54d2197309d24327b40d685d2d3824f7": {
          "model_module": "@jupyter-widgets/base",
          "model_name": "LayoutModel",
          "model_module_version": "1.2.0",
          "state": {
            "_model_module": "@jupyter-widgets/base",
            "_model_module_version": "1.2.0",
            "_model_name": "LayoutModel",
            "_view_count": null,
            "_view_module": "@jupyter-widgets/base",
            "_view_module_version": "1.2.0",
            "_view_name": "LayoutView",
            "align_content": null,
            "align_items": null,
            "align_self": null,
            "border": null,
            "bottom": null,
            "display": null,
            "flex": null,
            "flex_flow": null,
            "grid_area": null,
            "grid_auto_columns": null,
            "grid_auto_flow": null,
            "grid_auto_rows": null,
            "grid_column": null,
            "grid_gap": null,
            "grid_row": null,
            "grid_template_areas": null,
            "grid_template_columns": null,
            "grid_template_rows": null,
            "height": null,
            "justify_content": null,
            "justify_items": null,
            "left": null,
            "margin": null,
            "max_height": null,
            "max_width": null,
            "min_height": null,
            "min_width": null,
            "object_fit": null,
            "object_position": null,
            "order": null,
            "overflow": null,
            "overflow_x": null,
            "overflow_y": null,
            "padding": null,
            "right": null,
            "top": null,
            "visibility": null,
            "width": null
          }
        },
        "f2824050924f40578172f5a23cd8fc69": {
          "model_module": "@jupyter-widgets/controls",
          "model_name": "ProgressStyleModel",
          "model_module_version": "1.5.0",
          "state": {
            "_model_module": "@jupyter-widgets/controls",
            "_model_module_version": "1.5.0",
            "_model_name": "ProgressStyleModel",
            "_view_count": null,
            "_view_module": "@jupyter-widgets/base",
            "_view_module_version": "1.2.0",
            "_view_name": "StyleView",
            "bar_color": null,
            "description_width": ""
          }
        },
        "2c29701f795a4714ba5ab3e0b1b9e199": {
          "model_module": "@jupyter-widgets/base",
          "model_name": "LayoutModel",
          "model_module_version": "1.2.0",
          "state": {
            "_model_module": "@jupyter-widgets/base",
            "_model_module_version": "1.2.0",
            "_model_name": "LayoutModel",
            "_view_count": null,
            "_view_module": "@jupyter-widgets/base",
            "_view_module_version": "1.2.0",
            "_view_name": "LayoutView",
            "align_content": null,
            "align_items": null,
            "align_self": null,
            "border": null,
            "bottom": null,
            "display": null,
            "flex": null,
            "flex_flow": null,
            "grid_area": null,
            "grid_auto_columns": null,
            "grid_auto_flow": null,
            "grid_auto_rows": null,
            "grid_column": null,
            "grid_gap": null,
            "grid_row": null,
            "grid_template_areas": null,
            "grid_template_columns": null,
            "grid_template_rows": null,
            "height": null,
            "justify_content": null,
            "justify_items": null,
            "left": null,
            "margin": null,
            "max_height": null,
            "max_width": null,
            "min_height": null,
            "min_width": null,
            "object_fit": null,
            "object_position": null,
            "order": null,
            "overflow": null,
            "overflow_x": null,
            "overflow_y": null,
            "padding": null,
            "right": null,
            "top": null,
            "visibility": null,
            "width": null
          }
        },
        "f5597bc6b0e449b6baf6ca191f561748": {
          "model_module": "@jupyter-widgets/controls",
          "model_name": "DescriptionStyleModel",
          "model_module_version": "1.5.0",
          "state": {
            "_model_module": "@jupyter-widgets/controls",
            "_model_module_version": "1.5.0",
            "_model_name": "DescriptionStyleModel",
            "_view_count": null,
            "_view_module": "@jupyter-widgets/base",
            "_view_module_version": "1.2.0",
            "_view_name": "StyleView",
            "description_width": ""
          }
        },
        "67a0d481f29f48aca79f097a2d4a6914": {
          "model_module": "@jupyter-widgets/controls",
          "model_name": "HBoxModel",
          "model_module_version": "1.5.0",
          "state": {
            "_dom_classes": [],
            "_model_module": "@jupyter-widgets/controls",
            "_model_module_version": "1.5.0",
            "_model_name": "HBoxModel",
            "_view_count": null,
            "_view_module": "@jupyter-widgets/controls",
            "_view_module_version": "1.5.0",
            "_view_name": "HBoxView",
            "box_style": "",
            "children": [
              "IPY_MODEL_4ca87e4425364bc4830baacb9788e3ca",
              "IPY_MODEL_37559f0668034601b36bc7b697c4f780",
              "IPY_MODEL_ea5cce18722747caa12d3f456cfa0f01"
            ],
            "layout": "IPY_MODEL_f4dc29f9a787419ab99ee3f57759c2c2"
          }
        },
        "4ca87e4425364bc4830baacb9788e3ca": {
          "model_module": "@jupyter-widgets/controls",
          "model_name": "HTMLModel",
          "model_module_version": "1.5.0",
          "state": {
            "_dom_classes": [],
            "_model_module": "@jupyter-widgets/controls",
            "_model_module_version": "1.5.0",
            "_model_name": "HTMLModel",
            "_view_count": null,
            "_view_module": "@jupyter-widgets/controls",
            "_view_module_version": "1.5.0",
            "_view_name": "HTMLView",
            "description": "",
            "description_tooltip": null,
            "layout": "IPY_MODEL_7ac3512e42c14feba097a5a76cc6d98b",
            "placeholder": "​",
            "style": "IPY_MODEL_38c82aba0cdf445b9a20d67db2d7fe77",
            "value": "modules.json: 100%"
          }
        },
        "37559f0668034601b36bc7b697c4f780": {
          "model_module": "@jupyter-widgets/controls",
          "model_name": "FloatProgressModel",
          "model_module_version": "1.5.0",
          "state": {
            "_dom_classes": [],
            "_model_module": "@jupyter-widgets/controls",
            "_model_module_version": "1.5.0",
            "_model_name": "FloatProgressModel",
            "_view_count": null,
            "_view_module": "@jupyter-widgets/controls",
            "_view_module_version": "1.5.0",
            "_view_name": "ProgressView",
            "bar_style": "success",
            "description": "",
            "description_tooltip": null,
            "layout": "IPY_MODEL_09f962c89ace4135bf316232e43dc942",
            "max": 349,
            "min": 0,
            "orientation": "horizontal",
            "style": "IPY_MODEL_8842a0edb56342e080d21e5f64898ca5",
            "value": 349
          }
        },
        "ea5cce18722747caa12d3f456cfa0f01": {
          "model_module": "@jupyter-widgets/controls",
          "model_name": "HTMLModel",
          "model_module_version": "1.5.0",
          "state": {
            "_dom_classes": [],
            "_model_module": "@jupyter-widgets/controls",
            "_model_module_version": "1.5.0",
            "_model_name": "HTMLModel",
            "_view_count": null,
            "_view_module": "@jupyter-widgets/controls",
            "_view_module_version": "1.5.0",
            "_view_name": "HTMLView",
            "description": "",
            "description_tooltip": null,
            "layout": "IPY_MODEL_a016d00c35044e88b6e4c6108ad2d311",
            "placeholder": "​",
            "style": "IPY_MODEL_389ba8bb9c224d13a3322fc8a61fff04",
            "value": " 349/349 [00:00&lt;00:00, 41.9kB/s]"
          }
        },
        "f4dc29f9a787419ab99ee3f57759c2c2": {
          "model_module": "@jupyter-widgets/base",
          "model_name": "LayoutModel",
          "model_module_version": "1.2.0",
          "state": {
            "_model_module": "@jupyter-widgets/base",
            "_model_module_version": "1.2.0",
            "_model_name": "LayoutModel",
            "_view_count": null,
            "_view_module": "@jupyter-widgets/base",
            "_view_module_version": "1.2.0",
            "_view_name": "LayoutView",
            "align_content": null,
            "align_items": null,
            "align_self": null,
            "border": null,
            "bottom": null,
            "display": null,
            "flex": null,
            "flex_flow": null,
            "grid_area": null,
            "grid_auto_columns": null,
            "grid_auto_flow": null,
            "grid_auto_rows": null,
            "grid_column": null,
            "grid_gap": null,
            "grid_row": null,
            "grid_template_areas": null,
            "grid_template_columns": null,
            "grid_template_rows": null,
            "height": null,
            "justify_content": null,
            "justify_items": null,
            "left": null,
            "margin": null,
            "max_height": null,
            "max_width": null,
            "min_height": null,
            "min_width": null,
            "object_fit": null,
            "object_position": null,
            "order": null,
            "overflow": null,
            "overflow_x": null,
            "overflow_y": null,
            "padding": null,
            "right": null,
            "top": null,
            "visibility": null,
            "width": null
          }
        },
        "7ac3512e42c14feba097a5a76cc6d98b": {
          "model_module": "@jupyter-widgets/base",
          "model_name": "LayoutModel",
          "model_module_version": "1.2.0",
          "state": {
            "_model_module": "@jupyter-widgets/base",
            "_model_module_version": "1.2.0",
            "_model_name": "LayoutModel",
            "_view_count": null,
            "_view_module": "@jupyter-widgets/base",
            "_view_module_version": "1.2.0",
            "_view_name": "LayoutView",
            "align_content": null,
            "align_items": null,
            "align_self": null,
            "border": null,
            "bottom": null,
            "display": null,
            "flex": null,
            "flex_flow": null,
            "grid_area": null,
            "grid_auto_columns": null,
            "grid_auto_flow": null,
            "grid_auto_rows": null,
            "grid_column": null,
            "grid_gap": null,
            "grid_row": null,
            "grid_template_areas": null,
            "grid_template_columns": null,
            "grid_template_rows": null,
            "height": null,
            "justify_content": null,
            "justify_items": null,
            "left": null,
            "margin": null,
            "max_height": null,
            "max_width": null,
            "min_height": null,
            "min_width": null,
            "object_fit": null,
            "object_position": null,
            "order": null,
            "overflow": null,
            "overflow_x": null,
            "overflow_y": null,
            "padding": null,
            "right": null,
            "top": null,
            "visibility": null,
            "width": null
          }
        },
        "38c82aba0cdf445b9a20d67db2d7fe77": {
          "model_module": "@jupyter-widgets/controls",
          "model_name": "DescriptionStyleModel",
          "model_module_version": "1.5.0",
          "state": {
            "_model_module": "@jupyter-widgets/controls",
            "_model_module_version": "1.5.0",
            "_model_name": "DescriptionStyleModel",
            "_view_count": null,
            "_view_module": "@jupyter-widgets/base",
            "_view_module_version": "1.2.0",
            "_view_name": "StyleView",
            "description_width": ""
          }
        },
        "09f962c89ace4135bf316232e43dc942": {
          "model_module": "@jupyter-widgets/base",
          "model_name": "LayoutModel",
          "model_module_version": "1.2.0",
          "state": {
            "_model_module": "@jupyter-widgets/base",
            "_model_module_version": "1.2.0",
            "_model_name": "LayoutModel",
            "_view_count": null,
            "_view_module": "@jupyter-widgets/base",
            "_view_module_version": "1.2.0",
            "_view_name": "LayoutView",
            "align_content": null,
            "align_items": null,
            "align_self": null,
            "border": null,
            "bottom": null,
            "display": null,
            "flex": null,
            "flex_flow": null,
            "grid_area": null,
            "grid_auto_columns": null,
            "grid_auto_flow": null,
            "grid_auto_rows": null,
            "grid_column": null,
            "grid_gap": null,
            "grid_row": null,
            "grid_template_areas": null,
            "grid_template_columns": null,
            "grid_template_rows": null,
            "height": null,
            "justify_content": null,
            "justify_items": null,
            "left": null,
            "margin": null,
            "max_height": null,
            "max_width": null,
            "min_height": null,
            "min_width": null,
            "object_fit": null,
            "object_position": null,
            "order": null,
            "overflow": null,
            "overflow_x": null,
            "overflow_y": null,
            "padding": null,
            "right": null,
            "top": null,
            "visibility": null,
            "width": null
          }
        },
        "8842a0edb56342e080d21e5f64898ca5": {
          "model_module": "@jupyter-widgets/controls",
          "model_name": "ProgressStyleModel",
          "model_module_version": "1.5.0",
          "state": {
            "_model_module": "@jupyter-widgets/controls",
            "_model_module_version": "1.5.0",
            "_model_name": "ProgressStyleModel",
            "_view_count": null,
            "_view_module": "@jupyter-widgets/base",
            "_view_module_version": "1.2.0",
            "_view_name": "StyleView",
            "bar_color": null,
            "description_width": ""
          }
        },
        "a016d00c35044e88b6e4c6108ad2d311": {
          "model_module": "@jupyter-widgets/base",
          "model_name": "LayoutModel",
          "model_module_version": "1.2.0",
          "state": {
            "_model_module": "@jupyter-widgets/base",
            "_model_module_version": "1.2.0",
            "_model_name": "LayoutModel",
            "_view_count": null,
            "_view_module": "@jupyter-widgets/base",
            "_view_module_version": "1.2.0",
            "_view_name": "LayoutView",
            "align_content": null,
            "align_items": null,
            "align_self": null,
            "border": null,
            "bottom": null,
            "display": null,
            "flex": null,
            "flex_flow": null,
            "grid_area": null,
            "grid_auto_columns": null,
            "grid_auto_flow": null,
            "grid_auto_rows": null,
            "grid_column": null,
            "grid_gap": null,
            "grid_row": null,
            "grid_template_areas": null,
            "grid_template_columns": null,
            "grid_template_rows": null,
            "height": null,
            "justify_content": null,
            "justify_items": null,
            "left": null,
            "margin": null,
            "max_height": null,
            "max_width": null,
            "min_height": null,
            "min_width": null,
            "object_fit": null,
            "object_position": null,
            "order": null,
            "overflow": null,
            "overflow_x": null,
            "overflow_y": null,
            "padding": null,
            "right": null,
            "top": null,
            "visibility": null,
            "width": null
          }
        },
        "389ba8bb9c224d13a3322fc8a61fff04": {
          "model_module": "@jupyter-widgets/controls",
          "model_name": "DescriptionStyleModel",
          "model_module_version": "1.5.0",
          "state": {
            "_model_module": "@jupyter-widgets/controls",
            "_model_module_version": "1.5.0",
            "_model_name": "DescriptionStyleModel",
            "_view_count": null,
            "_view_module": "@jupyter-widgets/base",
            "_view_module_version": "1.2.0",
            "_view_name": "StyleView",
            "description_width": ""
          }
        },
        "a829508f5e9145a1acb0ff5c218ff4b4": {
          "model_module": "@jupyter-widgets/controls",
          "model_name": "HBoxModel",
          "model_module_version": "1.5.0",
          "state": {
            "_dom_classes": [],
            "_model_module": "@jupyter-widgets/controls",
            "_model_module_version": "1.5.0",
            "_model_name": "HBoxModel",
            "_view_count": null,
            "_view_module": "@jupyter-widgets/controls",
            "_view_module_version": "1.5.0",
            "_view_name": "HBoxView",
            "box_style": "",
            "children": [
              "IPY_MODEL_02ee89ab457043fc850664dcc8e85819",
              "IPY_MODEL_9407d321b55d4d869004004cdb8d3967",
              "IPY_MODEL_dda4d4590e8242a8995a8609d7975e23"
            ],
            "layout": "IPY_MODEL_a063f8634baf40f8969ccf8eb5ba6409"
          }
        },
        "02ee89ab457043fc850664dcc8e85819": {
          "model_module": "@jupyter-widgets/controls",
          "model_name": "HTMLModel",
          "model_module_version": "1.5.0",
          "state": {
            "_dom_classes": [],
            "_model_module": "@jupyter-widgets/controls",
            "_model_module_version": "1.5.0",
            "_model_name": "HTMLModel",
            "_view_count": null,
            "_view_module": "@jupyter-widgets/controls",
            "_view_module_version": "1.5.0",
            "_view_name": "HTMLView",
            "description": "",
            "description_tooltip": null,
            "layout": "IPY_MODEL_7292608486a74ea9863198d3b0c795f8",
            "placeholder": "​",
            "style": "IPY_MODEL_2291b2d0ecb142768bb0f99736f86c41",
            "value": "config_sentence_transformers.json: 100%"
          }
        },
        "9407d321b55d4d869004004cdb8d3967": {
          "model_module": "@jupyter-widgets/controls",
          "model_name": "FloatProgressModel",
          "model_module_version": "1.5.0",
          "state": {
            "_dom_classes": [],
            "_model_module": "@jupyter-widgets/controls",
            "_model_module_version": "1.5.0",
            "_model_name": "FloatProgressModel",
            "_view_count": null,
            "_view_module": "@jupyter-widgets/controls",
            "_view_module_version": "1.5.0",
            "_view_name": "ProgressView",
            "bar_style": "success",
            "description": "",
            "description_tooltip": null,
            "layout": "IPY_MODEL_b8cb9bd8c78646f2956c7f15d63d092d",
            "max": 116,
            "min": 0,
            "orientation": "horizontal",
            "style": "IPY_MODEL_811d0babf9184304903aea93d543159f",
            "value": 116
          }
        },
        "dda4d4590e8242a8995a8609d7975e23": {
          "model_module": "@jupyter-widgets/controls",
          "model_name": "HTMLModel",
          "model_module_version": "1.5.0",
          "state": {
            "_dom_classes": [],
            "_model_module": "@jupyter-widgets/controls",
            "_model_module_version": "1.5.0",
            "_model_name": "HTMLModel",
            "_view_count": null,
            "_view_module": "@jupyter-widgets/controls",
            "_view_module_version": "1.5.0",
            "_view_name": "HTMLView",
            "description": "",
            "description_tooltip": null,
            "layout": "IPY_MODEL_0e1f1b922c464618adab45a93afbb282",
            "placeholder": "​",
            "style": "IPY_MODEL_3c1b90613db24a66b0f5320fb8e5f8fe",
            "value": " 116/116 [00:00&lt;00:00, 14.0kB/s]"
          }
        },
        "a063f8634baf40f8969ccf8eb5ba6409": {
          "model_module": "@jupyter-widgets/base",
          "model_name": "LayoutModel",
          "model_module_version": "1.2.0",
          "state": {
            "_model_module": "@jupyter-widgets/base",
            "_model_module_version": "1.2.0",
            "_model_name": "LayoutModel",
            "_view_count": null,
            "_view_module": "@jupyter-widgets/base",
            "_view_module_version": "1.2.0",
            "_view_name": "LayoutView",
            "align_content": null,
            "align_items": null,
            "align_self": null,
            "border": null,
            "bottom": null,
            "display": null,
            "flex": null,
            "flex_flow": null,
            "grid_area": null,
            "grid_auto_columns": null,
            "grid_auto_flow": null,
            "grid_auto_rows": null,
            "grid_column": null,
            "grid_gap": null,
            "grid_row": null,
            "grid_template_areas": null,
            "grid_template_columns": null,
            "grid_template_rows": null,
            "height": null,
            "justify_content": null,
            "justify_items": null,
            "left": null,
            "margin": null,
            "max_height": null,
            "max_width": null,
            "min_height": null,
            "min_width": null,
            "object_fit": null,
            "object_position": null,
            "order": null,
            "overflow": null,
            "overflow_x": null,
            "overflow_y": null,
            "padding": null,
            "right": null,
            "top": null,
            "visibility": null,
            "width": null
          }
        },
        "7292608486a74ea9863198d3b0c795f8": {
          "model_module": "@jupyter-widgets/base",
          "model_name": "LayoutModel",
          "model_module_version": "1.2.0",
          "state": {
            "_model_module": "@jupyter-widgets/base",
            "_model_module_version": "1.2.0",
            "_model_name": "LayoutModel",
            "_view_count": null,
            "_view_module": "@jupyter-widgets/base",
            "_view_module_version": "1.2.0",
            "_view_name": "LayoutView",
            "align_content": null,
            "align_items": null,
            "align_self": null,
            "border": null,
            "bottom": null,
            "display": null,
            "flex": null,
            "flex_flow": null,
            "grid_area": null,
            "grid_auto_columns": null,
            "grid_auto_flow": null,
            "grid_auto_rows": null,
            "grid_column": null,
            "grid_gap": null,
            "grid_row": null,
            "grid_template_areas": null,
            "grid_template_columns": null,
            "grid_template_rows": null,
            "height": null,
            "justify_content": null,
            "justify_items": null,
            "left": null,
            "margin": null,
            "max_height": null,
            "max_width": null,
            "min_height": null,
            "min_width": null,
            "object_fit": null,
            "object_position": null,
            "order": null,
            "overflow": null,
            "overflow_x": null,
            "overflow_y": null,
            "padding": null,
            "right": null,
            "top": null,
            "visibility": null,
            "width": null
          }
        },
        "2291b2d0ecb142768bb0f99736f86c41": {
          "model_module": "@jupyter-widgets/controls",
          "model_name": "DescriptionStyleModel",
          "model_module_version": "1.5.0",
          "state": {
            "_model_module": "@jupyter-widgets/controls",
            "_model_module_version": "1.5.0",
            "_model_name": "DescriptionStyleModel",
            "_view_count": null,
            "_view_module": "@jupyter-widgets/base",
            "_view_module_version": "1.2.0",
            "_view_name": "StyleView",
            "description_width": ""
          }
        },
        "b8cb9bd8c78646f2956c7f15d63d092d": {
          "model_module": "@jupyter-widgets/base",
          "model_name": "LayoutModel",
          "model_module_version": "1.2.0",
          "state": {
            "_model_module": "@jupyter-widgets/base",
            "_model_module_version": "1.2.0",
            "_model_name": "LayoutModel",
            "_view_count": null,
            "_view_module": "@jupyter-widgets/base",
            "_view_module_version": "1.2.0",
            "_view_name": "LayoutView",
            "align_content": null,
            "align_items": null,
            "align_self": null,
            "border": null,
            "bottom": null,
            "display": null,
            "flex": null,
            "flex_flow": null,
            "grid_area": null,
            "grid_auto_columns": null,
            "grid_auto_flow": null,
            "grid_auto_rows": null,
            "grid_column": null,
            "grid_gap": null,
            "grid_row": null,
            "grid_template_areas": null,
            "grid_template_columns": null,
            "grid_template_rows": null,
            "height": null,
            "justify_content": null,
            "justify_items": null,
            "left": null,
            "margin": null,
            "max_height": null,
            "max_width": null,
            "min_height": null,
            "min_width": null,
            "object_fit": null,
            "object_position": null,
            "order": null,
            "overflow": null,
            "overflow_x": null,
            "overflow_y": null,
            "padding": null,
            "right": null,
            "top": null,
            "visibility": null,
            "width": null
          }
        },
        "811d0babf9184304903aea93d543159f": {
          "model_module": "@jupyter-widgets/controls",
          "model_name": "ProgressStyleModel",
          "model_module_version": "1.5.0",
          "state": {
            "_model_module": "@jupyter-widgets/controls",
            "_model_module_version": "1.5.0",
            "_model_name": "ProgressStyleModel",
            "_view_count": null,
            "_view_module": "@jupyter-widgets/base",
            "_view_module_version": "1.2.0",
            "_view_name": "StyleView",
            "bar_color": null,
            "description_width": ""
          }
        },
        "0e1f1b922c464618adab45a93afbb282": {
          "model_module": "@jupyter-widgets/base",
          "model_name": "LayoutModel",
          "model_module_version": "1.2.0",
          "state": {
            "_model_module": "@jupyter-widgets/base",
            "_model_module_version": "1.2.0",
            "_model_name": "LayoutModel",
            "_view_count": null,
            "_view_module": "@jupyter-widgets/base",
            "_view_module_version": "1.2.0",
            "_view_name": "LayoutView",
            "align_content": null,
            "align_items": null,
            "align_self": null,
            "border": null,
            "bottom": null,
            "display": null,
            "flex": null,
            "flex_flow": null,
            "grid_area": null,
            "grid_auto_columns": null,
            "grid_auto_flow": null,
            "grid_auto_rows": null,
            "grid_column": null,
            "grid_gap": null,
            "grid_row": null,
            "grid_template_areas": null,
            "grid_template_columns": null,
            "grid_template_rows": null,
            "height": null,
            "justify_content": null,
            "justify_items": null,
            "left": null,
            "margin": null,
            "max_height": null,
            "max_width": null,
            "min_height": null,
            "min_width": null,
            "object_fit": null,
            "object_position": null,
            "order": null,
            "overflow": null,
            "overflow_x": null,
            "overflow_y": null,
            "padding": null,
            "right": null,
            "top": null,
            "visibility": null,
            "width": null
          }
        },
        "3c1b90613db24a66b0f5320fb8e5f8fe": {
          "model_module": "@jupyter-widgets/controls",
          "model_name": "DescriptionStyleModel",
          "model_module_version": "1.5.0",
          "state": {
            "_model_module": "@jupyter-widgets/controls",
            "_model_module_version": "1.5.0",
            "_model_name": "DescriptionStyleModel",
            "_view_count": null,
            "_view_module": "@jupyter-widgets/base",
            "_view_module_version": "1.2.0",
            "_view_name": "StyleView",
            "description_width": ""
          }
        },
        "94b25c051f054608b48f87c2e315220c": {
          "model_module": "@jupyter-widgets/controls",
          "model_name": "HBoxModel",
          "model_module_version": "1.5.0",
          "state": {
            "_dom_classes": [],
            "_model_module": "@jupyter-widgets/controls",
            "_model_module_version": "1.5.0",
            "_model_name": "HBoxModel",
            "_view_count": null,
            "_view_module": "@jupyter-widgets/controls",
            "_view_module_version": "1.5.0",
            "_view_name": "HBoxView",
            "box_style": "",
            "children": [
              "IPY_MODEL_56e8d3966c904ef8afb1e36e27c73552",
              "IPY_MODEL_104aad296ad6499c8e01b8d11426366b",
              "IPY_MODEL_f208b3150a2240e8bf8aabeb8fcba647"
            ],
            "layout": "IPY_MODEL_f642c5771cf047fa935e9c06a7a2c601"
          }
        },
        "56e8d3966c904ef8afb1e36e27c73552": {
          "model_module": "@jupyter-widgets/controls",
          "model_name": "HTMLModel",
          "model_module_version": "1.5.0",
          "state": {
            "_dom_classes": [],
            "_model_module": "@jupyter-widgets/controls",
            "_model_module_version": "1.5.0",
            "_model_name": "HTMLModel",
            "_view_count": null,
            "_view_module": "@jupyter-widgets/controls",
            "_view_module_version": "1.5.0",
            "_view_name": "HTMLView",
            "description": "",
            "description_tooltip": null,
            "layout": "IPY_MODEL_04abf0c403ab4d9d90728a983b92853a",
            "placeholder": "​",
            "style": "IPY_MODEL_ec08adbb679d4d5f877e62e3c3a5bc03",
            "value": "README.md: 100%"
          }
        },
        "104aad296ad6499c8e01b8d11426366b": {
          "model_module": "@jupyter-widgets/controls",
          "model_name": "FloatProgressModel",
          "model_module_version": "1.5.0",
          "state": {
            "_dom_classes": [],
            "_model_module": "@jupyter-widgets/controls",
            "_model_module_version": "1.5.0",
            "_model_name": "FloatProgressModel",
            "_view_count": null,
            "_view_module": "@jupyter-widgets/controls",
            "_view_module_version": "1.5.0",
            "_view_name": "ProgressView",
            "bar_style": "success",
            "description": "",
            "description_tooltip": null,
            "layout": "IPY_MODEL_476fb65292de4d208255a49c5d82fcc0",
            "max": 10454,
            "min": 0,
            "orientation": "horizontal",
            "style": "IPY_MODEL_05eeb060ca474040add7613a2586762a",
            "value": 10454
          }
        },
        "f208b3150a2240e8bf8aabeb8fcba647": {
          "model_module": "@jupyter-widgets/controls",
          "model_name": "HTMLModel",
          "model_module_version": "1.5.0",
          "state": {
            "_dom_classes": [],
            "_model_module": "@jupyter-widgets/controls",
            "_model_module_version": "1.5.0",
            "_model_name": "HTMLModel",
            "_view_count": null,
            "_view_module": "@jupyter-widgets/controls",
            "_view_module_version": "1.5.0",
            "_view_name": "HTMLView",
            "description": "",
            "description_tooltip": null,
            "layout": "IPY_MODEL_8eaff027db90475e8b5c24cbfd32aca4",
            "placeholder": "​",
            "style": "IPY_MODEL_866d05b594aa4ecca092cf0b6be15601",
            "value": " 10.5k/10.5k [00:00&lt;00:00, 1.32MB/s]"
          }
        },
        "f642c5771cf047fa935e9c06a7a2c601": {
          "model_module": "@jupyter-widgets/base",
          "model_name": "LayoutModel",
          "model_module_version": "1.2.0",
          "state": {
            "_model_module": "@jupyter-widgets/base",
            "_model_module_version": "1.2.0",
            "_model_name": "LayoutModel",
            "_view_count": null,
            "_view_module": "@jupyter-widgets/base",
            "_view_module_version": "1.2.0",
            "_view_name": "LayoutView",
            "align_content": null,
            "align_items": null,
            "align_self": null,
            "border": null,
            "bottom": null,
            "display": null,
            "flex": null,
            "flex_flow": null,
            "grid_area": null,
            "grid_auto_columns": null,
            "grid_auto_flow": null,
            "grid_auto_rows": null,
            "grid_column": null,
            "grid_gap": null,
            "grid_row": null,
            "grid_template_areas": null,
            "grid_template_columns": null,
            "grid_template_rows": null,
            "height": null,
            "justify_content": null,
            "justify_items": null,
            "left": null,
            "margin": null,
            "max_height": null,
            "max_width": null,
            "min_height": null,
            "min_width": null,
            "object_fit": null,
            "object_position": null,
            "order": null,
            "overflow": null,
            "overflow_x": null,
            "overflow_y": null,
            "padding": null,
            "right": null,
            "top": null,
            "visibility": null,
            "width": null
          }
        },
        "04abf0c403ab4d9d90728a983b92853a": {
          "model_module": "@jupyter-widgets/base",
          "model_name": "LayoutModel",
          "model_module_version": "1.2.0",
          "state": {
            "_model_module": "@jupyter-widgets/base",
            "_model_module_version": "1.2.0",
            "_model_name": "LayoutModel",
            "_view_count": null,
            "_view_module": "@jupyter-widgets/base",
            "_view_module_version": "1.2.0",
            "_view_name": "LayoutView",
            "align_content": null,
            "align_items": null,
            "align_self": null,
            "border": null,
            "bottom": null,
            "display": null,
            "flex": null,
            "flex_flow": null,
            "grid_area": null,
            "grid_auto_columns": null,
            "grid_auto_flow": null,
            "grid_auto_rows": null,
            "grid_column": null,
            "grid_gap": null,
            "grid_row": null,
            "grid_template_areas": null,
            "grid_template_columns": null,
            "grid_template_rows": null,
            "height": null,
            "justify_content": null,
            "justify_items": null,
            "left": null,
            "margin": null,
            "max_height": null,
            "max_width": null,
            "min_height": null,
            "min_width": null,
            "object_fit": null,
            "object_position": null,
            "order": null,
            "overflow": null,
            "overflow_x": null,
            "overflow_y": null,
            "padding": null,
            "right": null,
            "top": null,
            "visibility": null,
            "width": null
          }
        },
        "ec08adbb679d4d5f877e62e3c3a5bc03": {
          "model_module": "@jupyter-widgets/controls",
          "model_name": "DescriptionStyleModel",
          "model_module_version": "1.5.0",
          "state": {
            "_model_module": "@jupyter-widgets/controls",
            "_model_module_version": "1.5.0",
            "_model_name": "DescriptionStyleModel",
            "_view_count": null,
            "_view_module": "@jupyter-widgets/base",
            "_view_module_version": "1.2.0",
            "_view_name": "StyleView",
            "description_width": ""
          }
        },
        "476fb65292de4d208255a49c5d82fcc0": {
          "model_module": "@jupyter-widgets/base",
          "model_name": "LayoutModel",
          "model_module_version": "1.2.0",
          "state": {
            "_model_module": "@jupyter-widgets/base",
            "_model_module_version": "1.2.0",
            "_model_name": "LayoutModel",
            "_view_count": null,
            "_view_module": "@jupyter-widgets/base",
            "_view_module_version": "1.2.0",
            "_view_name": "LayoutView",
            "align_content": null,
            "align_items": null,
            "align_self": null,
            "border": null,
            "bottom": null,
            "display": null,
            "flex": null,
            "flex_flow": null,
            "grid_area": null,
            "grid_auto_columns": null,
            "grid_auto_flow": null,
            "grid_auto_rows": null,
            "grid_column": null,
            "grid_gap": null,
            "grid_row": null,
            "grid_template_areas": null,
            "grid_template_columns": null,
            "grid_template_rows": null,
            "height": null,
            "justify_content": null,
            "justify_items": null,
            "left": null,
            "margin": null,
            "max_height": null,
            "max_width": null,
            "min_height": null,
            "min_width": null,
            "object_fit": null,
            "object_position": null,
            "order": null,
            "overflow": null,
            "overflow_x": null,
            "overflow_y": null,
            "padding": null,
            "right": null,
            "top": null,
            "visibility": null,
            "width": null
          }
        },
        "05eeb060ca474040add7613a2586762a": {
          "model_module": "@jupyter-widgets/controls",
          "model_name": "ProgressStyleModel",
          "model_module_version": "1.5.0",
          "state": {
            "_model_module": "@jupyter-widgets/controls",
            "_model_module_version": "1.5.0",
            "_model_name": "ProgressStyleModel",
            "_view_count": null,
            "_view_module": "@jupyter-widgets/base",
            "_view_module_version": "1.2.0",
            "_view_name": "StyleView",
            "bar_color": null,
            "description_width": ""
          }
        },
        "8eaff027db90475e8b5c24cbfd32aca4": {
          "model_module": "@jupyter-widgets/base",
          "model_name": "LayoutModel",
          "model_module_version": "1.2.0",
          "state": {
            "_model_module": "@jupyter-widgets/base",
            "_model_module_version": "1.2.0",
            "_model_name": "LayoutModel",
            "_view_count": null,
            "_view_module": "@jupyter-widgets/base",
            "_view_module_version": "1.2.0",
            "_view_name": "LayoutView",
            "align_content": null,
            "align_items": null,
            "align_self": null,
            "border": null,
            "bottom": null,
            "display": null,
            "flex": null,
            "flex_flow": null,
            "grid_area": null,
            "grid_auto_columns": null,
            "grid_auto_flow": null,
            "grid_auto_rows": null,
            "grid_column": null,
            "grid_gap": null,
            "grid_row": null,
            "grid_template_areas": null,
            "grid_template_columns": null,
            "grid_template_rows": null,
            "height": null,
            "justify_content": null,
            "justify_items": null,
            "left": null,
            "margin": null,
            "max_height": null,
            "max_width": null,
            "min_height": null,
            "min_width": null,
            "object_fit": null,
            "object_position": null,
            "order": null,
            "overflow": null,
            "overflow_x": null,
            "overflow_y": null,
            "padding": null,
            "right": null,
            "top": null,
            "visibility": null,
            "width": null
          }
        },
        "866d05b594aa4ecca092cf0b6be15601": {
          "model_module": "@jupyter-widgets/controls",
          "model_name": "DescriptionStyleModel",
          "model_module_version": "1.5.0",
          "state": {
            "_model_module": "@jupyter-widgets/controls",
            "_model_module_version": "1.5.0",
            "_model_name": "DescriptionStyleModel",
            "_view_count": null,
            "_view_module": "@jupyter-widgets/base",
            "_view_module_version": "1.2.0",
            "_view_name": "StyleView",
            "description_width": ""
          }
        },
        "6d89fe0f99774b218f198a812149a89f": {
          "model_module": "@jupyter-widgets/controls",
          "model_name": "HBoxModel",
          "model_module_version": "1.5.0",
          "state": {
            "_dom_classes": [],
            "_model_module": "@jupyter-widgets/controls",
            "_model_module_version": "1.5.0",
            "_model_name": "HBoxModel",
            "_view_count": null,
            "_view_module": "@jupyter-widgets/controls",
            "_view_module_version": "1.5.0",
            "_view_name": "HBoxView",
            "box_style": "",
            "children": [
              "IPY_MODEL_2b4d2871b6c64b2a8896a387ca2b12ae",
              "IPY_MODEL_73512d7e530448eb9862a71114f87572",
              "IPY_MODEL_ecf0ceac148045689d9845ca8de30a84"
            ],
            "layout": "IPY_MODEL_67b7fdcf0b6a4bdc90274f49257512c7"
          }
        },
        "2b4d2871b6c64b2a8896a387ca2b12ae": {
          "model_module": "@jupyter-widgets/controls",
          "model_name": "HTMLModel",
          "model_module_version": "1.5.0",
          "state": {
            "_dom_classes": [],
            "_model_module": "@jupyter-widgets/controls",
            "_model_module_version": "1.5.0",
            "_model_name": "HTMLModel",
            "_view_count": null,
            "_view_module": "@jupyter-widgets/controls",
            "_view_module_version": "1.5.0",
            "_view_name": "HTMLView",
            "description": "",
            "description_tooltip": null,
            "layout": "IPY_MODEL_7b7aff2e434042ac8b90828cf86ad7a7",
            "placeholder": "​",
            "style": "IPY_MODEL_a767105d620040cfafb7c579d867a36f",
            "value": "sentence_bert_config.json: 100%"
          }
        },
        "73512d7e530448eb9862a71114f87572": {
          "model_module": "@jupyter-widgets/controls",
          "model_name": "FloatProgressModel",
          "model_module_version": "1.5.0",
          "state": {
            "_dom_classes": [],
            "_model_module": "@jupyter-widgets/controls",
            "_model_module_version": "1.5.0",
            "_model_name": "FloatProgressModel",
            "_view_count": null,
            "_view_module": "@jupyter-widgets/controls",
            "_view_module_version": "1.5.0",
            "_view_name": "ProgressView",
            "bar_style": "success",
            "description": "",
            "description_tooltip": null,
            "layout": "IPY_MODEL_44e2534f772c4cf98b14590279c61a40",
            "max": 53,
            "min": 0,
            "orientation": "horizontal",
            "style": "IPY_MODEL_b917e7da2ac54b9991e40641f13fd82a",
            "value": 53
          }
        },
        "ecf0ceac148045689d9845ca8de30a84": {
          "model_module": "@jupyter-widgets/controls",
          "model_name": "HTMLModel",
          "model_module_version": "1.5.0",
          "state": {
            "_dom_classes": [],
            "_model_module": "@jupyter-widgets/controls",
            "_model_module_version": "1.5.0",
            "_model_name": "HTMLModel",
            "_view_count": null,
            "_view_module": "@jupyter-widgets/controls",
            "_view_module_version": "1.5.0",
            "_view_name": "HTMLView",
            "description": "",
            "description_tooltip": null,
            "layout": "IPY_MODEL_fda5d98b992a4ba3b72bce3beccda0e6",
            "placeholder": "​",
            "style": "IPY_MODEL_928e9715d0a34480962bf1db62813f63",
            "value": " 53.0/53.0 [00:00&lt;00:00, 6.61kB/s]"
          }
        },
        "67b7fdcf0b6a4bdc90274f49257512c7": {
          "model_module": "@jupyter-widgets/base",
          "model_name": "LayoutModel",
          "model_module_version": "1.2.0",
          "state": {
            "_model_module": "@jupyter-widgets/base",
            "_model_module_version": "1.2.0",
            "_model_name": "LayoutModel",
            "_view_count": null,
            "_view_module": "@jupyter-widgets/base",
            "_view_module_version": "1.2.0",
            "_view_name": "LayoutView",
            "align_content": null,
            "align_items": null,
            "align_self": null,
            "border": null,
            "bottom": null,
            "display": null,
            "flex": null,
            "flex_flow": null,
            "grid_area": null,
            "grid_auto_columns": null,
            "grid_auto_flow": null,
            "grid_auto_rows": null,
            "grid_column": null,
            "grid_gap": null,
            "grid_row": null,
            "grid_template_areas": null,
            "grid_template_columns": null,
            "grid_template_rows": null,
            "height": null,
            "justify_content": null,
            "justify_items": null,
            "left": null,
            "margin": null,
            "max_height": null,
            "max_width": null,
            "min_height": null,
            "min_width": null,
            "object_fit": null,
            "object_position": null,
            "order": null,
            "overflow": null,
            "overflow_x": null,
            "overflow_y": null,
            "padding": null,
            "right": null,
            "top": null,
            "visibility": null,
            "width": null
          }
        },
        "7b7aff2e434042ac8b90828cf86ad7a7": {
          "model_module": "@jupyter-widgets/base",
          "model_name": "LayoutModel",
          "model_module_version": "1.2.0",
          "state": {
            "_model_module": "@jupyter-widgets/base",
            "_model_module_version": "1.2.0",
            "_model_name": "LayoutModel",
            "_view_count": null,
            "_view_module": "@jupyter-widgets/base",
            "_view_module_version": "1.2.0",
            "_view_name": "LayoutView",
            "align_content": null,
            "align_items": null,
            "align_self": null,
            "border": null,
            "bottom": null,
            "display": null,
            "flex": null,
            "flex_flow": null,
            "grid_area": null,
            "grid_auto_columns": null,
            "grid_auto_flow": null,
            "grid_auto_rows": null,
            "grid_column": null,
            "grid_gap": null,
            "grid_row": null,
            "grid_template_areas": null,
            "grid_template_columns": null,
            "grid_template_rows": null,
            "height": null,
            "justify_content": null,
            "justify_items": null,
            "left": null,
            "margin": null,
            "max_height": null,
            "max_width": null,
            "min_height": null,
            "min_width": null,
            "object_fit": null,
            "object_position": null,
            "order": null,
            "overflow": null,
            "overflow_x": null,
            "overflow_y": null,
            "padding": null,
            "right": null,
            "top": null,
            "visibility": null,
            "width": null
          }
        },
        "a767105d620040cfafb7c579d867a36f": {
          "model_module": "@jupyter-widgets/controls",
          "model_name": "DescriptionStyleModel",
          "model_module_version": "1.5.0",
          "state": {
            "_model_module": "@jupyter-widgets/controls",
            "_model_module_version": "1.5.0",
            "_model_name": "DescriptionStyleModel",
            "_view_count": null,
            "_view_module": "@jupyter-widgets/base",
            "_view_module_version": "1.2.0",
            "_view_name": "StyleView",
            "description_width": ""
          }
        },
        "44e2534f772c4cf98b14590279c61a40": {
          "model_module": "@jupyter-widgets/base",
          "model_name": "LayoutModel",
          "model_module_version": "1.2.0",
          "state": {
            "_model_module": "@jupyter-widgets/base",
            "_model_module_version": "1.2.0",
            "_model_name": "LayoutModel",
            "_view_count": null,
            "_view_module": "@jupyter-widgets/base",
            "_view_module_version": "1.2.0",
            "_view_name": "LayoutView",
            "align_content": null,
            "align_items": null,
            "align_self": null,
            "border": null,
            "bottom": null,
            "display": null,
            "flex": null,
            "flex_flow": null,
            "grid_area": null,
            "grid_auto_columns": null,
            "grid_auto_flow": null,
            "grid_auto_rows": null,
            "grid_column": null,
            "grid_gap": null,
            "grid_row": null,
            "grid_template_areas": null,
            "grid_template_columns": null,
            "grid_template_rows": null,
            "height": null,
            "justify_content": null,
            "justify_items": null,
            "left": null,
            "margin": null,
            "max_height": null,
            "max_width": null,
            "min_height": null,
            "min_width": null,
            "object_fit": null,
            "object_position": null,
            "order": null,
            "overflow": null,
            "overflow_x": null,
            "overflow_y": null,
            "padding": null,
            "right": null,
            "top": null,
            "visibility": null,
            "width": null
          }
        },
        "b917e7da2ac54b9991e40641f13fd82a": {
          "model_module": "@jupyter-widgets/controls",
          "model_name": "ProgressStyleModel",
          "model_module_version": "1.5.0",
          "state": {
            "_model_module": "@jupyter-widgets/controls",
            "_model_module_version": "1.5.0",
            "_model_name": "ProgressStyleModel",
            "_view_count": null,
            "_view_module": "@jupyter-widgets/base",
            "_view_module_version": "1.2.0",
            "_view_name": "StyleView",
            "bar_color": null,
            "description_width": ""
          }
        },
        "fda5d98b992a4ba3b72bce3beccda0e6": {
          "model_module": "@jupyter-widgets/base",
          "model_name": "LayoutModel",
          "model_module_version": "1.2.0",
          "state": {
            "_model_module": "@jupyter-widgets/base",
            "_model_module_version": "1.2.0",
            "_model_name": "LayoutModel",
            "_view_count": null,
            "_view_module": "@jupyter-widgets/base",
            "_view_module_version": "1.2.0",
            "_view_name": "LayoutView",
            "align_content": null,
            "align_items": null,
            "align_self": null,
            "border": null,
            "bottom": null,
            "display": null,
            "flex": null,
            "flex_flow": null,
            "grid_area": null,
            "grid_auto_columns": null,
            "grid_auto_flow": null,
            "grid_auto_rows": null,
            "grid_column": null,
            "grid_gap": null,
            "grid_row": null,
            "grid_template_areas": null,
            "grid_template_columns": null,
            "grid_template_rows": null,
            "height": null,
            "justify_content": null,
            "justify_items": null,
            "left": null,
            "margin": null,
            "max_height": null,
            "max_width": null,
            "min_height": null,
            "min_width": null,
            "object_fit": null,
            "object_position": null,
            "order": null,
            "overflow": null,
            "overflow_x": null,
            "overflow_y": null,
            "padding": null,
            "right": null,
            "top": null,
            "visibility": null,
            "width": null
          }
        },
        "928e9715d0a34480962bf1db62813f63": {
          "model_module": "@jupyter-widgets/controls",
          "model_name": "DescriptionStyleModel",
          "model_module_version": "1.5.0",
          "state": {
            "_model_module": "@jupyter-widgets/controls",
            "_model_module_version": "1.5.0",
            "_model_name": "DescriptionStyleModel",
            "_view_count": null,
            "_view_module": "@jupyter-widgets/base",
            "_view_module_version": "1.2.0",
            "_view_name": "StyleView",
            "description_width": ""
          }
        },
        "79c2a5686ba94fb4b8f601d639dfcf2e": {
          "model_module": "@jupyter-widgets/controls",
          "model_name": "HBoxModel",
          "model_module_version": "1.5.0",
          "state": {
            "_dom_classes": [],
            "_model_module": "@jupyter-widgets/controls",
            "_model_module_version": "1.5.0",
            "_model_name": "HBoxModel",
            "_view_count": null,
            "_view_module": "@jupyter-widgets/controls",
            "_view_module_version": "1.5.0",
            "_view_name": "HBoxView",
            "box_style": "",
            "children": [
              "IPY_MODEL_fa05d9326a974937a30a9ed3ddd59ab0",
              "IPY_MODEL_091a86a542df4a149aa2d0dbced4a56b",
              "IPY_MODEL_d8374d147aa342ef843d2a3a5eb48b47"
            ],
            "layout": "IPY_MODEL_00ec203c43bf4c6b8c05c8e1acac39f9"
          }
        },
        "fa05d9326a974937a30a9ed3ddd59ab0": {
          "model_module": "@jupyter-widgets/controls",
          "model_name": "HTMLModel",
          "model_module_version": "1.5.0",
          "state": {
            "_dom_classes": [],
            "_model_module": "@jupyter-widgets/controls",
            "_model_module_version": "1.5.0",
            "_model_name": "HTMLModel",
            "_view_count": null,
            "_view_module": "@jupyter-widgets/controls",
            "_view_module_version": "1.5.0",
            "_view_name": "HTMLView",
            "description": "",
            "description_tooltip": null,
            "layout": "IPY_MODEL_6f5eb3d3bac342cc99b9d7e06e745ad7",
            "placeholder": "​",
            "style": "IPY_MODEL_e5626e04058247d88104311358122717",
            "value": "config.json: 100%"
          }
        },
        "091a86a542df4a149aa2d0dbced4a56b": {
          "model_module": "@jupyter-widgets/controls",
          "model_name": "FloatProgressModel",
          "model_module_version": "1.5.0",
          "state": {
            "_dom_classes": [],
            "_model_module": "@jupyter-widgets/controls",
            "_model_module_version": "1.5.0",
            "_model_name": "FloatProgressModel",
            "_view_count": null,
            "_view_module": "@jupyter-widgets/controls",
            "_view_module_version": "1.5.0",
            "_view_name": "ProgressView",
            "bar_style": "success",
            "description": "",
            "description_tooltip": null,
            "layout": "IPY_MODEL_21d92cb63e4e486990621b5b14e9e52e",
            "max": 612,
            "min": 0,
            "orientation": "horizontal",
            "style": "IPY_MODEL_80faaded06074c30b91e596536be9ef0",
            "value": 612
          }
        },
        "d8374d147aa342ef843d2a3a5eb48b47": {
          "model_module": "@jupyter-widgets/controls",
          "model_name": "HTMLModel",
          "model_module_version": "1.5.0",
          "state": {
            "_dom_classes": [],
            "_model_module": "@jupyter-widgets/controls",
            "_model_module_version": "1.5.0",
            "_model_name": "HTMLModel",
            "_view_count": null,
            "_view_module": "@jupyter-widgets/controls",
            "_view_module_version": "1.5.0",
            "_view_name": "HTMLView",
            "description": "",
            "description_tooltip": null,
            "layout": "IPY_MODEL_52dde3ae1e344e83a41316dccd0a6345",
            "placeholder": "​",
            "style": "IPY_MODEL_10ac1de6d8564d39ac7a9f13696984b8",
            "value": " 612/612 [00:00&lt;00:00, 74.5kB/s]"
          }
        },
        "00ec203c43bf4c6b8c05c8e1acac39f9": {
          "model_module": "@jupyter-widgets/base",
          "model_name": "LayoutModel",
          "model_module_version": "1.2.0",
          "state": {
            "_model_module": "@jupyter-widgets/base",
            "_model_module_version": "1.2.0",
            "_model_name": "LayoutModel",
            "_view_count": null,
            "_view_module": "@jupyter-widgets/base",
            "_view_module_version": "1.2.0",
            "_view_name": "LayoutView",
            "align_content": null,
            "align_items": null,
            "align_self": null,
            "border": null,
            "bottom": null,
            "display": null,
            "flex": null,
            "flex_flow": null,
            "grid_area": null,
            "grid_auto_columns": null,
            "grid_auto_flow": null,
            "grid_auto_rows": null,
            "grid_column": null,
            "grid_gap": null,
            "grid_row": null,
            "grid_template_areas": null,
            "grid_template_columns": null,
            "grid_template_rows": null,
            "height": null,
            "justify_content": null,
            "justify_items": null,
            "left": null,
            "margin": null,
            "max_height": null,
            "max_width": null,
            "min_height": null,
            "min_width": null,
            "object_fit": null,
            "object_position": null,
            "order": null,
            "overflow": null,
            "overflow_x": null,
            "overflow_y": null,
            "padding": null,
            "right": null,
            "top": null,
            "visibility": null,
            "width": null
          }
        },
        "6f5eb3d3bac342cc99b9d7e06e745ad7": {
          "model_module": "@jupyter-widgets/base",
          "model_name": "LayoutModel",
          "model_module_version": "1.2.0",
          "state": {
            "_model_module": "@jupyter-widgets/base",
            "_model_module_version": "1.2.0",
            "_model_name": "LayoutModel",
            "_view_count": null,
            "_view_module": "@jupyter-widgets/base",
            "_view_module_version": "1.2.0",
            "_view_name": "LayoutView",
            "align_content": null,
            "align_items": null,
            "align_self": null,
            "border": null,
            "bottom": null,
            "display": null,
            "flex": null,
            "flex_flow": null,
            "grid_area": null,
            "grid_auto_columns": null,
            "grid_auto_flow": null,
            "grid_auto_rows": null,
            "grid_column": null,
            "grid_gap": null,
            "grid_row": null,
            "grid_template_areas": null,
            "grid_template_columns": null,
            "grid_template_rows": null,
            "height": null,
            "justify_content": null,
            "justify_items": null,
            "left": null,
            "margin": null,
            "max_height": null,
            "max_width": null,
            "min_height": null,
            "min_width": null,
            "object_fit": null,
            "object_position": null,
            "order": null,
            "overflow": null,
            "overflow_x": null,
            "overflow_y": null,
            "padding": null,
            "right": null,
            "top": null,
            "visibility": null,
            "width": null
          }
        },
        "e5626e04058247d88104311358122717": {
          "model_module": "@jupyter-widgets/controls",
          "model_name": "DescriptionStyleModel",
          "model_module_version": "1.5.0",
          "state": {
            "_model_module": "@jupyter-widgets/controls",
            "_model_module_version": "1.5.0",
            "_model_name": "DescriptionStyleModel",
            "_view_count": null,
            "_view_module": "@jupyter-widgets/base",
            "_view_module_version": "1.2.0",
            "_view_name": "StyleView",
            "description_width": ""
          }
        },
        "21d92cb63e4e486990621b5b14e9e52e": {
          "model_module": "@jupyter-widgets/base",
          "model_name": "LayoutModel",
          "model_module_version": "1.2.0",
          "state": {
            "_model_module": "@jupyter-widgets/base",
            "_model_module_version": "1.2.0",
            "_model_name": "LayoutModel",
            "_view_count": null,
            "_view_module": "@jupyter-widgets/base",
            "_view_module_version": "1.2.0",
            "_view_name": "LayoutView",
            "align_content": null,
            "align_items": null,
            "align_self": null,
            "border": null,
            "bottom": null,
            "display": null,
            "flex": null,
            "flex_flow": null,
            "grid_area": null,
            "grid_auto_columns": null,
            "grid_auto_flow": null,
            "grid_auto_rows": null,
            "grid_column": null,
            "grid_gap": null,
            "grid_row": null,
            "grid_template_areas": null,
            "grid_template_columns": null,
            "grid_template_rows": null,
            "height": null,
            "justify_content": null,
            "justify_items": null,
            "left": null,
            "margin": null,
            "max_height": null,
            "max_width": null,
            "min_height": null,
            "min_width": null,
            "object_fit": null,
            "object_position": null,
            "order": null,
            "overflow": null,
            "overflow_x": null,
            "overflow_y": null,
            "padding": null,
            "right": null,
            "top": null,
            "visibility": null,
            "width": null
          }
        },
        "80faaded06074c30b91e596536be9ef0": {
          "model_module": "@jupyter-widgets/controls",
          "model_name": "ProgressStyleModel",
          "model_module_version": "1.5.0",
          "state": {
            "_model_module": "@jupyter-widgets/controls",
            "_model_module_version": "1.5.0",
            "_model_name": "ProgressStyleModel",
            "_view_count": null,
            "_view_module": "@jupyter-widgets/base",
            "_view_module_version": "1.2.0",
            "_view_name": "StyleView",
            "bar_color": null,
            "description_width": ""
          }
        },
        "52dde3ae1e344e83a41316dccd0a6345": {
          "model_module": "@jupyter-widgets/base",
          "model_name": "LayoutModel",
          "model_module_version": "1.2.0",
          "state": {
            "_model_module": "@jupyter-widgets/base",
            "_model_module_version": "1.2.0",
            "_model_name": "LayoutModel",
            "_view_count": null,
            "_view_module": "@jupyter-widgets/base",
            "_view_module_version": "1.2.0",
            "_view_name": "LayoutView",
            "align_content": null,
            "align_items": null,
            "align_self": null,
            "border": null,
            "bottom": null,
            "display": null,
            "flex": null,
            "flex_flow": null,
            "grid_area": null,
            "grid_auto_columns": null,
            "grid_auto_flow": null,
            "grid_auto_rows": null,
            "grid_column": null,
            "grid_gap": null,
            "grid_row": null,
            "grid_template_areas": null,
            "grid_template_columns": null,
            "grid_template_rows": null,
            "height": null,
            "justify_content": null,
            "justify_items": null,
            "left": null,
            "margin": null,
            "max_height": null,
            "max_width": null,
            "min_height": null,
            "min_width": null,
            "object_fit": null,
            "object_position": null,
            "order": null,
            "overflow": null,
            "overflow_x": null,
            "overflow_y": null,
            "padding": null,
            "right": null,
            "top": null,
            "visibility": null,
            "width": null
          }
        },
        "10ac1de6d8564d39ac7a9f13696984b8": {
          "model_module": "@jupyter-widgets/controls",
          "model_name": "DescriptionStyleModel",
          "model_module_version": "1.5.0",
          "state": {
            "_model_module": "@jupyter-widgets/controls",
            "_model_module_version": "1.5.0",
            "_model_name": "DescriptionStyleModel",
            "_view_count": null,
            "_view_module": "@jupyter-widgets/base",
            "_view_module_version": "1.2.0",
            "_view_name": "StyleView",
            "description_width": ""
          }
        },
        "07d143d344bd4a9b8ed1e26265ef1294": {
          "model_module": "@jupyter-widgets/controls",
          "model_name": "HBoxModel",
          "model_module_version": "1.5.0",
          "state": {
            "_dom_classes": [],
            "_model_module": "@jupyter-widgets/controls",
            "_model_module_version": "1.5.0",
            "_model_name": "HBoxModel",
            "_view_count": null,
            "_view_module": "@jupyter-widgets/controls",
            "_view_module_version": "1.5.0",
            "_view_name": "HBoxView",
            "box_style": "",
            "children": [
              "IPY_MODEL_3e395bbcd698476984efb73e3eb7b62a",
              "IPY_MODEL_2ac9172859c14212a3fedbea99044484",
              "IPY_MODEL_2e143feb9c9541faa4d5101d27047173"
            ],
            "layout": "IPY_MODEL_3a361d2d800a4a4ca7d9f7d8e6196d60"
          }
        },
        "3e395bbcd698476984efb73e3eb7b62a": {
          "model_module": "@jupyter-widgets/controls",
          "model_name": "HTMLModel",
          "model_module_version": "1.5.0",
          "state": {
            "_dom_classes": [],
            "_model_module": "@jupyter-widgets/controls",
            "_model_module_version": "1.5.0",
            "_model_name": "HTMLModel",
            "_view_count": null,
            "_view_module": "@jupyter-widgets/controls",
            "_view_module_version": "1.5.0",
            "_view_name": "HTMLView",
            "description": "",
            "description_tooltip": null,
            "layout": "IPY_MODEL_52de6a47a309470c8ac4f53049a39bca",
            "placeholder": "​",
            "style": "IPY_MODEL_2e0bd1fd573348d28e4c9ea280418b36",
            "value": "model.safetensors: 100%"
          }
        },
        "2ac9172859c14212a3fedbea99044484": {
          "model_module": "@jupyter-widgets/controls",
          "model_name": "FloatProgressModel",
          "model_module_version": "1.5.0",
          "state": {
            "_dom_classes": [],
            "_model_module": "@jupyter-widgets/controls",
            "_model_module_version": "1.5.0",
            "_model_name": "FloatProgressModel",
            "_view_count": null,
            "_view_module": "@jupyter-widgets/controls",
            "_view_module_version": "1.5.0",
            "_view_name": "ProgressView",
            "bar_style": "success",
            "description": "",
            "description_tooltip": null,
            "layout": "IPY_MODEL_eb21ce529cbe41d28e741cbb929836f4",
            "max": 90868376,
            "min": 0,
            "orientation": "horizontal",
            "style": "IPY_MODEL_94992265f46b48ff9d42ae7d22016d77",
            "value": 90868376
          }
        },
        "2e143feb9c9541faa4d5101d27047173": {
          "model_module": "@jupyter-widgets/controls",
          "model_name": "HTMLModel",
          "model_module_version": "1.5.0",
          "state": {
            "_dom_classes": [],
            "_model_module": "@jupyter-widgets/controls",
            "_model_module_version": "1.5.0",
            "_model_name": "HTMLModel",
            "_view_count": null,
            "_view_module": "@jupyter-widgets/controls",
            "_view_module_version": "1.5.0",
            "_view_name": "HTMLView",
            "description": "",
            "description_tooltip": null,
            "layout": "IPY_MODEL_55d4840e22244f6896e46f5bc313387b",
            "placeholder": "​",
            "style": "IPY_MODEL_826f82b5a5554f348cca47dac06fdda7",
            "value": " 90.9M/90.9M [00:00&lt;00:00, 147MB/s]"
          }
        },
        "3a361d2d800a4a4ca7d9f7d8e6196d60": {
          "model_module": "@jupyter-widgets/base",
          "model_name": "LayoutModel",
          "model_module_version": "1.2.0",
          "state": {
            "_model_module": "@jupyter-widgets/base",
            "_model_module_version": "1.2.0",
            "_model_name": "LayoutModel",
            "_view_count": null,
            "_view_module": "@jupyter-widgets/base",
            "_view_module_version": "1.2.0",
            "_view_name": "LayoutView",
            "align_content": null,
            "align_items": null,
            "align_self": null,
            "border": null,
            "bottom": null,
            "display": null,
            "flex": null,
            "flex_flow": null,
            "grid_area": null,
            "grid_auto_columns": null,
            "grid_auto_flow": null,
            "grid_auto_rows": null,
            "grid_column": null,
            "grid_gap": null,
            "grid_row": null,
            "grid_template_areas": null,
            "grid_template_columns": null,
            "grid_template_rows": null,
            "height": null,
            "justify_content": null,
            "justify_items": null,
            "left": null,
            "margin": null,
            "max_height": null,
            "max_width": null,
            "min_height": null,
            "min_width": null,
            "object_fit": null,
            "object_position": null,
            "order": null,
            "overflow": null,
            "overflow_x": null,
            "overflow_y": null,
            "padding": null,
            "right": null,
            "top": null,
            "visibility": null,
            "width": null
          }
        },
        "52de6a47a309470c8ac4f53049a39bca": {
          "model_module": "@jupyter-widgets/base",
          "model_name": "LayoutModel",
          "model_module_version": "1.2.0",
          "state": {
            "_model_module": "@jupyter-widgets/base",
            "_model_module_version": "1.2.0",
            "_model_name": "LayoutModel",
            "_view_count": null,
            "_view_module": "@jupyter-widgets/base",
            "_view_module_version": "1.2.0",
            "_view_name": "LayoutView",
            "align_content": null,
            "align_items": null,
            "align_self": null,
            "border": null,
            "bottom": null,
            "display": null,
            "flex": null,
            "flex_flow": null,
            "grid_area": null,
            "grid_auto_columns": null,
            "grid_auto_flow": null,
            "grid_auto_rows": null,
            "grid_column": null,
            "grid_gap": null,
            "grid_row": null,
            "grid_template_areas": null,
            "grid_template_columns": null,
            "grid_template_rows": null,
            "height": null,
            "justify_content": null,
            "justify_items": null,
            "left": null,
            "margin": null,
            "max_height": null,
            "max_width": null,
            "min_height": null,
            "min_width": null,
            "object_fit": null,
            "object_position": null,
            "order": null,
            "overflow": null,
            "overflow_x": null,
            "overflow_y": null,
            "padding": null,
            "right": null,
            "top": null,
            "visibility": null,
            "width": null
          }
        },
        "2e0bd1fd573348d28e4c9ea280418b36": {
          "model_module": "@jupyter-widgets/controls",
          "model_name": "DescriptionStyleModel",
          "model_module_version": "1.5.0",
          "state": {
            "_model_module": "@jupyter-widgets/controls",
            "_model_module_version": "1.5.0",
            "_model_name": "DescriptionStyleModel",
            "_view_count": null,
            "_view_module": "@jupyter-widgets/base",
            "_view_module_version": "1.2.0",
            "_view_name": "StyleView",
            "description_width": ""
          }
        },
        "eb21ce529cbe41d28e741cbb929836f4": {
          "model_module": "@jupyter-widgets/base",
          "model_name": "LayoutModel",
          "model_module_version": "1.2.0",
          "state": {
            "_model_module": "@jupyter-widgets/base",
            "_model_module_version": "1.2.0",
            "_model_name": "LayoutModel",
            "_view_count": null,
            "_view_module": "@jupyter-widgets/base",
            "_view_module_version": "1.2.0",
            "_view_name": "LayoutView",
            "align_content": null,
            "align_items": null,
            "align_self": null,
            "border": null,
            "bottom": null,
            "display": null,
            "flex": null,
            "flex_flow": null,
            "grid_area": null,
            "grid_auto_columns": null,
            "grid_auto_flow": null,
            "grid_auto_rows": null,
            "grid_column": null,
            "grid_gap": null,
            "grid_row": null,
            "grid_template_areas": null,
            "grid_template_columns": null,
            "grid_template_rows": null,
            "height": null,
            "justify_content": null,
            "justify_items": null,
            "left": null,
            "margin": null,
            "max_height": null,
            "max_width": null,
            "min_height": null,
            "min_width": null,
            "object_fit": null,
            "object_position": null,
            "order": null,
            "overflow": null,
            "overflow_x": null,
            "overflow_y": null,
            "padding": null,
            "right": null,
            "top": null,
            "visibility": null,
            "width": null
          }
        },
        "94992265f46b48ff9d42ae7d22016d77": {
          "model_module": "@jupyter-widgets/controls",
          "model_name": "ProgressStyleModel",
          "model_module_version": "1.5.0",
          "state": {
            "_model_module": "@jupyter-widgets/controls",
            "_model_module_version": "1.5.0",
            "_model_name": "ProgressStyleModel",
            "_view_count": null,
            "_view_module": "@jupyter-widgets/base",
            "_view_module_version": "1.2.0",
            "_view_name": "StyleView",
            "bar_color": null,
            "description_width": ""
          }
        },
        "55d4840e22244f6896e46f5bc313387b": {
          "model_module": "@jupyter-widgets/base",
          "model_name": "LayoutModel",
          "model_module_version": "1.2.0",
          "state": {
            "_model_module": "@jupyter-widgets/base",
            "_model_module_version": "1.2.0",
            "_model_name": "LayoutModel",
            "_view_count": null,
            "_view_module": "@jupyter-widgets/base",
            "_view_module_version": "1.2.0",
            "_view_name": "LayoutView",
            "align_content": null,
            "align_items": null,
            "align_self": null,
            "border": null,
            "bottom": null,
            "display": null,
            "flex": null,
            "flex_flow": null,
            "grid_area": null,
            "grid_auto_columns": null,
            "grid_auto_flow": null,
            "grid_auto_rows": null,
            "grid_column": null,
            "grid_gap": null,
            "grid_row": null,
            "grid_template_areas": null,
            "grid_template_columns": null,
            "grid_template_rows": null,
            "height": null,
            "justify_content": null,
            "justify_items": null,
            "left": null,
            "margin": null,
            "max_height": null,
            "max_width": null,
            "min_height": null,
            "min_width": null,
            "object_fit": null,
            "object_position": null,
            "order": null,
            "overflow": null,
            "overflow_x": null,
            "overflow_y": null,
            "padding": null,
            "right": null,
            "top": null,
            "visibility": null,
            "width": null
          }
        },
        "826f82b5a5554f348cca47dac06fdda7": {
          "model_module": "@jupyter-widgets/controls",
          "model_name": "DescriptionStyleModel",
          "model_module_version": "1.5.0",
          "state": {
            "_model_module": "@jupyter-widgets/controls",
            "_model_module_version": "1.5.0",
            "_model_name": "DescriptionStyleModel",
            "_view_count": null,
            "_view_module": "@jupyter-widgets/base",
            "_view_module_version": "1.2.0",
            "_view_name": "StyleView",
            "description_width": ""
          }
        },
        "68fb37e2704b4feba5ff32e5d870bb56": {
          "model_module": "@jupyter-widgets/controls",
          "model_name": "HBoxModel",
          "model_module_version": "1.5.0",
          "state": {
            "_dom_classes": [],
            "_model_module": "@jupyter-widgets/controls",
            "_model_module_version": "1.5.0",
            "_model_name": "HBoxModel",
            "_view_count": null,
            "_view_module": "@jupyter-widgets/controls",
            "_view_module_version": "1.5.0",
            "_view_name": "HBoxView",
            "box_style": "",
            "children": [
              "IPY_MODEL_20474a6c25f1485687625f468ea78c81",
              "IPY_MODEL_26acc032c7d64447975f0992840d4208",
              "IPY_MODEL_a8d5d8c5421d4ea988f0d82f40e4b922"
            ],
            "layout": "IPY_MODEL_2a37af0d7eef4d239043f94a67f76e4a"
          }
        },
        "20474a6c25f1485687625f468ea78c81": {
          "model_module": "@jupyter-widgets/controls",
          "model_name": "HTMLModel",
          "model_module_version": "1.5.0",
          "state": {
            "_dom_classes": [],
            "_model_module": "@jupyter-widgets/controls",
            "_model_module_version": "1.5.0",
            "_model_name": "HTMLModel",
            "_view_count": null,
            "_view_module": "@jupyter-widgets/controls",
            "_view_module_version": "1.5.0",
            "_view_name": "HTMLView",
            "description": "",
            "description_tooltip": null,
            "layout": "IPY_MODEL_ee0213153c9d4e079b8fa278c342f2ae",
            "placeholder": "​",
            "style": "IPY_MODEL_0866d738f3e944de89f1e9bc37f9f67d",
            "value": "tokenizer_config.json: 100%"
          }
        },
        "26acc032c7d64447975f0992840d4208": {
          "model_module": "@jupyter-widgets/controls",
          "model_name": "FloatProgressModel",
          "model_module_version": "1.5.0",
          "state": {
            "_dom_classes": [],
            "_model_module": "@jupyter-widgets/controls",
            "_model_module_version": "1.5.0",
            "_model_name": "FloatProgressModel",
            "_view_count": null,
            "_view_module": "@jupyter-widgets/controls",
            "_view_module_version": "1.5.0",
            "_view_name": "ProgressView",
            "bar_style": "success",
            "description": "",
            "description_tooltip": null,
            "layout": "IPY_MODEL_7f742fa34bf84ca9bf6c32b56b375dd9",
            "max": 350,
            "min": 0,
            "orientation": "horizontal",
            "style": "IPY_MODEL_48207ec97de1418194dedba9a4ecde25",
            "value": 350
          }
        },
        "a8d5d8c5421d4ea988f0d82f40e4b922": {
          "model_module": "@jupyter-widgets/controls",
          "model_name": "HTMLModel",
          "model_module_version": "1.5.0",
          "state": {
            "_dom_classes": [],
            "_model_module": "@jupyter-widgets/controls",
            "_model_module_version": "1.5.0",
            "_model_name": "HTMLModel",
            "_view_count": null,
            "_view_module": "@jupyter-widgets/controls",
            "_view_module_version": "1.5.0",
            "_view_name": "HTMLView",
            "description": "",
            "description_tooltip": null,
            "layout": "IPY_MODEL_4c9e8e28e105473f839ffed3000915c3",
            "placeholder": "​",
            "style": "IPY_MODEL_63ea9876d1ea4fb0b2207d5880a4d27e",
            "value": " 350/350 [00:00&lt;00:00, 43.7kB/s]"
          }
        },
        "2a37af0d7eef4d239043f94a67f76e4a": {
          "model_module": "@jupyter-widgets/base",
          "model_name": "LayoutModel",
          "model_module_version": "1.2.0",
          "state": {
            "_model_module": "@jupyter-widgets/base",
            "_model_module_version": "1.2.0",
            "_model_name": "LayoutModel",
            "_view_count": null,
            "_view_module": "@jupyter-widgets/base",
            "_view_module_version": "1.2.0",
            "_view_name": "LayoutView",
            "align_content": null,
            "align_items": null,
            "align_self": null,
            "border": null,
            "bottom": null,
            "display": null,
            "flex": null,
            "flex_flow": null,
            "grid_area": null,
            "grid_auto_columns": null,
            "grid_auto_flow": null,
            "grid_auto_rows": null,
            "grid_column": null,
            "grid_gap": null,
            "grid_row": null,
            "grid_template_areas": null,
            "grid_template_columns": null,
            "grid_template_rows": null,
            "height": null,
            "justify_content": null,
            "justify_items": null,
            "left": null,
            "margin": null,
            "max_height": null,
            "max_width": null,
            "min_height": null,
            "min_width": null,
            "object_fit": null,
            "object_position": null,
            "order": null,
            "overflow": null,
            "overflow_x": null,
            "overflow_y": null,
            "padding": null,
            "right": null,
            "top": null,
            "visibility": null,
            "width": null
          }
        },
        "ee0213153c9d4e079b8fa278c342f2ae": {
          "model_module": "@jupyter-widgets/base",
          "model_name": "LayoutModel",
          "model_module_version": "1.2.0",
          "state": {
            "_model_module": "@jupyter-widgets/base",
            "_model_module_version": "1.2.0",
            "_model_name": "LayoutModel",
            "_view_count": null,
            "_view_module": "@jupyter-widgets/base",
            "_view_module_version": "1.2.0",
            "_view_name": "LayoutView",
            "align_content": null,
            "align_items": null,
            "align_self": null,
            "border": null,
            "bottom": null,
            "display": null,
            "flex": null,
            "flex_flow": null,
            "grid_area": null,
            "grid_auto_columns": null,
            "grid_auto_flow": null,
            "grid_auto_rows": null,
            "grid_column": null,
            "grid_gap": null,
            "grid_row": null,
            "grid_template_areas": null,
            "grid_template_columns": null,
            "grid_template_rows": null,
            "height": null,
            "justify_content": null,
            "justify_items": null,
            "left": null,
            "margin": null,
            "max_height": null,
            "max_width": null,
            "min_height": null,
            "min_width": null,
            "object_fit": null,
            "object_position": null,
            "order": null,
            "overflow": null,
            "overflow_x": null,
            "overflow_y": null,
            "padding": null,
            "right": null,
            "top": null,
            "visibility": null,
            "width": null
          }
        },
        "0866d738f3e944de89f1e9bc37f9f67d": {
          "model_module": "@jupyter-widgets/controls",
          "model_name": "DescriptionStyleModel",
          "model_module_version": "1.5.0",
          "state": {
            "_model_module": "@jupyter-widgets/controls",
            "_model_module_version": "1.5.0",
            "_model_name": "DescriptionStyleModel",
            "_view_count": null,
            "_view_module": "@jupyter-widgets/base",
            "_view_module_version": "1.2.0",
            "_view_name": "StyleView",
            "description_width": ""
          }
        },
        "7f742fa34bf84ca9bf6c32b56b375dd9": {
          "model_module": "@jupyter-widgets/base",
          "model_name": "LayoutModel",
          "model_module_version": "1.2.0",
          "state": {
            "_model_module": "@jupyter-widgets/base",
            "_model_module_version": "1.2.0",
            "_model_name": "LayoutModel",
            "_view_count": null,
            "_view_module": "@jupyter-widgets/base",
            "_view_module_version": "1.2.0",
            "_view_name": "LayoutView",
            "align_content": null,
            "align_items": null,
            "align_self": null,
            "border": null,
            "bottom": null,
            "display": null,
            "flex": null,
            "flex_flow": null,
            "grid_area": null,
            "grid_auto_columns": null,
            "grid_auto_flow": null,
            "grid_auto_rows": null,
            "grid_column": null,
            "grid_gap": null,
            "grid_row": null,
            "grid_template_areas": null,
            "grid_template_columns": null,
            "grid_template_rows": null,
            "height": null,
            "justify_content": null,
            "justify_items": null,
            "left": null,
            "margin": null,
            "max_height": null,
            "max_width": null,
            "min_height": null,
            "min_width": null,
            "object_fit": null,
            "object_position": null,
            "order": null,
            "overflow": null,
            "overflow_x": null,
            "overflow_y": null,
            "padding": null,
            "right": null,
            "top": null,
            "visibility": null,
            "width": null
          }
        },
        "48207ec97de1418194dedba9a4ecde25": {
          "model_module": "@jupyter-widgets/controls",
          "model_name": "ProgressStyleModel",
          "model_module_version": "1.5.0",
          "state": {
            "_model_module": "@jupyter-widgets/controls",
            "_model_module_version": "1.5.0",
            "_model_name": "ProgressStyleModel",
            "_view_count": null,
            "_view_module": "@jupyter-widgets/base",
            "_view_module_version": "1.2.0",
            "_view_name": "StyleView",
            "bar_color": null,
            "description_width": ""
          }
        },
        "4c9e8e28e105473f839ffed3000915c3": {
          "model_module": "@jupyter-widgets/base",
          "model_name": "LayoutModel",
          "model_module_version": "1.2.0",
          "state": {
            "_model_module": "@jupyter-widgets/base",
            "_model_module_version": "1.2.0",
            "_model_name": "LayoutModel",
            "_view_count": null,
            "_view_module": "@jupyter-widgets/base",
            "_view_module_version": "1.2.0",
            "_view_name": "LayoutView",
            "align_content": null,
            "align_items": null,
            "align_self": null,
            "border": null,
            "bottom": null,
            "display": null,
            "flex": null,
            "flex_flow": null,
            "grid_area": null,
            "grid_auto_columns": null,
            "grid_auto_flow": null,
            "grid_auto_rows": null,
            "grid_column": null,
            "grid_gap": null,
            "grid_row": null,
            "grid_template_areas": null,
            "grid_template_columns": null,
            "grid_template_rows": null,
            "height": null,
            "justify_content": null,
            "justify_items": null,
            "left": null,
            "margin": null,
            "max_height": null,
            "max_width": null,
            "min_height": null,
            "min_width": null,
            "object_fit": null,
            "object_position": null,
            "order": null,
            "overflow": null,
            "overflow_x": null,
            "overflow_y": null,
            "padding": null,
            "right": null,
            "top": null,
            "visibility": null,
            "width": null
          }
        },
        "63ea9876d1ea4fb0b2207d5880a4d27e": {
          "model_module": "@jupyter-widgets/controls",
          "model_name": "DescriptionStyleModel",
          "model_module_version": "1.5.0",
          "state": {
            "_model_module": "@jupyter-widgets/controls",
            "_model_module_version": "1.5.0",
            "_model_name": "DescriptionStyleModel",
            "_view_count": null,
            "_view_module": "@jupyter-widgets/base",
            "_view_module_version": "1.2.0",
            "_view_name": "StyleView",
            "description_width": ""
          }
        },
        "dfe51ee6711949f498c211608c457f9d": {
          "model_module": "@jupyter-widgets/controls",
          "model_name": "HBoxModel",
          "model_module_version": "1.5.0",
          "state": {
            "_dom_classes": [],
            "_model_module": "@jupyter-widgets/controls",
            "_model_module_version": "1.5.0",
            "_model_name": "HBoxModel",
            "_view_count": null,
            "_view_module": "@jupyter-widgets/controls",
            "_view_module_version": "1.5.0",
            "_view_name": "HBoxView",
            "box_style": "",
            "children": [
              "IPY_MODEL_920a1c89ee98470ea9edb25438c6ad93",
              "IPY_MODEL_726a8a05d048467cab4883a3470f329a",
              "IPY_MODEL_9648ae5c0ffc4b8a821615b4da8f9b4a"
            ],
            "layout": "IPY_MODEL_26557512357b424388961e95a2118b0c"
          }
        },
        "920a1c89ee98470ea9edb25438c6ad93": {
          "model_module": "@jupyter-widgets/controls",
          "model_name": "HTMLModel",
          "model_module_version": "1.5.0",
          "state": {
            "_dom_classes": [],
            "_model_module": "@jupyter-widgets/controls",
            "_model_module_version": "1.5.0",
            "_model_name": "HTMLModel",
            "_view_count": null,
            "_view_module": "@jupyter-widgets/controls",
            "_view_module_version": "1.5.0",
            "_view_name": "HTMLView",
            "description": "",
            "description_tooltip": null,
            "layout": "IPY_MODEL_a55dbc1a375e4272b1a8f71cfad55632",
            "placeholder": "​",
            "style": "IPY_MODEL_c955064bc97a4efd91fae3aa0f13b07f",
            "value": "vocab.txt: 100%"
          }
        },
        "726a8a05d048467cab4883a3470f329a": {
          "model_module": "@jupyter-widgets/controls",
          "model_name": "FloatProgressModel",
          "model_module_version": "1.5.0",
          "state": {
            "_dom_classes": [],
            "_model_module": "@jupyter-widgets/controls",
            "_model_module_version": "1.5.0",
            "_model_name": "FloatProgressModel",
            "_view_count": null,
            "_view_module": "@jupyter-widgets/controls",
            "_view_module_version": "1.5.0",
            "_view_name": "ProgressView",
            "bar_style": "success",
            "description": "",
            "description_tooltip": null,
            "layout": "IPY_MODEL_fd6724d8cc95432aa156c273618852d0",
            "max": 231508,
            "min": 0,
            "orientation": "horizontal",
            "style": "IPY_MODEL_443ceed89f1e4f9d9732fa2accb9a913",
            "value": 231508
          }
        },
        "9648ae5c0ffc4b8a821615b4da8f9b4a": {
          "model_module": "@jupyter-widgets/controls",
          "model_name": "HTMLModel",
          "model_module_version": "1.5.0",
          "state": {
            "_dom_classes": [],
            "_model_module": "@jupyter-widgets/controls",
            "_model_module_version": "1.5.0",
            "_model_name": "HTMLModel",
            "_view_count": null,
            "_view_module": "@jupyter-widgets/controls",
            "_view_module_version": "1.5.0",
            "_view_name": "HTMLView",
            "description": "",
            "description_tooltip": null,
            "layout": "IPY_MODEL_f45c2b98dad24fb1b888269fafe6c813",
            "placeholder": "​",
            "style": "IPY_MODEL_748a891c80c043348a28a5e0895cf31f",
            "value": " 232k/232k [00:00&lt;00:00, 4.78MB/s]"
          }
        },
        "26557512357b424388961e95a2118b0c": {
          "model_module": "@jupyter-widgets/base",
          "model_name": "LayoutModel",
          "model_module_version": "1.2.0",
          "state": {
            "_model_module": "@jupyter-widgets/base",
            "_model_module_version": "1.2.0",
            "_model_name": "LayoutModel",
            "_view_count": null,
            "_view_module": "@jupyter-widgets/base",
            "_view_module_version": "1.2.0",
            "_view_name": "LayoutView",
            "align_content": null,
            "align_items": null,
            "align_self": null,
            "border": null,
            "bottom": null,
            "display": null,
            "flex": null,
            "flex_flow": null,
            "grid_area": null,
            "grid_auto_columns": null,
            "grid_auto_flow": null,
            "grid_auto_rows": null,
            "grid_column": null,
            "grid_gap": null,
            "grid_row": null,
            "grid_template_areas": null,
            "grid_template_columns": null,
            "grid_template_rows": null,
            "height": null,
            "justify_content": null,
            "justify_items": null,
            "left": null,
            "margin": null,
            "max_height": null,
            "max_width": null,
            "min_height": null,
            "min_width": null,
            "object_fit": null,
            "object_position": null,
            "order": null,
            "overflow": null,
            "overflow_x": null,
            "overflow_y": null,
            "padding": null,
            "right": null,
            "top": null,
            "visibility": null,
            "width": null
          }
        },
        "a55dbc1a375e4272b1a8f71cfad55632": {
          "model_module": "@jupyter-widgets/base",
          "model_name": "LayoutModel",
          "model_module_version": "1.2.0",
          "state": {
            "_model_module": "@jupyter-widgets/base",
            "_model_module_version": "1.2.0",
            "_model_name": "LayoutModel",
            "_view_count": null,
            "_view_module": "@jupyter-widgets/base",
            "_view_module_version": "1.2.0",
            "_view_name": "LayoutView",
            "align_content": null,
            "align_items": null,
            "align_self": null,
            "border": null,
            "bottom": null,
            "display": null,
            "flex": null,
            "flex_flow": null,
            "grid_area": null,
            "grid_auto_columns": null,
            "grid_auto_flow": null,
            "grid_auto_rows": null,
            "grid_column": null,
            "grid_gap": null,
            "grid_row": null,
            "grid_template_areas": null,
            "grid_template_columns": null,
            "grid_template_rows": null,
            "height": null,
            "justify_content": null,
            "justify_items": null,
            "left": null,
            "margin": null,
            "max_height": null,
            "max_width": null,
            "min_height": null,
            "min_width": null,
            "object_fit": null,
            "object_position": null,
            "order": null,
            "overflow": null,
            "overflow_x": null,
            "overflow_y": null,
            "padding": null,
            "right": null,
            "top": null,
            "visibility": null,
            "width": null
          }
        },
        "c955064bc97a4efd91fae3aa0f13b07f": {
          "model_module": "@jupyter-widgets/controls",
          "model_name": "DescriptionStyleModel",
          "model_module_version": "1.5.0",
          "state": {
            "_model_module": "@jupyter-widgets/controls",
            "_model_module_version": "1.5.0",
            "_model_name": "DescriptionStyleModel",
            "_view_count": null,
            "_view_module": "@jupyter-widgets/base",
            "_view_module_version": "1.2.0",
            "_view_name": "StyleView",
            "description_width": ""
          }
        },
        "fd6724d8cc95432aa156c273618852d0": {
          "model_module": "@jupyter-widgets/base",
          "model_name": "LayoutModel",
          "model_module_version": "1.2.0",
          "state": {
            "_model_module": "@jupyter-widgets/base",
            "_model_module_version": "1.2.0",
            "_model_name": "LayoutModel",
            "_view_count": null,
            "_view_module": "@jupyter-widgets/base",
            "_view_module_version": "1.2.0",
            "_view_name": "LayoutView",
            "align_content": null,
            "align_items": null,
            "align_self": null,
            "border": null,
            "bottom": null,
            "display": null,
            "flex": null,
            "flex_flow": null,
            "grid_area": null,
            "grid_auto_columns": null,
            "grid_auto_flow": null,
            "grid_auto_rows": null,
            "grid_column": null,
            "grid_gap": null,
            "grid_row": null,
            "grid_template_areas": null,
            "grid_template_columns": null,
            "grid_template_rows": null,
            "height": null,
            "justify_content": null,
            "justify_items": null,
            "left": null,
            "margin": null,
            "max_height": null,
            "max_width": null,
            "min_height": null,
            "min_width": null,
            "object_fit": null,
            "object_position": null,
            "order": null,
            "overflow": null,
            "overflow_x": null,
            "overflow_y": null,
            "padding": null,
            "right": null,
            "top": null,
            "visibility": null,
            "width": null
          }
        },
        "443ceed89f1e4f9d9732fa2accb9a913": {
          "model_module": "@jupyter-widgets/controls",
          "model_name": "ProgressStyleModel",
          "model_module_version": "1.5.0",
          "state": {
            "_model_module": "@jupyter-widgets/controls",
            "_model_module_version": "1.5.0",
            "_model_name": "ProgressStyleModel",
            "_view_count": null,
            "_view_module": "@jupyter-widgets/base",
            "_view_module_version": "1.2.0",
            "_view_name": "StyleView",
            "bar_color": null,
            "description_width": ""
          }
        },
        "f45c2b98dad24fb1b888269fafe6c813": {
          "model_module": "@jupyter-widgets/base",
          "model_name": "LayoutModel",
          "model_module_version": "1.2.0",
          "state": {
            "_model_module": "@jupyter-widgets/base",
            "_model_module_version": "1.2.0",
            "_model_name": "LayoutModel",
            "_view_count": null,
            "_view_module": "@jupyter-widgets/base",
            "_view_module_version": "1.2.0",
            "_view_name": "LayoutView",
            "align_content": null,
            "align_items": null,
            "align_self": null,
            "border": null,
            "bottom": null,
            "display": null,
            "flex": null,
            "flex_flow": null,
            "grid_area": null,
            "grid_auto_columns": null,
            "grid_auto_flow": null,
            "grid_auto_rows": null,
            "grid_column": null,
            "grid_gap": null,
            "grid_row": null,
            "grid_template_areas": null,
            "grid_template_columns": null,
            "grid_template_rows": null,
            "height": null,
            "justify_content": null,
            "justify_items": null,
            "left": null,
            "margin": null,
            "max_height": null,
            "max_width": null,
            "min_height": null,
            "min_width": null,
            "object_fit": null,
            "object_position": null,
            "order": null,
            "overflow": null,
            "overflow_x": null,
            "overflow_y": null,
            "padding": null,
            "right": null,
            "top": null,
            "visibility": null,
            "width": null
          }
        },
        "748a891c80c043348a28a5e0895cf31f": {
          "model_module": "@jupyter-widgets/controls",
          "model_name": "DescriptionStyleModel",
          "model_module_version": "1.5.0",
          "state": {
            "_model_module": "@jupyter-widgets/controls",
            "_model_module_version": "1.5.0",
            "_model_name": "DescriptionStyleModel",
            "_view_count": null,
            "_view_module": "@jupyter-widgets/base",
            "_view_module_version": "1.2.0",
            "_view_name": "StyleView",
            "description_width": ""
          }
        },
        "79ff5ef0ded64f20afe106ec8f1db22b": {
          "model_module": "@jupyter-widgets/controls",
          "model_name": "HBoxModel",
          "model_module_version": "1.5.0",
          "state": {
            "_dom_classes": [],
            "_model_module": "@jupyter-widgets/controls",
            "_model_module_version": "1.5.0",
            "_model_name": "HBoxModel",
            "_view_count": null,
            "_view_module": "@jupyter-widgets/controls",
            "_view_module_version": "1.5.0",
            "_view_name": "HBoxView",
            "box_style": "",
            "children": [
              "IPY_MODEL_1bdb29fcc81d4ceab05542ae8e41ee90",
              "IPY_MODEL_c0b9d623ac574476a6b961471599eebd",
              "IPY_MODEL_e5c5369a33364cb1b0c9745cf3e475c1"
            ],
            "layout": "IPY_MODEL_041fb0affd3540e8ad4b4814cabbc128"
          }
        },
        "1bdb29fcc81d4ceab05542ae8e41ee90": {
          "model_module": "@jupyter-widgets/controls",
          "model_name": "HTMLModel",
          "model_module_version": "1.5.0",
          "state": {
            "_dom_classes": [],
            "_model_module": "@jupyter-widgets/controls",
            "_model_module_version": "1.5.0",
            "_model_name": "HTMLModel",
            "_view_count": null,
            "_view_module": "@jupyter-widgets/controls",
            "_view_module_version": "1.5.0",
            "_view_name": "HTMLView",
            "description": "",
            "description_tooltip": null,
            "layout": "IPY_MODEL_7b9793482b22492a88aba6108e319f6b",
            "placeholder": "​",
            "style": "IPY_MODEL_ad2a6d2f11694fb9bb35f5b16f070f65",
            "value": "tokenizer.json: 100%"
          }
        },
        "c0b9d623ac574476a6b961471599eebd": {
          "model_module": "@jupyter-widgets/controls",
          "model_name": "FloatProgressModel",
          "model_module_version": "1.5.0",
          "state": {
            "_dom_classes": [],
            "_model_module": "@jupyter-widgets/controls",
            "_model_module_version": "1.5.0",
            "_model_name": "FloatProgressModel",
            "_view_count": null,
            "_view_module": "@jupyter-widgets/controls",
            "_view_module_version": "1.5.0",
            "_view_name": "ProgressView",
            "bar_style": "success",
            "description": "",
            "description_tooltip": null,
            "layout": "IPY_MODEL_361c5ac2faf2460db9e45394fbc3c2b8",
            "max": 466247,
            "min": 0,
            "orientation": "horizontal",
            "style": "IPY_MODEL_62b951abdae64985b08144f36aa67360",
            "value": 466247
          }
        },
        "e5c5369a33364cb1b0c9745cf3e475c1": {
          "model_module": "@jupyter-widgets/controls",
          "model_name": "HTMLModel",
          "model_module_version": "1.5.0",
          "state": {
            "_dom_classes": [],
            "_model_module": "@jupyter-widgets/controls",
            "_model_module_version": "1.5.0",
            "_model_name": "HTMLModel",
            "_view_count": null,
            "_view_module": "@jupyter-widgets/controls",
            "_view_module_version": "1.5.0",
            "_view_name": "HTMLView",
            "description": "",
            "description_tooltip": null,
            "layout": "IPY_MODEL_de34a55c45ff40a2a62365c8b73dc21d",
            "placeholder": "​",
            "style": "IPY_MODEL_ea338c42ca654882858801160395542c",
            "value": " 466k/466k [00:00&lt;00:00, 13.3MB/s]"
          }
        },
        "041fb0affd3540e8ad4b4814cabbc128": {
          "model_module": "@jupyter-widgets/base",
          "model_name": "LayoutModel",
          "model_module_version": "1.2.0",
          "state": {
            "_model_module": "@jupyter-widgets/base",
            "_model_module_version": "1.2.0",
            "_model_name": "LayoutModel",
            "_view_count": null,
            "_view_module": "@jupyter-widgets/base",
            "_view_module_version": "1.2.0",
            "_view_name": "LayoutView",
            "align_content": null,
            "align_items": null,
            "align_self": null,
            "border": null,
            "bottom": null,
            "display": null,
            "flex": null,
            "flex_flow": null,
            "grid_area": null,
            "grid_auto_columns": null,
            "grid_auto_flow": null,
            "grid_auto_rows": null,
            "grid_column": null,
            "grid_gap": null,
            "grid_row": null,
            "grid_template_areas": null,
            "grid_template_columns": null,
            "grid_template_rows": null,
            "height": null,
            "justify_content": null,
            "justify_items": null,
            "left": null,
            "margin": null,
            "max_height": null,
            "max_width": null,
            "min_height": null,
            "min_width": null,
            "object_fit": null,
            "object_position": null,
            "order": null,
            "overflow": null,
            "overflow_x": null,
            "overflow_y": null,
            "padding": null,
            "right": null,
            "top": null,
            "visibility": null,
            "width": null
          }
        },
        "7b9793482b22492a88aba6108e319f6b": {
          "model_module": "@jupyter-widgets/base",
          "model_name": "LayoutModel",
          "model_module_version": "1.2.0",
          "state": {
            "_model_module": "@jupyter-widgets/base",
            "_model_module_version": "1.2.0",
            "_model_name": "LayoutModel",
            "_view_count": null,
            "_view_module": "@jupyter-widgets/base",
            "_view_module_version": "1.2.0",
            "_view_name": "LayoutView",
            "align_content": null,
            "align_items": null,
            "align_self": null,
            "border": null,
            "bottom": null,
            "display": null,
            "flex": null,
            "flex_flow": null,
            "grid_area": null,
            "grid_auto_columns": null,
            "grid_auto_flow": null,
            "grid_auto_rows": null,
            "grid_column": null,
            "grid_gap": null,
            "grid_row": null,
            "grid_template_areas": null,
            "grid_template_columns": null,
            "grid_template_rows": null,
            "height": null,
            "justify_content": null,
            "justify_items": null,
            "left": null,
            "margin": null,
            "max_height": null,
            "max_width": null,
            "min_height": null,
            "min_width": null,
            "object_fit": null,
            "object_position": null,
            "order": null,
            "overflow": null,
            "overflow_x": null,
            "overflow_y": null,
            "padding": null,
            "right": null,
            "top": null,
            "visibility": null,
            "width": null
          }
        },
        "ad2a6d2f11694fb9bb35f5b16f070f65": {
          "model_module": "@jupyter-widgets/controls",
          "model_name": "DescriptionStyleModel",
          "model_module_version": "1.5.0",
          "state": {
            "_model_module": "@jupyter-widgets/controls",
            "_model_module_version": "1.5.0",
            "_model_name": "DescriptionStyleModel",
            "_view_count": null,
            "_view_module": "@jupyter-widgets/base",
            "_view_module_version": "1.2.0",
            "_view_name": "StyleView",
            "description_width": ""
          }
        },
        "361c5ac2faf2460db9e45394fbc3c2b8": {
          "model_module": "@jupyter-widgets/base",
          "model_name": "LayoutModel",
          "model_module_version": "1.2.0",
          "state": {
            "_model_module": "@jupyter-widgets/base",
            "_model_module_version": "1.2.0",
            "_model_name": "LayoutModel",
            "_view_count": null,
            "_view_module": "@jupyter-widgets/base",
            "_view_module_version": "1.2.0",
            "_view_name": "LayoutView",
            "align_content": null,
            "align_items": null,
            "align_self": null,
            "border": null,
            "bottom": null,
            "display": null,
            "flex": null,
            "flex_flow": null,
            "grid_area": null,
            "grid_auto_columns": null,
            "grid_auto_flow": null,
            "grid_auto_rows": null,
            "grid_column": null,
            "grid_gap": null,
            "grid_row": null,
            "grid_template_areas": null,
            "grid_template_columns": null,
            "grid_template_rows": null,
            "height": null,
            "justify_content": null,
            "justify_items": null,
            "left": null,
            "margin": null,
            "max_height": null,
            "max_width": null,
            "min_height": null,
            "min_width": null,
            "object_fit": null,
            "object_position": null,
            "order": null,
            "overflow": null,
            "overflow_x": null,
            "overflow_y": null,
            "padding": null,
            "right": null,
            "top": null,
            "visibility": null,
            "width": null
          }
        },
        "62b951abdae64985b08144f36aa67360": {
          "model_module": "@jupyter-widgets/controls",
          "model_name": "ProgressStyleModel",
          "model_module_version": "1.5.0",
          "state": {
            "_model_module": "@jupyter-widgets/controls",
            "_model_module_version": "1.5.0",
            "_model_name": "ProgressStyleModel",
            "_view_count": null,
            "_view_module": "@jupyter-widgets/base",
            "_view_module_version": "1.2.0",
            "_view_name": "StyleView",
            "bar_color": null,
            "description_width": ""
          }
        },
        "de34a55c45ff40a2a62365c8b73dc21d": {
          "model_module": "@jupyter-widgets/base",
          "model_name": "LayoutModel",
          "model_module_version": "1.2.0",
          "state": {
            "_model_module": "@jupyter-widgets/base",
            "_model_module_version": "1.2.0",
            "_model_name": "LayoutModel",
            "_view_count": null,
            "_view_module": "@jupyter-widgets/base",
            "_view_module_version": "1.2.0",
            "_view_name": "LayoutView",
            "align_content": null,
            "align_items": null,
            "align_self": null,
            "border": null,
            "bottom": null,
            "display": null,
            "flex": null,
            "flex_flow": null,
            "grid_area": null,
            "grid_auto_columns": null,
            "grid_auto_flow": null,
            "grid_auto_rows": null,
            "grid_column": null,
            "grid_gap": null,
            "grid_row": null,
            "grid_template_areas": null,
            "grid_template_columns": null,
            "grid_template_rows": null,
            "height": null,
            "justify_content": null,
            "justify_items": null,
            "left": null,
            "margin": null,
            "max_height": null,
            "max_width": null,
            "min_height": null,
            "min_width": null,
            "object_fit": null,
            "object_position": null,
            "order": null,
            "overflow": null,
            "overflow_x": null,
            "overflow_y": null,
            "padding": null,
            "right": null,
            "top": null,
            "visibility": null,
            "width": null
          }
        },
        "ea338c42ca654882858801160395542c": {
          "model_module": "@jupyter-widgets/controls",
          "model_name": "DescriptionStyleModel",
          "model_module_version": "1.5.0",
          "state": {
            "_model_module": "@jupyter-widgets/controls",
            "_model_module_version": "1.5.0",
            "_model_name": "DescriptionStyleModel",
            "_view_count": null,
            "_view_module": "@jupyter-widgets/base",
            "_view_module_version": "1.2.0",
            "_view_name": "StyleView",
            "description_width": ""
          }
        },
        "88f8ec6e38b445b29d3879f30cd5e3b3": {
          "model_module": "@jupyter-widgets/controls",
          "model_name": "HBoxModel",
          "model_module_version": "1.5.0",
          "state": {
            "_dom_classes": [],
            "_model_module": "@jupyter-widgets/controls",
            "_model_module_version": "1.5.0",
            "_model_name": "HBoxModel",
            "_view_count": null,
            "_view_module": "@jupyter-widgets/controls",
            "_view_module_version": "1.5.0",
            "_view_name": "HBoxView",
            "box_style": "",
            "children": [
              "IPY_MODEL_af8c48641874494ab4c36a18f7278aac",
              "IPY_MODEL_57faf756c53e4ae0a5219e4509d93093",
              "IPY_MODEL_f1a9f6cc806746028a9188886376d4f5"
            ],
            "layout": "IPY_MODEL_c8948d6de03644039eda7e172d1c6d0f"
          }
        },
        "af8c48641874494ab4c36a18f7278aac": {
          "model_module": "@jupyter-widgets/controls",
          "model_name": "HTMLModel",
          "model_module_version": "1.5.0",
          "state": {
            "_dom_classes": [],
            "_model_module": "@jupyter-widgets/controls",
            "_model_module_version": "1.5.0",
            "_model_name": "HTMLModel",
            "_view_count": null,
            "_view_module": "@jupyter-widgets/controls",
            "_view_module_version": "1.5.0",
            "_view_name": "HTMLView",
            "description": "",
            "description_tooltip": null,
            "layout": "IPY_MODEL_2c71b24926c84373abedc7257e617c2e",
            "placeholder": "​",
            "style": "IPY_MODEL_b8aa474adfec4875937ff93cf4453cb6",
            "value": "special_tokens_map.json: 100%"
          }
        },
        "57faf756c53e4ae0a5219e4509d93093": {
          "model_module": "@jupyter-widgets/controls",
          "model_name": "FloatProgressModel",
          "model_module_version": "1.5.0",
          "state": {
            "_dom_classes": [],
            "_model_module": "@jupyter-widgets/controls",
            "_model_module_version": "1.5.0",
            "_model_name": "FloatProgressModel",
            "_view_count": null,
            "_view_module": "@jupyter-widgets/controls",
            "_view_module_version": "1.5.0",
            "_view_name": "ProgressView",
            "bar_style": "success",
            "description": "",
            "description_tooltip": null,
            "layout": "IPY_MODEL_d0995a71fc1d4e29beaaa6836520f30f",
            "max": 112,
            "min": 0,
            "orientation": "horizontal",
            "style": "IPY_MODEL_e193280937be47e1a70b09caf136611f",
            "value": 112
          }
        },
        "f1a9f6cc806746028a9188886376d4f5": {
          "model_module": "@jupyter-widgets/controls",
          "model_name": "HTMLModel",
          "model_module_version": "1.5.0",
          "state": {
            "_dom_classes": [],
            "_model_module": "@jupyter-widgets/controls",
            "_model_module_version": "1.5.0",
            "_model_name": "HTMLModel",
            "_view_count": null,
            "_view_module": "@jupyter-widgets/controls",
            "_view_module_version": "1.5.0",
            "_view_name": "HTMLView",
            "description": "",
            "description_tooltip": null,
            "layout": "IPY_MODEL_c86c31f851cb4ccf8958bb5687a6c7a2",
            "placeholder": "​",
            "style": "IPY_MODEL_7d30fa6a1ad24146a7caaba996806214",
            "value": " 112/112 [00:00&lt;00:00, 14.6kB/s]"
          }
        },
        "c8948d6de03644039eda7e172d1c6d0f": {
          "model_module": "@jupyter-widgets/base",
          "model_name": "LayoutModel",
          "model_module_version": "1.2.0",
          "state": {
            "_model_module": "@jupyter-widgets/base",
            "_model_module_version": "1.2.0",
            "_model_name": "LayoutModel",
            "_view_count": null,
            "_view_module": "@jupyter-widgets/base",
            "_view_module_version": "1.2.0",
            "_view_name": "LayoutView",
            "align_content": null,
            "align_items": null,
            "align_self": null,
            "border": null,
            "bottom": null,
            "display": null,
            "flex": null,
            "flex_flow": null,
            "grid_area": null,
            "grid_auto_columns": null,
            "grid_auto_flow": null,
            "grid_auto_rows": null,
            "grid_column": null,
            "grid_gap": null,
            "grid_row": null,
            "grid_template_areas": null,
            "grid_template_columns": null,
            "grid_template_rows": null,
            "height": null,
            "justify_content": null,
            "justify_items": null,
            "left": null,
            "margin": null,
            "max_height": null,
            "max_width": null,
            "min_height": null,
            "min_width": null,
            "object_fit": null,
            "object_position": null,
            "order": null,
            "overflow": null,
            "overflow_x": null,
            "overflow_y": null,
            "padding": null,
            "right": null,
            "top": null,
            "visibility": null,
            "width": null
          }
        },
        "2c71b24926c84373abedc7257e617c2e": {
          "model_module": "@jupyter-widgets/base",
          "model_name": "LayoutModel",
          "model_module_version": "1.2.0",
          "state": {
            "_model_module": "@jupyter-widgets/base",
            "_model_module_version": "1.2.0",
            "_model_name": "LayoutModel",
            "_view_count": null,
            "_view_module": "@jupyter-widgets/base",
            "_view_module_version": "1.2.0",
            "_view_name": "LayoutView",
            "align_content": null,
            "align_items": null,
            "align_self": null,
            "border": null,
            "bottom": null,
            "display": null,
            "flex": null,
            "flex_flow": null,
            "grid_area": null,
            "grid_auto_columns": null,
            "grid_auto_flow": null,
            "grid_auto_rows": null,
            "grid_column": null,
            "grid_gap": null,
            "grid_row": null,
            "grid_template_areas": null,
            "grid_template_columns": null,
            "grid_template_rows": null,
            "height": null,
            "justify_content": null,
            "justify_items": null,
            "left": null,
            "margin": null,
            "max_height": null,
            "max_width": null,
            "min_height": null,
            "min_width": null,
            "object_fit": null,
            "object_position": null,
            "order": null,
            "overflow": null,
            "overflow_x": null,
            "overflow_y": null,
            "padding": null,
            "right": null,
            "top": null,
            "visibility": null,
            "width": null
          }
        },
        "b8aa474adfec4875937ff93cf4453cb6": {
          "model_module": "@jupyter-widgets/controls",
          "model_name": "DescriptionStyleModel",
          "model_module_version": "1.5.0",
          "state": {
            "_model_module": "@jupyter-widgets/controls",
            "_model_module_version": "1.5.0",
            "_model_name": "DescriptionStyleModel",
            "_view_count": null,
            "_view_module": "@jupyter-widgets/base",
            "_view_module_version": "1.2.0",
            "_view_name": "StyleView",
            "description_width": ""
          }
        },
        "d0995a71fc1d4e29beaaa6836520f30f": {
          "model_module": "@jupyter-widgets/base",
          "model_name": "LayoutModel",
          "model_module_version": "1.2.0",
          "state": {
            "_model_module": "@jupyter-widgets/base",
            "_model_module_version": "1.2.0",
            "_model_name": "LayoutModel",
            "_view_count": null,
            "_view_module": "@jupyter-widgets/base",
            "_view_module_version": "1.2.0",
            "_view_name": "LayoutView",
            "align_content": null,
            "align_items": null,
            "align_self": null,
            "border": null,
            "bottom": null,
            "display": null,
            "flex": null,
            "flex_flow": null,
            "grid_area": null,
            "grid_auto_columns": null,
            "grid_auto_flow": null,
            "grid_auto_rows": null,
            "grid_column": null,
            "grid_gap": null,
            "grid_row": null,
            "grid_template_areas": null,
            "grid_template_columns": null,
            "grid_template_rows": null,
            "height": null,
            "justify_content": null,
            "justify_items": null,
            "left": null,
            "margin": null,
            "max_height": null,
            "max_width": null,
            "min_height": null,
            "min_width": null,
            "object_fit": null,
            "object_position": null,
            "order": null,
            "overflow": null,
            "overflow_x": null,
            "overflow_y": null,
            "padding": null,
            "right": null,
            "top": null,
            "visibility": null,
            "width": null
          }
        },
        "e193280937be47e1a70b09caf136611f": {
          "model_module": "@jupyter-widgets/controls",
          "model_name": "ProgressStyleModel",
          "model_module_version": "1.5.0",
          "state": {
            "_model_module": "@jupyter-widgets/controls",
            "_model_module_version": "1.5.0",
            "_model_name": "ProgressStyleModel",
            "_view_count": null,
            "_view_module": "@jupyter-widgets/base",
            "_view_module_version": "1.2.0",
            "_view_name": "StyleView",
            "bar_color": null,
            "description_width": ""
          }
        },
        "c86c31f851cb4ccf8958bb5687a6c7a2": {
          "model_module": "@jupyter-widgets/base",
          "model_name": "LayoutModel",
          "model_module_version": "1.2.0",
          "state": {
            "_model_module": "@jupyter-widgets/base",
            "_model_module_version": "1.2.0",
            "_model_name": "LayoutModel",
            "_view_count": null,
            "_view_module": "@jupyter-widgets/base",
            "_view_module_version": "1.2.0",
            "_view_name": "LayoutView",
            "align_content": null,
            "align_items": null,
            "align_self": null,
            "border": null,
            "bottom": null,
            "display": null,
            "flex": null,
            "flex_flow": null,
            "grid_area": null,
            "grid_auto_columns": null,
            "grid_auto_flow": null,
            "grid_auto_rows": null,
            "grid_column": null,
            "grid_gap": null,
            "grid_row": null,
            "grid_template_areas": null,
            "grid_template_columns": null,
            "grid_template_rows": null,
            "height": null,
            "justify_content": null,
            "justify_items": null,
            "left": null,
            "margin": null,
            "max_height": null,
            "max_width": null,
            "min_height": null,
            "min_width": null,
            "object_fit": null,
            "object_position": null,
            "order": null,
            "overflow": null,
            "overflow_x": null,
            "overflow_y": null,
            "padding": null,
            "right": null,
            "top": null,
            "visibility": null,
            "width": null
          }
        },
        "7d30fa6a1ad24146a7caaba996806214": {
          "model_module": "@jupyter-widgets/controls",
          "model_name": "DescriptionStyleModel",
          "model_module_version": "1.5.0",
          "state": {
            "_model_module": "@jupyter-widgets/controls",
            "_model_module_version": "1.5.0",
            "_model_name": "DescriptionStyleModel",
            "_view_count": null,
            "_view_module": "@jupyter-widgets/base",
            "_view_module_version": "1.2.0",
            "_view_name": "StyleView",
            "description_width": ""
          }
        },
        "5e18ee2e366c4996a5943ac40072d791": {
          "model_module": "@jupyter-widgets/controls",
          "model_name": "HBoxModel",
          "model_module_version": "1.5.0",
          "state": {
            "_dom_classes": [],
            "_model_module": "@jupyter-widgets/controls",
            "_model_module_version": "1.5.0",
            "_model_name": "HBoxModel",
            "_view_count": null,
            "_view_module": "@jupyter-widgets/controls",
            "_view_module_version": "1.5.0",
            "_view_name": "HBoxView",
            "box_style": "",
            "children": [
              "IPY_MODEL_9bc83701483d4eadaad46c397c9d4c2c",
              "IPY_MODEL_595756102c1f48568d5a609762ab0e5b",
              "IPY_MODEL_159e106d16b241eca89a2cf939d66316"
            ],
            "layout": "IPY_MODEL_519998a64f32465caa5f9cc931bb9497"
          }
        },
        "9bc83701483d4eadaad46c397c9d4c2c": {
          "model_module": "@jupyter-widgets/controls",
          "model_name": "HTMLModel",
          "model_module_version": "1.5.0",
          "state": {
            "_dom_classes": [],
            "_model_module": "@jupyter-widgets/controls",
            "_model_module_version": "1.5.0",
            "_model_name": "HTMLModel",
            "_view_count": null,
            "_view_module": "@jupyter-widgets/controls",
            "_view_module_version": "1.5.0",
            "_view_name": "HTMLView",
            "description": "",
            "description_tooltip": null,
            "layout": "IPY_MODEL_d133327ee2dc4827b4168eb1d13b7f89",
            "placeholder": "​",
            "style": "IPY_MODEL_c0dbf445728540b987d716c2726e6242",
            "value": "config.json: 100%"
          }
        },
        "595756102c1f48568d5a609762ab0e5b": {
          "model_module": "@jupyter-widgets/controls",
          "model_name": "FloatProgressModel",
          "model_module_version": "1.5.0",
          "state": {
            "_dom_classes": [],
            "_model_module": "@jupyter-widgets/controls",
            "_model_module_version": "1.5.0",
            "_model_name": "FloatProgressModel",
            "_view_count": null,
            "_view_module": "@jupyter-widgets/controls",
            "_view_module_version": "1.5.0",
            "_view_name": "ProgressView",
            "bar_style": "success",
            "description": "",
            "description_tooltip": null,
            "layout": "IPY_MODEL_e705f358dfc74c89ae718cfce1ef834b",
            "max": 190,
            "min": 0,
            "orientation": "horizontal",
            "style": "IPY_MODEL_7ac21c7850e1457da6162d9fc266a6d3",
            "value": 190
          }
        },
        "159e106d16b241eca89a2cf939d66316": {
          "model_module": "@jupyter-widgets/controls",
          "model_name": "HTMLModel",
          "model_module_version": "1.5.0",
          "state": {
            "_dom_classes": [],
            "_model_module": "@jupyter-widgets/controls",
            "_model_module_version": "1.5.0",
            "_model_name": "HTMLModel",
            "_view_count": null,
            "_view_module": "@jupyter-widgets/controls",
            "_view_module_version": "1.5.0",
            "_view_name": "HTMLView",
            "description": "",
            "description_tooltip": null,
            "layout": "IPY_MODEL_2f2d825c464442cfa2830054e8052417",
            "placeholder": "​",
            "style": "IPY_MODEL_986ae627a44a4246a8b8c2e459aadff7",
            "value": " 190/190 [00:00&lt;00:00, 24.2kB/s]"
          }
        },
        "519998a64f32465caa5f9cc931bb9497": {
          "model_module": "@jupyter-widgets/base",
          "model_name": "LayoutModel",
          "model_module_version": "1.2.0",
          "state": {
            "_model_module": "@jupyter-widgets/base",
            "_model_module_version": "1.2.0",
            "_model_name": "LayoutModel",
            "_view_count": null,
            "_view_module": "@jupyter-widgets/base",
            "_view_module_version": "1.2.0",
            "_view_name": "LayoutView",
            "align_content": null,
            "align_items": null,
            "align_self": null,
            "border": null,
            "bottom": null,
            "display": null,
            "flex": null,
            "flex_flow": null,
            "grid_area": null,
            "grid_auto_columns": null,
            "grid_auto_flow": null,
            "grid_auto_rows": null,
            "grid_column": null,
            "grid_gap": null,
            "grid_row": null,
            "grid_template_areas": null,
            "grid_template_columns": null,
            "grid_template_rows": null,
            "height": null,
            "justify_content": null,
            "justify_items": null,
            "left": null,
            "margin": null,
            "max_height": null,
            "max_width": null,
            "min_height": null,
            "min_width": null,
            "object_fit": null,
            "object_position": null,
            "order": null,
            "overflow": null,
            "overflow_x": null,
            "overflow_y": null,
            "padding": null,
            "right": null,
            "top": null,
            "visibility": null,
            "width": null
          }
        },
        "d133327ee2dc4827b4168eb1d13b7f89": {
          "model_module": "@jupyter-widgets/base",
          "model_name": "LayoutModel",
          "model_module_version": "1.2.0",
          "state": {
            "_model_module": "@jupyter-widgets/base",
            "_model_module_version": "1.2.0",
            "_model_name": "LayoutModel",
            "_view_count": null,
            "_view_module": "@jupyter-widgets/base",
            "_view_module_version": "1.2.0",
            "_view_name": "LayoutView",
            "align_content": null,
            "align_items": null,
            "align_self": null,
            "border": null,
            "bottom": null,
            "display": null,
            "flex": null,
            "flex_flow": null,
            "grid_area": null,
            "grid_auto_columns": null,
            "grid_auto_flow": null,
            "grid_auto_rows": null,
            "grid_column": null,
            "grid_gap": null,
            "grid_row": null,
            "grid_template_areas": null,
            "grid_template_columns": null,
            "grid_template_rows": null,
            "height": null,
            "justify_content": null,
            "justify_items": null,
            "left": null,
            "margin": null,
            "max_height": null,
            "max_width": null,
            "min_height": null,
            "min_width": null,
            "object_fit": null,
            "object_position": null,
            "order": null,
            "overflow": null,
            "overflow_x": null,
            "overflow_y": null,
            "padding": null,
            "right": null,
            "top": null,
            "visibility": null,
            "width": null
          }
        },
        "c0dbf445728540b987d716c2726e6242": {
          "model_module": "@jupyter-widgets/controls",
          "model_name": "DescriptionStyleModel",
          "model_module_version": "1.5.0",
          "state": {
            "_model_module": "@jupyter-widgets/controls",
            "_model_module_version": "1.5.0",
            "_model_name": "DescriptionStyleModel",
            "_view_count": null,
            "_view_module": "@jupyter-widgets/base",
            "_view_module_version": "1.2.0",
            "_view_name": "StyleView",
            "description_width": ""
          }
        },
        "e705f358dfc74c89ae718cfce1ef834b": {
          "model_module": "@jupyter-widgets/base",
          "model_name": "LayoutModel",
          "model_module_version": "1.2.0",
          "state": {
            "_model_module": "@jupyter-widgets/base",
            "_model_module_version": "1.2.0",
            "_model_name": "LayoutModel",
            "_view_count": null,
            "_view_module": "@jupyter-widgets/base",
            "_view_module_version": "1.2.0",
            "_view_name": "LayoutView",
            "align_content": null,
            "align_items": null,
            "align_self": null,
            "border": null,
            "bottom": null,
            "display": null,
            "flex": null,
            "flex_flow": null,
            "grid_area": null,
            "grid_auto_columns": null,
            "grid_auto_flow": null,
            "grid_auto_rows": null,
            "grid_column": null,
            "grid_gap": null,
            "grid_row": null,
            "grid_template_areas": null,
            "grid_template_columns": null,
            "grid_template_rows": null,
            "height": null,
            "justify_content": null,
            "justify_items": null,
            "left": null,
            "margin": null,
            "max_height": null,
            "max_width": null,
            "min_height": null,
            "min_width": null,
            "object_fit": null,
            "object_position": null,
            "order": null,
            "overflow": null,
            "overflow_x": null,
            "overflow_y": null,
            "padding": null,
            "right": null,
            "top": null,
            "visibility": null,
            "width": null
          }
        },
        "7ac21c7850e1457da6162d9fc266a6d3": {
          "model_module": "@jupyter-widgets/controls",
          "model_name": "ProgressStyleModel",
          "model_module_version": "1.5.0",
          "state": {
            "_model_module": "@jupyter-widgets/controls",
            "_model_module_version": "1.5.0",
            "_model_name": "ProgressStyleModel",
            "_view_count": null,
            "_view_module": "@jupyter-widgets/base",
            "_view_module_version": "1.2.0",
            "_view_name": "StyleView",
            "bar_color": null,
            "description_width": ""
          }
        },
        "2f2d825c464442cfa2830054e8052417": {
          "model_module": "@jupyter-widgets/base",
          "model_name": "LayoutModel",
          "model_module_version": "1.2.0",
          "state": {
            "_model_module": "@jupyter-widgets/base",
            "_model_module_version": "1.2.0",
            "_model_name": "LayoutModel",
            "_view_count": null,
            "_view_module": "@jupyter-widgets/base",
            "_view_module_version": "1.2.0",
            "_view_name": "LayoutView",
            "align_content": null,
            "align_items": null,
            "align_self": null,
            "border": null,
            "bottom": null,
            "display": null,
            "flex": null,
            "flex_flow": null,
            "grid_area": null,
            "grid_auto_columns": null,
            "grid_auto_flow": null,
            "grid_auto_rows": null,
            "grid_column": null,
            "grid_gap": null,
            "grid_row": null,
            "grid_template_areas": null,
            "grid_template_columns": null,
            "grid_template_rows": null,
            "height": null,
            "justify_content": null,
            "justify_items": null,
            "left": null,
            "margin": null,
            "max_height": null,
            "max_width": null,
            "min_height": null,
            "min_width": null,
            "object_fit": null,
            "object_position": null,
            "order": null,
            "overflow": null,
            "overflow_x": null,
            "overflow_y": null,
            "padding": null,
            "right": null,
            "top": null,
            "visibility": null,
            "width": null
          }
        },
        "986ae627a44a4246a8b8c2e459aadff7": {
          "model_module": "@jupyter-widgets/controls",
          "model_name": "DescriptionStyleModel",
          "model_module_version": "1.5.0",
          "state": {
            "_model_module": "@jupyter-widgets/controls",
            "_model_module_version": "1.5.0",
            "_model_name": "DescriptionStyleModel",
            "_view_count": null,
            "_view_module": "@jupyter-widgets/base",
            "_view_module_version": "1.2.0",
            "_view_name": "StyleView",
            "description_width": ""
          }
        },
        "31047b7f1ad3417681b0eb3e0fa995b4": {
          "model_module": "@jupyter-widgets/controls",
          "model_name": "HBoxModel",
          "model_module_version": "1.5.0",
          "state": {
            "_dom_classes": [],
            "_model_module": "@jupyter-widgets/controls",
            "_model_module_version": "1.5.0",
            "_model_name": "HBoxModel",
            "_view_count": null,
            "_view_module": "@jupyter-widgets/controls",
            "_view_module_version": "1.5.0",
            "_view_name": "HBoxView",
            "box_style": "",
            "children": [
              "IPY_MODEL_fa7d5b9c0c104d6dbfebea5f81d5d60b",
              "IPY_MODEL_0e10bf1e4093438986e3661c85a0cd8c",
              "IPY_MODEL_02ecbd281b7943e4ad0775d0f7614aef"
            ],
            "layout": "IPY_MODEL_6d23695278ef4c16a517b406d1e31bcb"
          }
        },
        "fa7d5b9c0c104d6dbfebea5f81d5d60b": {
          "model_module": "@jupyter-widgets/controls",
          "model_name": "HTMLModel",
          "model_module_version": "1.5.0",
          "state": {
            "_dom_classes": [],
            "_model_module": "@jupyter-widgets/controls",
            "_model_module_version": "1.5.0",
            "_model_name": "HTMLModel",
            "_view_count": null,
            "_view_module": "@jupyter-widgets/controls",
            "_view_module_version": "1.5.0",
            "_view_name": "HTMLView",
            "description": "",
            "description_tooltip": null,
            "layout": "IPY_MODEL_a1809524f2004a68b013d103cdb71cd8",
            "placeholder": "​",
            "style": "IPY_MODEL_b5ef1539819e427eab77186123aab0a4",
            "value": "modules.json: 100%"
          }
        },
        "0e10bf1e4093438986e3661c85a0cd8c": {
          "model_module": "@jupyter-widgets/controls",
          "model_name": "FloatProgressModel",
          "model_module_version": "1.5.0",
          "state": {
            "_dom_classes": [],
            "_model_module": "@jupyter-widgets/controls",
            "_model_module_version": "1.5.0",
            "_model_name": "FloatProgressModel",
            "_view_count": null,
            "_view_module": "@jupyter-widgets/controls",
            "_view_module_version": "1.5.0",
            "_view_name": "ProgressView",
            "bar_style": "success",
            "description": "",
            "description_tooltip": null,
            "layout": "IPY_MODEL_255c3fa2f9ef4338bdf1c9ea16ce1353",
            "max": 385,
            "min": 0,
            "orientation": "horizontal",
            "style": "IPY_MODEL_1f3d238abfb147fe84773219fbc3f11b",
            "value": 385
          }
        },
        "02ecbd281b7943e4ad0775d0f7614aef": {
          "model_module": "@jupyter-widgets/controls",
          "model_name": "HTMLModel",
          "model_module_version": "1.5.0",
          "state": {
            "_dom_classes": [],
            "_model_module": "@jupyter-widgets/controls",
            "_model_module_version": "1.5.0",
            "_model_name": "HTMLModel",
            "_view_count": null,
            "_view_module": "@jupyter-widgets/controls",
            "_view_module_version": "1.5.0",
            "_view_name": "HTMLView",
            "description": "",
            "description_tooltip": null,
            "layout": "IPY_MODEL_f630080dae5b4c19adace1d68a18e835",
            "placeholder": "​",
            "style": "IPY_MODEL_f2ec6d2b0721453cb9a3461e7e9350e3",
            "value": " 385/385 [00:00&lt;00:00, 48.3kB/s]"
          }
        },
        "6d23695278ef4c16a517b406d1e31bcb": {
          "model_module": "@jupyter-widgets/base",
          "model_name": "LayoutModel",
          "model_module_version": "1.2.0",
          "state": {
            "_model_module": "@jupyter-widgets/base",
            "_model_module_version": "1.2.0",
            "_model_name": "LayoutModel",
            "_view_count": null,
            "_view_module": "@jupyter-widgets/base",
            "_view_module_version": "1.2.0",
            "_view_name": "LayoutView",
            "align_content": null,
            "align_items": null,
            "align_self": null,
            "border": null,
            "bottom": null,
            "display": null,
            "flex": null,
            "flex_flow": null,
            "grid_area": null,
            "grid_auto_columns": null,
            "grid_auto_flow": null,
            "grid_auto_rows": null,
            "grid_column": null,
            "grid_gap": null,
            "grid_row": null,
            "grid_template_areas": null,
            "grid_template_columns": null,
            "grid_template_rows": null,
            "height": null,
            "justify_content": null,
            "justify_items": null,
            "left": null,
            "margin": null,
            "max_height": null,
            "max_width": null,
            "min_height": null,
            "min_width": null,
            "object_fit": null,
            "object_position": null,
            "order": null,
            "overflow": null,
            "overflow_x": null,
            "overflow_y": null,
            "padding": null,
            "right": null,
            "top": null,
            "visibility": null,
            "width": null
          }
        },
        "a1809524f2004a68b013d103cdb71cd8": {
          "model_module": "@jupyter-widgets/base",
          "model_name": "LayoutModel",
          "model_module_version": "1.2.0",
          "state": {
            "_model_module": "@jupyter-widgets/base",
            "_model_module_version": "1.2.0",
            "_model_name": "LayoutModel",
            "_view_count": null,
            "_view_module": "@jupyter-widgets/base",
            "_view_module_version": "1.2.0",
            "_view_name": "LayoutView",
            "align_content": null,
            "align_items": null,
            "align_self": null,
            "border": null,
            "bottom": null,
            "display": null,
            "flex": null,
            "flex_flow": null,
            "grid_area": null,
            "grid_auto_columns": null,
            "grid_auto_flow": null,
            "grid_auto_rows": null,
            "grid_column": null,
            "grid_gap": null,
            "grid_row": null,
            "grid_template_areas": null,
            "grid_template_columns": null,
            "grid_template_rows": null,
            "height": null,
            "justify_content": null,
            "justify_items": null,
            "left": null,
            "margin": null,
            "max_height": null,
            "max_width": null,
            "min_height": null,
            "min_width": null,
            "object_fit": null,
            "object_position": null,
            "order": null,
            "overflow": null,
            "overflow_x": null,
            "overflow_y": null,
            "padding": null,
            "right": null,
            "top": null,
            "visibility": null,
            "width": null
          }
        },
        "b5ef1539819e427eab77186123aab0a4": {
          "model_module": "@jupyter-widgets/controls",
          "model_name": "DescriptionStyleModel",
          "model_module_version": "1.5.0",
          "state": {
            "_model_module": "@jupyter-widgets/controls",
            "_model_module_version": "1.5.0",
            "_model_name": "DescriptionStyleModel",
            "_view_count": null,
            "_view_module": "@jupyter-widgets/base",
            "_view_module_version": "1.2.0",
            "_view_name": "StyleView",
            "description_width": ""
          }
        },
        "255c3fa2f9ef4338bdf1c9ea16ce1353": {
          "model_module": "@jupyter-widgets/base",
          "model_name": "LayoutModel",
          "model_module_version": "1.2.0",
          "state": {
            "_model_module": "@jupyter-widgets/base",
            "_model_module_version": "1.2.0",
            "_model_name": "LayoutModel",
            "_view_count": null,
            "_view_module": "@jupyter-widgets/base",
            "_view_module_version": "1.2.0",
            "_view_name": "LayoutView",
            "align_content": null,
            "align_items": null,
            "align_self": null,
            "border": null,
            "bottom": null,
            "display": null,
            "flex": null,
            "flex_flow": null,
            "grid_area": null,
            "grid_auto_columns": null,
            "grid_auto_flow": null,
            "grid_auto_rows": null,
            "grid_column": null,
            "grid_gap": null,
            "grid_row": null,
            "grid_template_areas": null,
            "grid_template_columns": null,
            "grid_template_rows": null,
            "height": null,
            "justify_content": null,
            "justify_items": null,
            "left": null,
            "margin": null,
            "max_height": null,
            "max_width": null,
            "min_height": null,
            "min_width": null,
            "object_fit": null,
            "object_position": null,
            "order": null,
            "overflow": null,
            "overflow_x": null,
            "overflow_y": null,
            "padding": null,
            "right": null,
            "top": null,
            "visibility": null,
            "width": null
          }
        },
        "1f3d238abfb147fe84773219fbc3f11b": {
          "model_module": "@jupyter-widgets/controls",
          "model_name": "ProgressStyleModel",
          "model_module_version": "1.5.0",
          "state": {
            "_model_module": "@jupyter-widgets/controls",
            "_model_module_version": "1.5.0",
            "_model_name": "ProgressStyleModel",
            "_view_count": null,
            "_view_module": "@jupyter-widgets/base",
            "_view_module_version": "1.2.0",
            "_view_name": "StyleView",
            "bar_color": null,
            "description_width": ""
          }
        },
        "f630080dae5b4c19adace1d68a18e835": {
          "model_module": "@jupyter-widgets/base",
          "model_name": "LayoutModel",
          "model_module_version": "1.2.0",
          "state": {
            "_model_module": "@jupyter-widgets/base",
            "_model_module_version": "1.2.0",
            "_model_name": "LayoutModel",
            "_view_count": null,
            "_view_module": "@jupyter-widgets/base",
            "_view_module_version": "1.2.0",
            "_view_name": "LayoutView",
            "align_content": null,
            "align_items": null,
            "align_self": null,
            "border": null,
            "bottom": null,
            "display": null,
            "flex": null,
            "flex_flow": null,
            "grid_area": null,
            "grid_auto_columns": null,
            "grid_auto_flow": null,
            "grid_auto_rows": null,
            "grid_column": null,
            "grid_gap": null,
            "grid_row": null,
            "grid_template_areas": null,
            "grid_template_columns": null,
            "grid_template_rows": null,
            "height": null,
            "justify_content": null,
            "justify_items": null,
            "left": null,
            "margin": null,
            "max_height": null,
            "max_width": null,
            "min_height": null,
            "min_width": null,
            "object_fit": null,
            "object_position": null,
            "order": null,
            "overflow": null,
            "overflow_x": null,
            "overflow_y": null,
            "padding": null,
            "right": null,
            "top": null,
            "visibility": null,
            "width": null
          }
        },
        "f2ec6d2b0721453cb9a3461e7e9350e3": {
          "model_module": "@jupyter-widgets/controls",
          "model_name": "DescriptionStyleModel",
          "model_module_version": "1.5.0",
          "state": {
            "_model_module": "@jupyter-widgets/controls",
            "_model_module_version": "1.5.0",
            "_model_name": "DescriptionStyleModel",
            "_view_count": null,
            "_view_module": "@jupyter-widgets/base",
            "_view_module_version": "1.2.0",
            "_view_name": "StyleView",
            "description_width": ""
          }
        },
        "86b8eac083694f788a6a42dc73586613": {
          "model_module": "@jupyter-widgets/controls",
          "model_name": "HBoxModel",
          "model_module_version": "1.5.0",
          "state": {
            "_dom_classes": [],
            "_model_module": "@jupyter-widgets/controls",
            "_model_module_version": "1.5.0",
            "_model_name": "HBoxModel",
            "_view_count": null,
            "_view_module": "@jupyter-widgets/controls",
            "_view_module_version": "1.5.0",
            "_view_name": "HBoxView",
            "box_style": "",
            "children": [
              "IPY_MODEL_2a534c79728c4014b78afbfac98effb8",
              "IPY_MODEL_86992b624ca24b33b78abab1ef2c3d74",
              "IPY_MODEL_dec45c9f6a91422e89bda306c74042f0"
            ],
            "layout": "IPY_MODEL_a6f4358de6bc40bf992ab953a07ee908"
          }
        },
        "2a534c79728c4014b78afbfac98effb8": {
          "model_module": "@jupyter-widgets/controls",
          "model_name": "HTMLModel",
          "model_module_version": "1.5.0",
          "state": {
            "_dom_classes": [],
            "_model_module": "@jupyter-widgets/controls",
            "_model_module_version": "1.5.0",
            "_model_name": "HTMLModel",
            "_view_count": null,
            "_view_module": "@jupyter-widgets/controls",
            "_view_module_version": "1.5.0",
            "_view_name": "HTMLView",
            "description": "",
            "description_tooltip": null,
            "layout": "IPY_MODEL_29e630ca79e44078bf7691e22b7587ed",
            "placeholder": "​",
            "style": "IPY_MODEL_1e919c275bfe4f7d9840d929e2894bc9",
            "value": "README.md: 100%"
          }
        },
        "86992b624ca24b33b78abab1ef2c3d74": {
          "model_module": "@jupyter-widgets/controls",
          "model_name": "FloatProgressModel",
          "model_module_version": "1.5.0",
          "state": {
            "_dom_classes": [],
            "_model_module": "@jupyter-widgets/controls",
            "_model_module_version": "1.5.0",
            "_model_name": "FloatProgressModel",
            "_view_count": null,
            "_view_module": "@jupyter-widgets/controls",
            "_view_module_version": "1.5.0",
            "_view_name": "ProgressView",
            "bar_style": "success",
            "description": "",
            "description_tooltip": null,
            "layout": "IPY_MODEL_71d260d5d4db44f5ab9833e7cda26d2b",
            "max": 67863,
            "min": 0,
            "orientation": "horizontal",
            "style": "IPY_MODEL_e1102908079c4cc3a70a944862da5e84",
            "value": 67863
          }
        },
        "dec45c9f6a91422e89bda306c74042f0": {
          "model_module": "@jupyter-widgets/controls",
          "model_name": "HTMLModel",
          "model_module_version": "1.5.0",
          "state": {
            "_dom_classes": [],
            "_model_module": "@jupyter-widgets/controls",
            "_model_module_version": "1.5.0",
            "_model_name": "HTMLModel",
            "_view_count": null,
            "_view_module": "@jupyter-widgets/controls",
            "_view_module_version": "1.5.0",
            "_view_name": "HTMLView",
            "description": "",
            "description_tooltip": null,
            "layout": "IPY_MODEL_0b8ccc93b6ec4379bcacec329abdee4b",
            "placeholder": "​",
            "style": "IPY_MODEL_fe78beb6e9b64854976bc20551eb2ede",
            "value": " 67.9k/67.9k [00:00&lt;00:00, 8.19MB/s]"
          }
        },
        "a6f4358de6bc40bf992ab953a07ee908": {
          "model_module": "@jupyter-widgets/base",
          "model_name": "LayoutModel",
          "model_module_version": "1.2.0",
          "state": {
            "_model_module": "@jupyter-widgets/base",
            "_model_module_version": "1.2.0",
            "_model_name": "LayoutModel",
            "_view_count": null,
            "_view_module": "@jupyter-widgets/base",
            "_view_module_version": "1.2.0",
            "_view_name": "LayoutView",
            "align_content": null,
            "align_items": null,
            "align_self": null,
            "border": null,
            "bottom": null,
            "display": null,
            "flex": null,
            "flex_flow": null,
            "grid_area": null,
            "grid_auto_columns": null,
            "grid_auto_flow": null,
            "grid_auto_rows": null,
            "grid_column": null,
            "grid_gap": null,
            "grid_row": null,
            "grid_template_areas": null,
            "grid_template_columns": null,
            "grid_template_rows": null,
            "height": null,
            "justify_content": null,
            "justify_items": null,
            "left": null,
            "margin": null,
            "max_height": null,
            "max_width": null,
            "min_height": null,
            "min_width": null,
            "object_fit": null,
            "object_position": null,
            "order": null,
            "overflow": null,
            "overflow_x": null,
            "overflow_y": null,
            "padding": null,
            "right": null,
            "top": null,
            "visibility": null,
            "width": null
          }
        },
        "29e630ca79e44078bf7691e22b7587ed": {
          "model_module": "@jupyter-widgets/base",
          "model_name": "LayoutModel",
          "model_module_version": "1.2.0",
          "state": {
            "_model_module": "@jupyter-widgets/base",
            "_model_module_version": "1.2.0",
            "_model_name": "LayoutModel",
            "_view_count": null,
            "_view_module": "@jupyter-widgets/base",
            "_view_module_version": "1.2.0",
            "_view_name": "LayoutView",
            "align_content": null,
            "align_items": null,
            "align_self": null,
            "border": null,
            "bottom": null,
            "display": null,
            "flex": null,
            "flex_flow": null,
            "grid_area": null,
            "grid_auto_columns": null,
            "grid_auto_flow": null,
            "grid_auto_rows": null,
            "grid_column": null,
            "grid_gap": null,
            "grid_row": null,
            "grid_template_areas": null,
            "grid_template_columns": null,
            "grid_template_rows": null,
            "height": null,
            "justify_content": null,
            "justify_items": null,
            "left": null,
            "margin": null,
            "max_height": null,
            "max_width": null,
            "min_height": null,
            "min_width": null,
            "object_fit": null,
            "object_position": null,
            "order": null,
            "overflow": null,
            "overflow_x": null,
            "overflow_y": null,
            "padding": null,
            "right": null,
            "top": null,
            "visibility": null,
            "width": null
          }
        },
        "1e919c275bfe4f7d9840d929e2894bc9": {
          "model_module": "@jupyter-widgets/controls",
          "model_name": "DescriptionStyleModel",
          "model_module_version": "1.5.0",
          "state": {
            "_model_module": "@jupyter-widgets/controls",
            "_model_module_version": "1.5.0",
            "_model_name": "DescriptionStyleModel",
            "_view_count": null,
            "_view_module": "@jupyter-widgets/base",
            "_view_module_version": "1.2.0",
            "_view_name": "StyleView",
            "description_width": ""
          }
        },
        "71d260d5d4db44f5ab9833e7cda26d2b": {
          "model_module": "@jupyter-widgets/base",
          "model_name": "LayoutModel",
          "model_module_version": "1.2.0",
          "state": {
            "_model_module": "@jupyter-widgets/base",
            "_model_module_version": "1.2.0",
            "_model_name": "LayoutModel",
            "_view_count": null,
            "_view_module": "@jupyter-widgets/base",
            "_view_module_version": "1.2.0",
            "_view_name": "LayoutView",
            "align_content": null,
            "align_items": null,
            "align_self": null,
            "border": null,
            "bottom": null,
            "display": null,
            "flex": null,
            "flex_flow": null,
            "grid_area": null,
            "grid_auto_columns": null,
            "grid_auto_flow": null,
            "grid_auto_rows": null,
            "grid_column": null,
            "grid_gap": null,
            "grid_row": null,
            "grid_template_areas": null,
            "grid_template_columns": null,
            "grid_template_rows": null,
            "height": null,
            "justify_content": null,
            "justify_items": null,
            "left": null,
            "margin": null,
            "max_height": null,
            "max_width": null,
            "min_height": null,
            "min_width": null,
            "object_fit": null,
            "object_position": null,
            "order": null,
            "overflow": null,
            "overflow_x": null,
            "overflow_y": null,
            "padding": null,
            "right": null,
            "top": null,
            "visibility": null,
            "width": null
          }
        },
        "e1102908079c4cc3a70a944862da5e84": {
          "model_module": "@jupyter-widgets/controls",
          "model_name": "ProgressStyleModel",
          "model_module_version": "1.5.0",
          "state": {
            "_model_module": "@jupyter-widgets/controls",
            "_model_module_version": "1.5.0",
            "_model_name": "ProgressStyleModel",
            "_view_count": null,
            "_view_module": "@jupyter-widgets/base",
            "_view_module_version": "1.2.0",
            "_view_name": "StyleView",
            "bar_color": null,
            "description_width": ""
          }
        },
        "0b8ccc93b6ec4379bcacec329abdee4b": {
          "model_module": "@jupyter-widgets/base",
          "model_name": "LayoutModel",
          "model_module_version": "1.2.0",
          "state": {
            "_model_module": "@jupyter-widgets/base",
            "_model_module_version": "1.2.0",
            "_model_name": "LayoutModel",
            "_view_count": null,
            "_view_module": "@jupyter-widgets/base",
            "_view_module_version": "1.2.0",
            "_view_name": "LayoutView",
            "align_content": null,
            "align_items": null,
            "align_self": null,
            "border": null,
            "bottom": null,
            "display": null,
            "flex": null,
            "flex_flow": null,
            "grid_area": null,
            "grid_auto_columns": null,
            "grid_auto_flow": null,
            "grid_auto_rows": null,
            "grid_column": null,
            "grid_gap": null,
            "grid_row": null,
            "grid_template_areas": null,
            "grid_template_columns": null,
            "grid_template_rows": null,
            "height": null,
            "justify_content": null,
            "justify_items": null,
            "left": null,
            "margin": null,
            "max_height": null,
            "max_width": null,
            "min_height": null,
            "min_width": null,
            "object_fit": null,
            "object_position": null,
            "order": null,
            "overflow": null,
            "overflow_x": null,
            "overflow_y": null,
            "padding": null,
            "right": null,
            "top": null,
            "visibility": null,
            "width": null
          }
        },
        "fe78beb6e9b64854976bc20551eb2ede": {
          "model_module": "@jupyter-widgets/controls",
          "model_name": "DescriptionStyleModel",
          "model_module_version": "1.5.0",
          "state": {
            "_model_module": "@jupyter-widgets/controls",
            "_model_module_version": "1.5.0",
            "_model_name": "DescriptionStyleModel",
            "_view_count": null,
            "_view_module": "@jupyter-widgets/base",
            "_view_module_version": "1.2.0",
            "_view_name": "StyleView",
            "description_width": ""
          }
        },
        "f1b7a446e268481a9fe6df6399b922c9": {
          "model_module": "@jupyter-widgets/controls",
          "model_name": "HBoxModel",
          "model_module_version": "1.5.0",
          "state": {
            "_dom_classes": [],
            "_model_module": "@jupyter-widgets/controls",
            "_model_module_version": "1.5.0",
            "_model_name": "HBoxModel",
            "_view_count": null,
            "_view_module": "@jupyter-widgets/controls",
            "_view_module_version": "1.5.0",
            "_view_name": "HBoxView",
            "box_style": "",
            "children": [
              "IPY_MODEL_9d114b3433ad4318abd804be331b4ce7",
              "IPY_MODEL_9c0c7ffeccfb4be592f8d02013b70011",
              "IPY_MODEL_42b276af4c354dd1a60651f3048fe019"
            ],
            "layout": "IPY_MODEL_3d7f7f53f2944f9abac627a638ed4cd7"
          }
        },
        "9d114b3433ad4318abd804be331b4ce7": {
          "model_module": "@jupyter-widgets/controls",
          "model_name": "HTMLModel",
          "model_module_version": "1.5.0",
          "state": {
            "_dom_classes": [],
            "_model_module": "@jupyter-widgets/controls",
            "_model_module_version": "1.5.0",
            "_model_name": "HTMLModel",
            "_view_count": null,
            "_view_module": "@jupyter-widgets/controls",
            "_view_module_version": "1.5.0",
            "_view_name": "HTMLView",
            "description": "",
            "description_tooltip": null,
            "layout": "IPY_MODEL_1eeeb4987945400187c43800bc100a17",
            "placeholder": "​",
            "style": "IPY_MODEL_0fdc8cde821a40b9829d6629d91e0097",
            "value": "sentence_bert_config.json: 100%"
          }
        },
        "9c0c7ffeccfb4be592f8d02013b70011": {
          "model_module": "@jupyter-widgets/controls",
          "model_name": "FloatProgressModel",
          "model_module_version": "1.5.0",
          "state": {
            "_dom_classes": [],
            "_model_module": "@jupyter-widgets/controls",
            "_model_module_version": "1.5.0",
            "_model_name": "FloatProgressModel",
            "_view_count": null,
            "_view_module": "@jupyter-widgets/controls",
            "_view_module_version": "1.5.0",
            "_view_name": "ProgressView",
            "bar_style": "success",
            "description": "",
            "description_tooltip": null,
            "layout": "IPY_MODEL_f2629064348e426195144e9f1ce0fd2c",
            "max": 57,
            "min": 0,
            "orientation": "horizontal",
            "style": "IPY_MODEL_79628d50527f447da36cb0d318611cd3",
            "value": 57
          }
        },
        "42b276af4c354dd1a60651f3048fe019": {
          "model_module": "@jupyter-widgets/controls",
          "model_name": "HTMLModel",
          "model_module_version": "1.5.0",
          "state": {
            "_dom_classes": [],
            "_model_module": "@jupyter-widgets/controls",
            "_model_module_version": "1.5.0",
            "_model_name": "HTMLModel",
            "_view_count": null,
            "_view_module": "@jupyter-widgets/controls",
            "_view_module_version": "1.5.0",
            "_view_name": "HTMLView",
            "description": "",
            "description_tooltip": null,
            "layout": "IPY_MODEL_cdb13f2c23db46408f51c870ed61e1a3",
            "placeholder": "​",
            "style": "IPY_MODEL_9a28764732e941da81791777e1d46086",
            "value": " 57.0/57.0 [00:00&lt;00:00, 7.33kB/s]"
          }
        },
        "3d7f7f53f2944f9abac627a638ed4cd7": {
          "model_module": "@jupyter-widgets/base",
          "model_name": "LayoutModel",
          "model_module_version": "1.2.0",
          "state": {
            "_model_module": "@jupyter-widgets/base",
            "_model_module_version": "1.2.0",
            "_model_name": "LayoutModel",
            "_view_count": null,
            "_view_module": "@jupyter-widgets/base",
            "_view_module_version": "1.2.0",
            "_view_name": "LayoutView",
            "align_content": null,
            "align_items": null,
            "align_self": null,
            "border": null,
            "bottom": null,
            "display": null,
            "flex": null,
            "flex_flow": null,
            "grid_area": null,
            "grid_auto_columns": null,
            "grid_auto_flow": null,
            "grid_auto_rows": null,
            "grid_column": null,
            "grid_gap": null,
            "grid_row": null,
            "grid_template_areas": null,
            "grid_template_columns": null,
            "grid_template_rows": null,
            "height": null,
            "justify_content": null,
            "justify_items": null,
            "left": null,
            "margin": null,
            "max_height": null,
            "max_width": null,
            "min_height": null,
            "min_width": null,
            "object_fit": null,
            "object_position": null,
            "order": null,
            "overflow": null,
            "overflow_x": null,
            "overflow_y": null,
            "padding": null,
            "right": null,
            "top": null,
            "visibility": null,
            "width": null
          }
        },
        "1eeeb4987945400187c43800bc100a17": {
          "model_module": "@jupyter-widgets/base",
          "model_name": "LayoutModel",
          "model_module_version": "1.2.0",
          "state": {
            "_model_module": "@jupyter-widgets/base",
            "_model_module_version": "1.2.0",
            "_model_name": "LayoutModel",
            "_view_count": null,
            "_view_module": "@jupyter-widgets/base",
            "_view_module_version": "1.2.0",
            "_view_name": "LayoutView",
            "align_content": null,
            "align_items": null,
            "align_self": null,
            "border": null,
            "bottom": null,
            "display": null,
            "flex": null,
            "flex_flow": null,
            "grid_area": null,
            "grid_auto_columns": null,
            "grid_auto_flow": null,
            "grid_auto_rows": null,
            "grid_column": null,
            "grid_gap": null,
            "grid_row": null,
            "grid_template_areas": null,
            "grid_template_columns": null,
            "grid_template_rows": null,
            "height": null,
            "justify_content": null,
            "justify_items": null,
            "left": null,
            "margin": null,
            "max_height": null,
            "max_width": null,
            "min_height": null,
            "min_width": null,
            "object_fit": null,
            "object_position": null,
            "order": null,
            "overflow": null,
            "overflow_x": null,
            "overflow_y": null,
            "padding": null,
            "right": null,
            "top": null,
            "visibility": null,
            "width": null
          }
        },
        "0fdc8cde821a40b9829d6629d91e0097": {
          "model_module": "@jupyter-widgets/controls",
          "model_name": "DescriptionStyleModel",
          "model_module_version": "1.5.0",
          "state": {
            "_model_module": "@jupyter-widgets/controls",
            "_model_module_version": "1.5.0",
            "_model_name": "DescriptionStyleModel",
            "_view_count": null,
            "_view_module": "@jupyter-widgets/base",
            "_view_module_version": "1.2.0",
            "_view_name": "StyleView",
            "description_width": ""
          }
        },
        "f2629064348e426195144e9f1ce0fd2c": {
          "model_module": "@jupyter-widgets/base",
          "model_name": "LayoutModel",
          "model_module_version": "1.2.0",
          "state": {
            "_model_module": "@jupyter-widgets/base",
            "_model_module_version": "1.2.0",
            "_model_name": "LayoutModel",
            "_view_count": null,
            "_view_module": "@jupyter-widgets/base",
            "_view_module_version": "1.2.0",
            "_view_name": "LayoutView",
            "align_content": null,
            "align_items": null,
            "align_self": null,
            "border": null,
            "bottom": null,
            "display": null,
            "flex": null,
            "flex_flow": null,
            "grid_area": null,
            "grid_auto_columns": null,
            "grid_auto_flow": null,
            "grid_auto_rows": null,
            "grid_column": null,
            "grid_gap": null,
            "grid_row": null,
            "grid_template_areas": null,
            "grid_template_columns": null,
            "grid_template_rows": null,
            "height": null,
            "justify_content": null,
            "justify_items": null,
            "left": null,
            "margin": null,
            "max_height": null,
            "max_width": null,
            "min_height": null,
            "min_width": null,
            "object_fit": null,
            "object_position": null,
            "order": null,
            "overflow": null,
            "overflow_x": null,
            "overflow_y": null,
            "padding": null,
            "right": null,
            "top": null,
            "visibility": null,
            "width": null
          }
        },
        "79628d50527f447da36cb0d318611cd3": {
          "model_module": "@jupyter-widgets/controls",
          "model_name": "ProgressStyleModel",
          "model_module_version": "1.5.0",
          "state": {
            "_model_module": "@jupyter-widgets/controls",
            "_model_module_version": "1.5.0",
            "_model_name": "ProgressStyleModel",
            "_view_count": null,
            "_view_module": "@jupyter-widgets/base",
            "_view_module_version": "1.2.0",
            "_view_name": "StyleView",
            "bar_color": null,
            "description_width": ""
          }
        },
        "cdb13f2c23db46408f51c870ed61e1a3": {
          "model_module": "@jupyter-widgets/base",
          "model_name": "LayoutModel",
          "model_module_version": "1.2.0",
          "state": {
            "_model_module": "@jupyter-widgets/base",
            "_model_module_version": "1.2.0",
            "_model_name": "LayoutModel",
            "_view_count": null,
            "_view_module": "@jupyter-widgets/base",
            "_view_module_version": "1.2.0",
            "_view_name": "LayoutView",
            "align_content": null,
            "align_items": null,
            "align_self": null,
            "border": null,
            "bottom": null,
            "display": null,
            "flex": null,
            "flex_flow": null,
            "grid_area": null,
            "grid_auto_columns": null,
            "grid_auto_flow": null,
            "grid_auto_rows": null,
            "grid_column": null,
            "grid_gap": null,
            "grid_row": null,
            "grid_template_areas": null,
            "grid_template_columns": null,
            "grid_template_rows": null,
            "height": null,
            "justify_content": null,
            "justify_items": null,
            "left": null,
            "margin": null,
            "max_height": null,
            "max_width": null,
            "min_height": null,
            "min_width": null,
            "object_fit": null,
            "object_position": null,
            "order": null,
            "overflow": null,
            "overflow_x": null,
            "overflow_y": null,
            "padding": null,
            "right": null,
            "top": null,
            "visibility": null,
            "width": null
          }
        },
        "9a28764732e941da81791777e1d46086": {
          "model_module": "@jupyter-widgets/controls",
          "model_name": "DescriptionStyleModel",
          "model_module_version": "1.5.0",
          "state": {
            "_model_module": "@jupyter-widgets/controls",
            "_model_module_version": "1.5.0",
            "_model_name": "DescriptionStyleModel",
            "_view_count": null,
            "_view_module": "@jupyter-widgets/base",
            "_view_module_version": "1.2.0",
            "_view_name": "StyleView",
            "description_width": ""
          }
        },
        "6ae3f75c1ad3407ca2bdf55c13f9903a": {
          "model_module": "@jupyter-widgets/controls",
          "model_name": "HBoxModel",
          "model_module_version": "1.5.0",
          "state": {
            "_dom_classes": [],
            "_model_module": "@jupyter-widgets/controls",
            "_model_module_version": "1.5.0",
            "_model_name": "HBoxModel",
            "_view_count": null,
            "_view_module": "@jupyter-widgets/controls",
            "_view_module_version": "1.5.0",
            "_view_name": "HBoxView",
            "box_style": "",
            "children": [
              "IPY_MODEL_a448d4179f8c438b860ff25139d5b026",
              "IPY_MODEL_2f55232e66c04328a1344a8f56ba38d3",
              "IPY_MODEL_e626dbf7a27d4d9894ce5563c37ddbe6"
            ],
            "layout": "IPY_MODEL_1588cc539f084c428acb1be36766cf42"
          }
        },
        "a448d4179f8c438b860ff25139d5b026": {
          "model_module": "@jupyter-widgets/controls",
          "model_name": "HTMLModel",
          "model_module_version": "1.5.0",
          "state": {
            "_dom_classes": [],
            "_model_module": "@jupyter-widgets/controls",
            "_model_module_version": "1.5.0",
            "_model_name": "HTMLModel",
            "_view_count": null,
            "_view_module": "@jupyter-widgets/controls",
            "_view_module_version": "1.5.0",
            "_view_name": "HTMLView",
            "description": "",
            "description_tooltip": null,
            "layout": "IPY_MODEL_0b67b84ff3454d5a8fd6ff6fa4f75d09",
            "placeholder": "​",
            "style": "IPY_MODEL_20ad8ecf30e74d95a96a1f92217c9eee",
            "value": "config.json: 100%"
          }
        },
        "2f55232e66c04328a1344a8f56ba38d3": {
          "model_module": "@jupyter-widgets/controls",
          "model_name": "FloatProgressModel",
          "model_module_version": "1.5.0",
          "state": {
            "_dom_classes": [],
            "_model_module": "@jupyter-widgets/controls",
            "_model_module_version": "1.5.0",
            "_model_name": "FloatProgressModel",
            "_view_count": null,
            "_view_module": "@jupyter-widgets/controls",
            "_view_module_version": "1.5.0",
            "_view_name": "ProgressView",
            "bar_style": "success",
            "description": "",
            "description_tooltip": null,
            "layout": "IPY_MODEL_94b9068309794ead9436dadf1027f77f",
            "max": 619,
            "min": 0,
            "orientation": "horizontal",
            "style": "IPY_MODEL_c1b379523e504c1bb36bebf9935525b3",
            "value": 619
          }
        },
        "e626dbf7a27d4d9894ce5563c37ddbe6": {
          "model_module": "@jupyter-widgets/controls",
          "model_name": "HTMLModel",
          "model_module_version": "1.5.0",
          "state": {
            "_dom_classes": [],
            "_model_module": "@jupyter-widgets/controls",
            "_model_module_version": "1.5.0",
            "_model_name": "HTMLModel",
            "_view_count": null,
            "_view_module": "@jupyter-widgets/controls",
            "_view_module_version": "1.5.0",
            "_view_name": "HTMLView",
            "description": "",
            "description_tooltip": null,
            "layout": "IPY_MODEL_b7b884e6c6a44e5b8dc0469529b8976f",
            "placeholder": "​",
            "style": "IPY_MODEL_23285e2362eb4963bc26e38218def281",
            "value": " 619/619 [00:00&lt;00:00, 68.2kB/s]"
          }
        },
        "1588cc539f084c428acb1be36766cf42": {
          "model_module": "@jupyter-widgets/base",
          "model_name": "LayoutModel",
          "model_module_version": "1.2.0",
          "state": {
            "_model_module": "@jupyter-widgets/base",
            "_model_module_version": "1.2.0",
            "_model_name": "LayoutModel",
            "_view_count": null,
            "_view_module": "@jupyter-widgets/base",
            "_view_module_version": "1.2.0",
            "_view_name": "LayoutView",
            "align_content": null,
            "align_items": null,
            "align_self": null,
            "border": null,
            "bottom": null,
            "display": null,
            "flex": null,
            "flex_flow": null,
            "grid_area": null,
            "grid_auto_columns": null,
            "grid_auto_flow": null,
            "grid_auto_rows": null,
            "grid_column": null,
            "grid_gap": null,
            "grid_row": null,
            "grid_template_areas": null,
            "grid_template_columns": null,
            "grid_template_rows": null,
            "height": null,
            "justify_content": null,
            "justify_items": null,
            "left": null,
            "margin": null,
            "max_height": null,
            "max_width": null,
            "min_height": null,
            "min_width": null,
            "object_fit": null,
            "object_position": null,
            "order": null,
            "overflow": null,
            "overflow_x": null,
            "overflow_y": null,
            "padding": null,
            "right": null,
            "top": null,
            "visibility": null,
            "width": null
          }
        },
        "0b67b84ff3454d5a8fd6ff6fa4f75d09": {
          "model_module": "@jupyter-widgets/base",
          "model_name": "LayoutModel",
          "model_module_version": "1.2.0",
          "state": {
            "_model_module": "@jupyter-widgets/base",
            "_model_module_version": "1.2.0",
            "_model_name": "LayoutModel",
            "_view_count": null,
            "_view_module": "@jupyter-widgets/base",
            "_view_module_version": "1.2.0",
            "_view_name": "LayoutView",
            "align_content": null,
            "align_items": null,
            "align_self": null,
            "border": null,
            "bottom": null,
            "display": null,
            "flex": null,
            "flex_flow": null,
            "grid_area": null,
            "grid_auto_columns": null,
            "grid_auto_flow": null,
            "grid_auto_rows": null,
            "grid_column": null,
            "grid_gap": null,
            "grid_row": null,
            "grid_template_areas": null,
            "grid_template_columns": null,
            "grid_template_rows": null,
            "height": null,
            "justify_content": null,
            "justify_items": null,
            "left": null,
            "margin": null,
            "max_height": null,
            "max_width": null,
            "min_height": null,
            "min_width": null,
            "object_fit": null,
            "object_position": null,
            "order": null,
            "overflow": null,
            "overflow_x": null,
            "overflow_y": null,
            "padding": null,
            "right": null,
            "top": null,
            "visibility": null,
            "width": null
          }
        },
        "20ad8ecf30e74d95a96a1f92217c9eee": {
          "model_module": "@jupyter-widgets/controls",
          "model_name": "DescriptionStyleModel",
          "model_module_version": "1.5.0",
          "state": {
            "_model_module": "@jupyter-widgets/controls",
            "_model_module_version": "1.5.0",
            "_model_name": "DescriptionStyleModel",
            "_view_count": null,
            "_view_module": "@jupyter-widgets/base",
            "_view_module_version": "1.2.0",
            "_view_name": "StyleView",
            "description_width": ""
          }
        },
        "94b9068309794ead9436dadf1027f77f": {
          "model_module": "@jupyter-widgets/base",
          "model_name": "LayoutModel",
          "model_module_version": "1.2.0",
          "state": {
            "_model_module": "@jupyter-widgets/base",
            "_model_module_version": "1.2.0",
            "_model_name": "LayoutModel",
            "_view_count": null,
            "_view_module": "@jupyter-widgets/base",
            "_view_module_version": "1.2.0",
            "_view_name": "LayoutView",
            "align_content": null,
            "align_items": null,
            "align_self": null,
            "border": null,
            "bottom": null,
            "display": null,
            "flex": null,
            "flex_flow": null,
            "grid_area": null,
            "grid_auto_columns": null,
            "grid_auto_flow": null,
            "grid_auto_rows": null,
            "grid_column": null,
            "grid_gap": null,
            "grid_row": null,
            "grid_template_areas": null,
            "grid_template_columns": null,
            "grid_template_rows": null,
            "height": null,
            "justify_content": null,
            "justify_items": null,
            "left": null,
            "margin": null,
            "max_height": null,
            "max_width": null,
            "min_height": null,
            "min_width": null,
            "object_fit": null,
            "object_position": null,
            "order": null,
            "overflow": null,
            "overflow_x": null,
            "overflow_y": null,
            "padding": null,
            "right": null,
            "top": null,
            "visibility": null,
            "width": null
          }
        },
        "c1b379523e504c1bb36bebf9935525b3": {
          "model_module": "@jupyter-widgets/controls",
          "model_name": "ProgressStyleModel",
          "model_module_version": "1.5.0",
          "state": {
            "_model_module": "@jupyter-widgets/controls",
            "_model_module_version": "1.5.0",
            "_model_name": "ProgressStyleModel",
            "_view_count": null,
            "_view_module": "@jupyter-widgets/base",
            "_view_module_version": "1.2.0",
            "_view_name": "StyleView",
            "bar_color": null,
            "description_width": ""
          }
        },
        "b7b884e6c6a44e5b8dc0469529b8976f": {
          "model_module": "@jupyter-widgets/base",
          "model_name": "LayoutModel",
          "model_module_version": "1.2.0",
          "state": {
            "_model_module": "@jupyter-widgets/base",
            "_model_module_version": "1.2.0",
            "_model_name": "LayoutModel",
            "_view_count": null,
            "_view_module": "@jupyter-widgets/base",
            "_view_module_version": "1.2.0",
            "_view_name": "LayoutView",
            "align_content": null,
            "align_items": null,
            "align_self": null,
            "border": null,
            "bottom": null,
            "display": null,
            "flex": null,
            "flex_flow": null,
            "grid_area": null,
            "grid_auto_columns": null,
            "grid_auto_flow": null,
            "grid_auto_rows": null,
            "grid_column": null,
            "grid_gap": null,
            "grid_row": null,
            "grid_template_areas": null,
            "grid_template_columns": null,
            "grid_template_rows": null,
            "height": null,
            "justify_content": null,
            "justify_items": null,
            "left": null,
            "margin": null,
            "max_height": null,
            "max_width": null,
            "min_height": null,
            "min_width": null,
            "object_fit": null,
            "object_position": null,
            "order": null,
            "overflow": null,
            "overflow_x": null,
            "overflow_y": null,
            "padding": null,
            "right": null,
            "top": null,
            "visibility": null,
            "width": null
          }
        },
        "23285e2362eb4963bc26e38218def281": {
          "model_module": "@jupyter-widgets/controls",
          "model_name": "DescriptionStyleModel",
          "model_module_version": "1.5.0",
          "state": {
            "_model_module": "@jupyter-widgets/controls",
            "_model_module_version": "1.5.0",
            "_model_name": "DescriptionStyleModel",
            "_view_count": null,
            "_view_module": "@jupyter-widgets/base",
            "_view_module_version": "1.2.0",
            "_view_name": "StyleView",
            "description_width": ""
          }
        },
        "dcde750dfc6b42bbadf6178f65be57e7": {
          "model_module": "@jupyter-widgets/controls",
          "model_name": "HBoxModel",
          "model_module_version": "1.5.0",
          "state": {
            "_dom_classes": [],
            "_model_module": "@jupyter-widgets/controls",
            "_model_module_version": "1.5.0",
            "_model_name": "HBoxModel",
            "_view_count": null,
            "_view_module": "@jupyter-widgets/controls",
            "_view_module_version": "1.5.0",
            "_view_name": "HBoxView",
            "box_style": "",
            "children": [
              "IPY_MODEL_600c69b4f60342dfbe85c14f11db39db",
              "IPY_MODEL_06745df3022743d39f6b793138f1dbf7",
              "IPY_MODEL_73bb4d6da8304efa879590ae61f3129f"
            ],
            "layout": "IPY_MODEL_8d1ffa122186407d9ae2c55685f65965"
          }
        },
        "600c69b4f60342dfbe85c14f11db39db": {
          "model_module": "@jupyter-widgets/controls",
          "model_name": "HTMLModel",
          "model_module_version": "1.5.0",
          "state": {
            "_dom_classes": [],
            "_model_module": "@jupyter-widgets/controls",
            "_model_module_version": "1.5.0",
            "_model_name": "HTMLModel",
            "_view_count": null,
            "_view_module": "@jupyter-widgets/controls",
            "_view_module_version": "1.5.0",
            "_view_name": "HTMLView",
            "description": "",
            "description_tooltip": null,
            "layout": "IPY_MODEL_e7ad7e87b83f4bfcba4bef9fc7482580",
            "placeholder": "​",
            "style": "IPY_MODEL_3370aebc39ad402a90c8485d7e2a98e2",
            "value": "model.safetensors: 100%"
          }
        },
        "06745df3022743d39f6b793138f1dbf7": {
          "model_module": "@jupyter-widgets/controls",
          "model_name": "FloatProgressModel",
          "model_module_version": "1.5.0",
          "state": {
            "_dom_classes": [],
            "_model_module": "@jupyter-widgets/controls",
            "_model_module_version": "1.5.0",
            "_model_name": "FloatProgressModel",
            "_view_count": null,
            "_view_module": "@jupyter-widgets/controls",
            "_view_module_version": "1.5.0",
            "_view_name": "ProgressView",
            "bar_style": "success",
            "description": "",
            "description_tooltip": null,
            "layout": "IPY_MODEL_906037ceeab849f085df01d087c16a00",
            "max": 670332568,
            "min": 0,
            "orientation": "horizontal",
            "style": "IPY_MODEL_9d669bf0142f44c6a279c5f8f9891895",
            "value": 670332568
          }
        },
        "73bb4d6da8304efa879590ae61f3129f": {
          "model_module": "@jupyter-widgets/controls",
          "model_name": "HTMLModel",
          "model_module_version": "1.5.0",
          "state": {
            "_dom_classes": [],
            "_model_module": "@jupyter-widgets/controls",
            "_model_module_version": "1.5.0",
            "_model_name": "HTMLModel",
            "_view_count": null,
            "_view_module": "@jupyter-widgets/controls",
            "_view_module_version": "1.5.0",
            "_view_name": "HTMLView",
            "description": "",
            "description_tooltip": null,
            "layout": "IPY_MODEL_a336d6c6fa934ae794f80006188e6831",
            "placeholder": "​",
            "style": "IPY_MODEL_d2b7bdbc5d564eb19a10e2aafe6c8c53",
            "value": " 670M/670M [00:02&lt;00:00, 290MB/s]"
          }
        },
        "8d1ffa122186407d9ae2c55685f65965": {
          "model_module": "@jupyter-widgets/base",
          "model_name": "LayoutModel",
          "model_module_version": "1.2.0",
          "state": {
            "_model_module": "@jupyter-widgets/base",
            "_model_module_version": "1.2.0",
            "_model_name": "LayoutModel",
            "_view_count": null,
            "_view_module": "@jupyter-widgets/base",
            "_view_module_version": "1.2.0",
            "_view_name": "LayoutView",
            "align_content": null,
            "align_items": null,
            "align_self": null,
            "border": null,
            "bottom": null,
            "display": null,
            "flex": null,
            "flex_flow": null,
            "grid_area": null,
            "grid_auto_columns": null,
            "grid_auto_flow": null,
            "grid_auto_rows": null,
            "grid_column": null,
            "grid_gap": null,
            "grid_row": null,
            "grid_template_areas": null,
            "grid_template_columns": null,
            "grid_template_rows": null,
            "height": null,
            "justify_content": null,
            "justify_items": null,
            "left": null,
            "margin": null,
            "max_height": null,
            "max_width": null,
            "min_height": null,
            "min_width": null,
            "object_fit": null,
            "object_position": null,
            "order": null,
            "overflow": null,
            "overflow_x": null,
            "overflow_y": null,
            "padding": null,
            "right": null,
            "top": null,
            "visibility": null,
            "width": null
          }
        },
        "e7ad7e87b83f4bfcba4bef9fc7482580": {
          "model_module": "@jupyter-widgets/base",
          "model_name": "LayoutModel",
          "model_module_version": "1.2.0",
          "state": {
            "_model_module": "@jupyter-widgets/base",
            "_model_module_version": "1.2.0",
            "_model_name": "LayoutModel",
            "_view_count": null,
            "_view_module": "@jupyter-widgets/base",
            "_view_module_version": "1.2.0",
            "_view_name": "LayoutView",
            "align_content": null,
            "align_items": null,
            "align_self": null,
            "border": null,
            "bottom": null,
            "display": null,
            "flex": null,
            "flex_flow": null,
            "grid_area": null,
            "grid_auto_columns": null,
            "grid_auto_flow": null,
            "grid_auto_rows": null,
            "grid_column": null,
            "grid_gap": null,
            "grid_row": null,
            "grid_template_areas": null,
            "grid_template_columns": null,
            "grid_template_rows": null,
            "height": null,
            "justify_content": null,
            "justify_items": null,
            "left": null,
            "margin": null,
            "max_height": null,
            "max_width": null,
            "min_height": null,
            "min_width": null,
            "object_fit": null,
            "object_position": null,
            "order": null,
            "overflow": null,
            "overflow_x": null,
            "overflow_y": null,
            "padding": null,
            "right": null,
            "top": null,
            "visibility": null,
            "width": null
          }
        },
        "3370aebc39ad402a90c8485d7e2a98e2": {
          "model_module": "@jupyter-widgets/controls",
          "model_name": "DescriptionStyleModel",
          "model_module_version": "1.5.0",
          "state": {
            "_model_module": "@jupyter-widgets/controls",
            "_model_module_version": "1.5.0",
            "_model_name": "DescriptionStyleModel",
            "_view_count": null,
            "_view_module": "@jupyter-widgets/base",
            "_view_module_version": "1.2.0",
            "_view_name": "StyleView",
            "description_width": ""
          }
        },
        "906037ceeab849f085df01d087c16a00": {
          "model_module": "@jupyter-widgets/base",
          "model_name": "LayoutModel",
          "model_module_version": "1.2.0",
          "state": {
            "_model_module": "@jupyter-widgets/base",
            "_model_module_version": "1.2.0",
            "_model_name": "LayoutModel",
            "_view_count": null,
            "_view_module": "@jupyter-widgets/base",
            "_view_module_version": "1.2.0",
            "_view_name": "LayoutView",
            "align_content": null,
            "align_items": null,
            "align_self": null,
            "border": null,
            "bottom": null,
            "display": null,
            "flex": null,
            "flex_flow": null,
            "grid_area": null,
            "grid_auto_columns": null,
            "grid_auto_flow": null,
            "grid_auto_rows": null,
            "grid_column": null,
            "grid_gap": null,
            "grid_row": null,
            "grid_template_areas": null,
            "grid_template_columns": null,
            "grid_template_rows": null,
            "height": null,
            "justify_content": null,
            "justify_items": null,
            "left": null,
            "margin": null,
            "max_height": null,
            "max_width": null,
            "min_height": null,
            "min_width": null,
            "object_fit": null,
            "object_position": null,
            "order": null,
            "overflow": null,
            "overflow_x": null,
            "overflow_y": null,
            "padding": null,
            "right": null,
            "top": null,
            "visibility": null,
            "width": null
          }
        },
        "9d669bf0142f44c6a279c5f8f9891895": {
          "model_module": "@jupyter-widgets/controls",
          "model_name": "ProgressStyleModel",
          "model_module_version": "1.5.0",
          "state": {
            "_model_module": "@jupyter-widgets/controls",
            "_model_module_version": "1.5.0",
            "_model_name": "ProgressStyleModel",
            "_view_count": null,
            "_view_module": "@jupyter-widgets/base",
            "_view_module_version": "1.2.0",
            "_view_name": "StyleView",
            "bar_color": null,
            "description_width": ""
          }
        },
        "a336d6c6fa934ae794f80006188e6831": {
          "model_module": "@jupyter-widgets/base",
          "model_name": "LayoutModel",
          "model_module_version": "1.2.0",
          "state": {
            "_model_module": "@jupyter-widgets/base",
            "_model_module_version": "1.2.0",
            "_model_name": "LayoutModel",
            "_view_count": null,
            "_view_module": "@jupyter-widgets/base",
            "_view_module_version": "1.2.0",
            "_view_name": "LayoutView",
            "align_content": null,
            "align_items": null,
            "align_self": null,
            "border": null,
            "bottom": null,
            "display": null,
            "flex": null,
            "flex_flow": null,
            "grid_area": null,
            "grid_auto_columns": null,
            "grid_auto_flow": null,
            "grid_auto_rows": null,
            "grid_column": null,
            "grid_gap": null,
            "grid_row": null,
            "grid_template_areas": null,
            "grid_template_columns": null,
            "grid_template_rows": null,
            "height": null,
            "justify_content": null,
            "justify_items": null,
            "left": null,
            "margin": null,
            "max_height": null,
            "max_width": null,
            "min_height": null,
            "min_width": null,
            "object_fit": null,
            "object_position": null,
            "order": null,
            "overflow": null,
            "overflow_x": null,
            "overflow_y": null,
            "padding": null,
            "right": null,
            "top": null,
            "visibility": null,
            "width": null
          }
        },
        "d2b7bdbc5d564eb19a10e2aafe6c8c53": {
          "model_module": "@jupyter-widgets/controls",
          "model_name": "DescriptionStyleModel",
          "model_module_version": "1.5.0",
          "state": {
            "_model_module": "@jupyter-widgets/controls",
            "_model_module_version": "1.5.0",
            "_model_name": "DescriptionStyleModel",
            "_view_count": null,
            "_view_module": "@jupyter-widgets/base",
            "_view_module_version": "1.2.0",
            "_view_name": "StyleView",
            "description_width": ""
          }
        },
        "ebf65b1c8adf4ace9db6b04db7f8924f": {
          "model_module": "@jupyter-widgets/controls",
          "model_name": "HBoxModel",
          "model_module_version": "1.5.0",
          "state": {
            "_dom_classes": [],
            "_model_module": "@jupyter-widgets/controls",
            "_model_module_version": "1.5.0",
            "_model_name": "HBoxModel",
            "_view_count": null,
            "_view_module": "@jupyter-widgets/controls",
            "_view_module_version": "1.5.0",
            "_view_name": "HBoxView",
            "box_style": "",
            "children": [
              "IPY_MODEL_3b49bc2dedd3468db1ba67c2a6371a0c",
              "IPY_MODEL_789bb45e9b5e4cf78aa47312491235ad",
              "IPY_MODEL_9ad25d20d7ef4aa8a9e7e75de1256f3a"
            ],
            "layout": "IPY_MODEL_e34d166969ae42549f926f2935e7bb83"
          }
        },
        "3b49bc2dedd3468db1ba67c2a6371a0c": {
          "model_module": "@jupyter-widgets/controls",
          "model_name": "HTMLModel",
          "model_module_version": "1.5.0",
          "state": {
            "_dom_classes": [],
            "_model_module": "@jupyter-widgets/controls",
            "_model_module_version": "1.5.0",
            "_model_name": "HTMLModel",
            "_view_count": null,
            "_view_module": "@jupyter-widgets/controls",
            "_view_module_version": "1.5.0",
            "_view_name": "HTMLView",
            "description": "",
            "description_tooltip": null,
            "layout": "IPY_MODEL_6438bd5f0f29482b9de7d34ecc76f355",
            "placeholder": "​",
            "style": "IPY_MODEL_aa66366ee62b44a384a2e8652bdadb66",
            "value": "tokenizer_config.json: 100%"
          }
        },
        "789bb45e9b5e4cf78aa47312491235ad": {
          "model_module": "@jupyter-widgets/controls",
          "model_name": "FloatProgressModel",
          "model_module_version": "1.5.0",
          "state": {
            "_dom_classes": [],
            "_model_module": "@jupyter-widgets/controls",
            "_model_module_version": "1.5.0",
            "_model_name": "FloatProgressModel",
            "_view_count": null,
            "_view_module": "@jupyter-widgets/controls",
            "_view_module_version": "1.5.0",
            "_view_name": "ProgressView",
            "bar_style": "success",
            "description": "",
            "description_tooltip": null,
            "layout": "IPY_MODEL_a7db9a2c1efc45a9ad4f785d83883e26",
            "max": 342,
            "min": 0,
            "orientation": "horizontal",
            "style": "IPY_MODEL_6459c6d2dcca43f487e6922958f418f5",
            "value": 342
          }
        },
        "9ad25d20d7ef4aa8a9e7e75de1256f3a": {
          "model_module": "@jupyter-widgets/controls",
          "model_name": "HTMLModel",
          "model_module_version": "1.5.0",
          "state": {
            "_dom_classes": [],
            "_model_module": "@jupyter-widgets/controls",
            "_model_module_version": "1.5.0",
            "_model_name": "HTMLModel",
            "_view_count": null,
            "_view_module": "@jupyter-widgets/controls",
            "_view_module_version": "1.5.0",
            "_view_name": "HTMLView",
            "description": "",
            "description_tooltip": null,
            "layout": "IPY_MODEL_a2f83d4569644a07891cd212a9876e94",
            "placeholder": "​",
            "style": "IPY_MODEL_14e9727afa3645d582c6ceee2586bdb3",
            "value": " 342/342 [00:00&lt;00:00, 44.8kB/s]"
          }
        },
        "e34d166969ae42549f926f2935e7bb83": {
          "model_module": "@jupyter-widgets/base",
          "model_name": "LayoutModel",
          "model_module_version": "1.2.0",
          "state": {
            "_model_module": "@jupyter-widgets/base",
            "_model_module_version": "1.2.0",
            "_model_name": "LayoutModel",
            "_view_count": null,
            "_view_module": "@jupyter-widgets/base",
            "_view_module_version": "1.2.0",
            "_view_name": "LayoutView",
            "align_content": null,
            "align_items": null,
            "align_self": null,
            "border": null,
            "bottom": null,
            "display": null,
            "flex": null,
            "flex_flow": null,
            "grid_area": null,
            "grid_auto_columns": null,
            "grid_auto_flow": null,
            "grid_auto_rows": null,
            "grid_column": null,
            "grid_gap": null,
            "grid_row": null,
            "grid_template_areas": null,
            "grid_template_columns": null,
            "grid_template_rows": null,
            "height": null,
            "justify_content": null,
            "justify_items": null,
            "left": null,
            "margin": null,
            "max_height": null,
            "max_width": null,
            "min_height": null,
            "min_width": null,
            "object_fit": null,
            "object_position": null,
            "order": null,
            "overflow": null,
            "overflow_x": null,
            "overflow_y": null,
            "padding": null,
            "right": null,
            "top": null,
            "visibility": null,
            "width": null
          }
        },
        "6438bd5f0f29482b9de7d34ecc76f355": {
          "model_module": "@jupyter-widgets/base",
          "model_name": "LayoutModel",
          "model_module_version": "1.2.0",
          "state": {
            "_model_module": "@jupyter-widgets/base",
            "_model_module_version": "1.2.0",
            "_model_name": "LayoutModel",
            "_view_count": null,
            "_view_module": "@jupyter-widgets/base",
            "_view_module_version": "1.2.0",
            "_view_name": "LayoutView",
            "align_content": null,
            "align_items": null,
            "align_self": null,
            "border": null,
            "bottom": null,
            "display": null,
            "flex": null,
            "flex_flow": null,
            "grid_area": null,
            "grid_auto_columns": null,
            "grid_auto_flow": null,
            "grid_auto_rows": null,
            "grid_column": null,
            "grid_gap": null,
            "grid_row": null,
            "grid_template_areas": null,
            "grid_template_columns": null,
            "grid_template_rows": null,
            "height": null,
            "justify_content": null,
            "justify_items": null,
            "left": null,
            "margin": null,
            "max_height": null,
            "max_width": null,
            "min_height": null,
            "min_width": null,
            "object_fit": null,
            "object_position": null,
            "order": null,
            "overflow": null,
            "overflow_x": null,
            "overflow_y": null,
            "padding": null,
            "right": null,
            "top": null,
            "visibility": null,
            "width": null
          }
        },
        "aa66366ee62b44a384a2e8652bdadb66": {
          "model_module": "@jupyter-widgets/controls",
          "model_name": "DescriptionStyleModel",
          "model_module_version": "1.5.0",
          "state": {
            "_model_module": "@jupyter-widgets/controls",
            "_model_module_version": "1.5.0",
            "_model_name": "DescriptionStyleModel",
            "_view_count": null,
            "_view_module": "@jupyter-widgets/base",
            "_view_module_version": "1.2.0",
            "_view_name": "StyleView",
            "description_width": ""
          }
        },
        "a7db9a2c1efc45a9ad4f785d83883e26": {
          "model_module": "@jupyter-widgets/base",
          "model_name": "LayoutModel",
          "model_module_version": "1.2.0",
          "state": {
            "_model_module": "@jupyter-widgets/base",
            "_model_module_version": "1.2.0",
            "_model_name": "LayoutModel",
            "_view_count": null,
            "_view_module": "@jupyter-widgets/base",
            "_view_module_version": "1.2.0",
            "_view_name": "LayoutView",
            "align_content": null,
            "align_items": null,
            "align_self": null,
            "border": null,
            "bottom": null,
            "display": null,
            "flex": null,
            "flex_flow": null,
            "grid_area": null,
            "grid_auto_columns": null,
            "grid_auto_flow": null,
            "grid_auto_rows": null,
            "grid_column": null,
            "grid_gap": null,
            "grid_row": null,
            "grid_template_areas": null,
            "grid_template_columns": null,
            "grid_template_rows": null,
            "height": null,
            "justify_content": null,
            "justify_items": null,
            "left": null,
            "margin": null,
            "max_height": null,
            "max_width": null,
            "min_height": null,
            "min_width": null,
            "object_fit": null,
            "object_position": null,
            "order": null,
            "overflow": null,
            "overflow_x": null,
            "overflow_y": null,
            "padding": null,
            "right": null,
            "top": null,
            "visibility": null,
            "width": null
          }
        },
        "6459c6d2dcca43f487e6922958f418f5": {
          "model_module": "@jupyter-widgets/controls",
          "model_name": "ProgressStyleModel",
          "model_module_version": "1.5.0",
          "state": {
            "_model_module": "@jupyter-widgets/controls",
            "_model_module_version": "1.5.0",
            "_model_name": "ProgressStyleModel",
            "_view_count": null,
            "_view_module": "@jupyter-widgets/base",
            "_view_module_version": "1.2.0",
            "_view_name": "StyleView",
            "bar_color": null,
            "description_width": ""
          }
        },
        "a2f83d4569644a07891cd212a9876e94": {
          "model_module": "@jupyter-widgets/base",
          "model_name": "LayoutModel",
          "model_module_version": "1.2.0",
          "state": {
            "_model_module": "@jupyter-widgets/base",
            "_model_module_version": "1.2.0",
            "_model_name": "LayoutModel",
            "_view_count": null,
            "_view_module": "@jupyter-widgets/base",
            "_view_module_version": "1.2.0",
            "_view_name": "LayoutView",
            "align_content": null,
            "align_items": null,
            "align_self": null,
            "border": null,
            "bottom": null,
            "display": null,
            "flex": null,
            "flex_flow": null,
            "grid_area": null,
            "grid_auto_columns": null,
            "grid_auto_flow": null,
            "grid_auto_rows": null,
            "grid_column": null,
            "grid_gap": null,
            "grid_row": null,
            "grid_template_areas": null,
            "grid_template_columns": null,
            "grid_template_rows": null,
            "height": null,
            "justify_content": null,
            "justify_items": null,
            "left": null,
            "margin": null,
            "max_height": null,
            "max_width": null,
            "min_height": null,
            "min_width": null,
            "object_fit": null,
            "object_position": null,
            "order": null,
            "overflow": null,
            "overflow_x": null,
            "overflow_y": null,
            "padding": null,
            "right": null,
            "top": null,
            "visibility": null,
            "width": null
          }
        },
        "14e9727afa3645d582c6ceee2586bdb3": {
          "model_module": "@jupyter-widgets/controls",
          "model_name": "DescriptionStyleModel",
          "model_module_version": "1.5.0",
          "state": {
            "_model_module": "@jupyter-widgets/controls",
            "_model_module_version": "1.5.0",
            "_model_name": "DescriptionStyleModel",
            "_view_count": null,
            "_view_module": "@jupyter-widgets/base",
            "_view_module_version": "1.2.0",
            "_view_name": "StyleView",
            "description_width": ""
          }
        },
        "238ab2efc07547c9abca972067d8728d": {
          "model_module": "@jupyter-widgets/controls",
          "model_name": "HBoxModel",
          "model_module_version": "1.5.0",
          "state": {
            "_dom_classes": [],
            "_model_module": "@jupyter-widgets/controls",
            "_model_module_version": "1.5.0",
            "_model_name": "HBoxModel",
            "_view_count": null,
            "_view_module": "@jupyter-widgets/controls",
            "_view_module_version": "1.5.0",
            "_view_name": "HBoxView",
            "box_style": "",
            "children": [
              "IPY_MODEL_9b3f1cc4e2b84f058e43462130ec676d",
              "IPY_MODEL_dc37648d70d94b4690d45e4654156d7e",
              "IPY_MODEL_60302d411434414d9c9b196498629cbd"
            ],
            "layout": "IPY_MODEL_8b0e20555afd43338b1c306b91939bda"
          }
        },
        "9b3f1cc4e2b84f058e43462130ec676d": {
          "model_module": "@jupyter-widgets/controls",
          "model_name": "HTMLModel",
          "model_module_version": "1.5.0",
          "state": {
            "_dom_classes": [],
            "_model_module": "@jupyter-widgets/controls",
            "_model_module_version": "1.5.0",
            "_model_name": "HTMLModel",
            "_view_count": null,
            "_view_module": "@jupyter-widgets/controls",
            "_view_module_version": "1.5.0",
            "_view_name": "HTMLView",
            "description": "",
            "description_tooltip": null,
            "layout": "IPY_MODEL_f67122d316254eeca27a671dd2776460",
            "placeholder": "​",
            "style": "IPY_MODEL_6167d33fe321487ebcb611d10e06f585",
            "value": "vocab.txt: 100%"
          }
        },
        "dc37648d70d94b4690d45e4654156d7e": {
          "model_module": "@jupyter-widgets/controls",
          "model_name": "FloatProgressModel",
          "model_module_version": "1.5.0",
          "state": {
            "_dom_classes": [],
            "_model_module": "@jupyter-widgets/controls",
            "_model_module_version": "1.5.0",
            "_model_name": "FloatProgressModel",
            "_view_count": null,
            "_view_module": "@jupyter-widgets/controls",
            "_view_module_version": "1.5.0",
            "_view_name": "ProgressView",
            "bar_style": "success",
            "description": "",
            "description_tooltip": null,
            "layout": "IPY_MODEL_717bae1dd82243cb8d133101f0d750cd",
            "max": 231508,
            "min": 0,
            "orientation": "horizontal",
            "style": "IPY_MODEL_df89301246a04a8ebf38c249b5196b85",
            "value": 231508
          }
        },
        "60302d411434414d9c9b196498629cbd": {
          "model_module": "@jupyter-widgets/controls",
          "model_name": "HTMLModel",
          "model_module_version": "1.5.0",
          "state": {
            "_dom_classes": [],
            "_model_module": "@jupyter-widgets/controls",
            "_model_module_version": "1.5.0",
            "_model_name": "HTMLModel",
            "_view_count": null,
            "_view_module": "@jupyter-widgets/controls",
            "_view_module_version": "1.5.0",
            "_view_name": "HTMLView",
            "description": "",
            "description_tooltip": null,
            "layout": "IPY_MODEL_4f6c8688dc5845ddb87446adc5d4d27b",
            "placeholder": "​",
            "style": "IPY_MODEL_0afe172ec7424f449808681956c09f27",
            "value": " 232k/232k [00:00&lt;00:00, 25.3MB/s]"
          }
        },
        "8b0e20555afd43338b1c306b91939bda": {
          "model_module": "@jupyter-widgets/base",
          "model_name": "LayoutModel",
          "model_module_version": "1.2.0",
          "state": {
            "_model_module": "@jupyter-widgets/base",
            "_model_module_version": "1.2.0",
            "_model_name": "LayoutModel",
            "_view_count": null,
            "_view_module": "@jupyter-widgets/base",
            "_view_module_version": "1.2.0",
            "_view_name": "LayoutView",
            "align_content": null,
            "align_items": null,
            "align_self": null,
            "border": null,
            "bottom": null,
            "display": null,
            "flex": null,
            "flex_flow": null,
            "grid_area": null,
            "grid_auto_columns": null,
            "grid_auto_flow": null,
            "grid_auto_rows": null,
            "grid_column": null,
            "grid_gap": null,
            "grid_row": null,
            "grid_template_areas": null,
            "grid_template_columns": null,
            "grid_template_rows": null,
            "height": null,
            "justify_content": null,
            "justify_items": null,
            "left": null,
            "margin": null,
            "max_height": null,
            "max_width": null,
            "min_height": null,
            "min_width": null,
            "object_fit": null,
            "object_position": null,
            "order": null,
            "overflow": null,
            "overflow_x": null,
            "overflow_y": null,
            "padding": null,
            "right": null,
            "top": null,
            "visibility": null,
            "width": null
          }
        },
        "f67122d316254eeca27a671dd2776460": {
          "model_module": "@jupyter-widgets/base",
          "model_name": "LayoutModel",
          "model_module_version": "1.2.0",
          "state": {
            "_model_module": "@jupyter-widgets/base",
            "_model_module_version": "1.2.0",
            "_model_name": "LayoutModel",
            "_view_count": null,
            "_view_module": "@jupyter-widgets/base",
            "_view_module_version": "1.2.0",
            "_view_name": "LayoutView",
            "align_content": null,
            "align_items": null,
            "align_self": null,
            "border": null,
            "bottom": null,
            "display": null,
            "flex": null,
            "flex_flow": null,
            "grid_area": null,
            "grid_auto_columns": null,
            "grid_auto_flow": null,
            "grid_auto_rows": null,
            "grid_column": null,
            "grid_gap": null,
            "grid_row": null,
            "grid_template_areas": null,
            "grid_template_columns": null,
            "grid_template_rows": null,
            "height": null,
            "justify_content": null,
            "justify_items": null,
            "left": null,
            "margin": null,
            "max_height": null,
            "max_width": null,
            "min_height": null,
            "min_width": null,
            "object_fit": null,
            "object_position": null,
            "order": null,
            "overflow": null,
            "overflow_x": null,
            "overflow_y": null,
            "padding": null,
            "right": null,
            "top": null,
            "visibility": null,
            "width": null
          }
        },
        "6167d33fe321487ebcb611d10e06f585": {
          "model_module": "@jupyter-widgets/controls",
          "model_name": "DescriptionStyleModel",
          "model_module_version": "1.5.0",
          "state": {
            "_model_module": "@jupyter-widgets/controls",
            "_model_module_version": "1.5.0",
            "_model_name": "DescriptionStyleModel",
            "_view_count": null,
            "_view_module": "@jupyter-widgets/base",
            "_view_module_version": "1.2.0",
            "_view_name": "StyleView",
            "description_width": ""
          }
        },
        "717bae1dd82243cb8d133101f0d750cd": {
          "model_module": "@jupyter-widgets/base",
          "model_name": "LayoutModel",
          "model_module_version": "1.2.0",
          "state": {
            "_model_module": "@jupyter-widgets/base",
            "_model_module_version": "1.2.0",
            "_model_name": "LayoutModel",
            "_view_count": null,
            "_view_module": "@jupyter-widgets/base",
            "_view_module_version": "1.2.0",
            "_view_name": "LayoutView",
            "align_content": null,
            "align_items": null,
            "align_self": null,
            "border": null,
            "bottom": null,
            "display": null,
            "flex": null,
            "flex_flow": null,
            "grid_area": null,
            "grid_auto_columns": null,
            "grid_auto_flow": null,
            "grid_auto_rows": null,
            "grid_column": null,
            "grid_gap": null,
            "grid_row": null,
            "grid_template_areas": null,
            "grid_template_columns": null,
            "grid_template_rows": null,
            "height": null,
            "justify_content": null,
            "justify_items": null,
            "left": null,
            "margin": null,
            "max_height": null,
            "max_width": null,
            "min_height": null,
            "min_width": null,
            "object_fit": null,
            "object_position": null,
            "order": null,
            "overflow": null,
            "overflow_x": null,
            "overflow_y": null,
            "padding": null,
            "right": null,
            "top": null,
            "visibility": null,
            "width": null
          }
        },
        "df89301246a04a8ebf38c249b5196b85": {
          "model_module": "@jupyter-widgets/controls",
          "model_name": "ProgressStyleModel",
          "model_module_version": "1.5.0",
          "state": {
            "_model_module": "@jupyter-widgets/controls",
            "_model_module_version": "1.5.0",
            "_model_name": "ProgressStyleModel",
            "_view_count": null,
            "_view_module": "@jupyter-widgets/base",
            "_view_module_version": "1.2.0",
            "_view_name": "StyleView",
            "bar_color": null,
            "description_width": ""
          }
        },
        "4f6c8688dc5845ddb87446adc5d4d27b": {
          "model_module": "@jupyter-widgets/base",
          "model_name": "LayoutModel",
          "model_module_version": "1.2.0",
          "state": {
            "_model_module": "@jupyter-widgets/base",
            "_model_module_version": "1.2.0",
            "_model_name": "LayoutModel",
            "_view_count": null,
            "_view_module": "@jupyter-widgets/base",
            "_view_module_version": "1.2.0",
            "_view_name": "LayoutView",
            "align_content": null,
            "align_items": null,
            "align_self": null,
            "border": null,
            "bottom": null,
            "display": null,
            "flex": null,
            "flex_flow": null,
            "grid_area": null,
            "grid_auto_columns": null,
            "grid_auto_flow": null,
            "grid_auto_rows": null,
            "grid_column": null,
            "grid_gap": null,
            "grid_row": null,
            "grid_template_areas": null,
            "grid_template_columns": null,
            "grid_template_rows": null,
            "height": null,
            "justify_content": null,
            "justify_items": null,
            "left": null,
            "margin": null,
            "max_height": null,
            "max_width": null,
            "min_height": null,
            "min_width": null,
            "object_fit": null,
            "object_position": null,
            "order": null,
            "overflow": null,
            "overflow_x": null,
            "overflow_y": null,
            "padding": null,
            "right": null,
            "top": null,
            "visibility": null,
            "width": null
          }
        },
        "0afe172ec7424f449808681956c09f27": {
          "model_module": "@jupyter-widgets/controls",
          "model_name": "DescriptionStyleModel",
          "model_module_version": "1.5.0",
          "state": {
            "_model_module": "@jupyter-widgets/controls",
            "_model_module_version": "1.5.0",
            "_model_name": "DescriptionStyleModel",
            "_view_count": null,
            "_view_module": "@jupyter-widgets/base",
            "_view_module_version": "1.2.0",
            "_view_name": "StyleView",
            "description_width": ""
          }
        },
        "47cd20be08944ecb98001430ab6a9c0a": {
          "model_module": "@jupyter-widgets/controls",
          "model_name": "HBoxModel",
          "model_module_version": "1.5.0",
          "state": {
            "_dom_classes": [],
            "_model_module": "@jupyter-widgets/controls",
            "_model_module_version": "1.5.0",
            "_model_name": "HBoxModel",
            "_view_count": null,
            "_view_module": "@jupyter-widgets/controls",
            "_view_module_version": "1.5.0",
            "_view_name": "HBoxView",
            "box_style": "",
            "children": [
              "IPY_MODEL_7f355ee7843047c0963ee5fd306a3ffd",
              "IPY_MODEL_87987db979ef42eebe9050ac1157e968",
              "IPY_MODEL_a1fa7c62e93b4d50952c7304496227a2"
            ],
            "layout": "IPY_MODEL_34422192ce1848d997e28c1dfa17fa1b"
          }
        },
        "7f355ee7843047c0963ee5fd306a3ffd": {
          "model_module": "@jupyter-widgets/controls",
          "model_name": "HTMLModel",
          "model_module_version": "1.5.0",
          "state": {
            "_dom_classes": [],
            "_model_module": "@jupyter-widgets/controls",
            "_model_module_version": "1.5.0",
            "_model_name": "HTMLModel",
            "_view_count": null,
            "_view_module": "@jupyter-widgets/controls",
            "_view_module_version": "1.5.0",
            "_view_name": "HTMLView",
            "description": "",
            "description_tooltip": null,
            "layout": "IPY_MODEL_7b578812589b4b9a89bfa1f56416ce72",
            "placeholder": "​",
            "style": "IPY_MODEL_0270ef0d570e4c53be73548988efa1b3",
            "value": "tokenizer.json: 100%"
          }
        },
        "87987db979ef42eebe9050ac1157e968": {
          "model_module": "@jupyter-widgets/controls",
          "model_name": "FloatProgressModel",
          "model_module_version": "1.5.0",
          "state": {
            "_dom_classes": [],
            "_model_module": "@jupyter-widgets/controls",
            "_model_module_version": "1.5.0",
            "_model_name": "FloatProgressModel",
            "_view_count": null,
            "_view_module": "@jupyter-widgets/controls",
            "_view_module_version": "1.5.0",
            "_view_name": "ProgressView",
            "bar_style": "success",
            "description": "",
            "description_tooltip": null,
            "layout": "IPY_MODEL_abe4466ab7854740a4c655cf68a52f44",
            "max": 711661,
            "min": 0,
            "orientation": "horizontal",
            "style": "IPY_MODEL_49ba216c7ad54c919ebbf00b96f04982",
            "value": 711661
          }
        },
        "a1fa7c62e93b4d50952c7304496227a2": {
          "model_module": "@jupyter-widgets/controls",
          "model_name": "HTMLModel",
          "model_module_version": "1.5.0",
          "state": {
            "_dom_classes": [],
            "_model_module": "@jupyter-widgets/controls",
            "_model_module_version": "1.5.0",
            "_model_name": "HTMLModel",
            "_view_count": null,
            "_view_module": "@jupyter-widgets/controls",
            "_view_module_version": "1.5.0",
            "_view_name": "HTMLView",
            "description": "",
            "description_tooltip": null,
            "layout": "IPY_MODEL_0b4669b7bf7e4128961ecb7aa265a550",
            "placeholder": "​",
            "style": "IPY_MODEL_7d54844e64e44175982ebaedd6bedd02",
            "value": " 712k/712k [00:00&lt;00:00, 21.6MB/s]"
          }
        },
        "34422192ce1848d997e28c1dfa17fa1b": {
          "model_module": "@jupyter-widgets/base",
          "model_name": "LayoutModel",
          "model_module_version": "1.2.0",
          "state": {
            "_model_module": "@jupyter-widgets/base",
            "_model_module_version": "1.2.0",
            "_model_name": "LayoutModel",
            "_view_count": null,
            "_view_module": "@jupyter-widgets/base",
            "_view_module_version": "1.2.0",
            "_view_name": "LayoutView",
            "align_content": null,
            "align_items": null,
            "align_self": null,
            "border": null,
            "bottom": null,
            "display": null,
            "flex": null,
            "flex_flow": null,
            "grid_area": null,
            "grid_auto_columns": null,
            "grid_auto_flow": null,
            "grid_auto_rows": null,
            "grid_column": null,
            "grid_gap": null,
            "grid_row": null,
            "grid_template_areas": null,
            "grid_template_columns": null,
            "grid_template_rows": null,
            "height": null,
            "justify_content": null,
            "justify_items": null,
            "left": null,
            "margin": null,
            "max_height": null,
            "max_width": null,
            "min_height": null,
            "min_width": null,
            "object_fit": null,
            "object_position": null,
            "order": null,
            "overflow": null,
            "overflow_x": null,
            "overflow_y": null,
            "padding": null,
            "right": null,
            "top": null,
            "visibility": null,
            "width": null
          }
        },
        "7b578812589b4b9a89bfa1f56416ce72": {
          "model_module": "@jupyter-widgets/base",
          "model_name": "LayoutModel",
          "model_module_version": "1.2.0",
          "state": {
            "_model_module": "@jupyter-widgets/base",
            "_model_module_version": "1.2.0",
            "_model_name": "LayoutModel",
            "_view_count": null,
            "_view_module": "@jupyter-widgets/base",
            "_view_module_version": "1.2.0",
            "_view_name": "LayoutView",
            "align_content": null,
            "align_items": null,
            "align_self": null,
            "border": null,
            "bottom": null,
            "display": null,
            "flex": null,
            "flex_flow": null,
            "grid_area": null,
            "grid_auto_columns": null,
            "grid_auto_flow": null,
            "grid_auto_rows": null,
            "grid_column": null,
            "grid_gap": null,
            "grid_row": null,
            "grid_template_areas": null,
            "grid_template_columns": null,
            "grid_template_rows": null,
            "height": null,
            "justify_content": null,
            "justify_items": null,
            "left": null,
            "margin": null,
            "max_height": null,
            "max_width": null,
            "min_height": null,
            "min_width": null,
            "object_fit": null,
            "object_position": null,
            "order": null,
            "overflow": null,
            "overflow_x": null,
            "overflow_y": null,
            "padding": null,
            "right": null,
            "top": null,
            "visibility": null,
            "width": null
          }
        },
        "0270ef0d570e4c53be73548988efa1b3": {
          "model_module": "@jupyter-widgets/controls",
          "model_name": "DescriptionStyleModel",
          "model_module_version": "1.5.0",
          "state": {
            "_model_module": "@jupyter-widgets/controls",
            "_model_module_version": "1.5.0",
            "_model_name": "DescriptionStyleModel",
            "_view_count": null,
            "_view_module": "@jupyter-widgets/base",
            "_view_module_version": "1.2.0",
            "_view_name": "StyleView",
            "description_width": ""
          }
        },
        "abe4466ab7854740a4c655cf68a52f44": {
          "model_module": "@jupyter-widgets/base",
          "model_name": "LayoutModel",
          "model_module_version": "1.2.0",
          "state": {
            "_model_module": "@jupyter-widgets/base",
            "_model_module_version": "1.2.0",
            "_model_name": "LayoutModel",
            "_view_count": null,
            "_view_module": "@jupyter-widgets/base",
            "_view_module_version": "1.2.0",
            "_view_name": "LayoutView",
            "align_content": null,
            "align_items": null,
            "align_self": null,
            "border": null,
            "bottom": null,
            "display": null,
            "flex": null,
            "flex_flow": null,
            "grid_area": null,
            "grid_auto_columns": null,
            "grid_auto_flow": null,
            "grid_auto_rows": null,
            "grid_column": null,
            "grid_gap": null,
            "grid_row": null,
            "grid_template_areas": null,
            "grid_template_columns": null,
            "grid_template_rows": null,
            "height": null,
            "justify_content": null,
            "justify_items": null,
            "left": null,
            "margin": null,
            "max_height": null,
            "max_width": null,
            "min_height": null,
            "min_width": null,
            "object_fit": null,
            "object_position": null,
            "order": null,
            "overflow": null,
            "overflow_x": null,
            "overflow_y": null,
            "padding": null,
            "right": null,
            "top": null,
            "visibility": null,
            "width": null
          }
        },
        "49ba216c7ad54c919ebbf00b96f04982": {
          "model_module": "@jupyter-widgets/controls",
          "model_name": "ProgressStyleModel",
          "model_module_version": "1.5.0",
          "state": {
            "_model_module": "@jupyter-widgets/controls",
            "_model_module_version": "1.5.0",
            "_model_name": "ProgressStyleModel",
            "_view_count": null,
            "_view_module": "@jupyter-widgets/base",
            "_view_module_version": "1.2.0",
            "_view_name": "StyleView",
            "bar_color": null,
            "description_width": ""
          }
        },
        "0b4669b7bf7e4128961ecb7aa265a550": {
          "model_module": "@jupyter-widgets/base",
          "model_name": "LayoutModel",
          "model_module_version": "1.2.0",
          "state": {
            "_model_module": "@jupyter-widgets/base",
            "_model_module_version": "1.2.0",
            "_model_name": "LayoutModel",
            "_view_count": null,
            "_view_module": "@jupyter-widgets/base",
            "_view_module_version": "1.2.0",
            "_view_name": "LayoutView",
            "align_content": null,
            "align_items": null,
            "align_self": null,
            "border": null,
            "bottom": null,
            "display": null,
            "flex": null,
            "flex_flow": null,
            "grid_area": null,
            "grid_auto_columns": null,
            "grid_auto_flow": null,
            "grid_auto_rows": null,
            "grid_column": null,
            "grid_gap": null,
            "grid_row": null,
            "grid_template_areas": null,
            "grid_template_columns": null,
            "grid_template_rows": null,
            "height": null,
            "justify_content": null,
            "justify_items": null,
            "left": null,
            "margin": null,
            "max_height": null,
            "max_width": null,
            "min_height": null,
            "min_width": null,
            "object_fit": null,
            "object_position": null,
            "order": null,
            "overflow": null,
            "overflow_x": null,
            "overflow_y": null,
            "padding": null,
            "right": null,
            "top": null,
            "visibility": null,
            "width": null
          }
        },
        "7d54844e64e44175982ebaedd6bedd02": {
          "model_module": "@jupyter-widgets/controls",
          "model_name": "DescriptionStyleModel",
          "model_module_version": "1.5.0",
          "state": {
            "_model_module": "@jupyter-widgets/controls",
            "_model_module_version": "1.5.0",
            "_model_name": "DescriptionStyleModel",
            "_view_count": null,
            "_view_module": "@jupyter-widgets/base",
            "_view_module_version": "1.2.0",
            "_view_name": "StyleView",
            "description_width": ""
          }
        },
        "955de2786c1346f08a70b6765f3edff1": {
          "model_module": "@jupyter-widgets/controls",
          "model_name": "HBoxModel",
          "model_module_version": "1.5.0",
          "state": {
            "_dom_classes": [],
            "_model_module": "@jupyter-widgets/controls",
            "_model_module_version": "1.5.0",
            "_model_name": "HBoxModel",
            "_view_count": null,
            "_view_module": "@jupyter-widgets/controls",
            "_view_module_version": "1.5.0",
            "_view_name": "HBoxView",
            "box_style": "",
            "children": [
              "IPY_MODEL_c82bce086d8346cf87414fbbb8c3e608",
              "IPY_MODEL_e220cf766daa4b14b1eb63e8a099e0ba",
              "IPY_MODEL_2956df06bda84542a66f3a4b59570060"
            ],
            "layout": "IPY_MODEL_0377b7305a6d4d2caa4cb87950a5a305"
          }
        },
        "c82bce086d8346cf87414fbbb8c3e608": {
          "model_module": "@jupyter-widgets/controls",
          "model_name": "HTMLModel",
          "model_module_version": "1.5.0",
          "state": {
            "_dom_classes": [],
            "_model_module": "@jupyter-widgets/controls",
            "_model_module_version": "1.5.0",
            "_model_name": "HTMLModel",
            "_view_count": null,
            "_view_module": "@jupyter-widgets/controls",
            "_view_module_version": "1.5.0",
            "_view_name": "HTMLView",
            "description": "",
            "description_tooltip": null,
            "layout": "IPY_MODEL_592739b7378e44488adffc0bc8a1bf09",
            "placeholder": "​",
            "style": "IPY_MODEL_b65a5d03e1cc47e8a55a8467006f2c9e",
            "value": "special_tokens_map.json: 100%"
          }
        },
        "e220cf766daa4b14b1eb63e8a099e0ba": {
          "model_module": "@jupyter-widgets/controls",
          "model_name": "FloatProgressModel",
          "model_module_version": "1.5.0",
          "state": {
            "_dom_classes": [],
            "_model_module": "@jupyter-widgets/controls",
            "_model_module_version": "1.5.0",
            "_model_name": "FloatProgressModel",
            "_view_count": null,
            "_view_module": "@jupyter-widgets/controls",
            "_view_module_version": "1.5.0",
            "_view_name": "ProgressView",
            "bar_style": "success",
            "description": "",
            "description_tooltip": null,
            "layout": "IPY_MODEL_f7d342df73bf49669fab62b500b88aa1",
            "max": 125,
            "min": 0,
            "orientation": "horizontal",
            "style": "IPY_MODEL_e739660749e04e9ea11ab7a828eef4b8",
            "value": 125
          }
        },
        "2956df06bda84542a66f3a4b59570060": {
          "model_module": "@jupyter-widgets/controls",
          "model_name": "HTMLModel",
          "model_module_version": "1.5.0",
          "state": {
            "_dom_classes": [],
            "_model_module": "@jupyter-widgets/controls",
            "_model_module_version": "1.5.0",
            "_model_name": "HTMLModel",
            "_view_count": null,
            "_view_module": "@jupyter-widgets/controls",
            "_view_module_version": "1.5.0",
            "_view_name": "HTMLView",
            "description": "",
            "description_tooltip": null,
            "layout": "IPY_MODEL_7f38468438554a9cb0a2cfc03118a400",
            "placeholder": "​",
            "style": "IPY_MODEL_ae5b04cd23494509adbe212373eac366",
            "value": " 125/125 [00:00&lt;00:00, 14.8kB/s]"
          }
        },
        "0377b7305a6d4d2caa4cb87950a5a305": {
          "model_module": "@jupyter-widgets/base",
          "model_name": "LayoutModel",
          "model_module_version": "1.2.0",
          "state": {
            "_model_module": "@jupyter-widgets/base",
            "_model_module_version": "1.2.0",
            "_model_name": "LayoutModel",
            "_view_count": null,
            "_view_module": "@jupyter-widgets/base",
            "_view_module_version": "1.2.0",
            "_view_name": "LayoutView",
            "align_content": null,
            "align_items": null,
            "align_self": null,
            "border": null,
            "bottom": null,
            "display": null,
            "flex": null,
            "flex_flow": null,
            "grid_area": null,
            "grid_auto_columns": null,
            "grid_auto_flow": null,
            "grid_auto_rows": null,
            "grid_column": null,
            "grid_gap": null,
            "grid_row": null,
            "grid_template_areas": null,
            "grid_template_columns": null,
            "grid_template_rows": null,
            "height": null,
            "justify_content": null,
            "justify_items": null,
            "left": null,
            "margin": null,
            "max_height": null,
            "max_width": null,
            "min_height": null,
            "min_width": null,
            "object_fit": null,
            "object_position": null,
            "order": null,
            "overflow": null,
            "overflow_x": null,
            "overflow_y": null,
            "padding": null,
            "right": null,
            "top": null,
            "visibility": null,
            "width": null
          }
        },
        "592739b7378e44488adffc0bc8a1bf09": {
          "model_module": "@jupyter-widgets/base",
          "model_name": "LayoutModel",
          "model_module_version": "1.2.0",
          "state": {
            "_model_module": "@jupyter-widgets/base",
            "_model_module_version": "1.2.0",
            "_model_name": "LayoutModel",
            "_view_count": null,
            "_view_module": "@jupyter-widgets/base",
            "_view_module_version": "1.2.0",
            "_view_name": "LayoutView",
            "align_content": null,
            "align_items": null,
            "align_self": null,
            "border": null,
            "bottom": null,
            "display": null,
            "flex": null,
            "flex_flow": null,
            "grid_area": null,
            "grid_auto_columns": null,
            "grid_auto_flow": null,
            "grid_auto_rows": null,
            "grid_column": null,
            "grid_gap": null,
            "grid_row": null,
            "grid_template_areas": null,
            "grid_template_columns": null,
            "grid_template_rows": null,
            "height": null,
            "justify_content": null,
            "justify_items": null,
            "left": null,
            "margin": null,
            "max_height": null,
            "max_width": null,
            "min_height": null,
            "min_width": null,
            "object_fit": null,
            "object_position": null,
            "order": null,
            "overflow": null,
            "overflow_x": null,
            "overflow_y": null,
            "padding": null,
            "right": null,
            "top": null,
            "visibility": null,
            "width": null
          }
        },
        "b65a5d03e1cc47e8a55a8467006f2c9e": {
          "model_module": "@jupyter-widgets/controls",
          "model_name": "DescriptionStyleModel",
          "model_module_version": "1.5.0",
          "state": {
            "_model_module": "@jupyter-widgets/controls",
            "_model_module_version": "1.5.0",
            "_model_name": "DescriptionStyleModel",
            "_view_count": null,
            "_view_module": "@jupyter-widgets/base",
            "_view_module_version": "1.2.0",
            "_view_name": "StyleView",
            "description_width": ""
          }
        },
        "f7d342df73bf49669fab62b500b88aa1": {
          "model_module": "@jupyter-widgets/base",
          "model_name": "LayoutModel",
          "model_module_version": "1.2.0",
          "state": {
            "_model_module": "@jupyter-widgets/base",
            "_model_module_version": "1.2.0",
            "_model_name": "LayoutModel",
            "_view_count": null,
            "_view_module": "@jupyter-widgets/base",
            "_view_module_version": "1.2.0",
            "_view_name": "LayoutView",
            "align_content": null,
            "align_items": null,
            "align_self": null,
            "border": null,
            "bottom": null,
            "display": null,
            "flex": null,
            "flex_flow": null,
            "grid_area": null,
            "grid_auto_columns": null,
            "grid_auto_flow": null,
            "grid_auto_rows": null,
            "grid_column": null,
            "grid_gap": null,
            "grid_row": null,
            "grid_template_areas": null,
            "grid_template_columns": null,
            "grid_template_rows": null,
            "height": null,
            "justify_content": null,
            "justify_items": null,
            "left": null,
            "margin": null,
            "max_height": null,
            "max_width": null,
            "min_height": null,
            "min_width": null,
            "object_fit": null,
            "object_position": null,
            "order": null,
            "overflow": null,
            "overflow_x": null,
            "overflow_y": null,
            "padding": null,
            "right": null,
            "top": null,
            "visibility": null,
            "width": null
          }
        },
        "e739660749e04e9ea11ab7a828eef4b8": {
          "model_module": "@jupyter-widgets/controls",
          "model_name": "ProgressStyleModel",
          "model_module_version": "1.5.0",
          "state": {
            "_model_module": "@jupyter-widgets/controls",
            "_model_module_version": "1.5.0",
            "_model_name": "ProgressStyleModel",
            "_view_count": null,
            "_view_module": "@jupyter-widgets/base",
            "_view_module_version": "1.2.0",
            "_view_name": "StyleView",
            "bar_color": null,
            "description_width": ""
          }
        },
        "7f38468438554a9cb0a2cfc03118a400": {
          "model_module": "@jupyter-widgets/base",
          "model_name": "LayoutModel",
          "model_module_version": "1.2.0",
          "state": {
            "_model_module": "@jupyter-widgets/base",
            "_model_module_version": "1.2.0",
            "_model_name": "LayoutModel",
            "_view_count": null,
            "_view_module": "@jupyter-widgets/base",
            "_view_module_version": "1.2.0",
            "_view_name": "LayoutView",
            "align_content": null,
            "align_items": null,
            "align_self": null,
            "border": null,
            "bottom": null,
            "display": null,
            "flex": null,
            "flex_flow": null,
            "grid_area": null,
            "grid_auto_columns": null,
            "grid_auto_flow": null,
            "grid_auto_rows": null,
            "grid_column": null,
            "grid_gap": null,
            "grid_row": null,
            "grid_template_areas": null,
            "grid_template_columns": null,
            "grid_template_rows": null,
            "height": null,
            "justify_content": null,
            "justify_items": null,
            "left": null,
            "margin": null,
            "max_height": null,
            "max_width": null,
            "min_height": null,
            "min_width": null,
            "object_fit": null,
            "object_position": null,
            "order": null,
            "overflow": null,
            "overflow_x": null,
            "overflow_y": null,
            "padding": null,
            "right": null,
            "top": null,
            "visibility": null,
            "width": null
          }
        },
        "ae5b04cd23494509adbe212373eac366": {
          "model_module": "@jupyter-widgets/controls",
          "model_name": "DescriptionStyleModel",
          "model_module_version": "1.5.0",
          "state": {
            "_model_module": "@jupyter-widgets/controls",
            "_model_module_version": "1.5.0",
            "_model_name": "DescriptionStyleModel",
            "_view_count": null,
            "_view_module": "@jupyter-widgets/base",
            "_view_module_version": "1.2.0",
            "_view_name": "StyleView",
            "description_width": ""
          }
        },
        "00682a33883f48feb5abee5c0d094ac6": {
          "model_module": "@jupyter-widgets/controls",
          "model_name": "HBoxModel",
          "model_module_version": "1.5.0",
          "state": {
            "_dom_classes": [],
            "_model_module": "@jupyter-widgets/controls",
            "_model_module_version": "1.5.0",
            "_model_name": "HBoxModel",
            "_view_count": null,
            "_view_module": "@jupyter-widgets/controls",
            "_view_module_version": "1.5.0",
            "_view_name": "HBoxView",
            "box_style": "",
            "children": [
              "IPY_MODEL_0697f5fe10a64953a140935492fa39b5",
              "IPY_MODEL_adeb53566d794396a2fb3ae289c4e11e",
              "IPY_MODEL_0345b11b2d7e43f791f112dd2f79e882"
            ],
            "layout": "IPY_MODEL_f5285096f1664ae4a4e4fbdba3f64f86"
          }
        },
        "0697f5fe10a64953a140935492fa39b5": {
          "model_module": "@jupyter-widgets/controls",
          "model_name": "HTMLModel",
          "model_module_version": "1.5.0",
          "state": {
            "_dom_classes": [],
            "_model_module": "@jupyter-widgets/controls",
            "_model_module_version": "1.5.0",
            "_model_name": "HTMLModel",
            "_view_count": null,
            "_view_module": "@jupyter-widgets/controls",
            "_view_module_version": "1.5.0",
            "_view_name": "HTMLView",
            "description": "",
            "description_tooltip": null,
            "layout": "IPY_MODEL_113d617ba1504990b5e55ff49d60c0ee",
            "placeholder": "​",
            "style": "IPY_MODEL_ec380bfbd2d84cbb82149aa6d19ce0c7",
            "value": "config.json: 100%"
          }
        },
        "adeb53566d794396a2fb3ae289c4e11e": {
          "model_module": "@jupyter-widgets/controls",
          "model_name": "FloatProgressModel",
          "model_module_version": "1.5.0",
          "state": {
            "_dom_classes": [],
            "_model_module": "@jupyter-widgets/controls",
            "_model_module_version": "1.5.0",
            "_model_name": "FloatProgressModel",
            "_view_count": null,
            "_view_module": "@jupyter-widgets/controls",
            "_view_module_version": "1.5.0",
            "_view_name": "ProgressView",
            "bar_style": "success",
            "description": "",
            "description_tooltip": null,
            "layout": "IPY_MODEL_7def18ba57ee4445b21dc62b484f9a39",
            "max": 191,
            "min": 0,
            "orientation": "horizontal",
            "style": "IPY_MODEL_386c1d6d64cb430790ed3003c475af95",
            "value": 191
          }
        },
        "0345b11b2d7e43f791f112dd2f79e882": {
          "model_module": "@jupyter-widgets/controls",
          "model_name": "HTMLModel",
          "model_module_version": "1.5.0",
          "state": {
            "_dom_classes": [],
            "_model_module": "@jupyter-widgets/controls",
            "_model_module_version": "1.5.0",
            "_model_name": "HTMLModel",
            "_view_count": null,
            "_view_module": "@jupyter-widgets/controls",
            "_view_module_version": "1.5.0",
            "_view_name": "HTMLView",
            "description": "",
            "description_tooltip": null,
            "layout": "IPY_MODEL_c4d705e80056499ba9340f382c4123a5",
            "placeholder": "​",
            "style": "IPY_MODEL_7a74874dd5c04c2fa63e30eb86958274",
            "value": " 191/191 [00:00&lt;00:00, 24.3kB/s]"
          }
        },
        "f5285096f1664ae4a4e4fbdba3f64f86": {
          "model_module": "@jupyter-widgets/base",
          "model_name": "LayoutModel",
          "model_module_version": "1.2.0",
          "state": {
            "_model_module": "@jupyter-widgets/base",
            "_model_module_version": "1.2.0",
            "_model_name": "LayoutModel",
            "_view_count": null,
            "_view_module": "@jupyter-widgets/base",
            "_view_module_version": "1.2.0",
            "_view_name": "LayoutView",
            "align_content": null,
            "align_items": null,
            "align_self": null,
            "border": null,
            "bottom": null,
            "display": null,
            "flex": null,
            "flex_flow": null,
            "grid_area": null,
            "grid_auto_columns": null,
            "grid_auto_flow": null,
            "grid_auto_rows": null,
            "grid_column": null,
            "grid_gap": null,
            "grid_row": null,
            "grid_template_areas": null,
            "grid_template_columns": null,
            "grid_template_rows": null,
            "height": null,
            "justify_content": null,
            "justify_items": null,
            "left": null,
            "margin": null,
            "max_height": null,
            "max_width": null,
            "min_height": null,
            "min_width": null,
            "object_fit": null,
            "object_position": null,
            "order": null,
            "overflow": null,
            "overflow_x": null,
            "overflow_y": null,
            "padding": null,
            "right": null,
            "top": null,
            "visibility": null,
            "width": null
          }
        },
        "113d617ba1504990b5e55ff49d60c0ee": {
          "model_module": "@jupyter-widgets/base",
          "model_name": "LayoutModel",
          "model_module_version": "1.2.0",
          "state": {
            "_model_module": "@jupyter-widgets/base",
            "_model_module_version": "1.2.0",
            "_model_name": "LayoutModel",
            "_view_count": null,
            "_view_module": "@jupyter-widgets/base",
            "_view_module_version": "1.2.0",
            "_view_name": "LayoutView",
            "align_content": null,
            "align_items": null,
            "align_self": null,
            "border": null,
            "bottom": null,
            "display": null,
            "flex": null,
            "flex_flow": null,
            "grid_area": null,
            "grid_auto_columns": null,
            "grid_auto_flow": null,
            "grid_auto_rows": null,
            "grid_column": null,
            "grid_gap": null,
            "grid_row": null,
            "grid_template_areas": null,
            "grid_template_columns": null,
            "grid_template_rows": null,
            "height": null,
            "justify_content": null,
            "justify_items": null,
            "left": null,
            "margin": null,
            "max_height": null,
            "max_width": null,
            "min_height": null,
            "min_width": null,
            "object_fit": null,
            "object_position": null,
            "order": null,
            "overflow": null,
            "overflow_x": null,
            "overflow_y": null,
            "padding": null,
            "right": null,
            "top": null,
            "visibility": null,
            "width": null
          }
        },
        "ec380bfbd2d84cbb82149aa6d19ce0c7": {
          "model_module": "@jupyter-widgets/controls",
          "model_name": "DescriptionStyleModel",
          "model_module_version": "1.5.0",
          "state": {
            "_model_module": "@jupyter-widgets/controls",
            "_model_module_version": "1.5.0",
            "_model_name": "DescriptionStyleModel",
            "_view_count": null,
            "_view_module": "@jupyter-widgets/base",
            "_view_module_version": "1.2.0",
            "_view_name": "StyleView",
            "description_width": ""
          }
        },
        "7def18ba57ee4445b21dc62b484f9a39": {
          "model_module": "@jupyter-widgets/base",
          "model_name": "LayoutModel",
          "model_module_version": "1.2.0",
          "state": {
            "_model_module": "@jupyter-widgets/base",
            "_model_module_version": "1.2.0",
            "_model_name": "LayoutModel",
            "_view_count": null,
            "_view_module": "@jupyter-widgets/base",
            "_view_module_version": "1.2.0",
            "_view_name": "LayoutView",
            "align_content": null,
            "align_items": null,
            "align_self": null,
            "border": null,
            "bottom": null,
            "display": null,
            "flex": null,
            "flex_flow": null,
            "grid_area": null,
            "grid_auto_columns": null,
            "grid_auto_flow": null,
            "grid_auto_rows": null,
            "grid_column": null,
            "grid_gap": null,
            "grid_row": null,
            "grid_template_areas": null,
            "grid_template_columns": null,
            "grid_template_rows": null,
            "height": null,
            "justify_content": null,
            "justify_items": null,
            "left": null,
            "margin": null,
            "max_height": null,
            "max_width": null,
            "min_height": null,
            "min_width": null,
            "object_fit": null,
            "object_position": null,
            "order": null,
            "overflow": null,
            "overflow_x": null,
            "overflow_y": null,
            "padding": null,
            "right": null,
            "top": null,
            "visibility": null,
            "width": null
          }
        },
        "386c1d6d64cb430790ed3003c475af95": {
          "model_module": "@jupyter-widgets/controls",
          "model_name": "ProgressStyleModel",
          "model_module_version": "1.5.0",
          "state": {
            "_model_module": "@jupyter-widgets/controls",
            "_model_module_version": "1.5.0",
            "_model_name": "ProgressStyleModel",
            "_view_count": null,
            "_view_module": "@jupyter-widgets/base",
            "_view_module_version": "1.2.0",
            "_view_name": "StyleView",
            "bar_color": null,
            "description_width": ""
          }
        },
        "c4d705e80056499ba9340f382c4123a5": {
          "model_module": "@jupyter-widgets/base",
          "model_name": "LayoutModel",
          "model_module_version": "1.2.0",
          "state": {
            "_model_module": "@jupyter-widgets/base",
            "_model_module_version": "1.2.0",
            "_model_name": "LayoutModel",
            "_view_count": null,
            "_view_module": "@jupyter-widgets/base",
            "_view_module_version": "1.2.0",
            "_view_name": "LayoutView",
            "align_content": null,
            "align_items": null,
            "align_self": null,
            "border": null,
            "bottom": null,
            "display": null,
            "flex": null,
            "flex_flow": null,
            "grid_area": null,
            "grid_auto_columns": null,
            "grid_auto_flow": null,
            "grid_auto_rows": null,
            "grid_column": null,
            "grid_gap": null,
            "grid_row": null,
            "grid_template_areas": null,
            "grid_template_columns": null,
            "grid_template_rows": null,
            "height": null,
            "justify_content": null,
            "justify_items": null,
            "left": null,
            "margin": null,
            "max_height": null,
            "max_width": null,
            "min_height": null,
            "min_width": null,
            "object_fit": null,
            "object_position": null,
            "order": null,
            "overflow": null,
            "overflow_x": null,
            "overflow_y": null,
            "padding": null,
            "right": null,
            "top": null,
            "visibility": null,
            "width": null
          }
        },
        "7a74874dd5c04c2fa63e30eb86958274": {
          "model_module": "@jupyter-widgets/controls",
          "model_name": "DescriptionStyleModel",
          "model_module_version": "1.5.0",
          "state": {
            "_model_module": "@jupyter-widgets/controls",
            "_model_module_version": "1.5.0",
            "_model_name": "DescriptionStyleModel",
            "_view_count": null,
            "_view_module": "@jupyter-widgets/base",
            "_view_module_version": "1.2.0",
            "_view_name": "StyleView",
            "description_width": ""
          }
        }
      }
    }
  },
  "nbformat": 4,
  "nbformat_minor": 0
}